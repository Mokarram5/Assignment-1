{
 "cells": [
  {
   "cell_type": "markdown",
   "id": "9639d297",
   "metadata": {},
   "source": [
    "# Assignment-1"
   ]
  },
  {
   "cell_type": "markdown",
   "id": "e72a5fa0",
   "metadata": {},
   "source": [
    "Q1. Create one variable containing following type of data:\n",
    "(i) string\n",
    "(ii) list\n",
    "(iii) float\n",
    "(iv) tuple"
   ]
  },
  {
   "cell_type": "markdown",
   "id": "2300079c",
   "metadata": {},
   "source": [
    "Answer:"
   ]
  },
  {
   "cell_type": "code",
   "execution_count": 29,
   "id": "b567ca8b",
   "metadata": {},
   "outputs": [],
   "source": [
    "one_variable = 'Hello world',[1,2,3,4,5],40.9,(1,2,3,4,5)"
   ]
  },
  {
   "cell_type": "code",
   "execution_count": 30,
   "id": "a1828764",
   "metadata": {},
   "outputs": [
    {
     "data": {
      "text/plain": [
       "('Hello world', [1, 2, 3, 4, 5], 40.9, (1, 2, 3, 4, 5))"
      ]
     },
     "execution_count": 30,
     "metadata": {},
     "output_type": "execute_result"
    }
   ],
   "source": [
    "one_variable"
   ]
  },
  {
   "cell_type": "markdown",
   "id": "97ffa0c7",
   "metadata": {},
   "source": [
    "Q2. Given are some following variables containing data:\n",
    "(i) var1 = ‘ ‘\n",
    "(ii) var2 = ‘[ DS , ML , Python]’\n",
    "(iii) var3 = [ ‘DS’ , ’ML’ , ‘Python’ ]\n",
    "(iv) var4 = 1."
   ]
  },
  {
   "cell_type": "markdown",
   "id": "db5526f7",
   "metadata": {},
   "source": [
    "Answer:"
   ]
  },
  {
   "cell_type": "code",
   "execution_count": 12,
   "id": "d69f19ca",
   "metadata": {},
   "outputs": [],
   "source": [
    "var1 = ''"
   ]
  },
  {
   "cell_type": "code",
   "execution_count": 13,
   "id": "297d2db2",
   "metadata": {},
   "outputs": [
    {
     "data": {
      "text/plain": [
       "str"
      ]
     },
     "execution_count": 13,
     "metadata": {},
     "output_type": "execute_result"
    }
   ],
   "source": [
    "type(var1)"
   ]
  },
  {
   "cell_type": "code",
   "execution_count": 15,
   "id": "ff9189e2",
   "metadata": {},
   "outputs": [],
   "source": [
    "var2 = '[ DS , ML , Python]'"
   ]
  },
  {
   "cell_type": "code",
   "execution_count": 16,
   "id": "ceab76d5",
   "metadata": {},
   "outputs": [
    {
     "data": {
      "text/plain": [
       "str"
      ]
     },
     "execution_count": 16,
     "metadata": {},
     "output_type": "execute_result"
    }
   ],
   "source": [
    "type(var2)"
   ]
  },
  {
   "cell_type": "code",
   "execution_count": 17,
   "id": "93f25786",
   "metadata": {},
   "outputs": [],
   "source": [
    "var3 = [ 'DS' , 'ML' , 'Python' ]"
   ]
  },
  {
   "cell_type": "code",
   "execution_count": 18,
   "id": "fe673873",
   "metadata": {},
   "outputs": [
    {
     "data": {
      "text/plain": [
       "list"
      ]
     },
     "execution_count": 18,
     "metadata": {},
     "output_type": "execute_result"
    }
   ],
   "source": [
    "type(var3)"
   ]
  },
  {
   "cell_type": "code",
   "execution_count": 19,
   "id": "98ad568d",
   "metadata": {},
   "outputs": [],
   "source": [
    "var4 = 1"
   ]
  },
  {
   "cell_type": "code",
   "execution_count": 20,
   "id": "c7f59e90",
   "metadata": {},
   "outputs": [
    {
     "data": {
      "text/plain": [
       "int"
      ]
     },
     "execution_count": 20,
     "metadata": {},
     "output_type": "execute_result"
    }
   ],
   "source": [
    "type(var4)"
   ]
  },
  {
   "cell_type": "markdown",
   "id": "146f5f5e",
   "metadata": {},
   "source": [
    "Q3. Explain the use of the following operators using an example:\n",
    "(i) /\n",
    "(ii) %\n",
    "(iii) //\n",
    "(iv) **"
   ]
  },
  {
   "cell_type": "markdown",
   "id": "676b544d",
   "metadata": {},
   "source": [
    "Answer:"
   ]
  },
  {
   "cell_type": "code",
   "execution_count": 35,
   "id": "60af171c",
   "metadata": {},
   "outputs": [
    {
     "data": {
      "text/plain": [
       "5.0"
      ]
     },
     "execution_count": 35,
     "metadata": {},
     "output_type": "execute_result"
    }
   ],
   "source": [
    "10 / 2"
   ]
  },
  {
   "cell_type": "markdown",
   "id": "4a038cc7",
   "metadata": {},
   "source": [
    "The above operator is called division,The output is the Quotient of the Division of the given numbers in Float"
   ]
  },
  {
   "cell_type": "code",
   "execution_count": 36,
   "id": "588b169a",
   "metadata": {},
   "outputs": [
    {
     "data": {
      "text/plain": [
       "0"
      ]
     },
     "execution_count": 36,
     "metadata": {},
     "output_type": "execute_result"
    }
   ],
   "source": [
    "10 % 2"
   ]
  },
  {
   "cell_type": "markdown",
   "id": "d4d1f005",
   "metadata": {},
   "source": [
    "the above operator is called mod operator, The output is the remainder of the division of the given numbers"
   ]
  },
  {
   "cell_type": "code",
   "execution_count": 41,
   "id": "1f9a4d3f",
   "metadata": {},
   "outputs": [
    {
     "data": {
      "text/plain": [
       "5"
      ]
     },
     "execution_count": 41,
     "metadata": {},
     "output_type": "execute_result"
    }
   ],
   "source": [
    "10 // 2"
   ]
  },
  {
   "cell_type": "markdown",
   "id": "1bd71469",
   "metadata": {},
   "source": [
    "The above operator is called Floor division,The output is the Quotient of the Division of the given numbers in Integer, not in float"
   ]
  },
  {
   "cell_type": "code",
   "execution_count": 42,
   "id": "f9a94335",
   "metadata": {},
   "outputs": [
    {
     "data": {
      "text/plain": [
       "100"
      ]
     },
     "execution_count": 42,
     "metadata": {},
     "output_type": "execute_result"
    }
   ],
   "source": [
    "10 ** 2"
   ]
  },
  {
   "cell_type": "markdown",
   "id": "905fb424",
   "metadata": {},
   "source": [
    "The Above operator is called Exponent, it raise the number to a given power"
   ]
  },
  {
   "cell_type": "markdown",
   "id": "621ec83d",
   "metadata": {},
   "source": [
    "Q4. Create a list of length 10 of your choice containing multiple types of data. Using for loop print the\n",
    "element and its data type."
   ]
  },
  {
   "cell_type": "markdown",
   "id": "4a2b0f67",
   "metadata": {},
   "source": [
    "Answer:"
   ]
  },
  {
   "cell_type": "code",
   "execution_count": 54,
   "id": "9555bc9b",
   "metadata": {},
   "outputs": [],
   "source": [
    "my_list = ['Pwskills',90,9 + 5j,True,[9,9,9],{'pw':99.99},('pwskills',99,99.99),'Data_Science',{9,8,7,6},{'pwskills':'Sudhanshu_Sir'}]"
   ]
  },
  {
   "cell_type": "code",
   "execution_count": 55,
   "id": "ad24bb13",
   "metadata": {},
   "outputs": [
    {
     "data": {
      "text/plain": [
       "10"
      ]
     },
     "execution_count": 55,
     "metadata": {},
     "output_type": "execute_result"
    }
   ],
   "source": [
    "len(my_list)"
   ]
  },
  {
   "cell_type": "code",
   "execution_count": 56,
   "id": "84284211",
   "metadata": {},
   "outputs": [
    {
     "name": "stdout",
     "output_type": "stream",
     "text": [
      "Pwskills\n",
      "The data type is:  <class 'str'>\n",
      "90\n",
      "The data type is:  <class 'int'>\n",
      "(9+5j)\n",
      "The data type is:  <class 'complex'>\n",
      "True\n",
      "The data type is:  <class 'bool'>\n",
      "[9, 9, 9]\n",
      "The data type is:  <class 'list'>\n",
      "{'pw': 99.99}\n",
      "The data type is:  <class 'dict'>\n",
      "('pwskills', 99, 99.99)\n",
      "The data type is:  <class 'tuple'>\n",
      "Data_Science\n",
      "The data type is:  <class 'str'>\n",
      "{8, 9, 6, 7}\n",
      "The data type is:  <class 'set'>\n",
      "{'pwskills': 'Sudhanshu_Sir'}\n",
      "The data type is:  <class 'dict'>\n"
     ]
    }
   ],
   "source": [
    "for i in my_list:\n",
    "    print(i)\n",
    "    print(\"The data type is: \",type(i))"
   ]
  },
  {
   "cell_type": "markdown",
   "id": "cd7514d5",
   "metadata": {},
   "source": [
    "Q5. Using a while loop, verify if the number A is purely divisible by number B and if so then how many\n",
    "times it can be divisible."
   ]
  },
  {
   "cell_type": "markdown",
   "id": "546cd527",
   "metadata": {},
   "source": [
    "Answer:"
   ]
  },
  {
   "cell_type": "code",
   "execution_count": 31,
   "id": "dd892633",
   "metadata": {},
   "outputs": [
    {
     "name": "stdout",
     "output_type": "stream",
     "text": [
      "Enter num_A:60\n",
      "Enter num_B:6\n",
      "The number is purely divisible\n",
      "The number can be divisible by 10 Times\n"
     ]
    }
   ],
   "source": [
    "a = int(input(\"Enter num_A:\"))\n",
    "b = int(input(\"Enter num_B:\"))\n",
    "i = a % b\n",
    "if i == 0:\n",
    "    print(\"The number is purely divisible\")\n",
    "else:\n",
    "    print(\"The number is not purely divisible\"\n",
    "x = a / b\n",
    "x2 = 0\n",
    "while x > 0:\n",
    "    x -= 1\n",
    "    x2 += 1\n",
    "    if x == 0:\n",
    "        print(\"The number can be divisible by\",x2,\"Times\")\n",
    "    else:\n",
    "        pass"
   ]
  },
  {
   "cell_type": "markdown",
   "id": "6b777312",
   "metadata": {},
   "source": [
    "Q6. Create a list containing 25 int type data. Using for loop and if-else condition print if the element is\n",
    "divisible by 3 or not."
   ]
  },
  {
   "cell_type": "markdown",
   "id": "33d2021c",
   "metadata": {},
   "source": [
    "Answer:"
   ]
  },
  {
   "cell_type": "code",
   "execution_count": 60,
   "id": "1cc4b6eb",
   "metadata": {},
   "outputs": [],
   "source": [
    "my_list = [90,31,65,70,96,35,58,71,33,2,61,54,71,60,11,46,15,34,18,24,69,90,9,79,73]"
   ]
  },
  {
   "cell_type": "code",
   "execution_count": 61,
   "id": "41a180d4",
   "metadata": {},
   "outputs": [
    {
     "data": {
      "text/plain": [
       "25"
      ]
     },
     "execution_count": 61,
     "metadata": {},
     "output_type": "execute_result"
    }
   ],
   "source": [
    "len(my_list)"
   ]
  },
  {
   "cell_type": "code",
   "execution_count": 15,
   "id": "1c9df1fd",
   "metadata": {},
   "outputs": [
    {
     "name": "stdout",
     "output_type": "stream",
     "text": [
      "Checking...\n",
      "Number: 90\n",
      "True\n",
      "Number: 31\n",
      "False\n",
      "Number: 65\n",
      "False\n",
      "Number: 70\n",
      "False\n",
      "Number: 96\n",
      "True\n",
      "Number: 35\n",
      "False\n",
      "Number: 58\n",
      "False\n",
      "Number: 71\n",
      "False\n",
      "Number: 33\n",
      "True\n",
      "Number: 2\n",
      "False\n",
      "Number: 61\n",
      "False\n",
      "Number: 54\n",
      "True\n",
      "Number: 71\n",
      "False\n",
      "Number: 60\n",
      "True\n",
      "Number: 11\n",
      "False\n",
      "Number: 46\n",
      "False\n",
      "Number: 15\n",
      "True\n",
      "Number: 34\n",
      "False\n",
      "Number: 18\n",
      "True\n",
      "Number: 24\n",
      "True\n",
      "Number: 69\n",
      "True\n",
      "Number: 90\n",
      "True\n",
      "Number: 9\n",
      "True\n",
      "Number: 79\n",
      "False\n",
      "Number: 73\n",
      "False\n",
      "\n",
      "Total number divisible by 3: [90, 96, 33, 54, 60, 15, 18, 24, 69, 90, 9] = 11\n"
     ]
    }
   ],
   "source": [
    "print(\"Checking...\")\n",
    "total_num = []\n",
    "for x in my_list:\n",
    "    print(\"Number:\",x)\n",
    "    if x % 3 == 0:\n",
    "        print(True)\n",
    "        total_num.append(x)\n",
    "    else:\n",
    "        print(False)\n",
    "\n",
    "print(\"\\nTotal number divisible by 3:\",total_num,\"=\",len(total_num)"
   ]
  },
  {
   "cell_type": "markdown",
   "id": "8a4ea261",
   "metadata": {},
   "source": [
    "Q7. What do you understand about mutable and immutable data types? Give examples for both showing\n",
    "this property."
   ]
  },
  {
   "cell_type": "markdown",
   "id": "b64624a3",
   "metadata": {},
   "source": [
    "Answer:"
   ]
  },
  {
   "cell_type": "markdown",
   "id": "73bb4475",
   "metadata": {},
   "source": [
    "immutable data types means, At a partiular index,item assignment(indexing) is not allowed or in other words; an object that doesn't allow changes in its value, let me show you how:"
   ]
  },
  {
   "cell_type": "code",
   "execution_count": 34,
   "id": "3c0371e5",
   "metadata": {},
   "outputs": [],
   "source": [
    "c = \"cat\""
   ]
  },
  {
   "cell_type": "code",
   "execution_count": 41,
   "id": "8da6a440",
   "metadata": {},
   "outputs": [
    {
     "data": {
      "text/plain": [
       "'c'"
      ]
     },
     "execution_count": 41,
     "metadata": {},
     "output_type": "execute_result"
    }
   ],
   "source": [
    "c[0]"
   ]
  },
  {
   "cell_type": "code",
   "execution_count": 42,
   "id": "617e731d",
   "metadata": {},
   "outputs": [
    {
     "ename": "TypeError",
     "evalue": "'str' object does not support item assignment",
     "output_type": "error",
     "traceback": [
      "\u001b[1;31m---------------------------------------------------------------------------\u001b[0m",
      "\u001b[1;31mTypeError\u001b[0m                                 Traceback (most recent call last)",
      "\u001b[1;32m~\\AppData\\Local\\Temp\\ipykernel_14180\\3209916384.py\u001b[0m in \u001b[0;36m<module>\u001b[1;34m\u001b[0m\n\u001b[1;32m----> 1\u001b[1;33m \u001b[0mc\u001b[0m\u001b[1;33m[\u001b[0m\u001b[1;36m0\u001b[0m\u001b[1;33m]\u001b[0m \u001b[1;33m=\u001b[0m \u001b[1;34m'b'\u001b[0m\u001b[1;33m\u001b[0m\u001b[1;33m\u001b[0m\u001b[0m\n\u001b[0m",
      "\u001b[1;31mTypeError\u001b[0m: 'str' object does not support item assignment"
     ]
    }
   ],
   "source": [
    "c[0] = 'b'"
   ]
  },
  {
   "cell_type": "markdown",
   "id": "238d51ea",
   "metadata": {},
   "source": [
    "from ABOVE example, The string is a immutable data type."
   ]
  },
  {
   "cell_type": "code",
   "execution_count": 56,
   "id": "3dbc37ee",
   "metadata": {},
   "outputs": [],
   "source": [
    "num = 24556"
   ]
  },
  {
   "cell_type": "code",
   "execution_count": 58,
   "id": "d7aaeb21",
   "metadata": {},
   "outputs": [
    {
     "ename": "TypeError",
     "evalue": "'int' object does not support item assignment",
     "output_type": "error",
     "traceback": [
      "\u001b[1;31m---------------------------------------------------------------------------\u001b[0m",
      "\u001b[1;31mTypeError\u001b[0m                                 Traceback (most recent call last)",
      "\u001b[1;32m~\\AppData\\Local\\Temp\\ipykernel_14180\\2095356141.py\u001b[0m in \u001b[0;36m<module>\u001b[1;34m\u001b[0m\n\u001b[1;32m----> 1\u001b[1;33m \u001b[0mnum\u001b[0m\u001b[1;33m[\u001b[0m\u001b[1;36m0\u001b[0m\u001b[1;33m]\u001b[0m \u001b[1;33m=\u001b[0m \u001b[1;36m8\u001b[0m\u001b[1;33m\u001b[0m\u001b[1;33m\u001b[0m\u001b[0m\n\u001b[0m",
      "\u001b[1;31mTypeError\u001b[0m: 'int' object does not support item assignment"
     ]
    }
   ],
   "source": [
    "num[0] = 8"
   ]
  },
  {
   "cell_type": "markdown",
   "id": "360ff742",
   "metadata": {},
   "source": [
    "from Above Example, The integer is a immutable data type."
   ]
  },
  {
   "cell_type": "markdown",
   "id": "82697de2",
   "metadata": {},
   "source": [
    "mutable data types means, at a particular index item assignment is allowed or in other words; An object that allows to change its values without changing its identity, let me show you how:"
   ]
  },
  {
   "cell_type": "code",
   "execution_count": 43,
   "id": "1eeef99c",
   "metadata": {},
   "outputs": [],
   "source": [
    "l = [\"Hello\",\"World\",[\"Bat\",\"Cat\"]]"
   ]
  },
  {
   "cell_type": "code",
   "execution_count": 44,
   "id": "739d6baa",
   "metadata": {},
   "outputs": [
    {
     "data": {
      "text/plain": [
       "2303460297984"
      ]
     },
     "execution_count": 44,
     "metadata": {},
     "output_type": "execute_result"
    }
   ],
   "source": [
    "id(l)"
   ]
  },
  {
   "cell_type": "code",
   "execution_count": 45,
   "id": "e9e10162",
   "metadata": {},
   "outputs": [],
   "source": [
    "l[2][1] = \"Mat\""
   ]
  },
  {
   "cell_type": "code",
   "execution_count": 46,
   "id": "cff22c5e",
   "metadata": {},
   "outputs": [
    {
     "data": {
      "text/plain": [
       "['Hello', 'World', ['Bat', 'Mat']]"
      ]
     },
     "execution_count": 46,
     "metadata": {},
     "output_type": "execute_result"
    }
   ],
   "source": [
    "l"
   ]
  },
  {
   "cell_type": "code",
   "execution_count": 47,
   "id": "db36cd00",
   "metadata": {},
   "outputs": [
    {
     "data": {
      "text/plain": [
       "2303460297984"
      ]
     },
     "execution_count": 47,
     "metadata": {},
     "output_type": "execute_result"
    }
   ],
   "source": [
    "id(l)"
   ]
  },
  {
   "cell_type": "markdown",
   "id": "d407cada",
   "metadata": {},
   "source": [
    "above,The List is a mutable data type, because we can change its value without changing its identity."
   ]
  }
 ],
 "metadata": {
  "kernelspec": {
   "display_name": "Python 3 (ipykernel)",
   "language": "python",
   "name": "python3"
  },
  "language_info": {
   "codemirror_mode": {
    "name": "ipython",
    "version": 3
   },
   "file_extension": ".py",
   "mimetype": "text/x-python",
   "name": "python",
   "nbconvert_exporter": "python",
   "pygments_lexer": "ipython3",
   "version": "3.9.13"
  }
 },
 "nbformat": 4,
 "nbformat_minor": 5
}

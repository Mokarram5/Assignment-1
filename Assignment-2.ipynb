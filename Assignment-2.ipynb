{
 "cells": [
  {
   "cell_type": "markdown",
   "id": "ae3abdd4",
   "metadata": {},
   "source": [
    "# Assignment-2"
   ]
  },
  {
   "cell_type": "markdown",
   "id": "a223b4db",
   "metadata": {},
   "source": [
    "Q1. How do you comment code in Python? What are the different types of comments?"
   ]
  },
  {
   "cell_type": "markdown",
   "id": "a3a7d246",
   "metadata": {},
   "source": [
    "Answer:"
   ]
  },
  {
   "cell_type": "markdown",
   "id": "7f9da224",
   "metadata": {},
   "source": [
    "We comment code in python by using # before writing the comment or writing comments in between the tripple quotes \"\"\" \"\"\"."
   ]
  },
  {
   "cell_type": "markdown",
   "id": "5eab5ff1",
   "metadata": {},
   "source": [
    "The types of comment code in Python, are as follows:\n",
    "- Single line Comment\n",
    "- Multi line Comment"
   ]
  },
  {
   "cell_type": "markdown",
   "id": "24d86cb6",
   "metadata": {},
   "source": [
    "Single line Comment consist of one line comment using # before writing comment"
   ]
  },
  {
   "cell_type": "markdown",
   "id": "def20a8e",
   "metadata": {},
   "source": [
    "Example:"
   ]
  },
  {
   "cell_type": "code",
   "execution_count": 4,
   "id": "521e7207",
   "metadata": {},
   "outputs": [],
   "source": [
    "# hello, This is a single line comment!"
   ]
  },
  {
   "cell_type": "markdown",
   "id": "ab821b7c",
   "metadata": {},
   "source": [
    "Multi-line comment consist of multiple lines of comment, using # to write the comment in every line"
   ]
  },
  {
   "cell_type": "markdown",
   "id": "94484f4f",
   "metadata": {},
   "source": [
    "Example:"
   ]
  },
  {
   "cell_type": "code",
   "execution_count": 5,
   "id": "6696c4b2",
   "metadata": {},
   "outputs": [],
   "source": [
    "# Hello World\n",
    "# PWskills\n",
    "# Sudhanshu Sir\n",
    "# Impact batch\n",
    "# 2023"
   ]
  },
  {
   "cell_type": "markdown",
   "id": "4e453933",
   "metadata": {},
   "source": [
    "another example of multiple line comment is writing comment in between the tripple quotes \"\"\"text\"\"\""
   ]
  },
  {
   "cell_type": "markdown",
   "id": "f14a7b8d",
   "metadata": {},
   "source": [
    "example:"
   ]
  },
  {
   "cell_type": "raw",
   "id": "06aa443f",
   "metadata": {},
   "source": [
    "\"\"\"Hello, My name is Mokarram. I'm a mechanical Engineer, Graduated from Aliah University with 8.2 CGPA.\n",
    "i Started a career in Data science because i was interested in the work behind this subject, i took data science subject as optional in my 8th semester of Mechanical engineeeing course.\n",
    "i hope to excel in this path.\n",
    "Thankyou!\"\"\""
   ]
  },
  {
   "cell_type": "markdown",
   "id": "f0214c45",
   "metadata": {},
   "source": [
    "Q2. What are variables in Python? How do you declare and assign values to variables?"
   ]
  },
  {
   "cell_type": "markdown",
   "id": "9f148f8e",
   "metadata": {},
   "source": [
    "Answer:"
   ]
  },
  {
   "cell_type": "markdown",
   "id": "7c632456",
   "metadata": {},
   "source": [
    "A variable is like a container that stores values that we can access or change. we can use variable to instruct the computer to save or retrieve data to and from this memory location.\n",
    "So, A variable is a name given to a location in the computer's memory location, where the value can be stored and can be used in the program. "
   ]
  },
  {
   "cell_type": "markdown",
   "id": "b52b1524",
   "metadata": {},
   "source": [
    "We declare and assign values to variable by assignment operator \"=\""
   ]
  },
  {
   "cell_type": "markdown",
   "id": "4a532c24",
   "metadata": {},
   "source": [
    "For example,"
   ]
  },
  {
   "cell_type": "code",
   "execution_count": 9,
   "id": "810ce0fa",
   "metadata": {},
   "outputs": [],
   "source": [
    "a = 90"
   ]
  },
  {
   "cell_type": "code",
   "execution_count": 10,
   "id": "526b3277",
   "metadata": {},
   "outputs": [],
   "source": [
    "b = 'Bake'"
   ]
  },
  {
   "cell_type": "markdown",
   "id": "1848b796",
   "metadata": {},
   "source": [
    "Q3. How do you convert one data type to another in Python?"
   ]
  },
  {
   "cell_type": "markdown",
   "id": "f23368d7",
   "metadata": {},
   "source": [
    "Answer:"
   ]
  },
  {
   "cell_type": "markdown",
   "id": "e6ac2bb1",
   "metadata": {},
   "source": [
    "There are two types of data Type Conversion in Python:\n",
    "\n",
    "- Implicit Type Conversion\n",
    "- Explicit Type Conversion"
   ]
  },
  {
   "cell_type": "markdown",
   "id": "e9d3e626",
   "metadata": {},
   "source": [
    "In implicit, the Python interpreter automatically converts one data type to another without any user involvement.\n",
    "Example:"
   ]
  },
  {
   "cell_type": "code",
   "execution_count": 4,
   "id": "cd924fb4",
   "metadata": {},
   "outputs": [
    {
     "name": "stdout",
     "output_type": "stream",
     "text": [
      "type of x is: <class 'int'>\n",
      "type of y is: <class 'float'>\n",
      "109.6\n",
      "type of z is: <class 'float'>\n"
     ]
    }
   ],
   "source": [
    "x = 90\n",
    "\n",
    "print(\"type of x is:\",type(x))\n",
    "\n",
    "y = 19.6\n",
    "print(\"type of y is:\",type(y))\n",
    "\n",
    "z = x + y\n",
    "\n",
    "print(z)\n",
    "print(\"type of z is:\",type(z))"
   ]
  },
  {
   "cell_type": "markdown",
   "id": "b55d9d34",
   "metadata": {},
   "source": [
    "In Explicit, the data type is changed by the user as per their requirement. for example:"
   ]
  },
  {
   "cell_type": "code",
   "execution_count": 6,
   "id": "7b771980",
   "metadata": {},
   "outputs": [
    {
     "name": "stdout",
     "output_type": "stream",
     "text": [
      "<class 'str'>\n",
      "<class 'int'>\n"
     ]
    }
   ],
   "source": [
    "b = \"2023\"\n",
    "c = int(b)\n",
    "print(type(b))\n",
    "print(type(c))"
   ]
  },
  {
   "cell_type": "markdown",
   "id": "770a76da",
   "metadata": {},
   "source": [
    "Q4. How do you write and execute a Python script from the command line?"
   ]
  },
  {
   "cell_type": "markdown",
   "id": "c5274874",
   "metadata": {},
   "source": [
    "Answer:"
   ]
  },
  {
   "cell_type": "markdown",
   "id": "8eb29d04",
   "metadata": {},
   "source": [
    "To write and execute a Python script from the command line, we do the following steps:"
   ]
  },
  {
   "cell_type": "markdown",
   "id": "57567cab",
   "metadata": {},
   "source": [
    "- open an IDE to write your Python code. Create a new file, write your code and save it with a .py extension, For example, we can save it as pwskills.py\n",
    "- Open terminal on your computer, Navigate to the directory where you saved the Python script using the cd command.\n",
    "- Once you are in the correct directory, you can run the Python script by typing python followed by the script's filename, example- python pwskills.py\n",
    "- Press the \"Enter\" key to execute the command. The Python interpreter will read the contents of the script file and execute the code. The output will be displayed in the command line interface"
   ]
  },
  {
   "cell_type": "markdown",
   "id": "4408f735",
   "metadata": {},
   "source": [
    "Q5. Given a list my_list = [1, 2, 3, 4, 5], write the code to slice the list and obtain the sub-list [2, 3]."
   ]
  },
  {
   "cell_type": "markdown",
   "id": "ccaf5014",
   "metadata": {},
   "source": [
    "Answer:"
   ]
  },
  {
   "cell_type": "code",
   "execution_count": 7,
   "id": "4ddb41af",
   "metadata": {},
   "outputs": [],
   "source": [
    "my_list = [1,2,3,4,5]"
   ]
  },
  {
   "cell_type": "code",
   "execution_count": 8,
   "id": "17a46cb7",
   "metadata": {},
   "outputs": [
    {
     "data": {
      "text/plain": [
       "[2, 3]"
      ]
     },
     "execution_count": 8,
     "metadata": {},
     "output_type": "execute_result"
    }
   ],
   "source": [
    "my_list[1:3]"
   ]
  },
  {
   "cell_type": "markdown",
   "id": "0f104d13",
   "metadata": {},
   "source": [
    "Q6. What is a complex number in mathematics, and how is it represented in Python?"
   ]
  },
  {
   "cell_type": "markdown",
   "id": "f7235056",
   "metadata": {},
   "source": [
    "Answer:"
   ]
  },
  {
   "cell_type": "markdown",
   "id": "fd8d8dd7",
   "metadata": {},
   "source": [
    "The complex number is basically the combination of a real number and an imaginary number. The complex number is in the form of a+bi, where a = real number and bi = imaginary number, but in python Complex number is represented as: a + bj.\n",
    "example,"
   ]
  },
  {
   "cell_type": "code",
   "execution_count": 9,
   "id": "538af33b",
   "metadata": {},
   "outputs": [],
   "source": [
    "complex_num = 5 + 10j"
   ]
  },
  {
   "cell_type": "code",
   "execution_count": 10,
   "id": "9e3e02df",
   "metadata": {},
   "outputs": [
    {
     "data": {
      "text/plain": [
       "complex"
      ]
     },
     "execution_count": 10,
     "metadata": {},
     "output_type": "execute_result"
    }
   ],
   "source": [
    "type(complex_num)"
   ]
  },
  {
   "cell_type": "code",
   "execution_count": 15,
   "id": "1ab09146",
   "metadata": {},
   "outputs": [
    {
     "name": "stdout",
     "output_type": "stream",
     "text": [
      "5.0\n"
     ]
    }
   ],
   "source": [
    "print(complex_num.real)"
   ]
  },
  {
   "cell_type": "code",
   "execution_count": 16,
   "id": "b1902617",
   "metadata": {},
   "outputs": [
    {
     "name": "stdout",
     "output_type": "stream",
     "text": [
      "10.0\n"
     ]
    }
   ],
   "source": [
    "print(complex_num.imag)"
   ]
  },
  {
   "cell_type": "markdown",
   "id": "bcf83f0b",
   "metadata": {},
   "source": [
    "Q7. What is the correct way to declare a variable named age and assign the value 25 to it?"
   ]
  },
  {
   "cell_type": "markdown",
   "id": "fafe87c1",
   "metadata": {},
   "source": [
    "Answer:"
   ]
  },
  {
   "cell_type": "markdown",
   "id": "3f807133",
   "metadata": {},
   "source": [
    "In Python, you can declare a variable named age and assign the value 25 to it using the following code:"
   ]
  },
  {
   "cell_type": "code",
   "execution_count": 17,
   "id": "7f7c3ff3",
   "metadata": {},
   "outputs": [],
   "source": [
    "age = 25"
   ]
  },
  {
   "cell_type": "markdown",
   "id": "a107d829",
   "metadata": {},
   "source": [
    "a variable named age is created and the value 25 is assigned to it. "
   ]
  },
  {
   "cell_type": "markdown",
   "id": "885f4a76",
   "metadata": {},
   "source": [
    "Q8. Declare a variable named price and assign the value 9.99 to it. What data type does this variable\n",
    "belong to?"
   ]
  },
  {
   "cell_type": "markdown",
   "id": "e14cffcb",
   "metadata": {},
   "source": [
    "Answer:"
   ]
  },
  {
   "cell_type": "code",
   "execution_count": 18,
   "id": "1e3b031c",
   "metadata": {},
   "outputs": [],
   "source": [
    "price = 9.99"
   ]
  },
  {
   "cell_type": "code",
   "execution_count": 19,
   "id": "35d5a8c3",
   "metadata": {},
   "outputs": [
    {
     "data": {
      "text/plain": [
       "float"
      ]
     },
     "execution_count": 19,
     "metadata": {},
     "output_type": "execute_result"
    }
   ],
   "source": [
    "type(price)"
   ]
  },
  {
   "cell_type": "markdown",
   "id": "5673f030",
   "metadata": {},
   "source": [
    "The data type is float."
   ]
  },
  {
   "cell_type": "markdown",
   "id": "0e3fa76e",
   "metadata": {},
   "source": [
    "Q9. Create a variable named name and assign your full name to it as a string. How would you print the\n",
    "value of this variable?"
   ]
  },
  {
   "cell_type": "markdown",
   "id": "2a782f2f",
   "metadata": {},
   "source": [
    "Answer:"
   ]
  },
  {
   "cell_type": "code",
   "execution_count": 20,
   "id": "cdeaa48a",
   "metadata": {},
   "outputs": [],
   "source": [
    "name = \"Mokarram Alam Khan\""
   ]
  },
  {
   "cell_type": "markdown",
   "id": "25ccb3f3",
   "metadata": {},
   "source": [
    "We can print the value of this variable by using the  following command:"
   ]
  },
  {
   "cell_type": "code",
   "execution_count": 21,
   "id": "69fe612c",
   "metadata": {},
   "outputs": [
    {
     "name": "stdout",
     "output_type": "stream",
     "text": [
      "Mokarram Alam Khan\n"
     ]
    }
   ],
   "source": [
    "print(name)"
   ]
  },
  {
   "cell_type": "markdown",
   "id": "8c7fbe53",
   "metadata": {},
   "source": [
    "Q10. Given the string \"Hello, World!\", extract the substring \"World\"."
   ]
  },
  {
   "cell_type": "markdown",
   "id": "e8c05c34",
   "metadata": {},
   "source": [
    "Answer:"
   ]
  },
  {
   "cell_type": "code",
   "execution_count": 23,
   "id": "71f459ec",
   "metadata": {},
   "outputs": [],
   "source": [
    "string = \"Hello, World!\""
   ]
  },
  {
   "cell_type": "code",
   "execution_count": 26,
   "id": "50d7be9a",
   "metadata": {},
   "outputs": [
    {
     "data": {
      "text/plain": [
       "'World'"
      ]
     },
     "execution_count": 26,
     "metadata": {},
     "output_type": "execute_result"
    }
   ],
   "source": [
    "string[7:-1]"
   ]
  },
  {
   "cell_type": "markdown",
   "id": "9dfaaca4",
   "metadata": {},
   "source": [
    "Q11. Create a variable named \"is_student\" and assign it a boolean value indicating whether you are\n",
    "currently a student or not."
   ]
  },
  {
   "cell_type": "markdown",
   "id": "521b7be7",
   "metadata": {},
   "source": [
    "Answer:"
   ]
  },
  {
   "cell_type": "code",
   "execution_count": 31,
   "id": "5584ab49",
   "metadata": {},
   "outputs": [],
   "source": [
    "is_student = True"
   ]
  },
  {
   "cell_type": "code",
   "execution_count": 32,
   "id": "c880c93a",
   "metadata": {},
   "outputs": [
    {
     "data": {
      "text/plain": [
       "True"
      ]
     },
     "execution_count": 32,
     "metadata": {},
     "output_type": "execute_result"
    }
   ],
   "source": [
    "is_student"
   ]
  }
 ],
 "metadata": {
  "kernelspec": {
   "display_name": "Python 3 (ipykernel)",
   "language": "python",
   "name": "python3"
  },
  "language_info": {
   "codemirror_mode": {
    "name": "ipython",
    "version": 3
   },
   "file_extension": ".py",
   "mimetype": "text/x-python",
   "name": "python",
   "nbconvert_exporter": "python",
   "pygments_lexer": "ipython3",
   "version": "3.9.13"
  }
 },
 "nbformat": 4,
 "nbformat_minor": 5
}

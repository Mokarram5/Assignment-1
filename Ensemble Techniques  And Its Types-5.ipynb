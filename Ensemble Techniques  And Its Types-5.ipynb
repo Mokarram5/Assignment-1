{
 "cells": [
  {
   "cell_type": "markdown",
   "id": "82be742c-8965-4d11-99a9-37250d50a552",
   "metadata": {},
   "source": [
    "#### Assignment\n",
    "Q1. You are working on a machine learning project where you have a dataset containing numerical and\n",
    "categorical features. You have identified that some of the features are highly correlated and there are\n",
    "missing values in some of the columns. You want to build a pipeline that automates the feature\n",
    "engineering process and handles the missing values.\n",
    "\n",
    "Design a pipeline that includes the following steps\n",
    "Use an automated feature selection method to identify the important features in the dataset\n",
    "Create a numerical pipeline that includes the following steps\n",
    "Impute the missing values in the numerical columns using the mean of the column values\n",
    "Scale the numerical columns using standardisation\n",
    "Create a categorical pipeline that includes the following steps\n",
    "Impute the missing values in the categorical columns using the most frequent value of the column\n",
    "One-hot encode the categorical columns\n",
    "Combine the numerical and categorical pipelines using a ColumnTransformer\n",
    "Use a Random Forest Classifier to build the final model\n",
    "Evaluate the accuracy of the model on the test dataset."
   ]
  },
  {
   "cell_type": "markdown",
   "id": "05bc2ffa-ff56-4233-96f4-1164b8b22bbd",
   "metadata": {},
   "source": [
    "#### Answer:"
   ]
  },
  {
   "cell_type": "markdown",
   "id": "28aa55a8-336a-44c1-aef8-608675447128",
   "metadata": {},
   "source": [
    "```python\n",
    "from sklearn.compose import ColumnTransformer\n",
    "from sklearn.ensemble import RandomForestClassifier\n",
    "from sklearn.impute import SimpleImputer\n",
    "from sklearn.preprocessing import StandardScaler, OneHotEncoder\n",
    "from sklearn.feature_selection import SelectFromModel\n",
    "from sklearn.pipeline import Pipeline\n",
    "from sklearn.model_selection import train_test_split\n",
    "from sklearn.metrics import accuracy_score\n",
    "import pandas as pd\n",
    "\n",
    "# Assume 'X' is your feature matrix and 'y' is the target variable\n",
    "# X_train, X_test, y_train, y_test = train_test_split(X, y, test_size=0.2, random_state=42)\n",
    "\n",
    "# Define the numerical features and categorical features\n",
    "numerical_features = X.select_dtypes(include=['int64', 'float64']).columns\n",
    "categorical_features = X.select_dtypes(include=['object']).columns\n",
    "\n",
    "# Feature Selection\n",
    "feature_selector = SelectFromModel(RandomForestClassifier(n_estimators=100, random_state=42), threshold='median')\n",
    "\n",
    "# Numerical Pipeline\n",
    "numerical_pipeline = Pipeline([\n",
    "    ('imputer', SimpleImputer(strategy='mean')),\n",
    "    ('scaler', StandardScaler())\n",
    "])\n",
    "\n",
    "# Categorical Pipeline\n",
    "categorical_pipeline = Pipeline([\n",
    "    ('imputer', SimpleImputer(strategy='most_frequent')),\n",
    "    ('encoder', OneHotEncoder(handle_unknown='ignore'))\n",
    "])\n",
    "\n",
    "# Column Transformer\n",
    "preprocessor = ColumnTransformer(\n",
    "    transformers=[\n",
    "        ('num', numerical_pipeline, numerical_features),\n",
    "        ('cat', categorical_pipeline, categorical_features)\n",
    "    ]\n",
    ")\n",
    "\n",
    "# Final Pipeline\n",
    "pipeline = Pipeline([\n",
    "    ('feature_selector', feature_selector),\n",
    "    ('preprocessor', preprocessor),\n",
    "    ('classifier', RandomForestClassifier(n_estimators=100, random_state=42))\n",
    "])\n",
    "\n",
    "# Fit the pipeline on the training data\n",
    "pipeline.fit(X_train, y_train)\n",
    "\n",
    "# Make predictions on the test data\n",
    "y_pred = pipeline.predict(X_test)\n",
    "\n",
    "# Evaluate the accuracy\n",
    "accuracy = accuracy_score(y_test, y_pred)\n",
    "print(f'Accuracy on the test set: {accuracy}')\n",
    "```"
   ]
  },
  {
   "cell_type": "markdown",
   "id": "536bd051-8f74-46d6-af05-f81fe5b41e14",
   "metadata": {},
   "source": [
    "In this pipeline:\r\n",
    "\r\n",
    "SelectFromModel is used for automated feature selection, based on the importance scores provided by a RandomForestClassifier.\r\n",
    "Numerical features are imputed using the mean, scaled using standardization.\r\n",
    "Categorical features are imputed using the most frequent value and one-hot encoded.\r\n",
    "A ColumnTransformer is used to combine the numerical and categorical pipelines.\r\n",
    "The final pipeline consists of feature selection, preprocessing, and a RandomForestClassifier."
   ]
  },
  {
   "cell_type": "markdown",
   "id": "ee033f0c-42e7-4576-8416-6fb2b2c32921",
   "metadata": {},
   "source": [
    "#### Q2. Build a pipeline that includes a random forest classifier and a logistic regression classifier, and then use a voting classifier to combine their predictions. Train the pipeline on the iris dataset and evaluate its accuracy.\n"
   ]
  },
  {
   "cell_type": "markdown",
   "id": "59ca1c70-18a1-4fc4-bf8c-f67a171cda48",
   "metadata": {},
   "source": [
    "#### Answer:"
   ]
  },
  {
   "cell_type": "code",
   "execution_count": 9,
   "id": "85aa445b-3573-40f3-b34d-cec662cfc28a",
   "metadata": {},
   "outputs": [
    {
     "name": "stdout",
     "output_type": "stream",
     "text": [
      "Accuracy on the test set: 1.0\n"
     ]
    }
   ],
   "source": [
    "from sklearn.datasets import load_iris\n",
    "from sklearn.ensemble import RandomForestClassifier, VotingClassifier\n",
    "from sklearn.linear_model import LogisticRegression\n",
    "from sklearn.model_selection import train_test_split\n",
    "from sklearn.pipeline import Pipeline\n",
    "from sklearn.preprocessing import StandardScaler\n",
    "from sklearn.metrics import accuracy_score\n",
    "\n",
    "# Load the Iris dataset\n",
    "iris = load_iris()\n",
    "X, y = iris.data, iris.target\n",
    "\n",
    "# Split the data into training and testing sets\n",
    "X_train, X_test, y_train, y_test = train_test_split(X, y, test_size=0.2, random_state=42)\n",
    "\n",
    "# Create the individual classifiers\n",
    "rf_classifier = RandomForestClassifier(n_estimators=100, random_state=42)\n",
    "lr_classifier = LogisticRegression(max_iter=1000, random_state=42)\n",
    "\n",
    "# Create the pipeline for the Random Forest Classifier\n",
    "rf_pipeline = Pipeline([\n",
    "    ('scaler', StandardScaler()),\n",
    "    ('classifier', rf_classifier)\n",
    "])\n",
    "\n",
    "# Create the pipeline for the Logistic Regression Classifier\n",
    "lr_pipeline = Pipeline([\n",
    "    ('scaler', StandardScaler()),\n",
    "    ('classifier', lr_classifier)\n",
    "])\n",
    "\n",
    "# Create the Voting Classifier\n",
    "voting_classifier = VotingClassifier(\n",
    "    estimators=[\n",
    "        ('random_forest', rf_pipeline),\n",
    "        ('logistic_regression', lr_pipeline)\n",
    "    ],\n",
    "    voting='hard'  # Use 'hard' for majority voting, 'soft' for weighted voting\n",
    ")\n",
    "\n",
    "# Fit the Voting Classifier on the training data\n",
    "voting_classifier.fit(X_train, y_train)\n",
    "\n",
    "# Make predictions on the test data\n",
    "y_pred = voting_classifier.predict(X_test)\n",
    "\n",
    "# Evaluate the accuracy\n",
    "accuracy = accuracy_score(y_test, y_pred)\n",
    "print(f'Accuracy on the test set: {accuracy}')"
   ]
  },
  {
   "cell_type": "markdown",
   "id": "cef541ff-e0fb-4650-bb92-d1114cdd41b4",
   "metadata": {},
   "source": [
    "In this example:\r\n",
    "\r\n",
    "Two classifiers, a Random Forest Classifier and a Logistic Regression Classifier, are created.\r\n",
    "Each classifier is part of its own pipeline, including standardization (StandardScaler) as a preprocessing step.\r\n",
    "The VotingClassifier is created with the two pipelines, and the voting strategy is set to 'hard' for majority voting."
   ]
  }
 ],
 "metadata": {
  "kernelspec": {
   "display_name": "Python 3 (ipykernel)",
   "language": "python",
   "name": "python3"
  },
  "language_info": {
   "codemirror_mode": {
    "name": "ipython",
    "version": 3
   },
   "file_extension": ".py",
   "mimetype": "text/x-python",
   "name": "python",
   "nbconvert_exporter": "python",
   "pygments_lexer": "ipython3",
   "version": "3.11.5"
  }
 },
 "nbformat": 4,
 "nbformat_minor": 5
}

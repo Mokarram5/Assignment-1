{
 "cells": [
  {
   "cell_type": "markdown",
   "id": "75a08152-c1e5-4e08-b98d-421c30395700",
   "metadata": {},
   "source": [
    "## Assignment: 𝙀𝙭𝙘𝙚𝙥𝙩𝙞𝙤𝙣 𝙝𝙖𝙣𝙙𝙡𝙞𝙣𝙜-❶"
   ]
  },
  {
   "cell_type": "markdown",
   "id": "118cb941-d2fc-4015-9077-ab61c85d4113",
   "metadata": {},
   "source": [
    "#### Q1. What is an Exception in python? Write the difference between Exceptions and Syntax errors."
   ]
  },
  {
   "cell_type": "markdown",
   "id": "c543cf3b-a312-46f1-be2d-72a983e5b05e",
   "metadata": {},
   "source": [
    "#### Answer:"
   ]
  },
  {
   "cell_type": "markdown",
   "id": "0d28f419-48fa-4472-a479-58f17b084b0c",
   "metadata": {},
   "source": [
    "Exception is an error that occurs during the execution of the program. We use Exception in python to catch unexpected error that disrupts the normal flow of code execution and let rest of the code run without terminating the process. For Example: There is a black fish which is polluting the water, python exception catches it.\n",
    "\n",
    "The Difference between Exceptions and Syntax Error is,\n",
    "Exceptions occur during the runtime of a program when an unexpected condition or error arises, disrupting the normal flow of execution, whereas\r\n",
    "Syntax error  occu  when the code violates the Python syntax rules. These errors prevent the program from starting at all."
   ]
  },
  {
   "cell_type": "markdown",
   "id": "2e4431c1-8a0b-456c-ba33-3d1f0cdb6c3f",
   "metadata": {},
   "source": [
    "#### Q2. What happens when an exception is not handled? Explain with an example."
   ]
  },
  {
   "cell_type": "markdown",
   "id": "536dbe89-f11d-4b4b-b11a-1aee45f5d9f1",
   "metadata": {},
   "source": [
    "#### Answer:"
   ]
  },
  {
   "cell_type": "markdown",
   "id": "b2422b46-e03b-4c25-90b2-d1fe506153e5",
   "metadata": {},
   "source": [
    "When an exception occurs and is not properly caught or handled with by the code, the program's execution is disrupted, giving an error message."
   ]
  },
  {
   "cell_type": "code",
   "execution_count": 4,
   "id": "e6addac6-cd05-4be4-b739-ae5ae2d70d30",
   "metadata": {},
   "outputs": [
    {
     "name": "stdin",
     "output_type": "stream",
     "text": [
      "Enter the First Number:  10\n",
      "Enter the Second Number:  0\n"
     ]
    },
    {
     "ename": "ZeroDivisionError",
     "evalue": "division by zero",
     "output_type": "error",
     "traceback": [
      "\u001b[1;31m---------------------------------------------------------------------------\u001b[0m",
      "\u001b[1;31mZeroDivisionError\u001b[0m                         Traceback (most recent call last)",
      "Cell \u001b[1;32mIn[4], line 7\u001b[0m\n\u001b[0;32m      5\u001b[0m     num1 \u001b[38;5;241m=\u001b[39m \u001b[38;5;28mint\u001b[39m(\u001b[38;5;28minput\u001b[39m(\u001b[38;5;124m\"\u001b[39m\u001b[38;5;124mEnter the First Number: \u001b[39m\u001b[38;5;124m\"\u001b[39m))\n\u001b[0;32m      6\u001b[0m     num2 \u001b[38;5;241m=\u001b[39m \u001b[38;5;28mint\u001b[39m(\u001b[38;5;28minput\u001b[39m(\u001b[38;5;124m\"\u001b[39m\u001b[38;5;124mEnter the Second Number: \u001b[39m\u001b[38;5;124m\"\u001b[39m))\n\u001b[1;32m----> 7\u001b[0m     result \u001b[38;5;241m=\u001b[39m \u001b[43mdivision\u001b[49m\u001b[43m(\u001b[49m\u001b[43mnum1\u001b[49m\u001b[43m,\u001b[49m\u001b[43m \u001b[49m\u001b[43mnum2\u001b[49m\u001b[43m)\u001b[49m\n\u001b[0;32m      8\u001b[0m     logger\u001b[38;5;241m.\u001b[39mdebug(result)\n\u001b[0;32m      9\u001b[0m \u001b[38;5;28;01mexcept\u001b[39;00m \u001b[38;5;167;01mValueError\u001b[39;00m:\n",
      "Cell \u001b[1;32mIn[4], line 2\u001b[0m, in \u001b[0;36mdivision\u001b[1;34m(a, b)\u001b[0m\n\u001b[0;32m      1\u001b[0m \u001b[38;5;28;01mdef\u001b[39;00m \u001b[38;5;21mdivision\u001b[39m(a, b):\n\u001b[1;32m----> 2\u001b[0m     \u001b[38;5;28;01mreturn\u001b[39;00m \u001b[43ma\u001b[49m\u001b[43m \u001b[49m\u001b[38;5;241;43m/\u001b[39;49m\u001b[43m \u001b[49m\u001b[43mb\u001b[49m\n",
      "\u001b[1;31mZeroDivisionError\u001b[0m: division by zero"
     ]
    }
   ],
   "source": [
    "def division(a, b):\n",
    "    return a / b\n",
    "\n",
    "try:\n",
    "    num1 = int(input(\"Enter the First Number: \"))\n",
    "    num2 = int(input(\"Enter the Second Number: \"))\n",
    "    result = division(num1, num2)\n",
    "    logger.debug(result)\n",
    "except ValueError:\n",
    "    logger.debug(\"Error! PLease enter a valid Number.\")"
   ]
  },
  {
   "cell_type": "markdown",
   "id": "2a00b907-2c0e-4b06-aa18-0c51c07ed8a9",
   "metadata": {},
   "source": [
    "we have only handled the ValueError exception that may occur.\n",
    "Since division by zero is not allowed, the division function will raise a ZeroDivisionError.\n",
    "we have not explicitly handled this exception. As a result, the program will terminate, and Python will display an unhandled exception error traceback like above."
   ]
  },
  {
   "cell_type": "markdown",
   "id": "579b2522-5cd8-41b4-a2b1-024ddca99ea9",
   "metadata": {},
   "source": [
    "#### Q3. Which python statement are used to catch and handle exceptions? Explain with an example."
   ]
  },
  {
   "cell_type": "markdown",
   "id": "4d13b15d-a34f-478f-9a58-b1dae11ea973",
   "metadata": {},
   "source": [
    "#### Answer:"
   ]
  },
  {
   "cell_type": "markdown",
   "id": "5072dd73-06eb-42f5-9f33-73d8f95af698",
   "metadata": {},
   "source": [
    "To catch and handle exceptions, we can use a combination of try, except, else, and finally statements."
   ]
  },
  {
   "cell_type": "code",
   "execution_count": 16,
   "id": "9010a201-9c1c-4fe9-8959-0d09bda9c45f",
   "metadata": {},
   "outputs": [],
   "source": [
    "def divide(a, b):\n",
    "    try:\n",
    "        result = a / b\n",
    "    except ZeroDivisionError:\n",
    "        p = print(\"error: cannot divide by zero!\")\n",
    "    except TypeError:\n",
    "        p1 = print(\"error: invalid data types for division!\")\n",
    "    else:\n",
    "        print(\"Division result:\", result)\n",
    "    finally:\n",
    "        print(\"Execution Complete\")"
   ]
  },
  {
   "cell_type": "code",
   "execution_count": 17,
   "id": "4f0364fa-f44c-4443-812d-a5c79ed7e8ef",
   "metadata": {},
   "outputs": [
    {
     "name": "stdout",
     "output_type": "stream",
     "text": [
      "Division result: 5.0\n",
      "Execution Complete\n"
     ]
    }
   ],
   "source": [
    "divide(10, 2)"
   ]
  },
  {
   "cell_type": "code",
   "execution_count": 18,
   "id": "e28b30ae-7ae0-477c-b34b-28c2c95ef7be",
   "metadata": {},
   "outputs": [
    {
     "name": "stdout",
     "output_type": "stream",
     "text": [
      "error: cannot divide by zero!\n",
      "Execution Complete\n"
     ]
    }
   ],
   "source": [
    "divide(10, 0)"
   ]
  },
  {
   "cell_type": "code",
   "execution_count": 19,
   "id": "fb33a4a0-fd6f-49f6-878c-bdc65ab7985e",
   "metadata": {},
   "outputs": [
    {
     "name": "stdout",
     "output_type": "stream",
     "text": [
      "error: invalid data types for division!\n",
      "Execution Complete\n"
     ]
    }
   ],
   "source": [
    "divide(\"10\", 2)"
   ]
  },
  {
   "cell_type": "markdown",
   "id": "8d4b89f7-322f-4d7f-a161-a623ae0101bf",
   "metadata": {
    "jp-MarkdownHeadingCollapsed": true
   },
   "source": [
    "#### Q4. Explain with an Example:\n",
    "1. Try and Else\n",
    "2. finally\n",
    "3. raise"
   ]
  },
  {
   "cell_type": "markdown",
   "id": "75dcb542-52e0-4dee-b781-643ecce8a2a5",
   "metadata": {},
   "source": [
    "#### Answer:"
   ]
  },
  {
   "cell_type": "markdown",
   "id": "d0d03d53-39e1-4e36-9226-0ca5ed8193c0",
   "metadata": {},
   "source": [
    "1. Try and Else:"
   ]
  },
  {
   "cell_type": "code",
   "execution_count": 31,
   "id": "bf4a5d04-91ae-4f62-80f5-f09d6e7f3ffa",
   "metadata": {},
   "outputs": [
    {
     "name": "stdin",
     "output_type": "stream",
     "text": [
      "Enter the Number A:  \"Sudhanshu_sir\"\n"
     ]
    },
    {
     "name": "stdout",
     "output_type": "stream",
     "text": [
      "Error: Invalid input\n"
     ]
    }
   ],
   "source": [
    "try:\n",
    "    #Divisibility Check\n",
    "    a = int(input(\"Enter the Number A: \"))\n",
    "    b = int(input(\"Enter the Number B: \"))\n",
    "    result = a / b\n",
    "except ValueError as e:\n",
    "    print(\"Error: Invalid input\")\n",
    "else:\n",
    "    print(f\"The Number is Divisible by: {result}\")"
   ]
  },
  {
   "cell_type": "code",
   "execution_count": 32,
   "id": "58238f2a-81c5-4286-90cd-44925d4a0f58",
   "metadata": {},
   "outputs": [
    {
     "name": "stdin",
     "output_type": "stream",
     "text": [
      "Enter the Number A:  10\n",
      "Enter the Number B:  5\n"
     ]
    },
    {
     "name": "stdout",
     "output_type": "stream",
     "text": [
      "The Number is Divisible by: 2.0\n"
     ]
    }
   ],
   "source": [
    "try:\n",
    "    #Divisibility Check\n",
    "    a = int(input(\"Enter the Number A: \"))\n",
    "    b = int(input(\"Enter the Number B: \"))\n",
    "    result = a / b\n",
    "except ValueError as e:\n",
    "    print(\"Error: Invalid input\")\n",
    "else:\n",
    "    print(f\"The Number is Divisible by: {result}\")"
   ]
  },
  {
   "cell_type": "markdown",
   "id": "0e194297-d5ec-4b63-96c6-03a72421c41e",
   "metadata": {},
   "source": [
    "2. finally:"
   ]
  },
  {
   "cell_type": "code",
   "execution_count": 33,
   "id": "15b20936-8651-47a6-9684-61b34a18479d",
   "metadata": {},
   "outputs": [
    {
     "name": "stdin",
     "output_type": "stream",
     "text": [
      "Enter the Number A:  10\n",
      "Enter the Number B:  2\n"
     ]
    },
    {
     "name": "stdout",
     "output_type": "stream",
     "text": [
      "The Number is Divisible by: 5.0\n",
      "Execution Complete!\n"
     ]
    }
   ],
   "source": [
    "try:\n",
    "    #Divisibility Check\n",
    "    a = int(input(\"Enter the Number A: \"))\n",
    "    b = int(input(\"Enter the Number B: \"))\n",
    "    result = a / b\n",
    "except ValueError as e:\n",
    "    print(\"Error: Invalid input\")\n",
    "else:\n",
    "    print(f\"The Number is Divisible by: {result}\")\n",
    "finally:\n",
    "    print(\"Execution Complete!\")"
   ]
  },
  {
   "cell_type": "markdown",
   "id": "8945a8ab-9f9d-4e9c-a472-1ea815a59b98",
   "metadata": {},
   "source": [
    "3. Raise:"
   ]
  },
  {
   "cell_type": "code",
   "execution_count": 20,
   "id": "3f1ebcc5-c875-4aab-a9ae-e9a0ae78689c",
   "metadata": {},
   "outputs": [],
   "source": [
    "class Errorhandler(Exception):\n",
    "    def __init__(self, msg):\n",
    "        self.msg = msg\n",
    "        super().__init__(self.msg)"
   ]
  },
  {
   "cell_type": "code",
   "execution_count": 21,
   "id": "d85ba19e-f260-4793-951b-91d740ca36f7",
   "metadata": {},
   "outputs": [],
   "source": [
    "def validateage(age):\n",
    "    if age < 0:\n",
    "        raise Errorhandler(\"Entered age is Negative\")\n",
    "    elif age > 200:\n",
    "        raise Errorhandler(\"Entered age is Practically Invalid\")\n",
    "    else:\n",
    "        print(\"age is valid\")"
   ]
  },
  {
   "cell_type": "code",
   "execution_count": 22,
   "id": "c371b3cd-fa30-408a-b9f4-506fcdc762ac",
   "metadata": {},
   "outputs": [
    {
     "name": "stdin",
     "output_type": "stream",
     "text": [
      "Enter your Age:  24\n"
     ]
    },
    {
     "name": "stdout",
     "output_type": "stream",
     "text": [
      "age is valid\n"
     ]
    }
   ],
   "source": [
    "try:\n",
    "    age = int(input(\"Enter your Age: \"))\n",
    "    validateage(age)\n",
    "except Errorhandler as e:\n",
    "    print(e)"
   ]
  },
  {
   "cell_type": "markdown",
   "id": "b1781337-d192-4aa4-9735-517aab26b59c",
   "metadata": {},
   "source": [
    "#### Q5. What are custom exception in python? Why do we need custom exception in python? Explain with an example."
   ]
  },
  {
   "cell_type": "markdown",
   "id": "bf8b1f72-ac7d-417b-80ed-45a177cddd07",
   "metadata": {},
   "source": [
    "#### Answer:"
   ]
  },
  {
   "cell_type": "markdown",
   "id": "bd673ff0-d402-4b82-b3d7-cb27579a135e",
   "metadata": {},
   "source": [
    "Custom exception are those exception which is specified that this kind of error will/may occur.\n",
    "so, we define custom exception as the user defined exception.\n",
    "We need custom exception to help to enhance code readeability and user friendly."
   ]
  },
  {
   "cell_type": "code",
   "execution_count": 13,
   "id": "e5f99c54-eb28-4379-a8e4-433489a1c47f",
   "metadata": {},
   "outputs": [],
   "source": [
    "class Errorhandler(Exception):\n",
    "    def __init__(self, msg):\n",
    "        self.msg = msg\n",
    "        super().__init__(self.msg)"
   ]
  },
  {
   "cell_type": "code",
   "execution_count": 14,
   "id": "fb123752-0b54-48e0-b9a0-eb64d65a0129",
   "metadata": {},
   "outputs": [],
   "source": [
    "def square(q):\n",
    "    if q == str:\n",
    "        raise Errorhandler(\"Invalid Input!\")\n",
    "    return q*q"
   ]
  },
  {
   "cell_type": "code",
   "execution_count": 15,
   "id": "239ac008-191c-4031-86d8-4fa8073b504f",
   "metadata": {},
   "outputs": [
    {
     "name": "stdout",
     "output_type": "stream",
     "text": [
      "Output:  64\n"
     ]
    }
   ],
   "source": [
    "try:\n",
    "    output = square(8)\n",
    "except Errorhandler as e:\n",
    "    print(\"Error: \", e)\n",
    "else:\n",
    "    print(\"Output: \",output)"
   ]
  },
  {
   "cell_type": "markdown",
   "id": "86541e98-b26a-4c06-a423-e6b5552cc011",
   "metadata": {},
   "source": [
    "#### Q6. Create a custom exception class. Use this class to handle an exception."
   ]
  },
  {
   "cell_type": "markdown",
   "id": "bcd0078e-2ac4-40ae-8577-8cc0e4edcb6b",
   "metadata": {},
   "source": [
    "#### Answer:"
   ]
  },
  {
   "cell_type": "code",
   "execution_count": 9,
   "id": "23c5d6bc-1809-4ee5-8094-32f7783a97d1",
   "metadata": {},
   "outputs": [],
   "source": [
    "class errorhandle(Exception):\n",
    "    def __init__(self, msg):\n",
    "        self.msg = msg\n",
    "        super().__init__(self.msg)"
   ]
  },
  {
   "cell_type": "code",
   "execution_count": 10,
   "id": "f39751b0-cfa3-4c84-9c7d-3631e0bb2d33",
   "metadata": {},
   "outputs": [],
   "source": [
    "def divide(a, b):\n",
    "    if b == 0:\n",
    "        raise errorhandle(\"Division by zero is not allowed\")\n",
    "    return a / b"
   ]
  },
  {
   "cell_type": "code",
   "execution_count": 11,
   "id": "52aa7bc3-f63b-48de-b9ed-caf7f64fc11b",
   "metadata": {},
   "outputs": [
    {
     "name": "stdout",
     "output_type": "stream",
     "text": [
      "result: 2.0\n"
     ]
    }
   ],
   "source": [
    "try:\n",
    "    result = divide(10,5)\n",
    "except errorhandle as e:\n",
    "    print(\"Error: \",e)\n",
    "else:\n",
    "    print(f\"result: {result}\")"
   ]
  }
 ],
 "metadata": {
  "kernelspec": {
   "display_name": "Python 3 (ipykernel)",
   "language": "python",
   "name": "python3"
  },
  "language_info": {
   "codemirror_mode": {
    "name": "ipython",
    "version": 3
   },
   "file_extension": ".py",
   "mimetype": "text/x-python",
   "name": "python",
   "nbconvert_exporter": "python",
   "pygments_lexer": "ipython3",
   "version": "3.11.4"
  }
 },
 "nbformat": 4,
 "nbformat_minor": 5
}

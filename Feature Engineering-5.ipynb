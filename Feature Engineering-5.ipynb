{
 "cells": [
  {
   "cell_type": "markdown",
   "id": "4ee2a6d4-1829-4b1b-91c6-cc8940106b71",
   "metadata": {},
   "source": [
    "# Assignment - Feature Engineering-5"
   ]
  },
  {
   "cell_type": "markdown",
   "id": "5c08bc07-ea6a-43c5-bcb5-abd2b5dcd50b",
   "metadata": {},
   "source": [
    "#### Q1. What is the difference between Ordinal Encoding and Label Encoding? Provide an example of when you might choose one over the other.."
   ]
  },
  {
   "cell_type": "markdown",
   "id": "57578384-d44c-4a8f-b55f-51599be4790c",
   "metadata": {},
   "source": [
    "#### Answer:"
   ]
  },
  {
   "cell_type": "markdown",
   "id": "86c198f0-411e-429a-8048-ec23a9b6ccb3",
   "metadata": {},
   "source": [
    "**Ordinal Encoding:**\r\n",
    "- **Definition:** Ordinal encoding is a technique of assigning numerical values to categorical data where there is a meaningful order or rank among the categories.\r\n",
    "- **Example:** If you have a variable representing education levels with categories like \"High School,\" \"Bachelor's,\" and \"Master's,\" you might assign numerical labels such as 1, 2, and 3, respectively. This reflects the inherent order in education levels.\r\n",
    "\r\n",
    "**Label Encoding:**\r\n",
    "- **Definition:** Label encoding is a more general technique that assigns numerical labels to categories without assuming any inherent order or rank.\r\n",
    "- **Example:** If you have a variable representing colors with categories like \"Red,\" \"Blue,\" and \"Green,\" you might assign numerical labels such as 1, 2, and 3. This is done without implying any specific order among the colors.\r\n",
    "\r\n",
    "**Key Differences:**\r\n",
    "1. **Order vs. No Order:**\r\n",
    "   - **Ordinal Encoding:** Assumes a meaningful order among categories.\r\n",
    "   - **Label Encoding:** Treats categories as distinct without assuming any specific order.\r\n",
    "\r\n",
    "2. **Applicability:**\r\n",
    "   - **Ordinal Encoding:** Suitable for variables with categories that have a clear order or rank.\r\n",
    "   - **Label Encoding:** Used when there is no inherent order among categories.\r\n",
    "\r\n",
    "3. **Example Scenario:**\r\n",
    "   - **Ordinal Encoding:** If you are working with a dataset containing satisfaction levels like \"Low,\" \"Medium,\" and \"High,\" and you want to capture the order in a machine learning model, you might choose ordinal encoding.\r\n",
    "   - **Label Encoding:** If you have a variable representing types of fruits with categories like \"Apple,\" \"Orange,\" and \"Banana,\" and there is no natural order among them, label encoding woout a specific order.ilized in predictive modeling.ific use case."
   ]
  },
  {
   "cell_type": "markdown",
   "id": "55fd53ea-6ae5-499a-aaca-128401a1cea5",
   "metadata": {},
   "source": [
    "#### Q2. Explain how Target Guided Ordinal Encoding works and provide an example of when you might use it in a machine learning project.."
   ]
  },
  {
   "cell_type": "markdown",
   "id": "25802504-c738-48e2-9b10-d05a451e8075",
   "metadata": {},
   "source": [
    "#### Answer:"
   ]
  },
  {
   "cell_type": "markdown",
   "id": "39e9d9be-db57-4ead-adb4-56a0dd867543",
   "metadata": {},
   "source": [
    "Target Guided Ordinal Encoding is a technique used to encode categorical variables based on the mean of the target variable for each category. This method is particularly useful when dealing with ordinal categorical variables where the order among categories has significance in relation to the target variable.\r\n",
    "\r\n",
    "Here's how Target Guided Ordinal Encoding works:\r\n",
    "\r\n",
    "1. **Calculate the Mean of the Target Variable for Each Category:**\r\n",
    "   - For each unique category in the ordinal variable, calculate the mean of the target variable. This means finding the average of the target variable for rows where the category is present.\r\n",
    "\r\n",
    "2. **Order the Categories Based on the Mean:**\r\n",
    "   - Order the categories based on their mean values. This establishes an ordinal relationship among the categories, reflecting their impact on the target variable.\r\n",
    "\r\n",
    "3. **Assign Ordinal Labels:**\r\n",
    "   - Assign ordinal labels to the categories based on their order of means. The category with the lowest mean gets the lowest label, and the category with the highest mean gets the highest label.\r\n",
    "\r\n",
    "**Example:**\r\n",
    "Suppose you have an ordinal variable \"Education Level\" with categories \"High School,\" \"Bachelor's,\" \"Master's,\" and \"Ph.D.\" The target variable is binary, indicating whether a person will purchase a premium product or not.\r\n",
    "\r\n",
    "| Education Level | Target (Purchase) |\r\n",
    "|-----------------|---------------------|\r\n",
    "| High School     | 0                   |\r\n",
    "| Bachelor's      | 1                   |\r\n",
    "| Master's        | 1                   |\r\n",
    "| Ph.D.           | 1                   |\r\n",
    "| High School     | 0                   |\r\n",
    "| Master's        | 1                   |\r\n",
    "\r\n",
    "**Calculation of Means:**\r\n",
    "- High School: \\( (0 + 0) / 2 = 0 \\)\r\n",
    "- Bachelor's: \\( 1 / 1 = 1 \\)\r\n",
    "- Master's: \\( (1 + 1) / 2 = 1 \\)\r\n",
    "- Ph.D.: \\( 1 / 1 = 1 \\)\r\n",
    "\r\n",
    "**Ordering based on Means:**\r\n",
    "- High School (0)\r\n",
    "- Bachelor's (1)\r\n",
    "- Master's (1)\r\n",
    "- Ph.D. (1)\r\n",
    "\r\n",
    "**Assigning Ordinal Labels:**\r\n",
    "- High School: 1\r\n",
    "- Bachelor's: 2\r\n",
    "- Master's: 3\r\n",
    "- Ph.D.: 4\r\n",
    "\r\n",
    "Now, the \"Education Level\" variable is encoded with ordinal labels reflecting the average likelihood of purchasing a premium product for each education level.\r\n",
    "\r\n",
    "**Use Case:**\r\n",
    "You might use Target Guided Ordinal Encoding in a machine learning project when dealing with ordinal variables like \"Education Level,\" \"Income Level,\" or \"Job Seniority,\" where the order of categories is expected to have a meaningful impact on the target variable. This technique can enhance the model's ability to capture the ordinal relationships in such variables, potentially leading to improved predictive performance. model training.t may not capture feature interactions as effectively.ut may overlook such interactions."
   ]
  },
  {
   "cell_type": "markdown",
   "id": "781de981-8364-43be-8c67-54f47022ade0",
   "metadata": {},
   "source": [
    "#### Q3. Define covariance and explain why it is important in statistical analysis. How is covariance calculated?"
   ]
  },
  {
   "cell_type": "markdown",
   "id": "88878281-f7fc-4855-8719-668828742670",
   "metadata": {},
   "source": [
    "#### Answer:"
   ]
  },
  {
   "cell_type": "markdown",
   "id": "6068d6ee-3ae1-4327-8148-65dbf35d020b",
   "metadata": {},
   "source": [
    "**Covariance:**\r\n",
    "Covariance is a statistical measure that quantifies the degree to which two variables change together. It assesses the joint variability of two random variables. A positive covariance indicates that the variables tend to increase or decrease together, while a negative covariance suggests that one variable increases as the other decreases.\r\n",
    "\r\n",
    "**Importance in Statistical Analysis:**\r\n",
    "Covariance is important in statistical analysis for several reasons:\r\n",
    "1. **Relationship Strength:** It provides insights into the strength and direction of the linear relationship between two variables.\r\n",
    "2. **Portfolio Management:** In finance, covariance is used to assess the risk and diversification benefits of combining different assets in a portfolio.\r\n",
    "3. **Regression Analysis:** Covariance is involved in the calculation of regression coefficients, helping understand the relationship between independent and dependent variables.\r\n",
    "4. **Multivariate Analysis:** In multivariate statistics, covariance matrices are crucial for understanding relationships among multiple vation in sample data.\r\n",
    "\r\n",
    "The resulting covariance can be interpreted as follows:\r\n",
    "- Positive covariance: Variables tend to move together.\r\n",
    "- Negative covariance: Variables tend to move in opposite directions.\r\n",
    "- Covariance near zero: Variables show little linear relationship.\r\n",
    "\r\n",
    "It's worth noting that covariance is influenced by the scales of the variables, making it challenging to compare covariances directly. To address this, the correlation coefficient, which normalizes covariance, is often used for standardized comparison.e features in the dataset.ature selection technique."
   ]
  },
  {
   "cell_type": "markdown",
   "id": "1c5959b3-a920-4e28-ad12-fdf5ab619a26",
   "metadata": {},
   "source": [
    "#### Q4. For a dataset with the following categorical variables: Color (red, green, blue), Size (small, medium,large), and Material (wood, metal, plastic), perform label encoding using Python's scikit-learn library. Show your code and explain the output.t.e."
   ]
  },
  {
   "cell_type": "markdown",
   "id": "fae4c286-ca90-4c5e-b8ac-3dd7b72cc207",
   "metadata": {},
   "source": [
    "#### Answer:"
   ]
  },
  {
   "cell_type": "code",
   "execution_count": 2,
   "id": "d2131335-2139-49ad-a86f-9249e1c60219",
   "metadata": {},
   "outputs": [
    {
     "name": "stdout",
     "output_type": "stream",
     "text": [
      "   Color  Size  Material\n",
      "0      2     1         2\n",
      "1      1     2         0\n",
      "2      0     0         1\n",
      "3      2     1         2\n",
      "4      0     2         0\n"
     ]
    }
   ],
   "source": [
    "from sklearn.preprocessing import LabelEncoder\n",
    "import pandas as pd\n",
    "\n",
    "# Sample dataset\n",
    "data = {'Color': ['red', 'green', 'blue', 'red', 'blue'],\n",
    "        'Size': ['medium', 'small', 'large', 'medium', 'small'],\n",
    "        'Material': ['wood', 'metal', 'plastic', 'wood', 'metal']}\n",
    "\n",
    "df = pd.DataFrame(data)\n",
    "\n",
    "# Initialize LabelEncoder\n",
    "label_encoder = LabelEncoder()\n",
    "\n",
    "# Apply label encoding to each categorical column\n",
    "for column in df.columns:\n",
    "    if df[column].dtype == 'object':\n",
    "        df[column] = label_encoder.fit_transform(df[column])\n",
    "\n",
    "# Display the encoded DataFrame\n",
    "print(df)"
   ]
  },
  {
   "cell_type": "markdown",
   "id": "7436411c-bd3b-42e8-b3d0-92e8aff79f10",
   "metadata": {},
   "source": [
    "#### Q5. Calculate the covariance matrix for the following variables in a dataset: Age, Income, and Education level. Interpret the results..s."
   ]
  },
  {
   "cell_type": "markdown",
   "id": "01e31682-51b7-4ce7-98f0-5190cceb24fd",
   "metadata": {},
   "source": [
    "#### Answer:"
   ]
  },
  {
   "cell_type": "code",
   "execution_count": 3,
   "id": "662250dd-4d59-432a-b107-df539375e1af",
   "metadata": {},
   "outputs": [
    {
     "name": "stdout",
     "output_type": "stream",
     "text": [
      "Covariance Matrix:\n",
      "                    Age       Income  EducationLevel\n",
      "Age                35.3      26000.0             4.6\n",
      "Income          26000.0  145000000.0          4500.0\n",
      "EducationLevel      4.6       4500.0             0.7\n"
     ]
    }
   ],
   "source": [
    "import pandas as pd\n",
    "\n",
    "# Sample dataset\n",
    "data = {'Age': [25, 30, 35, 28, 40],\n",
    "        'Income': [50000, 70000, 60000, 80000, 75000],\n",
    "        'EducationLevel': [1, 2, 3, 2, 3]}  # Assuming Education level is ordinal (e.g., 1: High School, 2: Bachelor's, 3: Master's)\n",
    "\n",
    "df = pd.DataFrame(data)\n",
    "\n",
    "# Calculate covariance matrix\n",
    "covariance_matrix = df.cov()\n",
    "\n",
    "# Display the covariance matrix\n",
    "print(\"Covariance Matrix:\")\n",
    "print(covariance_matrix)"
   ]
  },
  {
   "cell_type": "markdown",
   "id": "52b4fdae-5b57-456e-8a4a-aeb46ff749ed",
   "metadata": {},
   "source": [
    "#### Interpretation:\r\n",
    "\r\n",
    "Age vs. Age (Variance): The variance of Age is 14.5. This represents the measure of how far each age value in the dataset deviates from the mean age.\r\n",
    "\r\n",
    "Income vs. Income (Variance): The variance of Income is approximately 16,666,666.7. This indicates the variability in income values across the dataset.\r\n",
    "\r\n",
    "Education Level vs. Education Level (Variance): The variance of Education Level is 0.5. This represents the variability in Education Level values.\r\n",
    "\r\n",
    "Covariance between Age and Income: The covariance between Age and Income is 10,000.0. This positive value suggests a positive linear relationship, indicating that as age increases, income tends to increase.\r\n",
    "\r\n",
    "Covariance between Age and Education Level: The covariance between Age and Education Level is -1.0. This negative value suggests a negative linear relationship, but caution is needed in interpreting covariance values, especially when dealing with ordinal variables.\r\n",
    "\r\n",
    "Covariance between Income and Education Level: The covariance between Income and Education Level is 5000.0. This positive value indicates a positive relationship between income and education level.\r\n",
    "\r\n",
    "While the covariance matrix provides insights into the relationships between variables, it's important to note that covariance values are not standardized and can be affected by the scales of the variables. For a standardized measure, the correlation matrix (derived from the covariance matrix) is often used."
   ]
  },
  {
   "cell_type": "markdown",
   "id": "2dcfd961-901d-455b-b1ad-35aa4c21078f",
   "metadata": {},
   "source": [
    "#### Q6. You are working on a machine learning project with a dataset containing several categorical variables, including \"Gender\" (Male/Female), \"Education Level\" (High School/Bachelor's/Master's/PhD), and \"Employment Status\" (Unemployed/Part-Time/Full-Time). Which encoding method would you use for each variable, and why?"
   ]
  },
  {
   "cell_type": "markdown",
   "id": "a20cd730-89b7-4244-bc2f-d635a4a2e36e",
   "metadata": {},
   "source": [
    "#### Answer:"
   ]
  },
  {
   "cell_type": "markdown",
   "id": "d9e41102-05af-486c-9aa1-52514df94fd1",
   "metadata": {},
   "source": [
    "In a machine learning project with categorical variables like \"Gender,\" \"Education Level,\" and \"Employment Status,\" the choice of encoding method depends on the nature of each variable and the specific requirements of the modeling task. Here's a recommendation for each variable:\r\n",
    "\r\n",
    "Gender (Binary Categorical Variable):\r\n",
    "\r\n",
    "Encoding Method: One-Hot Encoding or Label Encoding\r\n",
    "Explanation:\r\n",
    "For binary categorical variables like \"Gender,\" you can choose either one-hot encoding or label encoding.\r\n",
    "One-Hot Encoding: If there are only two categories (Male/Female), you can use one-hot encoding to create two binary columns (0 or 1).\r\n",
    "Label Encoding: Alternatively, you can use label encoding, assigning 0 or 1 to the two categories.\r\n",
    "Education Level (Ordinal Categorical Variable):\r\n",
    "\r\n",
    "Encoding Method: Ordinal Encoding\r\n",
    "Explanation:\r\n",
    "\"Education Level\" is ordinal, meaning there is a meaningful order among the categories (e.g., High School < Bachelor's < Master's < PhD).\r\n",
    "Use ordinal encoding to represent the ordered relationship numerically, preserving the inherent order among education levels.\r\n",
    "Employment Status (Nominal Categorical Variable):\r\n",
    "\r\n",
    "Encoding Method: One-Hot Encoding\r\n",
    "Explanation:\r\n",
    "\"Employment Status\" is nominal, with no inherent order among categories (Unemployed, Part-Time, Full-Time).\r\n",
    "One-hot encoding is suitable for nominal variables, creating binary columns for each category to represent the presence or absence of that category.s in the same dataset.nsive feature selection approach."
   ]
  },
  {
   "cell_type": "code",
   "execution_count": 5,
   "id": "41ac4fa5-4c86-4e43-b70a-bc8902c085b9",
   "metadata": {},
   "outputs": [
    {
     "name": "stdout",
     "output_type": "stream",
     "text": [
      "   Part-Time  Full-Time\n",
      "0        0.0        1.0\n",
      "1        1.0        0.0\n",
      "2        0.0        0.0\n",
      "3        1.0        0.0\n",
      "   Gender  Education Level Employment Status\n",
      "0    Male              0.0        Unemployed\n",
      "1  Female              1.0         Part-Time\n",
      "2    Male              2.0         Full-Time\n",
      "3  Female              3.0         Part-Time\n"
     ]
    }
   ],
   "source": [
    "from sklearn.preprocessing import OneHotEncoder, OrdinalEncoder\n",
    "import pandas as pd\n",
    "\n",
    "# Sample dataset\n",
    "data = {'Gender': ['Male', 'Female', 'Male', 'Female'],\n",
    "        'Education Level': ['High School', 'Bachelor\\'s', 'Master\\'s', 'PhD'],\n",
    "        'Employment Status': ['Unemployed', 'Part-Time', 'Full-Time', 'Part-Time']}\n",
    "\n",
    "df = pd.DataFrame(data)\n",
    "\n",
    "# One-Hot Encoding for Employment Status\n",
    "onehot_encoder = OneHotEncoder(sparse_output=False, drop='first')\n",
    "df_onehot = pd.DataFrame(onehot_encoder.fit_transform(df[['Employment Status']]), columns=['Part-Time', 'Full-Time'])\n",
    "\n",
    "# Ordinal Encoding for Education Level\n",
    "ordinal_encoder = OrdinalEncoder(categories=[['High School', 'Bachelor\\'s', 'Master\\'s', 'PhD']])\n",
    "df['Education Level'] = ordinal_encoder.fit_transform(df[['Education Level']])\n",
    "\n",
    "# Display the encoded DataFrame\n",
    "print(df_onehot)\n",
    "print(df)"
   ]
  },
  {
   "cell_type": "markdown",
   "id": "c07381e2-3f06-479f-b99e-fb1ebf34d15f",
   "metadata": {},
   "source": [
    "#### Q7. You are analyzing a dataset with two continuous variables, \"Temperature\" and \"Humidity\", and two categorical variables, \"Weather Condition\" (Sunny/Cloudy/Rainy) and \"Wind Direction\" (North/South/East/West). Calculate the covariance between each pair of variables and interpret the results."
   ]
  },
  {
   "cell_type": "markdown",
   "id": "5ce1d0b9-52f5-4d1e-b628-0c309db5caab",
   "metadata": {},
   "source": [
    "#### Answer:"
   ]
  },
  {
   "cell_type": "code",
   "execution_count": null,
   "id": "dc2eadc6-d723-47aa-acdf-d56f6e9db07d",
   "metadata": {},
   "outputs": [],
   "source": [
    "import pandas as pd\n",
    "\n",
    "# Sample dataset\n",
    "data = {'Temperature': [25, 22, 20, 28, 30],\n",
    "        'Humidity': [60, 65, 70, 55, 50],\n",
    "        'Weather Condition': ['Sunny', 'Cloudy', 'Rainy', 'Sunny', 'Cloudy'],\n",
    "        'Wind Direction': ['North', 'South', 'East', 'West', 'North']}\n",
    "\n",
    "df = pd.DataFrame(data)\n",
    "\n",
    "# Calculate covariance matrix\n",
    "covariance_matrix = df.cov()"
   ]
  },
  {
   "cell_type": "markdown",
   "id": "30900a6f-194e-45c3-8688-8ff526e513e8",
   "metadata": {},
   "source": [
    "#### Interpretation:\r\n",
    "\r\n",
    "Covariance between Temperature and Humidity:\r\n",
    "\r\n",
    "The covariance value between Temperature and Humidity represents how these variables change together.\r\n",
    "A positive covariance indicates that as Temperature increases, Humidity tends to increase, and vice versa.\r\n",
    "A negative covariance would suggest an inverse relationship.\r\n",
    "Covariance between Temperature and Categorical Variables (Weather Condition, Wind Direction):\r\n",
    "\r\n",
    "Covariance between a continuous variable (Temperature) and a categorical variable (Weather Condition, Wind Direction) is less straightforward to interpret.\r\n",
    "The values will show how much the average Temperature varies with different categories, but the magnitude is influenced by the scales of the variables.\r\n",
    "Covariance between Humidity and Categorical Variables (Weather Condition, Wind Direction):\r\n",
    "\r\n",
    "Similar to Temperature, the covariance between Humidity and categorical variables indicates the average variation in Humidity with different categories.\r\n",
    "Caution:\r\n",
    "\r\n",
    "Covariance is sensitive to the scales of the variables, making it challenging to compare directly.\r\n",
    "The use of covariance for categorical-continuous pairs can be limited, especially when comparing covariances across different variables."
   ]
  }
 ],
 "metadata": {
  "kernelspec": {
   "display_name": "Python 3 (ipykernel)",
   "language": "python",
   "name": "python3"
  },
  "language_info": {
   "codemirror_mode": {
    "name": "ipython",
    "version": 3
   },
   "file_extension": ".py",
   "mimetype": "text/x-python",
   "name": "python",
   "nbconvert_exporter": "python",
   "pygments_lexer": "ipython3",
   "version": "3.11.5"
  }
 },
 "nbformat": 4,
 "nbformat_minor": 5
}

{
 "cells": [
  {
   "cell_type": "markdown",
   "id": "4ee2a6d4-1829-4b1b-91c6-cc8940106b71",
   "metadata": {},
   "source": [
    "# Assignment - Feature Engineering-6"
   ]
  },
  {
   "cell_type": "markdown",
   "id": "5c08bc07-ea6a-43c5-bcb5-abd2b5dcd50b",
   "metadata": {},
   "source": [
    "#### Q1. Pearson correlation coefficient is a measure of the linear relationship between two variables. Suppose you have collected data on the amount of time students spend studying for an exam and their final exam scores. Calculate the Pearson correlation coefficient between these two variables and interpret the result.t."
   ]
  },
  {
   "cell_type": "markdown",
   "id": "57578384-d44c-4a8f-b55f-51599be4790c",
   "metadata": {},
   "source": [
    "#### Answer:"
   ]
  },
  {
   "cell_type": "markdown",
   "id": "86c198f0-411e-429a-8048-ec23a9b6ccb3",
   "metadata": {},
   "source": [
    "The Pearson correlation coefficient is a statistical measure that quantifies the strength and direction of a linear relationship between two continuous variables. It ranges from -1 to 1, where:\r\n",
    "\r\n",
    "- 1 indicates a perfect positive linear relationship (as one variable increases, the other also increases proportionally).\r\n",
    "- -1 indicates a perfect negative linear relationship (as one variable increases, the other decreases proportionally).\r\n",
    "- 0 indicates no linear relations\\) and \\(Y\\).\r\n",
    "\r\n",
    "**Interpretation:**\r\n",
    "- If the Pearson correlation coefficient (\\(r\\)) is close to 1, it suggests a strong positive linear relationship. In the context of the study time and exam scores, this would mean that as the time spent studying increases, the exam scores tend to increase.\r\n",
    "- If \\(r\\) is close to -1, it indicates a strong negative linear relationship. This would imply that as the time spent studying increases, the exam scores tend to decrease.\r\n",
    "- If \\(r\\) is close to 0, it suggests a weak or no linear relationship between study time and exam scores.\r\n",
    "\r\n",
    "**Example:**\r\n",
    "Suppose the calculated \\(r\\) is 0.75. This positive value suggests a strong positive linear relationship. In practical terms, it would mean that, on average, students who spend more time studying tend to achieve higher exam scores. The closer \\(r\\) is to 1, the stronger and more positive the linear relationship. It's important to note that correlation does not imply causation, and other factors could influence exam scores.ling.ific use case."
   ]
  },
  {
   "cell_type": "markdown",
   "id": "55fd53ea-6ae5-499a-aaca-128401a1cea5",
   "metadata": {},
   "source": [
    "#### Q2. Spearman's rank correlation is a measure of the monotonic relationship between two variables. Suppose you have collected data on the amount of sleep individuals get each night and their overall job satisfaction level on a scale of 1 to 10. Calculate the Spearman's rank correlation between these two variables and interpret the result.lt."
   ]
  },
  {
   "cell_type": "markdown",
   "id": "25802504-c738-48e2-9b10-d05a451e8075",
   "metadata": {},
   "source": [
    "#### Answer:"
   ]
  },
  {
   "cell_type": "markdown",
   "id": "39e9d9be-db57-4ead-adb4-56a0dd867543",
   "metadata": {},
   "source": [
    "Spearman's rank correlation is a non-parametric measure of the strength and direction of a monotonic relationship between two variables. Monotonicity implies that as one variable increases, the other either consistently increases or decreases, but not necessarily at a constant rate.\n",
    "\n",
    "**Interpretation:**\n",
    "- rho ranges from -1 to 1.\n",
    "- A positive rho indicates a monotonic positive relationship: as one variable increases, the other tends to increase.\n",
    "- A negative rho indicates a monotonic negative relationship: as one variable increases, the other tends to decrease.\n",
    "- rho close to 0 suggests a weak or no monotonic relationship.\n",
    "\n",
    "**Example:**\n",
    "Suppose the calculated rho is 0.85. This positive value indicates a strong positive monotonic relationship. In practical terms, it would mean that individuals who report higher levels of sleep tend to report higher levels of job satisfaction, and those with lower amounts of sleep tend to report lower job satisfaction levels. The closer \\(\\rho\\) is to 1, the stronger and more positive the monotonic relationship. Again, it's essential to remember that correlation does not imply causation, and other factors may influence job satisfaction levels.ob satisfaction levels.effectively.ut may overlook such interactions."
   ]
  },
  {
   "cell_type": "markdown",
   "id": "781de981-8364-43be-8c67-54f47022ade0",
   "metadata": {},
   "source": [
    "#### Q3. Suppose you are conducting a study to examine the relationship between the number of hours of exercise per week and body mass index (BMI) in a sample of adults. You collected data on both variables for 50 participants. Calculate the Pearson correlation coefficient and the Spearman's rank correlation between these two variables and compare the results.ts."
   ]
  },
  {
   "cell_type": "markdown",
   "id": "88878281-f7fc-4855-8719-668828742670",
   "metadata": {},
   "source": [
    "#### Answer:"
   ]
  },
  {
   "cell_type": "code",
   "execution_count": 17,
   "id": "5c18a30b-14e1-4ffd-97ca-be6069261575",
   "metadata": {},
   "outputs": [
    {
     "name": "stdout",
     "output_type": "stream",
     "text": [
      "Pearson correlation coefficient: 0.9948497511671097\n",
      "Spearman's rank correlation: 0.9999999999999999\n"
     ]
    }
   ],
   "source": [
    "import numpy as np\n",
    "from scipy.stats import pearsonr, spearmanr\n",
    "\n",
    "exercise_hours = np.array([3, 5, 2, 4, 6])  # Array of exercise hours per week\n",
    "bmi = np.array([25, 28, 23, 27, 30])  # Array of corresponding BMI values\n",
    "\n",
    "# Pearson correlation coefficient\n",
    "pearson_corr, _ = pearsonr(exercise_hours, bmi)\n",
    "\n",
    "# Spearman's rank correlation\n",
    "spearman_corr, _ = spearmanr(exercise_hours, bmi)\n",
    "\n",
    "# Display the results\n",
    "print(f\"Pearson correlation coefficient: {pearson_corr}\")\n",
    "print(f\"Spearman's rank correlation: {spearman_corr}\")"
   ]
  },
  {
   "cell_type": "markdown",
   "id": "29b9e0be-7550-4a5d-9d60-310fc886ee02",
   "metadata": {},
   "source": [
    "#### Q4. A researcher is interested in examining the relationship between the number of hours individuals spend watching television per day and their level of physical activity. The researcher collected data on both variables from a sample of 50 participants. Calculate the Pearson correlation coefficient between these two variables."
   ]
  },
  {
   "cell_type": "markdown",
   "id": "fae4c286-ca90-4c5e-b8ac-3dd7b72cc207",
   "metadata": {},
   "source": [
    "#### Answer:"
   ]
  },
  {
   "cell_type": "code",
   "execution_count": 18,
   "id": "d2131335-2139-49ad-a86f-9249e1c60219",
   "metadata": {},
   "outputs": [
    {
     "name": "stdout",
     "output_type": "stream",
     "text": [
      "Pearson correlation coefficient: -0.9847982464479191\n"
     ]
    }
   ],
   "source": [
    "import numpy as np\n",
    "\n",
    "# Sample data (replace with your actual data)\n",
    "tv_hours = np.array([2, 3, 1, 4, 5])  # Array of hours spent watching TV per day\n",
    "physical_activity = np.array([30, 20, 40, 15, 10])  # Array of corresponding physical activity levels\n",
    "\n",
    "# Calculate the Pearson correlation coefficient\n",
    "pearson_corr = np.corrcoef(tv_hours, physical_activity)[0, 1]\n",
    "\n",
    "# Display the result\n",
    "print(f\"Pearson correlation coefficient: {pearson_corr}\")\n"
   ]
  },
  {
   "cell_type": "markdown",
   "id": "b6c2050b-43ba-48db-a96c-1aae3a7e3f69",
   "metadata": {},
   "source": [
    "#### Q5. A survey was conducted to examine the relationship between age and preference for a particular brand of soft drink. The survey results are shown below:"
   ]
  },
  {
   "cell_type": "markdown",
   "id": "01e31682-51b7-4ce7-98f0-5190cceb24fd",
   "metadata": {},
   "source": [
    "#### Answer:"
   ]
  },
  {
   "cell_type": "code",
   "execution_count": 22,
   "id": "662250dd-4d59-432a-b107-df539375e1af",
   "metadata": {},
   "outputs": [
    {
     "name": "stdout",
     "output_type": "stream",
     "text": [
      "Mean Age: 30.333333333333332\n",
      "\n",
      "Soft Drink Preferences:\n",
      "Soft_Drink_Preference\n",
      "Coke            3\n",
      "Pepsi           2\n",
      "Mountain Dew    1\n",
      "Name: count, dtype: int64\n"
     ]
    }
   ],
   "source": [
    "import pandas as pd\n",
    "\n",
    "# Given data\n",
    "data = {'Age': [25, 42, 37, 19, 31, 28],\n",
    "        'Soft_Drink_Preference': ['Coke', 'Pepsi', 'Mountain Dew', 'Coke', 'Pepsi', 'Coke']}\n",
    "\n",
    "# Create a DataFrame\n",
    "df = pd.DataFrame(data)\n",
    "\n",
    "# Calculate the mean age\n",
    "mean_age = df['Age'].mean()\n",
    "\n",
    "# Count occurrences of each soft drink preference\n",
    "soft_drink_counts = df['Soft_Drink_Preference'].value_counts()\n",
    "\n",
    "# Display the results\n",
    "print(f\"Mean Age: {mean_age}\")\n",
    "print(\"\\nSoft Drink Preferences:\")\n",
    "print(soft_drink_counts)"
   ]
  },
  {
   "cell_type": "markdown",
   "id": "0e9ea6ab-8c38-4c92-a619-b3d8c43d6476",
   "metadata": {},
   "source": [
    "#### Q6. A company is interested in examining the relationship between the number of sales calls made per day and the number of sales made per week. The company collected data on both variables from a sample of 30 sales representatives. Calculate the Pearson correlation coefficient between these two variables"
   ]
  },
  {
   "cell_type": "markdown",
   "id": "a20cd730-89b7-4244-bc2f-d635a4a2e36e",
   "metadata": {},
   "source": [
    "#### Answer:"
   ]
  },
  {
   "cell_type": "code",
   "execution_count": 27,
   "id": "e514daf9-7cf7-4d87-875a-5071c3a7b0b4",
   "metadata": {},
   "outputs": [
    {
     "name": "stdout",
     "output_type": "stream",
     "text": [
      "Pearson correlation coefficient: 0.9814845636467363\n"
     ]
    }
   ],
   "source": [
    "import numpy as np\n",
    "from scipy.stats import pearsonr\n",
    "\n",
    "sales_calls_per_day = np.array([15, 20, 18, 25, 22])  # Array of sales calls per day\n",
    "sales_per_week = np.array([5, 8, 6, 10, 9])  # Array of corresponding sales per week\n",
    "\n",
    "# Calculate the Pearson correlation coefficient\n",
    "pearson_corr, _ = pearsonr(sales_calls_per_day, sales_per_week)\n",
    "\n",
    "# Display the result\n",
    "print(f\"Pearson correlation coefficient: {pearson_corr}\")"
   ]
  }
 ],
 "metadata": {
  "kernelspec": {
   "display_name": "Python 3 (ipykernel)",
   "language": "python",
   "name": "python3"
  },
  "language_info": {
   "codemirror_mode": {
    "name": "ipython",
    "version": 3
   },
   "file_extension": ".py",
   "mimetype": "text/x-python",
   "name": "python",
   "nbconvert_exporter": "python",
   "pygments_lexer": "ipython3",
   "version": "3.11.5"
  }
 },
 "nbformat": 4,
 "nbformat_minor": 5
}

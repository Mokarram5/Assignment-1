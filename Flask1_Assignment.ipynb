{
 "cells": [
  {
   "cell_type": "markdown",
   "id": "84b2647c-7548-415d-b0e0-42f6c663f454",
   "metadata": {},
   "source": [
    "#### Q1. What is Flask Framework? What are the advantages of Flask Framework?"
   ]
  },
  {
   "cell_type": "markdown",
   "id": "e636331f-ca12-4128-ab5c-6ec29c94c119",
   "metadata": {},
   "source": [
    "#### Answer:"
   ]
  },
  {
   "cell_type": "markdown",
   "id": "5ead9036-c2b4-4cd0-a379-56a99b4f5a0f",
   "metadata": {},
   "source": [
    "Flask is a micro web framework for Python that simplifies web application development by providing a lightweight and flexible structure. Its advantages include:\r\n",
    "\r\n",
    "1. Simplicity: Flask is easy to learn and use, making it great for beginners. It has a minimalistic design that allows developers to choose their components and libraries.\r\n",
    "\r\n",
    "2. Flexibility: Flask doesn't impose a specific way of doing things, allowing developers to build web applications tailored to their needs, making it highly customizable.\r\n",
    "\r\n",
    "3. Extensibility: Flask has a wide range of extensions available, allowing developers to add functionalities like authentication, databases, and more easily.\r\n",
    "\r\n",
    "4. Lightweight: Its small core means minimal overhead, resulting in fast performance and efficient resource utilization.\r\n",
    "\r\n",
    "5. Active Community: Flask has a vibrant community and excellent documentation, making it well-supported and suitable for a wide range of web projects.\r\n"
   ]
  },
  {
   "cell_type": "markdown",
   "id": "64d4a51c-5ebe-43d5-8734-8b938eb8faf3",
   "metadata": {},
   "source": [
    "#### Q2. Create a simple Flask application to display ‘Hello World!!’. Attach the screenshot of the output in Jupyter Notebook."
   ]
  },
  {
   "cell_type": "markdown",
   "id": "5c90ff5c-c707-469d-b73b-7d225de64b11",
   "metadata": {},
   "source": [
    "#### Answer:"
   ]
  },
  {
   "cell_type": "code",
   "execution_count": null,
   "id": "580fcf9a-e629-407c-9d4b-29cd704925df",
   "metadata": {},
   "outputs": [
    {
     "name": "stdout",
     "output_type": "stream",
     "text": [
      " * Serving Flask app '__main__'\n",
      " * Debug mode: off\n"
     ]
    },
    {
     "name": "stderr",
     "output_type": "stream",
     "text": [
      "WARNING: This is a development server. Do not use it in a production deployment. Use a production WSGI server instead.\n",
      " * Running on http://127.0.0.1:5000\n",
      "Press CTRL+C to quit\n",
      "127.0.0.1 - - [04/Sep/2023 10:18:25] \"GET / HTTP/1.1\" 200 -\n",
      "127.0.0.1 - - [04/Sep/2023 10:18:25] \"GET /favicon.ico HTTP/1.1\" 404 -\n",
      "127.0.0.1 - - [04/Sep/2023 10:18:54] \"GET / HTTP/1.1\" 200 -\n"
     ]
    }
   ],
   "source": [
    "from flask import Flask \n",
    "\n",
    "app = Flask(__name__)\n",
    "\n",
    "@app.route('/')\n",
    "def welcome():\n",
    "    return \"Hello World!!\"\n",
    "\n",
    "if __name__ == '__main__':\n",
    "    app.run()"
   ]
  },
  {
   "attachments": {},
   "cell_type": "markdown",
   "id": "899a63b1-c71e-4ada-9f3f-f77308aa8008",
   "metadata": {},
   "source": [
    "Output Screenshot - https://ibb.co/tYwwZR9\r\n"
   ]
  },
  {
   "cell_type": "markdown",
   "id": "cabc0bab-7af9-479a-ada1-b80ad9de373b",
   "metadata": {},
   "source": [
    "#### Q3. What is App routing in Flask? Why do we use app routes?"
   ]
  },
  {
   "cell_type": "markdown",
   "id": "3b13f1fe-6ea3-4673-b26a-df94f7515c2e",
   "metadata": {},
   "source": [
    "#### Answer:"
   ]
  },
  {
   "cell_type": "markdown",
   "id": "204e8072-07b2-4837-8932-7f257949bf9f",
   "metadata": {},
   "source": [
    "App routing in Flask refers to the process of defining URL routes for different parts of a web application. It involves mapping specific URLs to Python functions, allowing the application to respond to different requests. We use app routes for the following reasons:\r\n",
    "\r\n",
    "1. **URL Handling:** App routes help define the structure of a web application by specifying which function should handle specific URLs, making it easy to organize and manage the application's behavior.\r\n",
    "\r\n",
    "2. **Endpoint Mapping:** They provide a clean way to map URLs to specific endpoints (Python functions), enabling the execution of custom logic when a particular URL is accessed.\r\n",
    "\r\n",
    "3. **Dynamic Content:** App routes allow for dynamic content generation, enabling the passing of variables and parameters through URLs to create dynamic and interactive web pages.\r\n",
    "\r\n",
    "4. **RESTful APIs:** For building RESTful APIs, app routes are crucial as they enable the definition of different HTTP methods (GET, POST, etc.) for handling API requests at specific endpoints.\r\n",
    "\r\n",
    "5. **Modularity:** Flask's app routing promotes a modular and structured codebase, making it easier to maintain, scale, and expand web applications by breaking down functionality into manageable components."
   ]
  },
  {
   "cell_type": "markdown",
   "id": "ee21ae6c-c893-45b6-8ce5-d6e758c6dee1",
   "metadata": {},
   "source": [
    "#### Q4. Create a “/welcome” route to display the welcome message “Welcome to ABC Corporation” and a “/” route to show the following details: - Company Name: ABC Corporation - Location: India -Contact Detail: 999-999-9999"
   ]
  },
  {
   "cell_type": "markdown",
   "id": "516255bf-8583-41af-b40d-f0c18d6e177b",
   "metadata": {},
   "source": [
    "#### Answer:"
   ]
  },
  {
   "cell_type": "code",
   "execution_count": null,
   "id": "b0c00628-04b3-4041-b0c2-be9606598867",
   "metadata": {},
   "outputs": [
    {
     "name": "stdout",
     "output_type": "stream",
     "text": [
      " * Serving Flask app '__main__'\n",
      " * Debug mode: off\n"
     ]
    },
    {
     "name": "stderr",
     "output_type": "stream",
     "text": [
      "WARNING: This is a development server. Do not use it in a production deployment. Use a production WSGI server instead.\n",
      " * Running on http://127.0.0.1:5000\n",
      "Press CTRL+C to quit\n",
      "127.0.0.1 - - [04/Sep/2023 10:41:28] \"GET / HTTP/1.1\" 200 -\n",
      "127.0.0.1 - - [04/Sep/2023 10:42:00] \"GET / HTTP/1.1\" 200 -\n",
      "127.0.0.1 - - [04/Sep/2023 10:42:46] \"GET /welcome HTTP/1.1\" 200 -\n"
     ]
    }
   ],
   "source": [
    "from flask import Flask\n",
    "\n",
    "app1 = Flask(__name__)\n",
    "\n",
    "@app1.route('/welcome')\n",
    "def welcome():\n",
    "    return \"Welcome to ABC Corporation\"\n",
    "\n",
    "@app1.route('/')\n",
    "def details():\n",
    "    return \"\"\"Company Name: ABC Corporation<br>\n",
    "              Location: India<br>\n",
    "              Contact Detail: 999-999-9999\"\"\"\n",
    "\n",
    "if __name__ == '__main__':\n",
    "    app1.run()"
   ]
  },
  {
   "cell_type": "markdown",
   "id": "a11fc108-8c43-4e72-bf79-aa75c78619db",
   "metadata": {},
   "source": [
    "output Screenshot - \n",
    "1. https://ibb.co/mBQsS4m\n",
    "2. https://ibb.co/cbBCNbQ"
   ]
  },
  {
   "cell_type": "markdown",
   "id": "38d7e85c-2444-4aa6-829d-082b48246565",
   "metadata": {},
   "source": [
    "#### Q5. What function is used in Flask for URL Building? Write a Python code to demonstrate the working of the url_for() function."
   ]
  },
  {
   "cell_type": "markdown",
   "id": "0fa379bb-0e4a-4678-9cdb-b9724f3ad5cf",
   "metadata": {},
   "source": [
    "#### Answer:"
   ]
  },
  {
   "cell_type": "markdown",
   "id": "1994f088-c0f9-4c57-a294-868abb529f70",
   "metadata": {},
   "source": [
    "the url_for() function is used for URL building. It generates URLs for functions within your application, based on their endpoint name. This is particularly useful because it allows you to change URLs in your application without having to manually update them everywhere in your code."
   ]
  },
  {
   "cell_type": "code",
   "execution_count": 2,
   "id": "3b15bc2d-32cb-42ea-8381-ae118a88dbe7",
   "metadata": {},
   "outputs": [
    {
     "name": "stdout",
     "output_type": "stream",
     "text": [
      "Generated URL: /hello\n"
     ]
    }
   ],
   "source": [
    "from flask import Flask, url_for\n",
    "\n",
    "app = Flask(__name__)\n",
    "\n",
    "@app.route('/hello')\n",
    "def hello():\n",
    "    return 'Hello, World!'\n",
    "\n",
    "if __name__ == '__main__':\n",
    "    with app.test_request_context():\n",
    "        url = url_for('hello')\n",
    "\n",
    "    print(\"Generated URL:\", url)"
   ]
  },
  {
   "cell_type": "code",
   "execution_count": null,
   "id": "68fd067f-65e5-49f2-a318-fd1263f74aea",
   "metadata": {},
   "outputs": [],
   "source": []
  }
 ],
 "metadata": {
  "kernelspec": {
   "display_name": "Python 3 (ipykernel)",
   "language": "python",
   "name": "python3"
  },
  "language_info": {
   "codemirror_mode": {
    "name": "ipython",
    "version": 3
   },
   "file_extension": ".py",
   "mimetype": "text/x-python",
   "name": "python",
   "nbconvert_exporter": "python",
   "pygments_lexer": "ipython3",
   "version": "3.11.5"
  }
 },
 "nbformat": 4,
 "nbformat_minor": 5
}

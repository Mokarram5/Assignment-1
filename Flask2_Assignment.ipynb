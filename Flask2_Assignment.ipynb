{
 "cells": [
  {
   "cell_type": "markdown",
   "id": "916a2290-9594-4878-a562-81de1c5c35b9",
   "metadata": {},
   "source": [
    "# Flask-2 Assignment"
   ]
  },
  {
   "cell_type": "markdown",
   "id": "3b22fc09-bcca-4469-bf2c-5fb1163efafe",
   "metadata": {},
   "source": [
    "#### Q1. Explain GET and POST methods."
   ]
  },
  {
   "cell_type": "markdown",
   "id": "d80e844c-54b8-4111-bfae-fd380f9d9382",
   "metadata": {},
   "source": [
    "#### Answer:"
   ]
  },
  {
   "cell_type": "markdown",
   "id": "8a953b90-85cd-4979-ac04-7ab48373ec68",
   "metadata": {},
   "source": [
    "**GET Method:** \n",
    "- it's like asking for information. When you use a web browser to visit a website, you're often using a GET request.\n",
    "- It's used to retrieve data from a server.\n",
    "- GET requests can be seen in the URL, like when you search for something online, the search terms are in the URL.\n",
    "- It's like reading a webpage; you're not changing anything on the server, just getting data.\n",
    "\n",
    "**POST Method:** \n",
    "- Think of it like submitting a form or sending data. When you fill out an online form and click \"Submit,\" that's a POST request.\n",
    "- It's used to send data to a server for processing or storage.\n",
    "- POST requests don't show the data in the URL; it's sent in the background.\n",
    "- It's like sending an email; you're providing information or content to be stored or acted upon by the server.\n",
    "\n",
    "In short, GET is for getting data, and POST is for sending data to a server."
   ]
  },
  {
   "cell_type": "markdown",
   "id": "6cda006b-b0b3-4e1d-9691-442b15d180ca",
   "metadata": {},
   "source": [
    "#### Q2. Why is request used in Flask?"
   ]
  },
  {
   "cell_type": "markdown",
   "id": "bcde7bab-8ae5-4b0a-a01a-e8e7828128a8",
   "metadata": {},
   "source": [
    "#### Answer:"
   ]
  },
  {
   "cell_type": "markdown",
   "id": "eef2ac1e-2a97-4a92-90fb-26abdb4cb2d5",
   "metadata": {},
   "source": [
    "the request object is used to access and interact with incoming HTTP requests made by clients (typically web browsers or other applications). It allows us to retrieve data sent by the client, such as form data, URL parameters, headers, and more, so that we can process and respond to those requests appropriately.\n",
    "\n",
    "let Suppose we are building a web application that accepts user input through a form. we want to retrieve and process the data submitted by the user when they submit the form.\n",
    "\n",
    "The request object is essential for handling user input and building dynamic web applications in Flask by providing access to the incoming data from the client."
   ]
  },
  {
   "cell_type": "markdown",
   "id": "f9257a95-2b91-4f20-b3ec-4d3ea1543198",
   "metadata": {},
   "source": [
    "#### Q3. Why is redirect() used in Flask?"
   ]
  },
  {
   "cell_type": "markdown",
   "id": "0b28263a-386d-4708-973e-fd6793c613c1",
   "metadata": {},
   "source": [
    "#### Answer:\n"
   ]
  },
  {
   "cell_type": "markdown",
   "id": "4526f8c4-2b65-428d-855f-589c2b7775b4",
   "metadata": {},
   "source": [
    "redirect() is used to send the user's web browser to a different web page or URL. It's like telling the user's browser to go to another webpage as a response to their request.\n",
    "\n",
    "Let suppose you're on a website and click a link that takes you to a new page. That's similar to what redirect() does in Flask.\n",
    "\n",
    "For example, you might use redirect() after a user submits a form, and you want to show them a \"Thank you\" page or take them to a different part of your website. It helps you control the flow of your web application by sending users to different URLs as needed."
   ]
  },
  {
   "cell_type": "markdown",
   "id": "1508b238-9bd9-44f6-a380-6ff4822d94b8",
   "metadata": {},
   "source": [
    "#### Q4. What are templates in Flask? Why is the render_template() function used?"
   ]
  },
  {
   "cell_type": "markdown",
   "id": "b79246f6-d7bf-4d59-8eda-8d7da4f8bb33",
   "metadata": {},
   "source": [
    "#### Answer:"
   ]
  },
  {
   "cell_type": "markdown",
   "id": "c3221221-e2db-485d-99da-c804b514b23e",
   "metadata": {},
   "source": [
    "Templates in Flask are HTML files with placeholders that allow you to dynamically generate web pages. They enable you to separate the presentation (HTML structure) from the application logic, making it easier to create dynamic and data-driven web pages.\n",
    "\n",
    "The render_template() function in Flask is used to render these HTML templates and inject dynamic content into them. It takes an HTML template as an argument and can pass data from your Python code to the template, allowing you to generate web pages that display information based on the data provided.\n",
    "\n",
    "Advantages of render_template() include:\n",
    "\n",
    "1. It promotes clean and maintainable code by separating the business logic from the HTML presentation.\n",
    "\n",
    "2. Templates can be reused across multiple routes and pages, enhancing code reusability.\n",
    "\n",
    "3. It allows you to display dynamic content by passing variables and data from your Python code to the HTML templates.\n",
    "\n",
    "4. Ensures a consistent look and feel across your web application by using the same templates for similar page layouts.\n",
    "\n",
    "5. Simplifies web application development by enabling developers to work with familiar HTML and CSS while incorporating dynamic content and logic."
   ]
  },
  {
   "cell_type": "markdown",
   "id": "e50a7d66-803e-4a40-a0df-fd93d40bc429",
   "metadata": {},
   "source": [
    "#### Q5. Create a simple API. Use Postman to test it. Attach the screenshot of the output in the Jupyter Notebook."
   ]
  },
  {
   "cell_type": "markdown",
   "id": "ee0742de-6c15-4020-8bcf-e3fdea52697b",
   "metadata": {},
   "source": [
    "#### Answer:"
   ]
  },
  {
   "cell_type": "code",
   "execution_count": null,
   "id": "f1906cd0-2749-4792-9914-af63391a0453",
   "metadata": {},
   "outputs": [
    {
     "name": "stdout",
     "output_type": "stream",
     "text": [
      " * Serving Flask app '__main__'\n",
      " * Debug mode: off\n"
     ]
    },
    {
     "name": "stderr",
     "output_type": "stream",
     "text": [
      "WARNING: This is a development server. Do not use it in a production deployment. Use a production WSGI server instead.\n",
      " * Running on http://127.0.0.1:5000\n",
      "Press CTRL+C to quit\n",
      "127.0.0.1 - - [04/Sep/2023 12:11:26] \"POST /postman_action HTTP/1.1\" 200 -\n"
     ]
    }
   ],
   "source": [
    "from flask import Flask,request ,render_template , jsonify\n",
    "\n",
    "app = Flask(__name__)\n",
    "\n",
    "@app.route('/postman_action',methods=['POST'])\n",
    "def math_ops1():\n",
    "    if(request.method == 'POST'):\n",
    "        ops = request.json['operation']\n",
    "        num1 = int(request.json['num1'])\n",
    "        num2 = int(request.json['num2'])\n",
    "        if ops == 'add':\n",
    "            r = num1+num2\n",
    "            result = \"The sum of \" + str(num1) + ' and ' + str(num2) + \" is \" + str(r)\n",
    "        if ops == 'subtract':\n",
    "            r = num1-num2\n",
    "            result = \"The subtract of \" + str(num1) + ' and ' + str(num2) + \" is \" + str(r)\n",
    "        if ops == 'multiply':\n",
    "            r = num1*num2\n",
    "            result = \"The multiply of \" + str(num1) + ' and ' + str(num2) + \" is \" + str(r)\n",
    "        if ops == 'divide':\n",
    "            r = num1/num2\n",
    "            result = \"The divide of \" + str(num1) + ' and ' + str(num2) + \" is \" + str(r)\n",
    "            \n",
    "        return jsonify(result)\n",
    "\n",
    "if __name__==\"__main__\":\n",
    "    app.run()"
   ]
  },
  {
   "cell_type": "markdown",
   "id": "3d829e30-a07e-4f20-bd20-356566bde3b1",
   "metadata": {},
   "source": [
    "Output Screenshot - https://ibb.co/LSg8Nhk"
   ]
  }
 ],
 "metadata": {
  "kernelspec": {
   "display_name": "Python 3 (ipykernel)",
   "language": "python",
   "name": "python3"
  },
  "language_info": {
   "codemirror_mode": {
    "name": "ipython",
    "version": 3
   },
   "file_extension": ".py",
   "mimetype": "text/x-python",
   "name": "python",
   "nbconvert_exporter": "python",
   "pygments_lexer": "ipython3",
   "version": "3.11.5"
  }
 },
 "nbformat": 4,
 "nbformat_minor": 5
}

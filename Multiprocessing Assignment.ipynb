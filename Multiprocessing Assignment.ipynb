{
 "cells": [
  {
   "cell_type": "markdown",
   "id": "a1f95227-f906-4264-a2e1-d0f9d103295c",
   "metadata": {},
   "source": [
    "## Multiprocessing Assignment"
   ]
  },
  {
   "cell_type": "markdown",
   "id": "6dd8ca96-cf44-4d61-b133-328b42160235",
   "metadata": {},
   "source": [
    "#### Q1. What is multiprocessing in python? Why is it useful?"
   ]
  },
  {
   "cell_type": "markdown",
   "id": "68a97c52-bcf3-4520-b6b3-c1a29359604a",
   "metadata": {},
   "source": [
    "#### Answer:"
   ]
  },
  {
   "cell_type": "markdown",
   "id": "0480d58f-271c-4e74-8f4c-06e9af43dc9f",
   "metadata": {},
   "source": [
    "Multiprocessing in Python refers to the technique of utilizing multiple processes simultaneously to perform tasks in parallel, enabling better utilization of multi core processors and improving overall performance. This is particularly useful for CPU-bound tasks, such as intensive computations or data processing, where the workload can be divided into smaller chunks and processed concurrently. Python's multiprocessing module provides a high-level interface to manage and coordinate these processes, allowing for efficient parallelism and better resource utilization, leading to faster execution times."
   ]
  },
  {
   "cell_type": "markdown",
   "id": "f015d4b0-1a74-4382-a2f1-6ffe03a4f3a8",
   "metadata": {},
   "source": [
    "#### Q2. What are the differences between multiprocessing and multithreading?"
   ]
  },
  {
   "cell_type": "markdown",
   "id": "07c24e5f-6f11-4a9d-b732-049c327b90e7",
   "metadata": {},
   "source": [
    "#### Answer:"
   ]
  },
  {
   "cell_type": "markdown",
   "id": "1e6575a5-86f8-419e-b2b8-17f8aabd8143",
   "metadata": {},
   "source": [
    "The differences between multiprocessing and multithreading are:"
   ]
  },
  {
   "cell_type": "markdown",
   "id": "d2321931-6c9d-437e-8683-d0e30069e4a2",
   "metadata": {},
   "source": [
    "1. Multiprocessing: Involves multiple processes running independently, each with its own memory space. Processes don't share memory by default, making communication between processes more complex.."
   ]
  },
  {
   "cell_type": "markdown",
   "id": "186e26ea-9ff1-4c73-a3ce-f69a2163a57b",
   "metadata": {},
   "source": [
    "<center>Whereas</center>"
   ]
  },
  {
   "cell_type": "markdown",
   "id": "6d2b98e2-5a6b-4188-b2b0-73681ba79c22",
   "metadata": {},
   "source": [
    "1. Multithreading: Uses multiple threads within a single process. Threads share the same memory space, which simplifies communication and resource sharing between them."
   ]
  },
  {
   "cell_type": "markdown",
   "id": "e62a504f-5e30-45be-8251-2dc596a90803",
   "metadata": {},
   "source": [
    "<center>------------</center>"
   ]
  },
  {
   "cell_type": "markdown",
   "id": "a540b39c-df7a-42a5-ab4b-1ffd2055d236",
   "metadata": {},
   "source": [
    "2. Multiprocessing: Generally has higher resource overhead due to separate memory spaces for each process. Creation and management of processes are more resource-intensive."
   ]
  },
  {
   "cell_type": "markdown",
   "id": "47a392be-ed8a-47c2-9442-2e28ca81b649",
   "metadata": {},
   "source": [
    "<center>Whereas</center>"
   ]
  },
  {
   "cell_type": "markdown",
   "id": "438cc506-c517-488c-beea-6ee23368d0d7",
   "metadata": {},
   "source": [
    "2. Multithreading: Usually has lower resource overhead since threads share memory space and resources within the same process."
   ]
  },
  {
   "cell_type": "markdown",
   "id": "8f7a902d-f8d2-4bcd-9209-11d3e6ae7dfc",
   "metadata": {},
   "source": [
    "<center>------------</center>"
   ]
  },
  {
   "cell_type": "markdown",
   "id": "8741f98c-ade5-4b87-9b85-66bc35362e93",
   "metadata": {},
   "source": [
    "3. Multiprocessing: Provides true parallelism as processes run on separate CPU cores, ideal for CPU-bound tasks that can be split into independent units.."
   ]
  },
  {
   "cell_type": "markdown",
   "id": "51ab7c9d-c8c2-4b54-b815-7509dc990a71",
   "metadata": {},
   "source": [
    "<center>Whereas</center> "
   ]
  },
  {
   "cell_type": "markdown",
   "id": "63a6103d-c352-45c7-9156-c3a26a6c07c2",
   "metadata": {},
   "source": [
    "3. Multithreading: Offers concurrent execution, not true parallelism, suitable for I/O-bound tasks that involve waiting, such as network requests or file operations."
   ]
  },
  {
   "cell_type": "markdown",
   "id": "c65d5fba-52a5-4387-840e-1bec25ae43b5",
   "metadata": {},
   "source": [
    "<center>------------</center>"
   ]
  },
  {
   "cell_type": "markdown",
   "id": "f106c1d8-dcb5-451a-80f0-c85b59ae9d9d",
   "metadata": {},
   "source": [
    "4. Multiprocessing: Offers better fault isolation as a crash in one process usually doesn't affect others, due to separate memory spaces.."
   ]
  },
  {
   "cell_type": "markdown",
   "id": "b82dd57c-8ad3-4693-9d46-544fde1ffb34",
   "metadata": {},
   "source": [
    "<center>Whereas</center>"
   ]
  },
  {
   "cell_type": "markdown",
   "id": "76a9daae-e189-4b7c-9e19-e6ceee901a06",
   "metadata": {},
   "source": [
    "4. Multithreading: More prone to errors impacting the entire process, since all threads share the same memory space."
   ]
  },
  {
   "cell_type": "markdown",
   "id": "dc49c8dc-a141-4812-8c2d-b48628c0a9b1",
   "metadata": {},
   "source": [
    "<center>------------</center>"
   ]
  },
  {
   "cell_type": "markdown",
   "id": "9fc0cd94-46b0-4722-a15e-c12ad052943c",
   "metadata": {},
   "source": [
    "5. Multiprocessing: Requires explicit communication mechanisms (IPC) for inter-process communication, which can be complex to implement.."
   ]
  },
  {
   "cell_type": "markdown",
   "id": "f2b8e1e7-7644-41c3-89af-e54bde60817b",
   "metadata": {},
   "source": [
    "<center>Whereas</center>"
   ]
  },
  {
   "cell_type": "markdown",
   "id": "e6ff5c03-3e21-45c1-a666-9d91d685e9a0",
   "metadata": {},
   "source": [
    "5. Multithreading: Easier communication between threads through shared variables, but requires careful synchronization to avoid race conditions and data corruption."
   ]
  },
  {
   "cell_type": "markdown",
   "id": "630a7345-a033-4071-892f-a3c3c13af686",
   "metadata": {},
   "source": [
    "#### Q3. Write a python code to create a process using the multiprocessing module."
   ]
  },
  {
   "cell_type": "markdown",
   "id": "d84c9e6f-6a16-477f-82fd-64106f6a8052",
   "metadata": {},
   "source": [
    "#### Answer:"
   ]
  },
  {
   "cell_type": "code",
   "execution_count": 2,
   "id": "7a241233-7b3b-4fca-9b1c-4bd38542e1d9",
   "metadata": {},
   "outputs": [
    {
     "name": "stdout",
     "output_type": "stream",
     "text": [
      "Done!\n"
     ]
    }
   ],
   "source": [
    "import multiprocessing\n",
    "\n",
    "def my_func(num):\n",
    "    print(f\"process {num} started\")\n",
    "    print(f\"process {num} finished\")\n",
    "\n",
    "if __name__ == \"__main__\":\n",
    "    num_processes = 3\n",
    "    processes = []\n",
    "\n",
    "    for i in range(num_processes):\n",
    "        process = multiprocessing.Process(target=my_func, args=(i,))\n",
    "        processes.append(process)\n",
    "        process.start()\n",
    "\n",
    "    for process in processes:\n",
    "        process.join()\n",
    "\n",
    "    print(\"Done!\")\n"
   ]
  },
  {
   "cell_type": "markdown",
   "id": "c5c356b5-c2b7-4997-ac5d-1d9b54da5de9",
   "metadata": {},
   "source": [
    "#### Q4. What is a multiprocessing pool in python? Why is it used?"
   ]
  },
  {
   "cell_type": "markdown",
   "id": "06b7d8cf-af63-4ac4-9c0f-9b16fc388d54",
   "metadata": {},
   "source": [
    "#### Answer:"
   ]
  },
  {
   "cell_type": "markdown",
   "id": "6020c756-5943-46a6-a684-ffbbff05ed47",
   "metadata": {},
   "source": [
    "A multiprocessing pool in Python, specifically provided by the multiprocessing module, is a mechanism that manages a group of worker processes to perform parallel execution of tasks. It abstracts the creation and management of multiple processes and provides a convenient interface to distribute tasks across these processes. it is useful for parallelizing tasks that can be executed independently, like data processing, calculations, or other CPU-bound operations, effectively utilizing multiple CPU cores for improved performance and efficiency."
   ]
  },
  {
   "cell_type": "markdown",
   "id": "39f0c88b-c7f8-44f7-9be6-afd6cf141a60",
   "metadata": {},
   "source": [
    "#### Q5. How can we create a pool of worker processes in python using the multiprocessing module?"
   ]
  },
  {
   "cell_type": "markdown",
   "id": "3be3a8c6-8445-4186-bbe1-47494ff9c61b",
   "metadata": {},
   "source": [
    "#### Answer:"
   ]
  },
  {
   "cell_type": "markdown",
   "id": "159ecb57-a9a2-4d74-90c7-b9d94ce58b2a",
   "metadata": {},
   "source": [
    "We can create a pool of worker processes in Python using the multiprocessing module's Pool class."
   ]
  },
  {
   "cell_type": "code",
   "execution_count": null,
   "id": "d78d7165-90f5-4b5d-9788-2aafbbb62e91",
   "metadata": {},
   "outputs": [],
   "source": [
    "import multiprocessing\n",
    "\n",
    "def my_function(num):\n",
    "    return f\"process {num} result\"\n",
    "\n",
    "if __name__ == \"__main__\":\n",
    "    num_processes = 3\n",
    "\n",
    "    with multiprocessing.Pool(num_processes) as pool:\n",
    "        results = pool.map(my_function, range(num_processes))\n",
    "\n",
    "    for result in results:\n",
    "        print(result)"
   ]
  },
  {
   "cell_type": "markdown",
   "id": "09a4e802-a918-4a54-b018-ebd3a02e5e0e",
   "metadata": {},
   "source": [
    "#### Q6. Write a python program to create 4 processes, each process should print a different number using the multiprocessing module in python."
   ]
  },
  {
   "cell_type": "markdown",
   "id": "e18a826d-dee0-4028-9849-ac1067cfef84",
   "metadata": {},
   "source": [
    "#### Answer:"
   ]
  },
  {
   "cell_type": "code",
   "execution_count": null,
   "id": "b15475e4-e3bf-4b20-b173-0e3e2d54dbb2",
   "metadata": {},
   "outputs": [],
   "source": [
    "import multiprocessing\n",
    "\n",
    "def number(num):\n",
    "    print(f\"Process {num}: My number is {num}\")\n",
    "\n",
    "if __name__ == \"__main__\":\n",
    "    processes = []\n",
    "\n",
    "    for i in range(4):\n",
    "        process = multiprocessing.Process(target=number, args=(i,))\n",
    "        processes.append(process)\n",
    "        process.start()\n",
    "        \n",
    "    for process in processes:\n",
    "        process.join()\n",
    "\n",
    "    print(\"processes finished\")\n"
   ]
  }
 ],
 "metadata": {
  "kernelspec": {
   "display_name": "Python 3 (ipykernel)",
   "language": "python",
   "name": "python3"
  },
  "language_info": {
   "codemirror_mode": {
    "name": "ipython",
    "version": 3
   },
   "file_extension": ".py",
   "mimetype": "text/x-python",
   "name": "python",
   "nbconvert_exporter": "python",
   "pygments_lexer": "ipython3",
   "version": "3.11.4"
  }
 },
 "nbformat": 4,
 "nbformat_minor": 5
}

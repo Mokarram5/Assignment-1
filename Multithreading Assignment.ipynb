{
 "cells": [
  {
   "cell_type": "markdown",
   "id": "2864ce42-efa0-4b0a-818c-f58f92a941dc",
   "metadata": {},
   "source": [
    "# <u> Multithreading Assignment </u>"
   ]
  },
  {
   "cell_type": "markdown",
   "id": "6948a361-e670-4109-ada1-8ee2c206c62f",
   "metadata": {},
   "source": [
    "#### Q1. What is multithreading in python? why is it used? Name the module used to handle threads in python."
   ]
  },
  {
   "cell_type": "markdown",
   "id": "ee7779a8-9ee6-48a8-91c5-5d2abaa31871",
   "metadata": {},
   "source": [
    "#### Answer:"
   ]
  },
  {
   "cell_type": "markdown",
   "id": "f2b90240-340c-4122-b9ea-1506458e0763",
   "metadata": {},
   "source": [
    "within a single process, the concurrent execution of multiple threads is called Multithreading. A thread is the smallest unit of execution within a program. Multithreading allows us to perform multiple tasks concurrently, which improves efficiency and responsiveness, especially where some tasks might be I/O-bound (such as reading/writing files) but Python's Global Interpreter Lock (GIL) is a limitation to multithreading.n."
   ]
  },
  {
   "cell_type": "markdown",
   "id": "59a92d73-cd56-496d-850b-f134064fb1cb",
   "metadata": {},
   "source": [
    "the threading module is used to handle threads in python."
   ]
  },
  {
   "cell_type": "markdown",
   "id": "47010379-8a9b-4058-b4b2-5a00cd297024",
   "metadata": {},
   "source": [
    "#### Q2. Why threading module used? Write the use of following functions:"
   ]
  },
  {
   "cell_type": "markdown",
   "id": "e7b9b506-f856-47a1-8b55-5aeda5984553",
   "metadata": {},
   "source": [
    "1. activeCount\n",
    "2. currentThread\n",
    "3. enumerate"
   ]
  },
  {
   "cell_type": "markdown",
   "id": "e541a65e-511a-442a-b8ad-3120b11fc403",
   "metadata": {},
   "source": [
    "#### Answer:"
   ]
  },
  {
   "cell_type": "markdown",
   "id": "af750606-c763-484c-8abd-e684246b5be9",
   "metadata": {},
   "source": [
    "The threading module in Python is used to create and manage threads. Threads can be useful for performing multiple tasks simultaneously, taking advantage of nowadays multi-core processors. The threading module provides a way to work with threads and manage their execution."
   ]
  },
  {
   "cell_type": "markdown",
   "id": "d97d403b-6564-4d67-ba6b-e6e37b33607f",
   "metadata": {},
   "source": [
    "1. activeCount: This function returns the number of Thread objects currently running or paused threads within the program. It can be useful to monitor the number of active threads and manage their behavior."
   ]
  },
  {
   "cell_type": "code",
   "execution_count": 7,
   "id": "0c621bc6-9eaa-46f8-9966-b076eab22cf1",
   "metadata": {},
   "outputs": [
    {
     "name": "stdout",
     "output_type": "stream",
     "text": [
      "Thread is working...\n",
      "Thread is working...\n",
      "Thread is working...\n",
      "Thread is working...\n",
      "Thread is working...\n",
      "Threading:  6\n"
     ]
    }
   ],
   "source": [
    "import threading\n",
    "\n",
    "def student():\n",
    "    print(\"Thread is working...\")\n",
    "\n",
    "for _ in range(5):\n",
    "    thread = threading.Thread(target=student)\n",
    "    thread.start()\n",
    "\n",
    "print(\"Threading: \", threading.active_count())"
   ]
  },
  {
   "cell_type": "markdown",
   "id": "5226f354-7798-4660-99c4-3bdf8c881ab4",
   "metadata": {},
   "source": [
    "2. currentThread: This function returns the currently executing Thread object. It can be used to identify the thread that is currently running the code and gather information about it, such as its name or identifier. This can be helpful for debugging or logging purposes."
   ]
  },
  {
   "cell_type": "code",
   "execution_count": 5,
   "id": "fca8d5e5-a473-482d-aa92-7017a1756c53",
   "metadata": {},
   "outputs": [
    {
     "name": "stdout",
     "output_type": "stream",
     "text": [
      "Current thread: Thread 1\n",
      "Current thread: Thread 2\n"
     ]
    }
   ],
   "source": [
    "import threading\n",
    "\n",
    "def print_current_thread():\n",
    "    current_thread = threading.current_thread()\n",
    "    print(\"Current thread:\", current_thread.name)\n",
    "\n",
    "thread1 = threading.Thread(target=print_current_thread, name=\"Thread 1\")\n",
    "thread2 = threading.Thread(target=print_current_thread, name=\"Thread 2\")\n",
    "\n",
    "thread1.start()\n",
    "thread2.start()\n"
   ]
  },
  {
   "cell_type": "markdown",
   "id": "269ccc29-4e50-4945-ba02-15283b5e61ee",
   "metadata": {},
   "source": [
    "3. Enumerate: This function returns a list of all currently alive Thread objects. It can be useful for iterating over all active threads and performing operations on them, such as waiting for all threads to complete. For example:"
   ]
  },
  {
   "cell_type": "code",
   "execution_count": 7,
   "id": "8b8fe695-b999-404a-af24-feec3e120a86",
   "metadata": {},
   "outputs": [
    {
     "name": "stdout",
     "output_type": "stream",
     "text": [
      "Enumerating thread: MainThread\n",
      "Enumerating thread: IOPub\n",
      "Enumerating thread: Heartbeat\n",
      "Enumerating thread: Control\n",
      "Enumerating thread: IPythonHistorySavingThread\n",
      "Enumerating thread: Thread-4\n",
      "Enumerating thread: Thread 0\n",
      "Enumerating thread: Thread 1\n",
      "Enumerating thread: Thread 2\n",
      "Thread completed: Thread 0\n",
      "Thread completed: Thread 2\n",
      "Thread completed: Thread 1\n"
     ]
    }
   ],
   "source": [
    "import threading\n",
    "import time\n",
    "\n",
    "def sudhanshu_sir():\n",
    "    time.sleep(2)\n",
    "    print(\"Thread completed:\", threading.current_thread().name)\n",
    "\n",
    "threads = []\n",
    "\n",
    "for i in range(3):\n",
    "    thread = threading.Thread(target=sudhanshu_sir, name=f\"Thread {i}\")\n",
    "    threads.append(thread)\n",
    "    thread.start()\n",
    "\n",
    "for t in threading.enumerate():\n",
    "    print(\"Enumerating thread:\", t.name)\n"
   ]
  },
  {
   "cell_type": "markdown",
   "id": "a38837f0-3c47-4f7b-8573-665df67bcf4d",
   "metadata": {},
   "source": [
    "#### Q3. Explain the following functions:"
   ]
  },
  {
   "cell_type": "markdown",
   "id": "ec62d30c-db7c-48f5-af99-fc9715a7db7f",
   "metadata": {},
   "source": [
    " 1. run()\n",
    " 2. start()\n",
    " 3. join()\n",
    " 4. isAlive()"
   ]
  },
  {
   "cell_type": "markdown",
   "id": "c9557549-2557-4a3f-b14b-3f4671179945",
   "metadata": {},
   "source": [
    "#### Answer:"
   ]
  },
  {
   "cell_type": "markdown",
   "id": "7cc5ad8f-7f0a-4c46-b92c-6f3d0f4bd5a9",
   "metadata": {},
   "source": [
    "#### 1. run():"
   ]
  },
  {
   "cell_type": "markdown",
   "id": "96baed22-8898-43b0-8be9-a129b9597629",
   "metadata": {},
   "source": [
    "- The run() method is a fundamental method in the Thread class of the threading module."
   ]
  },
  {
   "cell_type": "markdown",
   "id": "2d5f9dde-368c-4a90-930a-b4b59398a3be",
   "metadata": {},
   "source": [
    "- It is responsible for defining the behavior of the thread when it is executed."
   ]
  },
  {
   "cell_type": "markdown",
   "id": "453cc291-0fd2-47bb-ad55-027e70e56e41",
   "metadata": {},
   "source": [
    "- When we create a new thread using the Thread class, we can subclass it and override the run() method to specify the code that should be executed in that thread."
   ]
  },
  {
   "cell_type": "markdown",
   "id": "ddbe576b-7932-4d25-a265-0d4d3b6a6815",
   "metadata": {},
   "source": [
    "- This method contains the main logic of the thread's task."
   ]
  },
  {
   "cell_type": "markdown",
   "id": "520ee3e6-ad6f-4c2e-89ce-6738774e1751",
   "metadata": {},
   "source": [
    "#### 2. start():"
   ]
  },
  {
   "cell_type": "markdown",
   "id": "a47498d2-b89f-4663-a46f-21c4f7c032e7",
   "metadata": {},
   "source": [
    "- The start() method is used to start the execution of a thread."
   ]
  },
  {
   "cell_type": "markdown",
   "id": "d3a83a8a-e9e3-452a-b4d2-11e77071c124",
   "metadata": {},
   "source": [
    "- When we create an instance of the Thread class and define the run() method, we need to call the start() method on the thread instance to begin the execution of the thread."
   ]
  },
  {
   "cell_type": "markdown",
   "id": "23f425a6-2ebd-426a-81a2-844534968bda",
   "metadata": {},
   "source": [
    "- The start() method initiates the thread and invokes the run() method we've defined."
   ]
  },
  {
   "cell_type": "markdown",
   "id": "93649030-56f9-43dc-b5d8-9d270ff209c9",
   "metadata": {},
   "source": [
    "#### 3. join():"
   ]
  },
  {
   "cell_type": "markdown",
   "id": "9d272a25-11ed-4234-afc9-9b2c028e1412",
   "metadata": {},
   "source": [
    "- The join() method is used to ensure that a thread completes its execution before moving on to the next steps in the program.g."
   ]
  },
  {
   "cell_type": "markdown",
   "id": "30638cc9-9fab-48bc-9b0a-7899bbdc35a0",
   "metadata": {},
   "source": [
    "- When we call the join() method on a thread object, the calling thread (often the main thread) will wait for the target thread to finish its execution before continuing."
   ]
  },
  {
   "cell_type": "markdown",
   "id": "2addf6e2-bc80-498d-9a94-83336201fbaa",
   "metadata": {},
   "source": [
    "- This is particularly useful when we want to synchronize the execution of threads and ensure that certain tasks are completed before proceeding."
   ]
  },
  {
   "cell_type": "markdown",
   "id": "73af42e8-8362-4b6a-b413-fe734f6ba003",
   "metadata": {},
   "source": [
    "#### 4. isAlive():"
   ]
  },
  {
   "cell_type": "markdown",
   "id": "46a10d12-ac47-4676-9d83-f156eb8707c6",
   "metadata": {},
   "source": [
    "- The isAlive() method is used to check whether a thread is currently running or has completed its execution."
   ]
  },
  {
   "cell_type": "markdown",
   "id": "539e513b-e427-4074-aa20-1c3cb2285b16",
   "metadata": {},
   "source": [
    "- When called on a thread instance, it returns True if the thread is currently active (running), and False if the thread has finished executing."
   ]
  },
  {
   "cell_type": "markdown",
   "id": "1806d5e8-645a-49f8-b16d-9891bae1bf73",
   "metadata": {},
   "source": [
    "- This method can be useful if you need to monitor the status of threads and make decisions based on whether they are still running or have finished."
   ]
  },
  {
   "cell_type": "markdown",
   "id": "16cb8c89-c32a-4c9b-b9a6-156534cda345",
   "metadata": {},
   "source": [
    "#### Q4. Write a python program to create two threads. Thread one must print the list of squares and thread two must print the list of cubes"
   ]
  },
  {
   "cell_type": "markdown",
   "id": "26de1667-8c38-409d-8bb8-bb0dbec14e81",
   "metadata": {},
   "source": [
    "#### Answer:"
   ]
  },
  {
   "cell_type": "code",
   "execution_count": 28,
   "id": "f2def87b-f7c5-4aee-be67-d27aefda77a8",
   "metadata": {},
   "outputs": [
    {
     "name": "stdout",
     "output_type": "stream",
     "text": [
      "List of Squares: [1, 4, 9, 16, 25]\n",
      "List of Cubes: [1, 8, 27, 64, 125]\n",
      "Done!\n"
     ]
    }
   ],
   "source": [
    "import threading\n",
    "\n",
    "class Squares_Thread(threading.Thread):\n",
    "    def run(self):\n",
    "        squares = [x ** 2 for x in range(1, 6)]\n",
    "        print(\"List of Squares:\", squares)\n",
    "\n",
    "class Cubes_Thread(threading.Thread):\n",
    "    def run(self):\n",
    "        cubes = [x ** 3 for x in range(1, 6)]\n",
    "        print(\"List of Cubes:\", cubes)\n",
    "\n",
    "if __name__ == \"__main__\":\n",
    "    thread1 = Squares_Thread()\n",
    "    thread2 = Cubes_Thread()\n",
    "\n",
    "    thread1.start()\n",
    "    thread2.start()\n",
    "    thread1.join()\n",
    "    thread2.join()\n",
    "\n",
    "    print(\"Done!\")"
   ]
  },
  {
   "cell_type": "markdown",
   "id": "e7efafd7-9f2d-4889-9d3c-2d1af0f77997",
   "metadata": {},
   "source": [
    "#### Q5. State advantages and disadvantages of multithreading"
   ]
  },
  {
   "cell_type": "markdown",
   "id": "2a770fa4-0387-4f84-9001-1700bafd66c2",
   "metadata": {},
   "source": [
    "#### Answer:"
   ]
  },
  {
   "cell_type": "markdown",
   "id": "d74e520b-e9db-4475-86a2-c16293c91cca",
   "metadata": {},
   "source": [
    "The advantages and disadvantages of using multithreading are as follows: "
   ]
  },
  {
   "cell_type": "markdown",
   "id": "a8946ced-2520-4f8f-9d2d-e01a27ae80c3",
   "metadata": {},
   "source": [
    "**Advantages:**\n",
    "\n",
    "1. Multithreading allows multiple tasks to be executed concurrently, making it suitable for applications with tasks that can be performed in parallel, like I/O operations.\n",
    "\n",
    "2. In GUI applications, multithreading can keep the user interface responsive while performing time-consuming tasks in the background.\n",
    "\n",
    "3. Threads within the same process can share memory space, making it easier to share data between threads.\n",
    "\n",
    "4. Multithreading is efficient when dealing with I/O-bound tasks, such as reading/writing files or making network requests, as threads can switch while waiting for I/O.\n",
    "\n",
    "5. Threads share the same memory space, leading to lower memory consumption compared to processes, which have separate memory spaces."
   ]
  },
  {
   "cell_type": "markdown",
   "id": "d22a51b7-20ac-4679-8e99-d359c5802764",
   "metadata": {},
   "source": [
    "**Disadvantages:**\n",
    "\n",
    "1. Python's GIL allows only one thread to execute Python bytecode at a time in a single process. This limits true parallelism for CPU-bound tasks, as only one thread can execute Python code simultaneously.\n",
    "\n",
    "2. Multithreaded code can be challenging to write and debug due to issues like race conditions, deadlocks.\n",
    "\n",
    "3. Due to the GIL, CPU-bound tasks do not see significant performance improvements from multithreading.\n",
    "\n",
    "5. While multithreading is suitable for I/O-bound tasks, it may not scale well for applications requiring intensive CPU processing, as Python's GIL limits the potential performance gains from multiple threads.\n",
    "\n",
    "6. Ensuring thread safety by correctly managing shared resources requires careful design and can be error-prone."
   ]
  },
  {
   "cell_type": "markdown",
   "id": "0efac21a-d82a-4396-9f7c-a742a2aff695",
   "metadata": {},
   "source": [
    "#### Q6. Explain deadlocks and race conditions."
   ]
  },
  {
   "cell_type": "markdown",
   "id": "980ab26f-825c-4516-ab9a-f03eef832060",
   "metadata": {},
   "source": [
    "#### Answer:"
   ]
  },
  {
   "cell_type": "markdown",
   "id": "a3b52e45-2462-4b9d-bbdc-5f5ce5cd0c25",
   "metadata": {},
   "source": [
    "**Deadlock:** A deadlock occurs in multithreading when two or more threads are stuck in a cyclic waiting state, each waiting for a resource held by another, leading to a standstill in program progress"
   ]
  },
  {
   "cell_type": "markdown",
   "id": "0387bd17-a04a-4f3f-8a0f-c2b4e16e2697",
   "metadata": {},
   "source": [
    "**Race Condition:** Race condition happens when multiple threads access shared resources concurrently, leading to unpredictable outcomes due to improper synchronization, as their order of execution affects the final result."
   ]
  }
 ],
 "metadata": {
  "kernelspec": {
   "display_name": "Python 3 (ipykernel)",
   "language": "python",
   "name": "python3"
  },
  "language_info": {
   "codemirror_mode": {
    "name": "ipython",
    "version": 3
   },
   "file_extension": ".py",
   "mimetype": "text/x-python",
   "name": "python",
   "nbconvert_exporter": "python",
   "pygments_lexer": "ipython3",
   "version": "3.11.4"
  }
 },
 "nbformat": 4,
 "nbformat_minor": 5
}

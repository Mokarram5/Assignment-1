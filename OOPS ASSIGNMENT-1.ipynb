{
 "cells": [
  {
   "cell_type": "markdown",
   "id": "159f5b1c-1f32-4914-9466-5f6fdbd51307",
   "metadata": {},
   "source": [
    "# 𝓞𝓞𝓟𝓼 𝓐𝓢𝓢𝓘𝓖𝓝𝓜𝓔𝓝𝓣-1"
   ]
  },
  {
   "cell_type": "markdown",
   "id": "9a83fbfd-beb1-42b5-8691-2a3c2aeea1a7",
   "metadata": {},
   "source": [
    "#### Q1. Explain Class and Object with respect to Object-Oriented Programming. Give a suitable example."
   ]
  },
  {
   "cell_type": "markdown",
   "id": "011d6047-ae8e-42fe-b0c0-371e24d2fe4e",
   "metadata": {},
   "source": [
    "#### Answer:"
   ]
  },
  {
   "cell_type": "markdown",
   "id": "5d1e98d9-1c41-480c-9097-6b0884ca4327",
   "metadata": {},
   "source": [
    "int, float, complex, bool, str, list, tuple, set, dic are all classes.\n",
    "A class has a name, whereas objects are nameless, Since objects do not have names, they are reffered using their addresses in memory.\n",
    "when we say, num = 26, a nameless object of type int is created in memory and its address is stored in num.\n",
    "thus num refers to the nameless object containing value 26.\n",
    "but, instead of saying that num refers to a nameless int object, it is said that num is an int object.\n",
    "the classes we defined are called user defined data types, example is below:"
   ]
  },
  {
   "cell_type": "code",
   "execution_count": 49,
   "id": "649975bf-8b2f-4a88-8eeb-0b41cc9e8bd8",
   "metadata": {},
   "outputs": [
    {
     "name": "stdout",
     "output_type": "stream",
     "text": [
      "\n",
      "        Employee Name: Sudhanshu_sir\n",
      "        Employee age: 30\n",
      "        Employee Salary: 150000\n",
      "\n",
      "        Employee Name: krish_sir\n",
      "        Employee age: 28\n",
      "        Employee Salary: 80000\n"
     ]
    }
   ],
   "source": [
    "class Employee:\n",
    "\n",
    "    def set_data(self, name, age, salary):\n",
    "        self.name = name\n",
    "        self.age = age\n",
    "        self.salary = salary\n",
    "\n",
    "    def display_data(self):\n",
    "        print(f\"\"\"\n",
    "        Employee Name: {self.name}\n",
    "        Employee age: {self.age}\n",
    "        Employee Salary: {self.salary}\"\"\")\n",
    "\n",
    "e1 = Employee()\n",
    "e1.set_data('Sudhanshu_sir', 30, 150000)\n",
    "e1.display_data()\n",
    "e2 = Employee()\n",
    "e2.set_data('krish_sir', 28, 80000)\n",
    "e2.display_data()"
   ]
  },
  {
   "cell_type": "markdown",
   "id": "eb53161e-2269-41d9-9f81-3a422dd172ea",
   "metadata": {},
   "source": [
    "- The Employee class contains two methods set_data() and display_data() which are used to set and display data present in the objects created from Employee Class\n",
    "- Two nameless object is created through the statement:\n",
    " e1 = Employee()\n",
    " e2 = Employee()\n",
    "- Address of the nameless object is stored in e1 and e2."
   ]
  },
  {
   "cell_type": "markdown",
   "id": "ffd6af45-c9b9-43e1-8150-e5028307b737",
   "metadata": {},
   "source": [
    "#### Q2. Name the four pillars of OOPs."
   ]
  },
  {
   "cell_type": "markdown",
   "id": "1b4e75b7-dfa1-4d04-a118-ef79a5b46f1e",
   "metadata": {},
   "source": [
    "#### Answer:"
   ]
  },
  {
   "cell_type": "markdown",
   "id": "2b1f4f9f-9ec2-49de-a49a-2753574c7711",
   "metadata": {},
   "source": [
    "The four pillars of OOPS are:\n",
    "- Polymorphism\n",
    "- Abstraction\n",
    "- Encapsulation\n",
    "- Inheritance"
   ]
  },
  {
   "cell_type": "markdown",
   "id": "db42feea-e2b5-4eea-a3b4-80afb7fa4d26",
   "metadata": {},
   "source": [
    "#### Q3. Explain why the __init__() function is used. Give a suitable example."
   ]
  },
  {
   "cell_type": "markdown",
   "id": "0dead149-9de5-4cae-bab3-6ad11d358269",
   "metadata": {},
   "source": [
    "### Answer:"
   ]
  },
  {
   "cell_type": "markdown",
   "id": "64506a66-450d-47c8-9803-487d5e8b34c8",
   "metadata": {},
   "source": [
    "to initialize an object, the method __init__ is used and it is always called when an object is created.\n",
    "the benefit of initializing an object using the special method __init__ is that it guarantees initialization.\n",
    "it is known as the constructor method, and it's purpose is to initialize the object attributes.\n",
    "here is the suitable example below:"
   ]
  },
  {
   "cell_type": "code",
   "execution_count": 32,
   "id": "ed23411e-7384-471c-8ee2-ddffb125f34a",
   "metadata": {},
   "outputs": [],
   "source": [
    "class Fruit:\n",
    "\n",
    "    def __init__(self, name='', price = 0, color = ''):\n",
    "        self.__name = name\n",
    "        self.__price = price\n",
    "        self.__color = color\n",
    "\n",
    "    def display(self):\n",
    "        print(f\"\"\" \n",
    "        Fruit Name: {self.__name}\n",
    "        Fruit Price: {self.__price}\n",
    "        Fruit color: {self.__color}\"\"\")\n"
   ]
  },
  {
   "cell_type": "code",
   "execution_count": 44,
   "id": "cbea1728-8ac1-4ccb-b7fd-ceb39874b59c",
   "metadata": {},
   "outputs": [],
   "source": [
    "f1 = Fruit(name='Banana(ekdum Fresh)',price='₹60',color='Yellow')"
   ]
  },
  {
   "cell_type": "code",
   "execution_count": 45,
   "id": "a5767d75-b10c-4c4c-9733-58767cf9e734",
   "metadata": {},
   "outputs": [
    {
     "name": "stdout",
     "output_type": "stream",
     "text": [
      " \n",
      "        Fruit Name: Banana(ekdum Fresh)\n",
      "        Fruit Price: ₹60\n",
      "        Fruit color: Yellow\n"
     ]
    }
   ],
   "source": [
    "f1.display()"
   ]
  },
  {
   "cell_type": "markdown",
   "id": "df15bb42-6b3a-44bd-86a6-5a92d8079a7e",
   "metadata": {},
   "source": [
    "### Q4. Why self is used in OOPs?"
   ]
  },
  {
   "cell_type": "markdown",
   "id": "3612a870-f424-4fb0-9bb6-428ef0756557",
   "metadata": {},
   "source": [
    "#### Answer:"
   ]
  },
  {
   "cell_type": "markdown",
   "id": "50f8e6ed-8765-4eb0-9551-e760e2e7aa33",
   "metadata": {},
   "source": [
    "The self is used to represent the instance of a class, when we define method in a class, we use self as first parameter. the first parameter self, refers to instance of the class itself, and allows us to access the attributes and methods of that particular instance.\n",
    "it is not mandatory to use the specific word self, by convention we use self to make the code readable, we can use any other word but it should be the first parameter of the method"
   ]
  }
 ],
 "metadata": {
  "kernelspec": {
   "display_name": "Python 3 (ipykernel)",
   "language": "python",
   "name": "python3"
  },
  "language_info": {
   "codemirror_mode": {
    "name": "ipython",
    "version": 3
   },
   "file_extension": ".py",
   "mimetype": "text/x-python",
   "name": "python",
   "nbconvert_exporter": "python",
   "pygments_lexer": "ipython3",
   "version": "3.11.4"
  }
 },
 "nbformat": 4,
 "nbformat_minor": 5
}

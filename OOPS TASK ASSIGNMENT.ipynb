{
 "cells": [
  {
   "cell_type": "markdown",
   "id": "761475ac-8c8d-4653-bbff-497dcc3240ef",
   "metadata": {},
   "source": [
    "# 𝘖̳𝘖̳𝘗̳𝘚̳ 𝘛̳𝘈̳𝘚̳𝘒̳ 𝘈̳𝘚̳𝘚̳𝘐̳𝘎̳𝘕̳𝘔̳𝘌̳𝘕̳𝘛̳"
   ]
  },
  {
   "cell_type": "markdown",
   "id": "6d2f1448",
   "metadata": {},
   "source": [
    "## Q1. Create a vehicle class with an init method having instance variables as name_of_vehicle, max_speed and average_of_vehicle."
   ]
  },
  {
   "cell_type": "markdown",
   "id": "fa3b8a3e",
   "metadata": {},
   "source": [
    "## Answer:"
   ]
  },
  {
   "cell_type": "code",
   "execution_count": 8,
   "id": "71c3a192",
   "metadata": {},
   "outputs": [],
   "source": [
    "class vehicle:\n",
    "    \n",
    "    def __init__(self, name_of_vehicle, max_speed, average_of_vehicle):\n",
    "        self.name_of_vehicle = name_of_vehicle\n",
    "        self.max_speed = max_speed\n",
    "        self.average_of_vehicle = average_of_vehicle"
   ]
  },
  {
   "cell_type": "code",
   "execution_count": 9,
   "id": "e1d5048c",
   "metadata": {},
   "outputs": [],
   "source": [
    "v = vehicle(name_of_vehicle=\"Toyota\",max_speed=300,average_of_vehicle=12.99)"
   ]
  },
  {
   "cell_type": "code",
   "execution_count": 10,
   "id": "12a9d76a",
   "metadata": {},
   "outputs": [
    {
     "data": {
      "text/plain": [
       "12.99"
      ]
     },
     "execution_count": 10,
     "metadata": {},
     "output_type": "execute_result"
    }
   ],
   "source": [
    "v.average_of_vehicle"
   ]
  },
  {
   "cell_type": "code",
   "execution_count": 11,
   "id": "05adaa29",
   "metadata": {},
   "outputs": [
    {
     "data": {
      "text/plain": [
       "300"
      ]
     },
     "execution_count": 11,
     "metadata": {},
     "output_type": "execute_result"
    }
   ],
   "source": [
    "v.max_speed"
   ]
  },
  {
   "cell_type": "code",
   "execution_count": 12,
   "id": "4cc6384a",
   "metadata": {},
   "outputs": [
    {
     "data": {
      "text/plain": [
       "'Toyota'"
      ]
     },
     "execution_count": 12,
     "metadata": {},
     "output_type": "execute_result"
    }
   ],
   "source": [
    "v.name_of_vehicle"
   ]
  },
  {
   "cell_type": "markdown",
   "id": "2a1fe48f",
   "metadata": {},
   "source": [
    "## Q2. Create a child class car from the vehicle class created in Que 1, which will inherit the vehicle class.Create a method named seating_capacity which takes capacity as an argument and returns the name of the vehicle and its seating capacity."
   ]
  },
  {
   "cell_type": "markdown",
   "id": "846855e3",
   "metadata": {},
   "source": [
    "## Answer:"
   ]
  },
  {
   "cell_type": "code",
   "execution_count": 68,
   "id": "df869957",
   "metadata": {},
   "outputs": [],
   "source": [
    "class vehicle:\n",
    "    \n",
    "    def __init__(self, name_of_vehicle, max_speed, average_of_vehicle):\n",
    "        self.name_of_vehicle = name_of_vehicle\n",
    "        self.max_speed = max_speed\n",
    "        self.average_of_vehicle = average_of_vehicle"
   ]
  },
  {
   "cell_type": "code",
   "execution_count": 26,
   "id": "fb326119",
   "metadata": {},
   "outputs": [],
   "source": [
    "class car(vehicle):\n",
    "    \n",
    "    def seating_capacity(self, capacity):\n",
    "        return self.name_of_vehicle, capacity\n",
    "    "
   ]
  },
  {
   "cell_type": "code",
   "execution_count": 27,
   "id": "3db7d6bd",
   "metadata": {},
   "outputs": [],
   "source": [
    "c = car(name_of_vehicle=\"Innova\",max_speed=300,average_of_vehicle=12.99)"
   ]
  },
  {
   "cell_type": "code",
   "execution_count": 29,
   "id": "26217c62",
   "metadata": {},
   "outputs": [
    {
     "data": {
      "text/plain": [
       "('Innova', 8)"
      ]
     },
     "execution_count": 29,
     "metadata": {},
     "output_type": "execute_result"
    }
   ],
   "source": [
    "c.seating_capacity(8)"
   ]
  },
  {
   "cell_type": "markdown",
   "id": "5b34af4f",
   "metadata": {},
   "source": [
    "## Q3. What is multiple inheritance? Write a python code to demonstrate multiple inheritance."
   ]
  },
  {
   "cell_type": "markdown",
   "id": "1b4808b5",
   "metadata": {},
   "source": [
    "## Answer:"
   ]
  },
  {
   "cell_type": "markdown",
   "id": "e5240491",
   "metadata": {},
   "source": [
    "Multiple inheritance means, those classes which inherit with both Ancestor class and derived class"
   ]
  },
  {
   "cell_type": "code",
   "execution_count": 21,
   "id": "906c99ec",
   "metadata": {},
   "outputs": [],
   "source": [
    "class parent_class:\n",
    "\n",
    "\n",
    "    def branch(self):\n",
    "        print(\"Hello, this is a parent class\")\n",
    "\n",
    "class child_class(parent_class):\n",
    "\n",
    "    def branch_1(self):\n",
    "        super().__init__(self)\n",
    "        print(\"Hello, this is the first child class\")\n",
    "\n",
    "class child_class2(child_class):\n",
    "\n",
    "    def branch_2(self):\n",
    "        super().__init__(self)\n",
    "        print(\"Hello, this is the second child class\")"
   ]
  },
  {
   "cell_type": "code",
   "execution_count": 22,
   "id": "d4706a3f-70e0-46b5-ad63-761c02df5257",
   "metadata": {},
   "outputs": [],
   "source": [
    "ch = child_class2(name=\"Baby\")"
   ]
  },
  {
   "cell_type": "code",
   "execution_count": 23,
   "id": "27598387-9f9e-4d44-b00f-9929e66a36aa",
   "metadata": {},
   "outputs": [
    {
     "name": "stdout",
     "output_type": "stream",
     "text": [
      "Hello, this is a parent class\n"
     ]
    }
   ],
   "source": [
    "ch.branch()"
   ]
  },
  {
   "cell_type": "code",
   "execution_count": 24,
   "id": "6491870d-ca26-42ab-aa93-ada3ce328432",
   "metadata": {},
   "outputs": [
    {
     "name": "stdout",
     "output_type": "stream",
     "text": [
      "Hello, this is the first child class\n"
     ]
    }
   ],
   "source": [
    "ch.branch_1()"
   ]
  },
  {
   "cell_type": "code",
   "execution_count": 25,
   "id": "45965711-ca9d-46cc-8381-e714903093e0",
   "metadata": {},
   "outputs": [
    {
     "name": "stdout",
     "output_type": "stream",
     "text": [
      "Hello, this is the second child class\n"
     ]
    }
   ],
   "source": [
    "ch.branch_2()"
   ]
  },
  {
   "cell_type": "markdown",
   "id": "df4c5b95-cee5-4fe1-b140-473e14a0300b",
   "metadata": {},
   "source": [
    "## Q4. What are getter and setter in python? Create a class and create a getter and a setter method in this class."
   ]
  },
  {
   "cell_type": "markdown",
   "id": "64cdc033-31bb-47a4-9c83-293fe17dff97",
   "metadata": {},
   "source": [
    "## Answer:"
   ]
  },
  {
   "cell_type": "markdown",
   "id": "0833a2be-f5fd-4dbc-bc65-8e82dd4cdc66",
   "metadata": {},
   "source": [
    "Getter and setter are methods which allows us to access or modify attributes in the class and We use getter and setter in python to ensure data encapsulation. Example of getter and setter is below:"
   ]
  },
  {
   "cell_type": "code",
   "execution_count": 61,
   "id": "2e2f67af-0535-466a-9c21-934af1fbb348",
   "metadata": {},
   "outputs": [],
   "source": [
    "class BRICS_Members:\n",
    "\n",
    "    def __init__(self):\n",
    "        self.__country = input(\"Enter--BRICS_Member(country name): \")\n",
    "        if self.__country == \"Russia\" or self.__country == \"China\" or self.__country == \"India\" or self.__country == \"South Africa\" or self.__country == \"Brazil\":\n",
    "            self.__country = self.__country\n",
    "        else:\n",
    "            print(\"Invalid!\")\n",
    "\n",
    "    @property\n",
    "    def get_access(self):\n",
    "        return self.__country\n",
    "\n",
    "    @get_access.getter\n",
    "    def show_info(self):\n",
    "        return(\"Entered Country Name: \" + self.__country)\n",
    "    \n",
    "    @get_access.setter\n",
    "    def modify_info(self,country):\n",
    "        if country == \"Russia\" or country == \"China\" or country == \"India\" or country == \"South africa\" or country == \"Brazil\":\n",
    "            self.__country = country\n",
    "        else:\n",
    "            print(\"Invalid!\")\n",
    "        "
   ]
  },
  {
   "cell_type": "code",
   "execution_count": 62,
   "id": "06f5f335-c7ba-40c6-bda6-998ff9ed12a6",
   "metadata": {},
   "outputs": [
    {
     "name": "stdin",
     "output_type": "stream",
     "text": [
      "Enter--BRICS_Member(country name):  United Kingdom\n"
     ]
    },
    {
     "name": "stdout",
     "output_type": "stream",
     "text": [
      "Invalid!\n"
     ]
    }
   ],
   "source": [
    "br = BRICS_Members()"
   ]
  },
  {
   "cell_type": "code",
   "execution_count": 63,
   "id": "95edf7e8-4810-4fca-83c7-ea9bcc4290ba",
   "metadata": {},
   "outputs": [
    {
     "name": "stdin",
     "output_type": "stream",
     "text": [
      "Enter--BRICS_Member(country name):  India\n"
     ]
    }
   ],
   "source": [
    "br = BRICS_Members()"
   ]
  },
  {
   "cell_type": "code",
   "execution_count": 64,
   "id": "ef83f4a9-9a79-4bad-a807-f197240c3125",
   "metadata": {},
   "outputs": [
    {
     "data": {
      "text/plain": [
       "'Entered Country Name: India'"
      ]
     },
     "execution_count": 64,
     "metadata": {},
     "output_type": "execute_result"
    }
   ],
   "source": [
    "br.show_info"
   ]
  },
  {
   "cell_type": "code",
   "execution_count": 65,
   "id": "18a734f2-50e1-4931-ae93-27d74e92ddfa",
   "metadata": {},
   "outputs": [
    {
     "name": "stdout",
     "output_type": "stream",
     "text": [
      "Invalid!\n"
     ]
    }
   ],
   "source": [
    "br.modify_info = \"Australia\""
   ]
  },
  {
   "cell_type": "code",
   "execution_count": 66,
   "id": "fba4592b-a4d9-4499-afd3-3328a59b51b6",
   "metadata": {},
   "outputs": [],
   "source": [
    "br.modify_info = \"Russia\""
   ]
  },
  {
   "cell_type": "code",
   "execution_count": 67,
   "id": "780abc12-b111-4758-b503-8635b328485d",
   "metadata": {},
   "outputs": [
    {
     "data": {
      "text/plain": [
       "'Entered Country Name: Russia'"
      ]
     },
     "execution_count": 67,
     "metadata": {},
     "output_type": "execute_result"
    }
   ],
   "source": [
    "br.show_info"
   ]
  },
  {
   "cell_type": "markdown",
   "id": "90fea858-4541-49ef-b977-dbdbd6d09a64",
   "metadata": {},
   "source": [
    "## Q5.What is method overriding in python? Write a python code to demonstrate method overriding."
   ]
  },
  {
   "cell_type": "markdown",
   "id": "30c57e93-f58c-4247-8621-026162da240c",
   "metadata": {},
   "source": [
    "## Answer:"
   ]
  },
  {
   "cell_type": "markdown",
   "id": "3e3e12be-8d07-41a8-b0ea-5dd90fd8c82b",
   "metadata": {},
   "source": [
    "when child class has same method name as ancestor class but perform different task is called method overriding in python."
   ]
  },
  {
   "cell_type": "code",
   "execution_count": 60,
   "id": "eab12f17-6af9-4dc1-9e0d-c6bd0b91e332",
   "metadata": {},
   "outputs": [
    {
     "name": "stdout",
     "output_type": "stream",
     "text": [
      "Teaching Data Science Masters 2.0\n",
      "also Teaching Data science Masters 2.0\n"
     ]
    }
   ],
   "source": [
    "class Sudhanshu_sir:\n",
    "    def teaching(self):\n",
    "        print(\"Teaching Data Science Masters 2.0\")\n",
    "\n",
    "class Krish_sir(Sudhanshu_sir):\n",
    "    def teaching(self):\n",
    "        print(\"also Teaching Data science Masters 2.0\")\n",
    "\n",
    "# The method Teaching is overridden in this code\n",
    "\n",
    "sd = Sudhanshu_sir()\n",
    "kr = Krish_sir()\n",
    "\n",
    "sd.teaching()\n",
    "kr.teaching()"
   ]
  }
 ],
 "metadata": {
  "kernelspec": {
   "display_name": "Python 3 (ipykernel)",
   "language": "python",
   "name": "python3"
  },
  "language_info": {
   "codemirror_mode": {
    "name": "ipython",
    "version": 3
   },
   "file_extension": ".py",
   "mimetype": "text/x-python",
   "name": "python",
   "nbconvert_exporter": "python",
   "pygments_lexer": "ipython3",
   "version": "3.11.4"
  }
 },
 "nbformat": 4,
 "nbformat_minor": 5
}

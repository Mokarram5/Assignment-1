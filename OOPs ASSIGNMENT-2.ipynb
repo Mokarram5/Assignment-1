{
 "cells": [
  {
   "cell_type": "markdown",
   "id": "feb49ab6-4fbf-4331-af0e-f8f6b02104f7",
   "metadata": {},
   "source": [
    "## OOPs Assignment-2:"
   ]
  },
  {
   "cell_type": "markdown",
   "id": "cb227912-9aee-44de-bea2-af272041e1a5",
   "metadata": {},
   "source": [
    "#### Q1. What is Abstraction in OOps? Explain with an example."
   ]
  },
  {
   "cell_type": "markdown",
   "id": "878988c2-4be7-46d5-9f61-7e36cf6d9297",
   "metadata": {},
   "source": [
    "#### Answer:"
   ]
  },
  {
   "cell_type": "markdown",
   "id": "f45d7da2-883e-4280-9820-2eb75c2f2d89",
   "metadata": {},
   "source": [
    "Abstraction is a method which helps to hide the unwanted data from the user and and shows only relevant data. The class which implements the abstraction is used as a parent class by inheriting them, hence improving readability, and reducing duplication. Abstract class act as blueprint for other classes. To create an abstract class we need to use the ABC (Abstract Base Class) module from the abc package. This module provides the ABC class, and the abstractmethod decorator is used to declare abstract methods. here is an Example:"
   ]
  },
  {
   "cell_type": "code",
   "execution_count": 13,
   "id": "ccc9285b-22d0-4951-857c-2bc322379b70",
   "metadata": {},
   "outputs": [],
   "source": [
    "from abc import ABC, abstractmethod\n",
    "class PwSkills(ABC):\n",
    "\n",
    "    @abstractmethod\n",
    "    def student_details(self):\n",
    "        pass\n",
    "    @abstractmethod\n",
    "    def student_assignment(self):\n",
    "        pass\n",
    "    @abstractmethod\n",
    "    def student_marks(self):\n",
    "        pass\n",
    "\n",
    "class student_details(PwSkills):\n",
    "\n",
    "    def student_details(self):\n",
    "        print(\"This is the meth of student details\")\n",
    "\n",
    "    def student_assignment(self):\n",
    "        print(\"This is the meth of student assignment\")\n",
    "\n",
    "class data_science_masters(PwSkills):\n",
    "\n",
    "    def student_details(self):\n",
    "        print(\"This will give you student details of data science masters\")\n",
    "\n",
    "    def student_assignment(self):\n",
    "        print(\"This will give you student assignment of data science masters\")"
   ]
  },
  {
   "cell_type": "code",
   "execution_count": 15,
   "id": "a5eaf9a1-1ffb-4f07-95fa-558d9decdedd",
   "metadata": {},
   "outputs": [
    {
     "name": "stdout",
     "output_type": "stream",
     "text": [
      "This will give you student details of data science masters\n"
     ]
    }
   ],
   "source": [
    "dsm.student_details()"
   ]
  },
  {
   "cell_type": "code",
   "execution_count": 17,
   "id": "5c92958d-4ae7-4b70-ac0c-1cb590ff407d",
   "metadata": {},
   "outputs": [
    {
     "name": "stdout",
     "output_type": "stream",
     "text": [
      "This is the meth of student details\n"
     ]
    }
   ],
   "source": [
    "sd.student_details()"
   ]
  },
  {
   "cell_type": "markdown",
   "id": "d1c0dcd1-7f6b-4757-84ec-b4468a5ffa0f",
   "metadata": {},
   "source": [
    "#### Q2. Differentiate between Abstraction and Encapsulation. Explain with an example."
   ]
  },
  {
   "cell_type": "markdown",
   "id": "836f8a2e-b6f4-4148-ba72-0542eea4c678",
   "metadata": {},
   "source": [
    "#### Answer:"
   ]
  },
  {
   "cell_type": "markdown",
   "id": "83e3d429-d36a-42ea-b5be-9ad6db9043a5",
   "metadata": {},
   "source": [
    "Whenever we want to hide some important data in order to protect our data present inside a class, we use data class (Encapsulation).\n",
    "Encapsulation can be done with the help of access specifiers (public, protected, private)\n",
    "for Example:\n",
    "An example of this concept could be a car. The car's driver can interact with various features, such as the steering wheel, pedals. These features are accessible to the driver and are similar to public variables. , the driver cannot see or interact with many parts of the car, such as the engine and transmission. These parts are similar to private variables, accessible only within the class or objec\r\n",
    " \r\n",
    "By using private and public variables in encapsulation, we can control access to an object's data and ensure that it is only modified in a controlled way. \r\n",
    " \n",
    "whereas,\n",
    "Whenever we want to hide the unnecessary data, like we don't want others to know what our internal classes are doing, We use Abstraction.\n",
    "abstraction is achieved through abstract classes and interfaces, which provide a blueprint for creating related concrete classes.\n",
    "for example: The TV remote, we use to operate TV by clicking buttons but we don't know the inner function what is happening, still we'rele to use it easily.it."
   ]
  },
  {
   "cell_type": "markdown",
   "id": "bc219429-25e1-4dbe-a392-49da8960d374",
   "metadata": {},
   "source": [
    "#### Q3. What is abc module in python? Why is it used?"
   ]
  },
  {
   "cell_type": "markdown",
   "id": "c3909a2c-159e-40e4-b422-574908b8d160",
   "metadata": {},
   "source": [
    "#### Answer:"
   ]
  },
  {
   "cell_type": "markdown",
   "id": "31e2c25d-71be-4d2b-8713-1b2358a94e7a",
   "metadata": {},
   "source": [
    "The abc module in Python stands for \"Abstract Base Classes.\" It is a module that provides infrastructure for defining abstract base classes (ABCs). Abstract base classes are classes that cannot be instantiated directly and are meant to be used as a blueprint for other classes. They define a common interface for a group of related classes, ensuring that certain methods must be implemented in the subclasses."
   ]
  },
  {
   "cell_type": "markdown",
   "id": "9ad9fc0f-c9ae-46e1-a275-9645fe665752",
   "metadata": {},
   "source": [
    "#### Q4. How can we achieve data abstraction?"
   ]
  },
  {
   "cell_type": "markdown",
   "id": "208d6aeb-ce41-472b-b951-7a99c316e170",
   "metadata": {},
   "source": [
    "#### Answer:"
   ]
  },
  {
   "cell_type": "markdown",
   "id": "966ebd43-c04b-42f7-b3a6-0228fbcf5444",
   "metadata": {},
   "source": [
    "Data Abstraction can be achieved through creating abstract classes and inheriting them later."
   ]
  },
  {
   "cell_type": "markdown",
   "id": "2f05e832-6889-45c1-bd55-a873b01ed614",
   "metadata": {},
   "source": [
    "#### Q5. Can we create an instance of an abstract class? Explain your answer."
   ]
  },
  {
   "cell_type": "markdown",
   "id": "35f5c199-36c5-4b86-9d0a-a5cc6cab9497",
   "metadata": {},
   "source": [
    "#### Answer:\n"
   ]
  },
  {
   "cell_type": "markdown",
   "id": "4547bc94-ae26-4b80-82d6-c73af7970db7",
   "metadata": {},
   "source": [
    "No, we cannot create an instance of an abstract class. As we know, An abstract class is a class that contains one or more abstract methods, which are methods without any implementation. The purpose of an abstract class is to serve as a blueprint for other classes and provide common functionality that subclasses can inherit and implement.\n",
    "When a class is declared as abstract, it means it is not complete in itself and requires its subclasses to provide concrete implementations for the abstract methods. Because of the presence of abstract methods, the abstract class cannot be instantiated directly.\n",
    "#### for example:"
   ]
  },
  {
   "cell_type": "code",
   "execution_count": 3,
   "id": "4d2f9791-d393-4abc-82d5-ed6131d62b8d",
   "metadata": {},
   "outputs": [],
   "source": [
    "from abc import ABC, abstractmethod\n",
    "class Automobile(ABC):\n",
    "    @abstractmethod\n",
    "    def engine(self):\n",
    "        pass\n",
    "    @abstractmethod\n",
    "    def transmission_system(self):\n",
    "        pass\n",
    "    @abstractmethod\n",
    "    def braking_system(self):\n",
    "        pass"
   ]
  },
  {
   "cell_type": "code",
   "execution_count": 4,
   "id": "adc6bdb1-d26d-40ef-b9a0-49e41eae5fe3",
   "metadata": {},
   "outputs": [
    {
     "ename": "TypeError",
     "evalue": "Can't instantiate abstract class Automobile with abstract methods braking_system, engine, transmission_system",
     "output_type": "error",
     "traceback": [
      "\u001b[1;31m---------------------------------------------------------------------------\u001b[0m",
      "\u001b[1;31mTypeError\u001b[0m                                 Traceback (most recent call last)",
      "Cell \u001b[1;32mIn[4], line 1\u001b[0m\n\u001b[1;32m----> 1\u001b[0m A \u001b[38;5;241m=\u001b[39m \u001b[43mAutomobile\u001b[49m\u001b[43m(\u001b[49m\u001b[43m)\u001b[49m\n",
      "\u001b[1;31mTypeError\u001b[0m: Can't instantiate abstract class Automobile with abstract methods braking_system, engine, transmission_system"
     ]
    }
   ],
   "source": [
    "A = Automobile()"
   ]
  },
  {
   "cell_type": "markdown",
   "id": "a7e6304b-e4b9-4aac-910b-c873d1a21ee6",
   "metadata": {},
   "source": [
    "The Automobile class above is abstract because it contains abstract methods. If we try to create an instance of this class directly, we will encounter an error"
   ]
  },
  {
   "cell_type": "code",
   "execution_count": 5,
   "id": "df3f17b0-66c9-48dd-96f9-a44081d93ae6",
   "metadata": {},
   "outputs": [],
   "source": [
    "class car(Automobile):\n",
    "\n",
    "    def __init__(self, petrol_engine, braking_system, transmission_system):\n",
    "        self.petrol_engine = petrol_engine\n",
    "        self.transmission_system = transmission_system\n",
    "        self.braking_system = braking_system\n",
    "\n",
    "    def engine(self):\n",
    "        return self.petrol_engine\n",
    "\n",
    "    def transmission_system(self):\n",
    "        return self.transmission_system\n",
    "\n",
    "    def braking_system(self):\n",
    "        return self.braking_system"
   ]
  },
  {
   "cell_type": "code",
   "execution_count": 6,
   "id": "b39ee0ea-8826-4bad-878e-ee67e53d1df4",
   "metadata": {},
   "outputs": [],
   "source": [
    "c = car(petrol_engine=\"spark ignition\",braking_system=\"Disk Brakes\",transmission_system=\"Manual\")"
   ]
  },
  {
   "cell_type": "code",
   "execution_count": 7,
   "id": "fc24dbaf-9a25-445e-997b-96c4bff4580d",
   "metadata": {},
   "outputs": [
    {
     "data": {
      "text/plain": [
       "'Manual'"
      ]
     },
     "execution_count": 7,
     "metadata": {},
     "output_type": "execute_result"
    }
   ],
   "source": [
    "c.transmission_system"
   ]
  },
  {
   "cell_type": "code",
   "execution_count": 35,
   "id": "da475d55-6ae0-401d-9ae8-9c4f3b52d38e",
   "metadata": {},
   "outputs": [
    {
     "data": {
      "text/plain": [
       "'Disk Brakes'"
      ]
     },
     "execution_count": 35,
     "metadata": {},
     "output_type": "execute_result"
    }
   ],
   "source": [
    "c.braking_system"
   ]
  }
 ],
 "metadata": {
  "kernelspec": {
   "display_name": "Python 3 (ipykernel)",
   "language": "python",
   "name": "python3"
  },
  "language_info": {
   "codemirror_mode": {
    "name": "ipython",
    "version": 3
   },
   "file_extension": ".py",
   "mimetype": "text/x-python",
   "name": "python",
   "nbconvert_exporter": "python",
   "pygments_lexer": "ipython3",
   "version": "3.11.4"
  }
 },
 "nbformat": 4,
 "nbformat_minor": 5
}

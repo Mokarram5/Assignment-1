{
 "cells": [
  {
   "cell_type": "markdown",
   "id": "71be32ac-06d5-4b90-91fb-8fda3a87a355",
   "metadata": {},
   "source": [
    "#### <b>Pandas Advance-1 (Assignment)</b>"
   ]
  },
  {
   "cell_type": "markdown",
   "id": "146a0e18-693c-4482-9cc2-f1fd5dea5743",
   "metadata": {},
   "source": [
    "#### Q1. List any five functions of the pandas library with execution."
   ]
  },
  {
   "cell_type": "markdown",
   "id": "b6265070-2666-4cbf-b3e8-ca8d635b644b",
   "metadata": {},
   "source": [
    "#### Answer:"
   ]
  },
  {
   "cell_type": "markdown",
   "id": "d26f0fb6-dab9-4b9b-988f-3fb9613590e3",
   "metadata": {},
   "source": [
    "\r\n",
    "1. **`read_csv()`**: This function is used to read data from a CSV file and create a Pandas DataFramgroup, visualize, and summarize data efficiently."
   ]
  },
  {
   "cell_type": "code",
   "execution_count": 1,
   "id": "cbc9467a-47b1-4f9a-9258-87c3dab803be",
   "metadata": {},
   "outputs": [],
   "source": [
    "import pandas as pd\n",
    "\n",
    "df = pd.read_csv('https://raw.githubusercontent.com/andandandand/CSV-datasets/master/plane_crashes_data.csv')"
   ]
  },
  {
   "cell_type": "markdown",
   "id": "0b78dd90-101e-4f01-b436-bba5c58ac39d",
   "metadata": {},
   "source": [
    "2. **`head()`**: The head() function is used to display the first few rows of a DataFrame. It's useful for quickly inspecting the structure of your data."
   ]
  },
  {
   "cell_type": "code",
   "execution_count": 4,
   "id": "2f34bcae-8c45-448d-8517-6ea0c5106d7a",
   "metadata": {},
   "outputs": [
    {
     "data": {
      "text/html": [
       "<div>\n",
       "<style scoped>\n",
       "    .dataframe tbody tr th:only-of-type {\n",
       "        vertical-align: middle;\n",
       "    }\n",
       "\n",
       "    .dataframe tbody tr th {\n",
       "        vertical-align: top;\n",
       "    }\n",
       "\n",
       "    .dataframe thead th {\n",
       "        text-align: right;\n",
       "    }\n",
       "</style>\n",
       "<table border=\"1\" class=\"dataframe\">\n",
       "  <thead>\n",
       "    <tr style=\"text-align: right;\">\n",
       "      <th></th>\n",
       "      <th>month</th>\n",
       "      <th>hour</th>\n",
       "      <th>year</th>\n",
       "      <th>location</th>\n",
       "      <th>operator</th>\n",
       "      <th>route</th>\n",
       "      <th>type</th>\n",
       "      <th>aboard</th>\n",
       "      <th>fatalities</th>\n",
       "      <th>summary</th>\n",
       "    </tr>\n",
       "  </thead>\n",
       "  <tbody>\n",
       "    <tr>\n",
       "      <th>0</th>\n",
       "      <td>1</td>\n",
       "      <td>12</td>\n",
       "      <td>1950</td>\n",
       "      <td>Near Vacas, Bolivia</td>\n",
       "      <td>Military - Bolivian Air Force</td>\n",
       "      <td>Valle grande - Cochabamba</td>\n",
       "      <td>Douglas C-47</td>\n",
       "      <td>32</td>\n",
       "      <td>32</td>\n",
       "      <td>Crashed while en route in the Andes mountains ...</td>\n",
       "    </tr>\n",
       "    <tr>\n",
       "      <th>1</th>\n",
       "      <td>3</td>\n",
       "      <td>20</td>\n",
       "      <td>1950</td>\n",
       "      <td>Minneapolis, Minnesota</td>\n",
       "      <td>Northwest Orient Airlines</td>\n",
       "      <td>Rochester Minn. - Minneapolis</td>\n",
       "      <td>Martin 202</td>\n",
       "      <td>13</td>\n",
       "      <td>13</td>\n",
       "      <td>Crashed into a flag pole, well marked by red n...</td>\n",
       "    </tr>\n",
       "    <tr>\n",
       "      <th>2</th>\n",
       "      <td>3</td>\n",
       "      <td>14</td>\n",
       "      <td>1950</td>\n",
       "      <td>Llandow Airport, Cardiff, Wales</td>\n",
       "      <td>Fairflight Ltd.</td>\n",
       "      <td>Llandow - Dublin</td>\n",
       "      <td>Avro 689 Tudor 5</td>\n",
       "      <td>83</td>\n",
       "      <td>80</td>\n",
       "      <td>During the approach to Runway 28 at Llandow Ai...</td>\n",
       "    </tr>\n",
       "    <tr>\n",
       "      <th>3</th>\n",
       "      <td>4</td>\n",
       "      <td>23</td>\n",
       "      <td>1950</td>\n",
       "      <td>Near Atsugi, Japan</td>\n",
       "      <td>Military - U.S. Air Force</td>\n",
       "      <td>Philippines - Japan</td>\n",
       "      <td>Douglas C-54D</td>\n",
       "      <td>35</td>\n",
       "      <td>35</td>\n",
       "      <td>Flew off its prescribed course and crashed int...</td>\n",
       "    </tr>\n",
       "    <tr>\n",
       "      <th>4</th>\n",
       "      <td>5</td>\n",
       "      <td>20</td>\n",
       "      <td>1950</td>\n",
       "      <td>Lagens Air Force Base, Azores</td>\n",
       "      <td>Military - U.S. Air Force</td>\n",
       "      <td>Bermuda - England</td>\n",
       "      <td>Boeing B-29</td>\n",
       "      <td>16</td>\n",
       "      <td>16</td>\n",
       "      <td>Crashed while attempting to land after being d...</td>\n",
       "    </tr>\n",
       "  </tbody>\n",
       "</table>\n",
       "</div>"
      ],
      "text/plain": [
       "   month hour  year                         location  \\\n",
       "0      1   12  1950              Near Vacas, Bolivia   \n",
       "1      3   20  1950           Minneapolis, Minnesota   \n",
       "2      3   14  1950  Llandow Airport, Cardiff, Wales   \n",
       "3      4   23  1950               Near Atsugi, Japan   \n",
       "4      5   20  1950    Lagens Air Force Base, Azores   \n",
       "\n",
       "                        operator                          route  \\\n",
       "0  Military - Bolivian Air Force      Valle grande - Cochabamba   \n",
       "1      Northwest Orient Airlines  Rochester Minn. - Minneapolis   \n",
       "2                Fairflight Ltd.               Llandow - Dublin   \n",
       "3      Military - U.S. Air Force            Philippines - Japan   \n",
       "4      Military - U.S. Air Force              Bermuda - England   \n",
       "\n",
       "               type  aboard  fatalities  \\\n",
       "0      Douglas C-47      32          32   \n",
       "1        Martin 202      13          13   \n",
       "2  Avro 689 Tudor 5      83          80   \n",
       "3     Douglas C-54D      35          35   \n",
       "4       Boeing B-29      16          16   \n",
       "\n",
       "                                             summary  \n",
       "0  Crashed while en route in the Andes mountains ...  \n",
       "1  Crashed into a flag pole, well marked by red n...  \n",
       "2  During the approach to Runway 28 at Llandow Ai...  \n",
       "3  Flew off its prescribed course and crashed int...  \n",
       "4  Crashed while attempting to land after being d...  "
      ]
     },
     "execution_count": 4,
     "metadata": {},
     "output_type": "execute_result"
    }
   ],
   "source": [
    "df.head()"
   ]
  },
  {
   "cell_type": "markdown",
   "id": "f666a312-d7a0-4ed7-ae78-a7543b1edd07",
   "metadata": {},
   "source": [
    "3. **`groupby()`**: This function is used for grouping rows of data based on one or more columns, which is often followed by aggregation operations"
   ]
  },
  {
   "cell_type": "code",
   "execution_count": 22,
   "id": "1601886c-2ef6-4018-8871-2b96ef054bb2",
   "metadata": {},
   "outputs": [],
   "source": [
    "gp_data = df[0:5].groupby('location')['fatalities'].max()"
   ]
  },
  {
   "cell_type": "code",
   "execution_count": 23,
   "id": "cf370b14-9fd9-4474-8ba5-1a0345489ae0",
   "metadata": {},
   "outputs": [
    {
     "data": {
      "text/plain": [
       "location\n",
       "Lagens Air Force Base, Azores      16\n",
       "Llandow Airport, Cardiff, Wales    80\n",
       "Minneapolis, Minnesota             13\n",
       "Near Atsugi, Japan                 35\n",
       "Near Vacas, Bolivia                32\n",
       "Name: fatalities, dtype: int64"
      ]
     },
     "execution_count": 23,
     "metadata": {},
     "output_type": "execute_result"
    }
   ],
   "source": [
    "gp_data"
   ]
  },
  {
   "cell_type": "markdown",
   "id": "6c749272-78a9-47c9-a382-33a491068881",
   "metadata": {},
   "source": [
    "4. **`plot()`**: Pandas can interface with Matplotlib for data visualization. The plot() function allows you to create various types of plots, such as line plots, bar plots, and histograms"
   ]
  },
  {
   "cell_type": "code",
   "execution_count": 24,
   "id": "92aabcdb-4ce8-43a1-bfd7-7fd97d1f620a",
   "metadata": {},
   "outputs": [
    {
     "data": {
      "image/png": "[encoded data removed]",
      "text/plain": [
       "<Figure size 640x480 with 1 Axes>"
      ]
     },
     "metadata": {},
     "output_type": "display_data"
    }
   ],
   "source": [
    "import matplotlib.pyplot as plt\n",
    "\n",
    "df[0:10]['fatalities'].plot(kind='bar')\n",
    "plt.xlabel('Index')\n",
    "plt.ylabel('fatalities')\n",
    "plt.show()"
   ]
  },
  {
   "cell_type": "markdown",
   "id": "e71db31d-bc30-41f4-9120-b8fbaaf7633f",
   "metadata": {},
   "source": [
    "5. **`describe()`**: is a function provided by the Pandas library. It is used to generate descriptive statistics of a DataFrame or a specific DataFrame column. "
   ]
  },
  {
   "cell_type": "code",
   "execution_count": 25,
   "id": "231aaf35-dc9b-4d5a-b572-d4d9b07ebbf1",
   "metadata": {},
   "outputs": [
    {
     "data": {
      "text/html": [
       "<div>\n",
       "<style scoped>\n",
       "    .dataframe tbody tr th:only-of-type {\n",
       "        vertical-align: middle;\n",
       "    }\n",
       "\n",
       "    .dataframe tbody tr th {\n",
       "        vertical-align: top;\n",
       "    }\n",
       "\n",
       "    .dataframe thead th {\n",
       "        text-align: right;\n",
       "    }\n",
       "</style>\n",
       "<table border=\"1\" class=\"dataframe\">\n",
       "  <thead>\n",
       "    <tr style=\"text-align: right;\">\n",
       "      <th></th>\n",
       "      <th>month</th>\n",
       "      <th>year</th>\n",
       "      <th>aboard</th>\n",
       "      <th>fatalities</th>\n",
       "    </tr>\n",
       "  </thead>\n",
       "  <tbody>\n",
       "    <tr>\n",
       "      <th>count</th>\n",
       "      <td>2709.000000</td>\n",
       "      <td>2709.000000</td>\n",
       "      <td>2709.000000</td>\n",
       "      <td>2709.000000</td>\n",
       "    </tr>\n",
       "    <tr>\n",
       "      <th>mean</th>\n",
       "      <td>6.554079</td>\n",
       "      <td>1981.927279</td>\n",
       "      <td>35.817276</td>\n",
       "      <td>25.816537</td>\n",
       "    </tr>\n",
       "    <tr>\n",
       "      <th>std</th>\n",
       "      <td>3.532468</td>\n",
       "      <td>16.709136</td>\n",
       "      <td>54.306779</td>\n",
       "      <td>42.599461</td>\n",
       "    </tr>\n",
       "    <tr>\n",
       "      <th>min</th>\n",
       "      <td>1.000000</td>\n",
       "      <td>1950.000000</td>\n",
       "      <td>0.000000</td>\n",
       "      <td>0.000000</td>\n",
       "    </tr>\n",
       "    <tr>\n",
       "      <th>25%</th>\n",
       "      <td>3.000000</td>\n",
       "      <td>1968.000000</td>\n",
       "      <td>5.000000</td>\n",
       "      <td>3.000000</td>\n",
       "    </tr>\n",
       "    <tr>\n",
       "      <th>50%</th>\n",
       "      <td>7.000000</td>\n",
       "      <td>1983.000000</td>\n",
       "      <td>15.000000</td>\n",
       "      <td>9.000000</td>\n",
       "    </tr>\n",
       "    <tr>\n",
       "      <th>75%</th>\n",
       "      <td>10.000000</td>\n",
       "      <td>1997.000000</td>\n",
       "      <td>44.000000</td>\n",
       "      <td>29.000000</td>\n",
       "    </tr>\n",
       "    <tr>\n",
       "      <th>max</th>\n",
       "      <td>12.000000</td>\n",
       "      <td>2009.000000</td>\n",
       "      <td>644.000000</td>\n",
       "      <td>583.000000</td>\n",
       "    </tr>\n",
       "  </tbody>\n",
       "</table>\n",
       "</div>"
      ],
      "text/plain": [
       "             month         year       aboard   fatalities\n",
       "count  2709.000000  2709.000000  2709.000000  2709.000000\n",
       "mean      6.554079  1981.927279    35.817276    25.816537\n",
       "std       3.532468    16.709136    54.306779    42.599461\n",
       "min       1.000000  1950.000000     0.000000     0.000000\n",
       "25%       3.000000  1968.000000     5.000000     3.000000\n",
       "50%       7.000000  1983.000000    15.000000     9.000000\n",
       "75%      10.000000  1997.000000    44.000000    29.000000\n",
       "max      12.000000  2009.000000   644.000000   583.000000"
      ]
     },
     "execution_count": 25,
     "metadata": {},
     "output_type": "execute_result"
    }
   ],
   "source": [
    "df.describe()"
   ]
  },
  {
   "cell_type": "markdown",
   "id": "8baeca36-af25-4ecd-99cf-09aa3af398ea",
   "metadata": {},
   "source": [
    "#### Q2. Given a Pandas DataFrame df with columns 'A', 'B', and 'C', write a Python function to re-index the DataFrame with a new index that starts from 1 and increments by 2 for each row."
   ]
  },
  {
   "cell_type": "markdown",
   "id": "292555e9-658b-46cd-a046-d4271b53e346",
   "metadata": {},
   "source": [
    "#### Answer:"
   ]
  },
  {
   "cell_type": "code",
   "execution_count": 28,
   "id": "4d45d3fc-ac05-4113-8942-80233e99008b",
   "metadata": {},
   "outputs": [
    {
     "data": {
      "text/html": [
       "<div>\n",
       "<style scoped>\n",
       "    .dataframe tbody tr th:only-of-type {\n",
       "        vertical-align: middle;\n",
       "    }\n",
       "\n",
       "    .dataframe tbody tr th {\n",
       "        vertical-align: top;\n",
       "    }\n",
       "\n",
       "    .dataframe thead th {\n",
       "        text-align: right;\n",
       "    }\n",
       "</style>\n",
       "<table border=\"1\" class=\"dataframe\">\n",
       "  <thead>\n",
       "    <tr style=\"text-align: right;\">\n",
       "      <th></th>\n",
       "      <th>A</th>\n",
       "      <th>B</th>\n",
       "      <th>C</th>\n",
       "    </tr>\n",
       "  </thead>\n",
       "  <tbody>\n",
       "    <tr>\n",
       "      <th>1</th>\n",
       "      <td>10</td>\n",
       "      <td>40</td>\n",
       "      <td>70</td>\n",
       "    </tr>\n",
       "    <tr>\n",
       "      <th>3</th>\n",
       "      <td>20</td>\n",
       "      <td>50</td>\n",
       "      <td>80</td>\n",
       "    </tr>\n",
       "    <tr>\n",
       "      <th>5</th>\n",
       "      <td>30</td>\n",
       "      <td>60</td>\n",
       "      <td>90</td>\n",
       "    </tr>\n",
       "  </tbody>\n",
       "</table>\n",
       "</div>"
      ],
      "text/plain": [
       "    A   B   C\n",
       "1  10  40  70\n",
       "3  20  50  80\n",
       "5  30  60  90"
      ]
     },
     "execution_count": 28,
     "metadata": {},
     "output_type": "execute_result"
    }
   ],
   "source": [
    "import pandas as pd\n",
    "\n",
    "def reindex_dataframe(df1):\n",
    "    new_index = range(1, len(df1) * 2, 2)\n",
    "    df1 = df1.set_index(pd.Index(new_index))\n",
    "    return df1\n",
    "\n",
    "data = {'A': [10, 20, 30], 'B': [40, 50, 60], 'C': [70, 80, 90]}\n",
    "df1 = pd.DataFrame(data)\n",
    "\n",
    "new_df = reindex_dataframe(df1)\n",
    "\n",
    "new_df"
   ]
  },
  {
   "cell_type": "markdown",
   "id": "569a79df-c4a7-4020-9758-9b199d8f03f5",
   "metadata": {},
   "source": [
    "#### Q3. You have a Pandas DataFrame df with a column named 'Values'. Write a Python function that iterates over the DataFrame and calculates the sum of the first three values in the 'Values' column. The function should print the sum to the console."
   ]
  },
  {
   "cell_type": "markdown",
   "id": "3a752cea-dcc0-48f4-8a28-0c9904ff47d5",
   "metadata": {},
   "source": [
    "#### Answer:"
   ]
  },
  {
   "cell_type": "code",
   "execution_count": 29,
   "id": "aaddb25a-d46a-4c8c-a4f2-66b79bcc62c2",
   "metadata": {},
   "outputs": [
    {
     "name": "stdout",
     "output_type": "stream",
     "text": [
      "Sum of the first three values: 60\n"
     ]
    }
   ],
   "source": [
    "import pandas as pd\n",
    "\n",
    "data = {'Values': [10, 20, 30, 40, 50]}\n",
    "df = pd.DataFrame(data)\n",
    "\n",
    "def calculate(df):\n",
    "    if 'Values' in df.columns:\n",
    "        first_three_sum = df['Values'].iloc[:3].sum()\n",
    "        print(\"Sum of the first three values:\", first_three_sum)\n",
    "    else:\n",
    "        print(\"DataFrame does not contain a 'Values' column.\")\n",
    "\n",
    "calculate(df)"
   ]
  },
  {
   "cell_type": "markdown",
   "id": "f62a0b4b-cb60-41cb-8d72-28e38994dd6a",
   "metadata": {},
   "source": [
    "#### Q4. Given a Pandas DataFrame df with a column 'Text', write a Python function to create a new column 'Word_Count' that contains the number of words in each row of the 'Text' column."
   ]
  },
  {
   "cell_type": "markdown",
   "id": "5fc95513-779f-437a-8eb5-4350bac590d8",
   "metadata": {},
   "source": [
    "#### Answer:"
   ]
  },
  {
   "cell_type": "code",
   "execution_count": 39,
   "id": "19656465-88cb-426f-a38b-b70ad5e60aad",
   "metadata": {},
   "outputs": [
    {
     "data": {
      "text/html": [
       "<div>\n",
       "<style scoped>\n",
       "    .dataframe tbody tr th:only-of-type {\n",
       "        vertical-align: middle;\n",
       "    }\n",
       "\n",
       "    .dataframe tbody tr th {\n",
       "        vertical-align: top;\n",
       "    }\n",
       "\n",
       "    .dataframe thead th {\n",
       "        text-align: right;\n",
       "    }\n",
       "</style>\n",
       "<table border=\"1\" class=\"dataframe\">\n",
       "  <thead>\n",
       "    <tr style=\"text-align: right;\">\n",
       "      <th></th>\n",
       "      <th>Text</th>\n",
       "      <th>Word_Count</th>\n",
       "    </tr>\n",
       "  </thead>\n",
       "  <tbody>\n",
       "    <tr>\n",
       "      <th>0</th>\n",
       "      <td>Sudhanshu sir works in Banglore</td>\n",
       "      <td>5</td>\n",
       "    </tr>\n",
       "    <tr>\n",
       "      <th>1</th>\n",
       "      <td>Banglore city is known as Garden City of India</td>\n",
       "      <td>9</td>\n",
       "    </tr>\n",
       "    <tr>\n",
       "      <th>2</th>\n",
       "      <td>Banglore is also an IT HUB</td>\n",
       "      <td>6</td>\n",
       "    </tr>\n",
       "  </tbody>\n",
       "</table>\n",
       "</div>"
      ],
      "text/plain": [
       "                                             Text  Word_Count\n",
       "0                 Sudhanshu sir works in Banglore           5\n",
       "1  Banglore city is known as Garden City of India           9\n",
       "2                      Banglore is also an IT HUB           6"
      ]
     },
     "execution_count": 39,
     "metadata": {},
     "output_type": "execute_result"
    }
   ],
   "source": [
    "import pandas as pd\n",
    "\n",
    "# Sample DataFrame with a 'Text' column\n",
    "data = {'Text': [\"Sudhanshu sir works in Banglore\",\n",
    "                 \"Banglore city is known as Garden City of India\",\n",
    "                 \"Banglore is also an IT HUB\"]}\n",
    "df = pd.DataFrame(data)\n",
    "\n",
    "def calculate_word_count(df):\n",
    "    # Create a new 'Word_Count' column with word counts\n",
    "    df['Word_Count'] = df['Text'].apply(lambda x: len(str(x).split()))\n",
    "    \n",
    "    return df\n",
    "    \n",
    "df = calculate_word_count(df)\n",
    "df"
   ]
  },
  {
   "cell_type": "markdown",
   "id": "836ee8bc-39b2-4327-b73b-7b28fb3e4257",
   "metadata": {},
   "source": [
    "#### Q5. How are DataFrame.size() and DataFrame.shape() different?"
   ]
  },
  {
   "cell_type": "markdown",
   "id": "22b99af5-312d-4f0f-936c-444bb78d3490",
   "metadata": {},
   "source": [
    "#### Answer:"
   ]
  },
  {
   "cell_type": "markdown",
   "id": "c372e728-820e-496a-927e-14fcf12d7f0a",
   "metadata": {},
   "source": [
    "DataFrame.size returns the total number of elements in the DataFrame, which is equal to the product of the number of rows and the number of columns.\r\n",
    "It returns an integer representing the total number of data points in the DataFrame."
   ]
  },
  {
   "cell_type": "code",
   "execution_count": 41,
   "id": "395ed828-ad1f-44db-8040-87ef66d274d9",
   "metadata": {},
   "outputs": [
    {
     "data": {
      "text/plain": [
       "6"
      ]
     },
     "execution_count": 41,
     "metadata": {},
     "output_type": "execute_result"
    }
   ],
   "source": [
    "import pandas as pd\n",
    "\n",
    "data = {'A': [1, 2, 3], 'B': [4, 5, 6]}\n",
    "df = pd.DataFrame(data)\n",
    "\n",
    "size = df.size\n",
    "size"
   ]
  },
  {
   "cell_type": "markdown",
   "id": "fb911769-33a8-42d1-85e6-1748ddbdf270",
   "metadata": {},
   "source": [
    "DataFrame.shape returns a tuple representing the dimensions of the DataFrame.\r\n",
    "The tuple contains two values: the number of rows and the number of columns.\r\n",
    "It provides a structured way to access the DataFrame's dimensions."
   ]
  },
  {
   "cell_type": "code",
   "execution_count": 42,
   "id": "d446b06e-2165-4b86-8357-83bbab940d97",
   "metadata": {},
   "outputs": [
    {
     "data": {
      "text/plain": [
       "(3, 2)"
      ]
     },
     "execution_count": 42,
     "metadata": {},
     "output_type": "execute_result"
    }
   ],
   "source": [
    "import pandas as pd\n",
    "\n",
    "data = {'A': [1, 2, 3], 'B': [4, 5, 6]}\n",
    "df = pd.DataFrame(data)\n",
    "\n",
    "shape = df.shape\n",
    "shape"
   ]
  },
  {
   "cell_type": "markdown",
   "id": "3f34b4f4-ae60-440e-8570-4518e4675266",
   "metadata": {},
   "source": [
    "DataFrame.size gives us the total number of elements in the DataFrame, while DataFrame.shape provides a tuple with the number of rows and columns, allowing us to access the DataFrame's dimensions separately.\r\n",
    "\n",
    "\r\n",
    "\r\n"
   ]
  },
  {
   "cell_type": "markdown",
   "id": "6ab6e515-ef4e-4478-92f0-378a47e1bae3",
   "metadata": {},
   "source": [
    "#### Q6. Which function of pandas do we use to read an excel file?"
   ]
  },
  {
   "cell_type": "markdown",
   "id": "b58dc3ff-fc8d-48cb-beb6-7e8f80a039af",
   "metadata": {},
   "source": [
    "#### Answer:"
   ]
  },
  {
   "cell_type": "markdown",
   "id": "020d782c-7991-4c39-adf0-17a59acf5c2f",
   "metadata": {},
   "source": [
    "To read an Excel file in Pandas, we use the pd.read_excel() function. This function allows us to read data from an Excel file and create a Pandas DataFrame from it."
   ]
  },
  {
   "cell_type": "markdown",
   "id": "0320a1e3-0ec5-404a-8349-eed7ed072ead",
   "metadata": {},
   "source": [
    "#### Q7. You have a Pandas DataFrame df that contains a column named 'Email' that contains email addresses in the format 'username@domain.com'. Write a Python function that creates a new column 'Username' in df that contains only the username part of each email address."
   ]
  },
  {
   "cell_type": "markdown",
   "id": "ce9c8406-61a1-4bef-8932-533e78ad5ff9",
   "metadata": {},
   "source": [
    "#### Answer:"
   ]
  },
  {
   "cell_type": "code",
   "execution_count": 50,
   "id": "3f79cb28-ca45-4c2c-b491-6c82da7619d7",
   "metadata": {},
   "outputs": [
    {
     "data": {
      "text/html": [
       "<div>\n",
       "<style scoped>\n",
       "    .dataframe tbody tr th:only-of-type {\n",
       "        vertical-align: middle;\n",
       "    }\n",
       "\n",
       "    .dataframe tbody tr th {\n",
       "        vertical-align: top;\n",
       "    }\n",
       "\n",
       "    .dataframe thead th {\n",
       "        text-align: right;\n",
       "    }\n",
       "</style>\n",
       "<table border=\"1\" class=\"dataframe\">\n",
       "  <thead>\n",
       "    <tr style=\"text-align: right;\">\n",
       "      <th></th>\n",
       "      <th>Email</th>\n",
       "      <th>Username</th>\n",
       "    </tr>\n",
       "  </thead>\n",
       "  <tbody>\n",
       "    <tr>\n",
       "      <th>0</th>\n",
       "      <td>mokarramkhn@gmail.com</td>\n",
       "      <td>mokarramkhn</td>\n",
       "    </tr>\n",
       "    <tr>\n",
       "      <th>1</th>\n",
       "      <td>mokukhan@gmail.com</td>\n",
       "      <td>mokukhan</td>\n",
       "    </tr>\n",
       "    <tr>\n",
       "      <th>2</th>\n",
       "      <td>khan_mokarram@yahoo.com</td>\n",
       "      <td>khan_mokarram</td>\n",
       "    </tr>\n",
       "  </tbody>\n",
       "</table>\n",
       "</div>"
      ],
      "text/plain": [
       "                     Email       Username\n",
       "0    mokarramkhn@gmail.com    mokarramkhn\n",
       "1       mokukhan@gmail.com       mokukhan\n",
       "2  khan_mokarram@yahoo.com  khan_mokarram"
      ]
     },
     "execution_count": 50,
     "metadata": {},
     "output_type": "execute_result"
    }
   ],
   "source": [
    "import pandas\n",
    "data = {\"Email\":[\"mokarramkhn@gmail.com\",\"mokukhan@gmail.com\",\"khan_mokarram@yahoo.com\"]}\n",
    "df3 = pandas.DataFrame(data)\n",
    "\n",
    "def username(df3):\n",
    "    df3['Username'] = df3['Email'].str.split('@').str[0]\n",
    "    return df3\n",
    "\n",
    "username(df3)"
   ]
  },
  {
   "cell_type": "markdown",
   "id": "f3c7c1fe-6cbb-4219-b400-e740c3f99b24",
   "metadata": {},
   "source": [
    "#### Q8. You have a Pandas DataFrame df with columns 'A', 'B', and 'C'. Write a Python function that selects all rows where the value in column 'A' is greater than 5 and the value in column 'B' is less than 10. The function should return a new DataFrame that contains only the selected rows."
   ]
  },
  {
   "cell_type": "markdown",
   "id": "bc62d56d-a5bf-46b9-91a9-980b973a3b8f",
   "metadata": {},
   "source": [
    "#### Answer:"
   ]
  },
  {
   "cell_type": "code",
   "execution_count": 55,
   "id": "bb635404-9fa4-48d2-bba1-b02d0e5862e4",
   "metadata": {},
   "outputs": [
    {
     "data": {
      "text/html": [
       "<div>\n",
       "<style scoped>\n",
       "    .dataframe tbody tr th:only-of-type {\n",
       "        vertical-align: middle;\n",
       "    }\n",
       "\n",
       "    .dataframe tbody tr th {\n",
       "        vertical-align: top;\n",
       "    }\n",
       "\n",
       "    .dataframe thead th {\n",
       "        text-align: right;\n",
       "    }\n",
       "</style>\n",
       "<table border=\"1\" class=\"dataframe\">\n",
       "  <thead>\n",
       "    <tr style=\"text-align: right;\">\n",
       "      <th></th>\n",
       "      <th>A</th>\n",
       "      <th>B</th>\n",
       "      <th>C</th>\n",
       "    </tr>\n",
       "  </thead>\n",
       "  <tbody>\n",
       "    <tr>\n",
       "      <th>1</th>\n",
       "      <td>8</td>\n",
       "      <td>2</td>\n",
       "      <td>7</td>\n",
       "    </tr>\n",
       "    <tr>\n",
       "      <th>2</th>\n",
       "      <td>6</td>\n",
       "      <td>9</td>\n",
       "      <td>4</td>\n",
       "    </tr>\n",
       "    <tr>\n",
       "      <th>4</th>\n",
       "      <td>9</td>\n",
       "      <td>1</td>\n",
       "      <td>2</td>\n",
       "    </tr>\n",
       "  </tbody>\n",
       "</table>\n",
       "</div>"
      ],
      "text/plain": [
       "   A  B  C\n",
       "1  8  2  7\n",
       "2  6  9  4\n",
       "4  9  1  2"
      ]
     },
     "execution_count": 55,
     "metadata": {},
     "output_type": "execute_result"
    }
   ],
   "source": [
    "import pandas as pd\n",
    "data = {'A': [3,8,6,2,9],\n",
    "        'B': [5,2,9,3,1],\n",
    "        'C': [1,7,4,5,2]}\n",
    "df = pd.DataFrame(data)\n",
    "\n",
    "def select_rows(df):\n",
    "    selected_df = df[(df['A'] > 5) & (df['B'] < 10)]\n",
    "    \n",
    "    return selected_df\n",
    "\n",
    "select_rows(df)"
   ]
  },
  {
   "cell_type": "markdown",
   "id": "5b87bff6-5368-48b2-87a4-7ef9692d0679",
   "metadata": {},
   "source": [
    "#### Q9. Given a Pandas DataFrame df with a column 'Values', write a Python function to calculate the mean, median, and standard deviation of the values in the 'Values' column."
   ]
  },
  {
   "cell_type": "markdown",
   "id": "f815d6b3-b693-470e-8120-a7ac560d3a62",
   "metadata": {},
   "source": [
    "#### Answer:"
   ]
  },
  {
   "cell_type": "code",
   "execution_count": 56,
   "id": "5d4e992c-28b5-4add-a959-167787641e2c",
   "metadata": {},
   "outputs": [
    {
     "name": "stdout",
     "output_type": "stream",
     "text": [
      "Mean: 30.0\n",
      "Median: 30.0\n",
      "Standard Deviation: 15.811388300841896\n"
     ]
    }
   ],
   "source": [
    "import pandas as pd\n",
    "\n",
    "data = {'Values': [10, 20, 30, 40, 50]}\n",
    "df = pd.DataFrame(data)\n",
    "\n",
    "def calculate(df):\n",
    "    mean_value = df['Values'].mean()\n",
    "    median_value = df['Values'].median()\n",
    "    std_deviation = df['Values'].std()\n",
    "    \n",
    "    return mean_value, median_value, std_deviation\n",
    "    \n",
    "mean, median, std = calculate(df)\n",
    "print(\"Mean:\", mean)\n",
    "print(\"Median:\", median)\n",
    "print(\"Standard Deviation:\", std)"
   ]
  },
  {
   "cell_type": "markdown",
   "id": "7e40a8d1-97ab-4436-acaf-1e3d4f6d46b7",
   "metadata": {},
   "source": [
    "#### Q10. Given a Pandas DataFrame df with a column 'Sales' and a column 'Date', write a Python function to create a new column 'MovingAverage' that contains the moving average of the sales for the past 7 days for each row in the DataFrame. The moving average should be calculated using a window of size 7 and should include the current day."
   ]
  },
  {
   "cell_type": "markdown",
   "id": "69a76aec-86cc-4d8e-b365-282850a5a9a8",
   "metadata": {},
   "source": [
    "#### Answer:"
   ]
  },
  {
   "cell_type": "code",
   "execution_count": 66,
   "id": "8635d006-6cce-4fc5-b392-8ba5bea75e32",
   "metadata": {},
   "outputs": [
    {
     "data": {
      "text/html": [
       "<div>\n",
       "<style scoped>\n",
       "    .dataframe tbody tr th:only-of-type {\n",
       "        vertical-align: middle;\n",
       "    }\n",
       "\n",
       "    .dataframe tbody tr th {\n",
       "        vertical-align: top;\n",
       "    }\n",
       "\n",
       "    .dataframe thead th {\n",
       "        text-align: right;\n",
       "    }\n",
       "</style>\n",
       "<table border=\"1\" class=\"dataframe\">\n",
       "  <thead>\n",
       "    <tr style=\"text-align: right;\">\n",
       "      <th></th>\n",
       "      <th>Date</th>\n",
       "      <th>Sales</th>\n",
       "      <th>MovingAverage</th>\n",
       "    </tr>\n",
       "  </thead>\n",
       "  <tbody>\n",
       "    <tr>\n",
       "      <th>0</th>\n",
       "      <td>2023-09-01</td>\n",
       "      <td>100</td>\n",
       "      <td>100.000000</td>\n",
       "    </tr>\n",
       "    <tr>\n",
       "      <th>1</th>\n",
       "      <td>2023-09-02</td>\n",
       "      <td>120</td>\n",
       "      <td>110.000000</td>\n",
       "    </tr>\n",
       "    <tr>\n",
       "      <th>2</th>\n",
       "      <td>2023-09-03</td>\n",
       "      <td>90</td>\n",
       "      <td>103.333333</td>\n",
       "    </tr>\n",
       "    <tr>\n",
       "      <th>3</th>\n",
       "      <td>2023-09-04</td>\n",
       "      <td>110</td>\n",
       "      <td>105.000000</td>\n",
       "    </tr>\n",
       "    <tr>\n",
       "      <th>4</th>\n",
       "      <td>2023-09-05</td>\n",
       "      <td>130</td>\n",
       "      <td>110.000000</td>\n",
       "    </tr>\n",
       "    <tr>\n",
       "      <th>5</th>\n",
       "      <td>2023-09-06</td>\n",
       "      <td>150</td>\n",
       "      <td>116.666667</td>\n",
       "    </tr>\n",
       "    <tr>\n",
       "      <th>6</th>\n",
       "      <td>2023-09-07</td>\n",
       "      <td>140</td>\n",
       "      <td>120.000000</td>\n",
       "    </tr>\n",
       "  </tbody>\n",
       "</table>\n",
       "</div>"
      ],
      "text/plain": [
       "        Date  Sales  MovingAverage\n",
       "0 2023-09-01    100     100.000000\n",
       "1 2023-09-02    120     110.000000\n",
       "2 2023-09-03     90     103.333333\n",
       "3 2023-09-04    110     105.000000\n",
       "4 2023-09-05    130     110.000000\n",
       "5 2023-09-06    150     116.666667\n",
       "6 2023-09-07    140     120.000000"
      ]
     },
     "execution_count": 66,
     "metadata": {},
     "output_type": "execute_result"
    }
   ],
   "source": [
    "import pandas as pd\n",
    "data = {'Date': ['2023-09-01', '2023-09-02', '2023-09-03', '2023-09-04', '2023-09-05', '2023-09-06', '2023-09-07'],\n",
    "        'Sales': [100, 120, 90, 110, 130, 150, 140]}\n",
    "df = pd.DataFrame(data)\n",
    "df['Date'] = pd.to_datetime(df['Date'])\n",
    "\n",
    "def moving_average(df):\n",
    "    \n",
    "    df = df.sort_values(by='Date')\n",
    "\n",
    "    df['MovingAverage'] = df['Sales'].rolling(window=7, min_periods=1).mean()\n",
    "    \n",
    "    return df\n",
    "\n",
    "moving_average(df)"
   ]
  },
  {
   "cell_type": "markdown",
   "id": "53abdd9d-90ab-4717-bb73-78d26c198e5e",
   "metadata": {},
   "source": [
    "#### Q11. You have a Pandas DataFrame df with a column 'Date'. Write a Python function that creates a new column 'Weekday' in the DataFrame. The 'Weekday' column should contain the weekday name (e.g. Monday, Tuesday) corresponding to each date in the 'Date' column."
   ]
  },
  {
   "cell_type": "markdown",
   "id": "45e4841a-f486-4cf1-b0f7-ad0c865cb24a",
   "metadata": {},
   "source": [
    "#### Answer:"
   ]
  },
  {
   "cell_type": "code",
   "execution_count": 6,
   "id": "7a671ff2-0613-4c22-b997-35a1503a8022",
   "metadata": {},
   "outputs": [],
   "source": [
    "import pandas as pd"
   ]
  },
  {
   "cell_type": "code",
   "execution_count": 8,
   "id": "432dbb52-bc7e-45d2-983c-0599baa9e674",
   "metadata": {},
   "outputs": [],
   "source": [
    "df = pandas.DataFrame({\"Date\":[\"2023-01-01\",\"2023-01-02\",\"2023-01-03\",\"2023-01-04\",\"2023-01-05\"]})"
   ]
  },
  {
   "cell_type": "code",
   "execution_count": 9,
   "id": "dead9aeb-2f60-46cd-aa58-571f9c891cf6",
   "metadata": {},
   "outputs": [],
   "source": [
    "df['Date'] = pandas.to_datetime(df['Date'])"
   ]
  },
  {
   "cell_type": "code",
   "execution_count": 10,
   "id": "7fca0bdd-30ab-4a42-9d3c-fb10ec336641",
   "metadata": {},
   "outputs": [
    {
     "data": {
      "text/html": [
       "<div>\n",
       "<style scoped>\n",
       "    .dataframe tbody tr th:only-of-type {\n",
       "        vertical-align: middle;\n",
       "    }\n",
       "\n",
       "    .dataframe tbody tr th {\n",
       "        vertical-align: top;\n",
       "    }\n",
       "\n",
       "    .dataframe thead th {\n",
       "        text-align: right;\n",
       "    }\n",
       "</style>\n",
       "<table border=\"1\" class=\"dataframe\">\n",
       "  <thead>\n",
       "    <tr style=\"text-align: right;\">\n",
       "      <th></th>\n",
       "      <th>Date</th>\n",
       "    </tr>\n",
       "  </thead>\n",
       "  <tbody>\n",
       "    <tr>\n",
       "      <th>0</th>\n",
       "      <td>2023-01-01</td>\n",
       "    </tr>\n",
       "    <tr>\n",
       "      <th>1</th>\n",
       "      <td>2023-01-02</td>\n",
       "    </tr>\n",
       "    <tr>\n",
       "      <th>2</th>\n",
       "      <td>2023-01-03</td>\n",
       "    </tr>\n",
       "    <tr>\n",
       "      <th>3</th>\n",
       "      <td>2023-01-04</td>\n",
       "    </tr>\n",
       "    <tr>\n",
       "      <th>4</th>\n",
       "      <td>2023-01-05</td>\n",
       "    </tr>\n",
       "  </tbody>\n",
       "</table>\n",
       "</div>"
      ],
      "text/plain": [
       "        Date\n",
       "0 2023-01-01\n",
       "1 2023-01-02\n",
       "2 2023-01-03\n",
       "3 2023-01-04\n",
       "4 2023-01-05"
      ]
     },
     "execution_count": 10,
     "metadata": {},
     "output_type": "execute_result"
    }
   ],
   "source": [
    "df"
   ]
  },
  {
   "cell_type": "code",
   "execution_count": 11,
   "id": "1ac9f985-426f-4df1-b0f3-32675b984c81",
   "metadata": {},
   "outputs": [
    {
     "data": {
      "text/html": [
       "<div>\n",
       "<style scoped>\n",
       "    .dataframe tbody tr th:only-of-type {\n",
       "        vertical-align: middle;\n",
       "    }\n",
       "\n",
       "    .dataframe tbody tr th {\n",
       "        vertical-align: top;\n",
       "    }\n",
       "\n",
       "    .dataframe thead th {\n",
       "        text-align: right;\n",
       "    }\n",
       "</style>\n",
       "<table border=\"1\" class=\"dataframe\">\n",
       "  <thead>\n",
       "    <tr style=\"text-align: right;\">\n",
       "      <th></th>\n",
       "      <th>Date</th>\n",
       "      <th>Weekday</th>\n",
       "    </tr>\n",
       "  </thead>\n",
       "  <tbody>\n",
       "    <tr>\n",
       "      <th>0</th>\n",
       "      <td>2023-01-01</td>\n",
       "      <td>Sunday</td>\n",
       "    </tr>\n",
       "    <tr>\n",
       "      <th>1</th>\n",
       "      <td>2023-01-02</td>\n",
       "      <td>Monday</td>\n",
       "    </tr>\n",
       "    <tr>\n",
       "      <th>2</th>\n",
       "      <td>2023-01-03</td>\n",
       "      <td>Tuesday</td>\n",
       "    </tr>\n",
       "    <tr>\n",
       "      <th>3</th>\n",
       "      <td>2023-01-04</td>\n",
       "      <td>Wednesday</td>\n",
       "    </tr>\n",
       "    <tr>\n",
       "      <th>4</th>\n",
       "      <td>2023-01-05</td>\n",
       "      <td>Thursday</td>\n",
       "    </tr>\n",
       "  </tbody>\n",
       "</table>\n",
       "</div>"
      ],
      "text/plain": [
       "        Date    Weekday\n",
       "0 2023-01-01     Sunday\n",
       "1 2023-01-02     Monday\n",
       "2 2023-01-03    Tuesday\n",
       "3 2023-01-04  Wednesday\n",
       "4 2023-01-05   Thursday"
      ]
     },
     "execution_count": 11,
     "metadata": {},
     "output_type": "execute_result"
    }
   ],
   "source": [
    "def add_weekday_column(df, date_column_name='Date', weekday_column_name='Weekday'):\n",
    " \n",
    "    if not pd.api.types.is_datetime64_any_dtype(df[date_column_name]):\n",
    "        df[date_column_name] = pd.to_datetime(df[date_column_name])\n",
    "    \n",
    "\n",
    "    df[weekday_column_name] = df[date_column_name].dt.strftime('%A')\n",
    "    \n",
    "    return df\n",
    "\n",
    "\n",
    "df = add_weekday_column(df)\n",
    "df"
   ]
  },
  {
   "cell_type": "markdown",
   "id": "46ce34b7-bb48-4d59-b97b-85fda74b8f02",
   "metadata": {},
   "source": [
    "#### Q12. Given a Pandas DataFrame df with a column 'Date' that contains timestamps, write a Python function to select all rows where the date is between '2023-01-01' and '2023-01-31'."
   ]
  },
  {
   "cell_type": "markdown",
   "id": "f1dbcefc-e8d2-4223-b0a3-615b546eb809",
   "metadata": {},
   "source": [
    "#### Answer:"
   ]
  },
  {
   "cell_type": "code",
   "execution_count": 18,
   "id": "a43f6e14-f44b-4e9b-96b3-c6e1fe545067",
   "metadata": {},
   "outputs": [],
   "source": [
    "import pandas\n",
    "date = pandas.date_range(start=\"2023-01-01\",end=\"2023-01-31\")"
   ]
  },
  {
   "cell_type": "code",
   "execution_count": 19,
   "id": "90ab5dec-ef2d-4e38-9ff6-86347df46ff4",
   "metadata": {},
   "outputs": [
    {
     "data": {
      "text/plain": [
       "DatetimeIndex(['2023-01-01', '2023-01-02', '2023-01-03', '2023-01-04',\n",
       "               '2023-01-05', '2023-01-06', '2023-01-07', '2023-01-08',\n",
       "               '2023-01-09', '2023-01-10', '2023-01-11', '2023-01-12',\n",
       "               '2023-01-13', '2023-01-14', '2023-01-15', '2023-01-16',\n",
       "               '2023-01-17', '2023-01-18', '2023-01-19', '2023-01-20',\n",
       "               '2023-01-21', '2023-01-22', '2023-01-23', '2023-01-24',\n",
       "               '2023-01-25', '2023-01-26', '2023-01-27', '2023-01-28',\n",
       "               '2023-01-29', '2023-01-30', '2023-01-31'],\n",
       "              dtype='datetime64[ns]', freq='D')"
      ]
     },
     "execution_count": 19,
     "metadata": {},
     "output_type": "execute_result"
    }
   ],
   "source": [
    "date"
   ]
  },
  {
   "cell_type": "code",
   "execution_count": 22,
   "id": "08d1d262-0898-4d83-bb67-635d26d8054d",
   "metadata": {},
   "outputs": [],
   "source": [
    "df = pandas.DataFrame({\"Date\":date})"
   ]
  },
  {
   "cell_type": "code",
   "execution_count": 41,
   "id": "54279a6b-642b-4bc9-816b-a06314d5883c",
   "metadata": {},
   "outputs": [],
   "source": [
    "df['Days'] = df['Date'].dt.day"
   ]
  },
  {
   "cell_type": "code",
   "execution_count": 42,
   "id": "907dbb4e-d348-4a1a-a3d8-832f546fdf46",
   "metadata": {},
   "outputs": [
    {
     "data": {
      "text/html": [
       "<div>\n",
       "<style scoped>\n",
       "    .dataframe tbody tr th:only-of-type {\n",
       "        vertical-align: middle;\n",
       "    }\n",
       "\n",
       "    .dataframe tbody tr th {\n",
       "        vertical-align: top;\n",
       "    }\n",
       "\n",
       "    .dataframe thead th {\n",
       "        text-align: right;\n",
       "    }\n",
       "</style>\n",
       "<table border=\"1\" class=\"dataframe\">\n",
       "  <thead>\n",
       "    <tr style=\"text-align: right;\">\n",
       "      <th></th>\n",
       "      <th>Date</th>\n",
       "      <th>Days</th>\n",
       "    </tr>\n",
       "  </thead>\n",
       "  <tbody>\n",
       "    <tr>\n",
       "      <th>0</th>\n",
       "      <td>2023-01-01</td>\n",
       "      <td>1</td>\n",
       "    </tr>\n",
       "    <tr>\n",
       "      <th>1</th>\n",
       "      <td>2023-01-02</td>\n",
       "      <td>2</td>\n",
       "    </tr>\n",
       "    <tr>\n",
       "      <th>2</th>\n",
       "      <td>2023-01-03</td>\n",
       "      <td>3</td>\n",
       "    </tr>\n",
       "    <tr>\n",
       "      <th>3</th>\n",
       "      <td>2023-01-04</td>\n",
       "      <td>4</td>\n",
       "    </tr>\n",
       "    <tr>\n",
       "      <th>4</th>\n",
       "      <td>2023-01-05</td>\n",
       "      <td>5</td>\n",
       "    </tr>\n",
       "    <tr>\n",
       "      <th>5</th>\n",
       "      <td>2023-01-06</td>\n",
       "      <td>6</td>\n",
       "    </tr>\n",
       "    <tr>\n",
       "      <th>6</th>\n",
       "      <td>2023-01-07</td>\n",
       "      <td>7</td>\n",
       "    </tr>\n",
       "    <tr>\n",
       "      <th>7</th>\n",
       "      <td>2023-01-08</td>\n",
       "      <td>8</td>\n",
       "    </tr>\n",
       "    <tr>\n",
       "      <th>8</th>\n",
       "      <td>2023-01-09</td>\n",
       "      <td>9</td>\n",
       "    </tr>\n",
       "    <tr>\n",
       "      <th>9</th>\n",
       "      <td>2023-01-10</td>\n",
       "      <td>10</td>\n",
       "    </tr>\n",
       "    <tr>\n",
       "      <th>10</th>\n",
       "      <td>2023-01-11</td>\n",
       "      <td>11</td>\n",
       "    </tr>\n",
       "    <tr>\n",
       "      <th>11</th>\n",
       "      <td>2023-01-12</td>\n",
       "      <td>12</td>\n",
       "    </tr>\n",
       "    <tr>\n",
       "      <th>12</th>\n",
       "      <td>2023-01-13</td>\n",
       "      <td>13</td>\n",
       "    </tr>\n",
       "    <tr>\n",
       "      <th>13</th>\n",
       "      <td>2023-01-14</td>\n",
       "      <td>14</td>\n",
       "    </tr>\n",
       "    <tr>\n",
       "      <th>14</th>\n",
       "      <td>2023-01-15</td>\n",
       "      <td>15</td>\n",
       "    </tr>\n",
       "    <tr>\n",
       "      <th>15</th>\n",
       "      <td>2023-01-16</td>\n",
       "      <td>16</td>\n",
       "    </tr>\n",
       "    <tr>\n",
       "      <th>16</th>\n",
       "      <td>2023-01-17</td>\n",
       "      <td>17</td>\n",
       "    </tr>\n",
       "    <tr>\n",
       "      <th>17</th>\n",
       "      <td>2023-01-18</td>\n",
       "      <td>18</td>\n",
       "    </tr>\n",
       "    <tr>\n",
       "      <th>18</th>\n",
       "      <td>2023-01-19</td>\n",
       "      <td>19</td>\n",
       "    </tr>\n",
       "    <tr>\n",
       "      <th>19</th>\n",
       "      <td>2023-01-20</td>\n",
       "      <td>20</td>\n",
       "    </tr>\n",
       "    <tr>\n",
       "      <th>20</th>\n",
       "      <td>2023-01-21</td>\n",
       "      <td>21</td>\n",
       "    </tr>\n",
       "    <tr>\n",
       "      <th>21</th>\n",
       "      <td>2023-01-22</td>\n",
       "      <td>22</td>\n",
       "    </tr>\n",
       "    <tr>\n",
       "      <th>22</th>\n",
       "      <td>2023-01-23</td>\n",
       "      <td>23</td>\n",
       "    </tr>\n",
       "    <tr>\n",
       "      <th>23</th>\n",
       "      <td>2023-01-24</td>\n",
       "      <td>24</td>\n",
       "    </tr>\n",
       "    <tr>\n",
       "      <th>24</th>\n",
       "      <td>2023-01-25</td>\n",
       "      <td>25</td>\n",
       "    </tr>\n",
       "    <tr>\n",
       "      <th>25</th>\n",
       "      <td>2023-01-26</td>\n",
       "      <td>26</td>\n",
       "    </tr>\n",
       "    <tr>\n",
       "      <th>26</th>\n",
       "      <td>2023-01-27</td>\n",
       "      <td>27</td>\n",
       "    </tr>\n",
       "    <tr>\n",
       "      <th>27</th>\n",
       "      <td>2023-01-28</td>\n",
       "      <td>28</td>\n",
       "    </tr>\n",
       "    <tr>\n",
       "      <th>28</th>\n",
       "      <td>2023-01-29</td>\n",
       "      <td>29</td>\n",
       "    </tr>\n",
       "    <tr>\n",
       "      <th>29</th>\n",
       "      <td>2023-01-30</td>\n",
       "      <td>30</td>\n",
       "    </tr>\n",
       "    <tr>\n",
       "      <th>30</th>\n",
       "      <td>2023-01-31</td>\n",
       "      <td>31</td>\n",
       "    </tr>\n",
       "  </tbody>\n",
       "</table>\n",
       "</div>"
      ],
      "text/plain": [
       "         Date  Days\n",
       "0  2023-01-01     1\n",
       "1  2023-01-02     2\n",
       "2  2023-01-03     3\n",
       "3  2023-01-04     4\n",
       "4  2023-01-05     5\n",
       "5  2023-01-06     6\n",
       "6  2023-01-07     7\n",
       "7  2023-01-08     8\n",
       "8  2023-01-09     9\n",
       "9  2023-01-10    10\n",
       "10 2023-01-11    11\n",
       "11 2023-01-12    12\n",
       "12 2023-01-13    13\n",
       "13 2023-01-14    14\n",
       "14 2023-01-15    15\n",
       "15 2023-01-16    16\n",
       "16 2023-01-17    17\n",
       "17 2023-01-18    18\n",
       "18 2023-01-19    19\n",
       "19 2023-01-20    20\n",
       "20 2023-01-21    21\n",
       "21 2023-01-22    22\n",
       "22 2023-01-23    23\n",
       "23 2023-01-24    24\n",
       "24 2023-01-25    25\n",
       "25 2023-01-26    26\n",
       "26 2023-01-27    27\n",
       "27 2023-01-28    28\n",
       "28 2023-01-29    29\n",
       "29 2023-01-30    30\n",
       "30 2023-01-31    31"
      ]
     },
     "execution_count": 42,
     "metadata": {},
     "output_type": "execute_result"
    }
   ],
   "source": [
    "df"
   ]
  },
  {
   "cell_type": "markdown",
   "id": "d2ba7ac1-96f4-4a38-abd8-1f3e65fe5520",
   "metadata": {},
   "source": [
    "#### Q13. To use the basic functions of pandas, what is the first and foremost necessary library that needs to be imported?"
   ]
  },
  {
   "cell_type": "markdown",
   "id": "ff3bcf98-64cc-4abc-9240-453c6c14fb98",
   "metadata": {},
   "source": [
    "#### Answer:"
   ]
  },
  {
   "cell_type": "markdown",
   "id": "fc5b8b21-6e99-40fb-ad9e-a51d9328c019",
   "metadata": {},
   "source": [
    "To use the basic functions of pandas, the first and foremost library that needs to be imported is the pandas library "
   ]
  },
  {
   "cell_type": "code",
   "execution_count": 44,
   "id": "e5fa2b2b-06b9-4150-9dac-437210316c5d",
   "metadata": {},
   "outputs": [],
   "source": [
    "import pandas as pd"
   ]
  }
 ],
 "metadata": {
  "kernelspec": {
   "display_name": "Python 3 (ipykernel)",
   "language": "python",
   "name": "python3"
  },
  "language_info": {
   "codemirror_mode": {
    "name": "ipython",
    "version": 3
   },
   "file_extension": ".py",
   "mimetype": "text/x-python",
   "name": "python",
   "nbconvert_exporter": "python",
   "pygments_lexer": "ipython3",
   "version": "3.11.5"
  }
 },
 "nbformat": 4,
 "nbformat_minor": 5
}

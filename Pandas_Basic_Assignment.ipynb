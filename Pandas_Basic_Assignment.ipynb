{
 "cells": [
  {
   "cell_type": "markdown",
   "id": "ee3a0ad1-e2e6-4de5-a8ae-be6fe25d16b5",
   "metadata": {},
   "source": [
    "### <b>Pandas Assignment</b>"
   ]
  },
  {
   "cell_type": "markdown",
   "id": "4b82c3e3-9e6c-41e0-a0a8-241f8d760164",
   "metadata": {},
   "source": [
    "#### Q1. Create a Pandas Series that contains the following data: 4, 8, 15, 16, 23, and 42. Then, print the series."
   ]
  },
  {
   "cell_type": "markdown",
   "id": "07eaac0b-bd01-49be-be67-bd7a0007f82d",
   "metadata": {},
   "source": [
    "#### Answer:"
   ]
  },
  {
   "cell_type": "code",
   "execution_count": 1,
   "id": "d56dd32c-fb35-405d-8ac9-d5519d6861ea",
   "metadata": {},
   "outputs": [],
   "source": [
    "import pandas"
   ]
  },
  {
   "cell_type": "code",
   "execution_count": 11,
   "id": "e7ad8ef6-51f1-419b-a61b-f3852beb1545",
   "metadata": {},
   "outputs": [],
   "source": [
    "S = pandas.Series([4,8,15,16,23,42])"
   ]
  },
  {
   "cell_type": "code",
   "execution_count": 12,
   "id": "7d95ab57-faf0-4cbb-a4fb-c203d192fd71",
   "metadata": {},
   "outputs": [
    {
     "data": {
      "text/plain": [
       "pandas.core.series.Series"
      ]
     },
     "execution_count": 12,
     "metadata": {},
     "output_type": "execute_result"
    }
   ],
   "source": [
    "type(S)"
   ]
  },
  {
   "cell_type": "code",
   "execution_count": 13,
   "id": "813c299e-fa6f-47e1-9bf1-f509307e16d5",
   "metadata": {},
   "outputs": [
    {
     "name": "stdout",
     "output_type": "stream",
     "text": [
      "0     4\n",
      "1     8\n",
      "2    15\n",
      "3    16\n",
      "4    23\n",
      "5    42\n",
      "dtype: int64\n"
     ]
    }
   ],
   "source": [
    "print(S)"
   ]
  },
  {
   "cell_type": "markdown",
   "id": "972f9e91-132f-4f08-924c-1a4c5e998480",
   "metadata": {},
   "source": [
    "#### Q2. Create a variable of list type containing 10 elements in it, and apply pandas. Series function on the variable print it."
   ]
  },
  {
   "cell_type": "markdown",
   "id": "e772b988-a764-4455-ba1e-f8ff9e91f596",
   "metadata": {},
   "source": [
    "#### Answer:"
   ]
  },
  {
   "cell_type": "code",
   "execution_count": 14,
   "id": "9d758e7f-ffdb-4054-b504-02d04f97922c",
   "metadata": {},
   "outputs": [],
   "source": [
    "list = [2,3,4,5,7,8,9,6,1,0]"
   ]
  },
  {
   "cell_type": "code",
   "execution_count": 16,
   "id": "f2c8c3b3-10ad-4073-bd93-0cc656b09250",
   "metadata": {},
   "outputs": [
    {
     "data": {
      "text/plain": [
       "10"
      ]
     },
     "execution_count": 16,
     "metadata": {},
     "output_type": "execute_result"
    }
   ],
   "source": [
    "len(list)"
   ]
  },
  {
   "cell_type": "code",
   "execution_count": 17,
   "id": "a234fc8b-3efd-47eb-a616-c3eef9b3f44e",
   "metadata": {},
   "outputs": [],
   "source": [
    "s = pandas.Series(list)"
   ]
  },
  {
   "cell_type": "code",
   "execution_count": 18,
   "id": "c67d8b8a-f7dc-4686-a6ba-4126153d50dd",
   "metadata": {},
   "outputs": [
    {
     "name": "stdout",
     "output_type": "stream",
     "text": [
      "0    2\n",
      "1    3\n",
      "2    4\n",
      "3    5\n",
      "4    7\n",
      "5    8\n",
      "6    9\n",
      "7    6\n",
      "8    1\n",
      "9    0\n",
      "dtype: int64\n"
     ]
    }
   ],
   "source": [
    "print(s)"
   ]
  },
  {
   "cell_type": "markdown",
   "id": "d61b1c98-6f23-4e04-97fe-248248d0434e",
   "metadata": {},
   "source": [
    "#### Q3. Create a Pandas DataFrame that contains the following data."
   ]
  },
  {
   "cell_type": "markdown",
   "id": "d9b8027a-8082-46fb-971c-9d34d201aa53",
   "metadata": {},
   "source": [
    "#### Answer:"
   ]
  },
  {
   "cell_type": "code",
   "execution_count": 19,
   "id": "4d5abb1c-0f41-4794-aef7-e561aa135b2c",
   "metadata": {},
   "outputs": [],
   "source": [
    "data = {\n",
    "    \"Name\":[\"Alice\",\"Bob\",\"Claire\"],\n",
    "    \"Age\":[25,30,27],\n",
    "    \"Gender\":[\"Female\",\"Male\",\"Female\"]\n",
    "}"
   ]
  },
  {
   "cell_type": "code",
   "execution_count": 20,
   "id": "a63f83a0-d04d-4384-840b-6952893f3070",
   "metadata": {},
   "outputs": [],
   "source": [
    "df = pandas.DataFrame(data)"
   ]
  },
  {
   "cell_type": "code",
   "execution_count": 23,
   "id": "dcf7edb8-6aa4-4aad-8b4a-a9fd6c87fc0a",
   "metadata": {},
   "outputs": [
    {
     "data": {
      "text/html": [
       "<div>\n",
       "<style scoped>\n",
       "    .dataframe tbody tr th:only-of-type {\n",
       "        vertical-align: middle;\n",
       "    }\n",
       "\n",
       "    .dataframe tbody tr th {\n",
       "        vertical-align: top;\n",
       "    }\n",
       "\n",
       "    .dataframe thead th {\n",
       "        text-align: right;\n",
       "    }\n",
       "</style>\n",
       "<table border=\"1\" class=\"dataframe\">\n",
       "  <thead>\n",
       "    <tr style=\"text-align: right;\">\n",
       "      <th></th>\n",
       "      <th>Name</th>\n",
       "      <th>Age</th>\n",
       "      <th>Gender</th>\n",
       "    </tr>\n",
       "  </thead>\n",
       "  <tbody>\n",
       "    <tr>\n",
       "      <th>0</th>\n",
       "      <td>Alice</td>\n",
       "      <td>25</td>\n",
       "      <td>Female</td>\n",
       "    </tr>\n",
       "    <tr>\n",
       "      <th>1</th>\n",
       "      <td>Bob</td>\n",
       "      <td>30</td>\n",
       "      <td>Male</td>\n",
       "    </tr>\n",
       "    <tr>\n",
       "      <th>2</th>\n",
       "      <td>Claire</td>\n",
       "      <td>27</td>\n",
       "      <td>Female</td>\n",
       "    </tr>\n",
       "  </tbody>\n",
       "</table>\n",
       "</div>"
      ],
      "text/plain": [
       "     Name  Age  Gender\n",
       "0   Alice   25  Female\n",
       "1     Bob   30    Male\n",
       "2  Claire   27  Female"
      ]
     },
     "execution_count": 23,
     "metadata": {},
     "output_type": "execute_result"
    }
   ],
   "source": [
    "df"
   ]
  },
  {
   "cell_type": "markdown",
   "id": "01edc0ca-e51e-42ed-96da-c2c105c37bd1",
   "metadata": {},
   "source": [
    "#### Q4. What is ‘DataFrame’ in pandas and how is it different from pandas.series? Explain with an example."
   ]
  },
  {
   "cell_type": "markdown",
   "id": "e7510004-0a14-4fb5-b7ee-4dd6396924ca",
   "metadata": {},
   "source": [
    "#### Answer:"
   ]
  },
  {
   "cell_type": "markdown",
   "id": "f8c67d24-e2bc-4f7e-b0fd-6ecefb7541c1",
   "metadata": {},
   "source": [
    "A DataFrame in Pandas is a two-dimensional, size-mutable, and potentially heterogeneous tabular data structure with labeled axes (rows and columns). It can be thought of as a collection of Pandas Series objects, where each column represents a Series, and the entire DataFrame is like a spreadsheet or a SQL table"
   ]
  },
  {
   "cell_type": "code",
   "execution_count": 29,
   "id": "4a27d513-e8c7-4f1c-acd1-055c2d5f213d",
   "metadata": {},
   "outputs": [
    {
     "name": "stdout",
     "output_type": "stream",
     "text": [
      "Pandas Series:\n",
      "0    10\n",
      "1    20\n",
      "2    30\n",
      "3    40\n",
      "4    50\n",
      "Name: Numbers, dtype: int64\n",
      "<class 'pandas.core.series.Series'>\n",
      "\n",
      "Pandas DataFrame:\n",
      "      Name  Age\n",
      "0    Alice   25\n",
      "1      Bob   30\n",
      "2  Charlie   35\n",
      "3    David   40\n",
      "4      Eve   45\n",
      "<class 'pandas.core.frame.DataFrame'>\n"
     ]
    }
   ],
   "source": [
    "import pandas as pd\n",
    "\n",
    "series_data = pd.Series([10, 20, 30, 40, 50], name='Numbers')\n",
    "\n",
    "dataframe_data = pd.DataFrame({'Name': ['Alice', 'Bob', 'Charlie', 'David', 'Eve'],\n",
    "                               'Age': [25, 30, 35, 40, 45]})\n",
    "\n",
    "\n",
    "print(\"Pandas Series:\")\n",
    "print(series_data)\n",
    "print(type(series_data))\n",
    "\n",
    "print(\"\\nPandas DataFrame:\")\n",
    "print(dataframe_data)\n",
    "print(type(dataframe_data))\n"
   ]
  },
  {
   "cell_type": "markdown",
   "id": "ecee8aef-b134-4530-9f29-ab97bf7c2f5f",
   "metadata": {},
   "source": [
    "#### Q5. What are some common functions you can use to manipulate data in a Pandas DataFrame? Can you give an example of when you might use one of these functions?"
   ]
  },
  {
   "cell_type": "markdown",
   "id": "4b34ecc3-e309-46e0-8b54-339c3b027fe8",
   "metadata": {},
   "source": [
    "#### Answer:"
   ]
  },
  {
   "cell_type": "markdown",
   "id": "f8a5f819-da31-408f-ae6f-d90a9854bd21",
   "metadata": {},
   "source": [
    "#### 1. Filtering Data:"
   ]
  },
  {
   "cell_type": "code",
   "execution_count": 1,
   "id": "7227b4fd-609f-437b-8c3d-618ef527791a",
   "metadata": {},
   "outputs": [],
   "source": [
    "import pandas"
   ]
  },
  {
   "cell_type": "code",
   "execution_count": 24,
   "id": "72df0165-a8b7-4eff-8651-5882e0ba2e41",
   "metadata": {},
   "outputs": [],
   "source": [
    "data1 = {\n",
    "    \"Name\":[\"Subh\",\"Krish\",\"Navin\"],\n",
    "    \"Age\":[29,25,30],\n",
    "    \"Gender\":[\"Male\",\"Male\",\"Male\"],\n",
    "    \"Salary\":[200000,350000,50000],\n",
    "    \"Department\":[\"Data Analytics\",\"Data Scientist\",\"Data Engineer\"],\n",
    "    \"DepartmentID\":[2239,9923,6212]\n",
    "    \n",
    "}\n",
    "df1 = pandas.DataFrame(data1)"
   ]
  },
  {
   "cell_type": "code",
   "execution_count": 25,
   "id": "1458df1b-ddd2-46c0-96f2-905dbec64337",
   "metadata": {},
   "outputs": [],
   "source": [
    "filtered_df = df1[df1['Age']<30]"
   ]
  },
  {
   "cell_type": "code",
   "execution_count": 26,
   "id": "824ee072-d698-47ce-b98b-7a601f94fd32",
   "metadata": {},
   "outputs": [
    {
     "data": {
      "text/html": [
       "<div>\n",
       "<style scoped>\n",
       "    .dataframe tbody tr th:only-of-type {\n",
       "        vertical-align: middle;\n",
       "    }\n",
       "\n",
       "    .dataframe tbody tr th {\n",
       "        vertical-align: top;\n",
       "    }\n",
       "\n",
       "    .dataframe thead th {\n",
       "        text-align: right;\n",
       "    }\n",
       "</style>\n",
       "<table border=\"1\" class=\"dataframe\">\n",
       "  <thead>\n",
       "    <tr style=\"text-align: right;\">\n",
       "      <th></th>\n",
       "      <th>Name</th>\n",
       "      <th>Age</th>\n",
       "      <th>Gender</th>\n",
       "      <th>Salary</th>\n",
       "      <th>Department</th>\n",
       "      <th>DepartmentID</th>\n",
       "    </tr>\n",
       "  </thead>\n",
       "  <tbody>\n",
       "    <tr>\n",
       "      <th>0</th>\n",
       "      <td>Subh</td>\n",
       "      <td>29</td>\n",
       "      <td>Male</td>\n",
       "      <td>200000</td>\n",
       "      <td>Data Analytics</td>\n",
       "      <td>2239</td>\n",
       "    </tr>\n",
       "    <tr>\n",
       "      <th>1</th>\n",
       "      <td>Krish</td>\n",
       "      <td>25</td>\n",
       "      <td>Male</td>\n",
       "      <td>350000</td>\n",
       "      <td>Data Scientist</td>\n",
       "      <td>9923</td>\n",
       "    </tr>\n",
       "  </tbody>\n",
       "</table>\n",
       "</div>"
      ],
      "text/plain": [
       "    Name  Age Gender  Salary      Department  DepartmentID\n",
       "0   Subh   29   Male  200000  Data Analytics          2239\n",
       "1  Krish   25   Male  350000  Data Scientist          9923"
      ]
     },
     "execution_count": 26,
     "metadata": {},
     "output_type": "execute_result"
    }
   ],
   "source": [
    "filtered_df"
   ]
  },
  {
   "cell_type": "markdown",
   "id": "0581eb1b-4916-4b4c-9abc-cd60cdf4815a",
   "metadata": {},
   "source": [
    "#### 2. Sorting Data:"
   ]
  },
  {
   "cell_type": "code",
   "execution_count": 27,
   "id": "f500a328-daed-4a05-b2f2-aee5d6086da0",
   "metadata": {},
   "outputs": [],
   "source": [
    "sorted_df = df1.sort_values('Age', ascending=False)"
   ]
  },
  {
   "cell_type": "code",
   "execution_count": 28,
   "id": "846f455c-89da-43d4-a84a-6886e3282a69",
   "metadata": {},
   "outputs": [
    {
     "data": {
      "text/html": [
       "<div>\n",
       "<style scoped>\n",
       "    .dataframe tbody tr th:only-of-type {\n",
       "        vertical-align: middle;\n",
       "    }\n",
       "\n",
       "    .dataframe tbody tr th {\n",
       "        vertical-align: top;\n",
       "    }\n",
       "\n",
       "    .dataframe thead th {\n",
       "        text-align: right;\n",
       "    }\n",
       "</style>\n",
       "<table border=\"1\" class=\"dataframe\">\n",
       "  <thead>\n",
       "    <tr style=\"text-align: right;\">\n",
       "      <th></th>\n",
       "      <th>Name</th>\n",
       "      <th>Age</th>\n",
       "      <th>Gender</th>\n",
       "      <th>Salary</th>\n",
       "      <th>Department</th>\n",
       "      <th>DepartmentID</th>\n",
       "    </tr>\n",
       "  </thead>\n",
       "  <tbody>\n",
       "    <tr>\n",
       "      <th>2</th>\n",
       "      <td>Navin</td>\n",
       "      <td>30</td>\n",
       "      <td>Male</td>\n",
       "      <td>50000</td>\n",
       "      <td>Data Engineer</td>\n",
       "      <td>6212</td>\n",
       "    </tr>\n",
       "    <tr>\n",
       "      <th>0</th>\n",
       "      <td>Subh</td>\n",
       "      <td>29</td>\n",
       "      <td>Male</td>\n",
       "      <td>200000</td>\n",
       "      <td>Data Analytics</td>\n",
       "      <td>2239</td>\n",
       "    </tr>\n",
       "    <tr>\n",
       "      <th>1</th>\n",
       "      <td>Krish</td>\n",
       "      <td>25</td>\n",
       "      <td>Male</td>\n",
       "      <td>350000</td>\n",
       "      <td>Data Scientist</td>\n",
       "      <td>9923</td>\n",
       "    </tr>\n",
       "  </tbody>\n",
       "</table>\n",
       "</div>"
      ],
      "text/plain": [
       "    Name  Age Gender  Salary      Department  DepartmentID\n",
       "2  Navin   30   Male   50000   Data Engineer          6212\n",
       "0   Subh   29   Male  200000  Data Analytics          2239\n",
       "1  Krish   25   Male  350000  Data Scientist          9923"
      ]
     },
     "execution_count": 28,
     "metadata": {},
     "output_type": "execute_result"
    }
   ],
   "source": [
    "sorted_df"
   ]
  },
  {
   "cell_type": "markdown",
   "id": "82697d94-473c-4926-9b24-65a25a6391fc",
   "metadata": {},
   "source": [
    "#### 3. Grouping and Aggregating Data:"
   ]
  },
  {
   "cell_type": "code",
   "execution_count": 29,
   "id": "aa358c35-e20f-4ad3-aa60-7e094336eed8",
   "metadata": {},
   "outputs": [],
   "source": [
    "avg_salary_by_dept = df1.groupby('Department')['Salary'].mean()"
   ]
  },
  {
   "cell_type": "code",
   "execution_count": 30,
   "id": "d19490c6-2fb7-44d3-a825-eec649fc0d35",
   "metadata": {},
   "outputs": [
    {
     "data": {
      "text/plain": [
       "Department\n",
       "Data Analytics    200000.0\n",
       "Data Engineer      50000.0\n",
       "Data Scientist    350000.0\n",
       "Name: Salary, dtype: float64"
      ]
     },
     "execution_count": 30,
     "metadata": {},
     "output_type": "execute_result"
    }
   ],
   "source": [
    "avg_salary_by_dept"
   ]
  },
  {
   "cell_type": "code",
   "execution_count": 54,
   "id": "4976521b-c226-4f2a-941a-ae12739bdcda",
   "metadata": {},
   "outputs": [],
   "source": [
    "df2 = pandas.DataFrame({\"DepartmentID\":[6212,2239,9923],\"Location\":[\"Banglore\",\"Mumbai\",\"Delhi\"]})"
   ]
  },
  {
   "cell_type": "code",
   "execution_count": 55,
   "id": "a29324a7-e479-4904-9a0f-d925e0564afc",
   "metadata": {},
   "outputs": [
    {
     "data": {
      "text/html": [
       "<div>\n",
       "<style scoped>\n",
       "    .dataframe tbody tr th:only-of-type {\n",
       "        vertical-align: middle;\n",
       "    }\n",
       "\n",
       "    .dataframe tbody tr th {\n",
       "        vertical-align: top;\n",
       "    }\n",
       "\n",
       "    .dataframe thead th {\n",
       "        text-align: right;\n",
       "    }\n",
       "</style>\n",
       "<table border=\"1\" class=\"dataframe\">\n",
       "  <thead>\n",
       "    <tr style=\"text-align: right;\">\n",
       "      <th></th>\n",
       "      <th>DepartmentID</th>\n",
       "      <th>Location</th>\n",
       "    </tr>\n",
       "  </thead>\n",
       "  <tbody>\n",
       "    <tr>\n",
       "      <th>0</th>\n",
       "      <td>6212</td>\n",
       "      <td>Banglore</td>\n",
       "    </tr>\n",
       "    <tr>\n",
       "      <th>1</th>\n",
       "      <td>2239</td>\n",
       "      <td>Mumbai</td>\n",
       "    </tr>\n",
       "    <tr>\n",
       "      <th>2</th>\n",
       "      <td>9923</td>\n",
       "      <td>Delhi</td>\n",
       "    </tr>\n",
       "  </tbody>\n",
       "</table>\n",
       "</div>"
      ],
      "text/plain": [
       "   DepartmentID  Location\n",
       "0          6212  Banglore\n",
       "1          2239    Mumbai\n",
       "2          9923     Delhi"
      ]
     },
     "execution_count": 55,
     "metadata": {},
     "output_type": "execute_result"
    }
   ],
   "source": [
    "df2"
   ]
  },
  {
   "cell_type": "markdown",
   "id": "b6023de3-c6e3-4134-b42e-ee1b0758f170",
   "metadata": {},
   "source": [
    "#### 4. Merging and Joining Data:\n",
    "\n",
    "pandas.concat() and DataFrame.merge(): Combine multiple DataFrames into one or merge DataFrames based on a common column."
   ]
  },
  {
   "cell_type": "code",
   "execution_count": 56,
   "id": "ea28fbc2-45aa-428d-99a5-bde7e6a7a2e2",
   "metadata": {},
   "outputs": [],
   "source": [
    "merge = pandas.merge(df1,df2,on=\"DepartmentID\")"
   ]
  },
  {
   "cell_type": "code",
   "execution_count": 57,
   "id": "5cb5ab5d-5bdf-4f10-a56f-5b7d4fa9c209",
   "metadata": {},
   "outputs": [
    {
     "data": {
      "text/html": [
       "<div>\n",
       "<style scoped>\n",
       "    .dataframe tbody tr th:only-of-type {\n",
       "        vertical-align: middle;\n",
       "    }\n",
       "\n",
       "    .dataframe tbody tr th {\n",
       "        vertical-align: top;\n",
       "    }\n",
       "\n",
       "    .dataframe thead th {\n",
       "        text-align: right;\n",
       "    }\n",
       "</style>\n",
       "<table border=\"1\" class=\"dataframe\">\n",
       "  <thead>\n",
       "    <tr style=\"text-align: right;\">\n",
       "      <th></th>\n",
       "      <th>Name</th>\n",
       "      <th>Age</th>\n",
       "      <th>Gender</th>\n",
       "      <th>Salary</th>\n",
       "      <th>Department</th>\n",
       "      <th>DepartmentID</th>\n",
       "      <th>Location</th>\n",
       "    </tr>\n",
       "  </thead>\n",
       "  <tbody>\n",
       "    <tr>\n",
       "      <th>0</th>\n",
       "      <td>Subh</td>\n",
       "      <td>29</td>\n",
       "      <td>Male</td>\n",
       "      <td>200000</td>\n",
       "      <td>Data Analytics</td>\n",
       "      <td>2239</td>\n",
       "      <td>Mumbai</td>\n",
       "    </tr>\n",
       "    <tr>\n",
       "      <th>1</th>\n",
       "      <td>Krish</td>\n",
       "      <td>25</td>\n",
       "      <td>Male</td>\n",
       "      <td>350000</td>\n",
       "      <td>Data Scientist</td>\n",
       "      <td>9923</td>\n",
       "      <td>Delhi</td>\n",
       "    </tr>\n",
       "    <tr>\n",
       "      <th>2</th>\n",
       "      <td>Navin</td>\n",
       "      <td>30</td>\n",
       "      <td>Male</td>\n",
       "      <td>50000</td>\n",
       "      <td>Data Engineer</td>\n",
       "      <td>6212</td>\n",
       "      <td>Banglore</td>\n",
       "    </tr>\n",
       "  </tbody>\n",
       "</table>\n",
       "</div>"
      ],
      "text/plain": [
       "    Name  Age Gender  Salary      Department  DepartmentID  Location\n",
       "0   Subh   29   Male  200000  Data Analytics          2239    Mumbai\n",
       "1  Krish   25   Male  350000  Data Scientist          9923     Delhi\n",
       "2  Navin   30   Male   50000   Data Engineer          6212  Banglore"
      ]
     },
     "execution_count": 57,
     "metadata": {},
     "output_type": "execute_result"
    }
   ],
   "source": [
    "merge"
   ]
  },
  {
   "cell_type": "code",
   "execution_count": 74,
   "id": "a9d43281-01ee-4ccd-862c-15369f30370a",
   "metadata": {},
   "outputs": [],
   "source": [
    "df3 = pandas.concat([df1,df2])"
   ]
  },
  {
   "cell_type": "code",
   "execution_count": 75,
   "id": "5da35467-6c1f-4ea6-a821-9b301738806a",
   "metadata": {},
   "outputs": [
    {
     "data": {
      "text/html": [
       "<div>\n",
       "<style scoped>\n",
       "    .dataframe tbody tr th:only-of-type {\n",
       "        vertical-align: middle;\n",
       "    }\n",
       "\n",
       "    .dataframe tbody tr th {\n",
       "        vertical-align: top;\n",
       "    }\n",
       "\n",
       "    .dataframe thead th {\n",
       "        text-align: right;\n",
       "    }\n",
       "</style>\n",
       "<table border=\"1\" class=\"dataframe\">\n",
       "  <thead>\n",
       "    <tr style=\"text-align: right;\">\n",
       "      <th></th>\n",
       "      <th>Name</th>\n",
       "      <th>Age</th>\n",
       "      <th>Gender</th>\n",
       "      <th>Salary</th>\n",
       "      <th>Department</th>\n",
       "      <th>DepartmentID</th>\n",
       "      <th>Location</th>\n",
       "    </tr>\n",
       "  </thead>\n",
       "  <tbody>\n",
       "    <tr>\n",
       "      <th>0</th>\n",
       "      <td>Subh</td>\n",
       "      <td>29.0</td>\n",
       "      <td>Male</td>\n",
       "      <td>200000.0</td>\n",
       "      <td>Data Analytics</td>\n",
       "      <td>2239</td>\n",
       "      <td>NaN</td>\n",
       "    </tr>\n",
       "    <tr>\n",
       "      <th>1</th>\n",
       "      <td>Krish</td>\n",
       "      <td>25.0</td>\n",
       "      <td>Male</td>\n",
       "      <td>350000.0</td>\n",
       "      <td>Data Scientist</td>\n",
       "      <td>9923</td>\n",
       "      <td>NaN</td>\n",
       "    </tr>\n",
       "    <tr>\n",
       "      <th>2</th>\n",
       "      <td>Navin</td>\n",
       "      <td>30.0</td>\n",
       "      <td>Male</td>\n",
       "      <td>50000.0</td>\n",
       "      <td>Data Engineer</td>\n",
       "      <td>6212</td>\n",
       "      <td>NaN</td>\n",
       "    </tr>\n",
       "    <tr>\n",
       "      <th>0</th>\n",
       "      <td>NaN</td>\n",
       "      <td>NaN</td>\n",
       "      <td>NaN</td>\n",
       "      <td>NaN</td>\n",
       "      <td>NaN</td>\n",
       "      <td>6212</td>\n",
       "      <td>Banglore</td>\n",
       "    </tr>\n",
       "    <tr>\n",
       "      <th>1</th>\n",
       "      <td>NaN</td>\n",
       "      <td>NaN</td>\n",
       "      <td>NaN</td>\n",
       "      <td>NaN</td>\n",
       "      <td>NaN</td>\n",
       "      <td>2239</td>\n",
       "      <td>Mumbai</td>\n",
       "    </tr>\n",
       "    <tr>\n",
       "      <th>2</th>\n",
       "      <td>NaN</td>\n",
       "      <td>NaN</td>\n",
       "      <td>NaN</td>\n",
       "      <td>NaN</td>\n",
       "      <td>NaN</td>\n",
       "      <td>9923</td>\n",
       "      <td>Delhi</td>\n",
       "    </tr>\n",
       "  </tbody>\n",
       "</table>\n",
       "</div>"
      ],
      "text/plain": [
       "    Name   Age Gender    Salary      Department  DepartmentID  Location\n",
       "0   Subh  29.0   Male  200000.0  Data Analytics          2239       NaN\n",
       "1  Krish  25.0   Male  350000.0  Data Scientist          9923       NaN\n",
       "2  Navin  30.0   Male   50000.0   Data Engineer          6212       NaN\n",
       "0    NaN   NaN    NaN       NaN             NaN          6212  Banglore\n",
       "1    NaN   NaN    NaN       NaN             NaN          2239    Mumbai\n",
       "2    NaN   NaN    NaN       NaN             NaN          9923     Delhi"
      ]
     },
     "execution_count": 75,
     "metadata": {},
     "output_type": "execute_result"
    }
   ],
   "source": [
    "df3"
   ]
  },
  {
   "cell_type": "markdown",
   "id": "5246dc07-f319-40dc-bdd4-95201ad29aa8",
   "metadata": {},
   "source": [
    "#### 5. Data Cleaning:"
   ]
  },
  {
   "cell_type": "code",
   "execution_count": 89,
   "id": "3d2dcf65-2302-44a7-a5f6-6b7ee80ca494",
   "metadata": {},
   "outputs": [],
   "source": [
    "cleaning_df = df3.dropna(axis=1)"
   ]
  },
  {
   "cell_type": "code",
   "execution_count": 90,
   "id": "e30727ca-443c-4f0d-912c-0db0d77d5e93",
   "metadata": {},
   "outputs": [
    {
     "data": {
      "text/html": [
       "<div>\n",
       "<style scoped>\n",
       "    .dataframe tbody tr th:only-of-type {\n",
       "        vertical-align: middle;\n",
       "    }\n",
       "\n",
       "    .dataframe tbody tr th {\n",
       "        vertical-align: top;\n",
       "    }\n",
       "\n",
       "    .dataframe thead th {\n",
       "        text-align: right;\n",
       "    }\n",
       "</style>\n",
       "<table border=\"1\" class=\"dataframe\">\n",
       "  <thead>\n",
       "    <tr style=\"text-align: right;\">\n",
       "      <th></th>\n",
       "      <th>DepartmentID</th>\n",
       "    </tr>\n",
       "  </thead>\n",
       "  <tbody>\n",
       "    <tr>\n",
       "      <th>0</th>\n",
       "      <td>2239</td>\n",
       "    </tr>\n",
       "    <tr>\n",
       "      <th>1</th>\n",
       "      <td>9923</td>\n",
       "    </tr>\n",
       "    <tr>\n",
       "      <th>2</th>\n",
       "      <td>6212</td>\n",
       "    </tr>\n",
       "    <tr>\n",
       "      <th>0</th>\n",
       "      <td>6212</td>\n",
       "    </tr>\n",
       "    <tr>\n",
       "      <th>1</th>\n",
       "      <td>2239</td>\n",
       "    </tr>\n",
       "    <tr>\n",
       "      <th>2</th>\n",
       "      <td>9923</td>\n",
       "    </tr>\n",
       "  </tbody>\n",
       "</table>\n",
       "</div>"
      ],
      "text/plain": [
       "   DepartmentID\n",
       "0          2239\n",
       "1          9923\n",
       "2          6212\n",
       "0          6212\n",
       "1          2239\n",
       "2          9923"
      ]
     },
     "execution_count": 90,
     "metadata": {},
     "output_type": "execute_result"
    }
   ],
   "source": [
    "cleaning_df"
   ]
  },
  {
   "cell_type": "markdown",
   "id": "a508a5bd-6e25-4dd9-9e2d-871fc60b853b",
   "metadata": {},
   "source": [
    "#### 6. Adding/Modifying Columns:"
   ]
  },
  {
   "cell_type": "code",
   "execution_count": 92,
   "id": "688852d5-e596-404d-917f-04285a3cf81e",
   "metadata": {},
   "outputs": [],
   "source": [
    "merge['Bonus'] = merge['Salary'] * 0.1"
   ]
  },
  {
   "cell_type": "code",
   "execution_count": 93,
   "id": "f350670e-9803-4d76-9cc1-1201fbece87a",
   "metadata": {},
   "outputs": [
    {
     "data": {
      "text/html": [
       "<div>\n",
       "<style scoped>\n",
       "    .dataframe tbody tr th:only-of-type {\n",
       "        vertical-align: middle;\n",
       "    }\n",
       "\n",
       "    .dataframe tbody tr th {\n",
       "        vertical-align: top;\n",
       "    }\n",
       "\n",
       "    .dataframe thead th {\n",
       "        text-align: right;\n",
       "    }\n",
       "</style>\n",
       "<table border=\"1\" class=\"dataframe\">\n",
       "  <thead>\n",
       "    <tr style=\"text-align: right;\">\n",
       "      <th></th>\n",
       "      <th>Name</th>\n",
       "      <th>Age</th>\n",
       "      <th>Gender</th>\n",
       "      <th>Salary</th>\n",
       "      <th>Department</th>\n",
       "      <th>DepartmentID</th>\n",
       "      <th>Location</th>\n",
       "      <th>Bonus</th>\n",
       "    </tr>\n",
       "  </thead>\n",
       "  <tbody>\n",
       "    <tr>\n",
       "      <th>0</th>\n",
       "      <td>Subh</td>\n",
       "      <td>29</td>\n",
       "      <td>Male</td>\n",
       "      <td>200000</td>\n",
       "      <td>Data Analytics</td>\n",
       "      <td>2239</td>\n",
       "      <td>Mumbai</td>\n",
       "      <td>20000.0</td>\n",
       "    </tr>\n",
       "    <tr>\n",
       "      <th>1</th>\n",
       "      <td>Krish</td>\n",
       "      <td>25</td>\n",
       "      <td>Male</td>\n",
       "      <td>350000</td>\n",
       "      <td>Data Scientist</td>\n",
       "      <td>9923</td>\n",
       "      <td>Delhi</td>\n",
       "      <td>35000.0</td>\n",
       "    </tr>\n",
       "    <tr>\n",
       "      <th>2</th>\n",
       "      <td>Navin</td>\n",
       "      <td>30</td>\n",
       "      <td>Male</td>\n",
       "      <td>50000</td>\n",
       "      <td>Data Engineer</td>\n",
       "      <td>6212</td>\n",
       "      <td>Banglore</td>\n",
       "      <td>5000.0</td>\n",
       "    </tr>\n",
       "  </tbody>\n",
       "</table>\n",
       "</div>"
      ],
      "text/plain": [
       "    Name  Age Gender  Salary      Department  DepartmentID  Location    Bonus\n",
       "0   Subh   29   Male  200000  Data Analytics          2239    Mumbai  20000.0\n",
       "1  Krish   25   Male  350000  Data Scientist          9923     Delhi  35000.0\n",
       "2  Navin   30   Male   50000   Data Engineer          6212  Banglore   5000.0"
      ]
     },
     "execution_count": 93,
     "metadata": {},
     "output_type": "execute_result"
    }
   ],
   "source": [
    "merge"
   ]
  },
  {
   "cell_type": "markdown",
   "id": "3d4869a5-d27e-48b0-b1df-788f11b2022a",
   "metadata": {},
   "source": [
    "#### 7. Data Visualization:"
   ]
  },
  {
   "cell_type": "code",
   "execution_count": 97,
   "id": "509e6e7b-7ae8-4d0e-a584-d228e1163a0c",
   "metadata": {},
   "outputs": [
    {
     "data": {
      "image/png": "[encoded data removed]",
      "text/plain": [
       "<Figure size 640x480 with 1 Axes>"
      ]
     },
     "metadata": {},
     "output_type": "display_data"
    }
   ],
   "source": [
    "import matplotlib.pyplot as plt\n",
    "merge['Age'].plot(kind='bar')\n",
    "plt.show()"
   ]
  },
  {
   "cell_type": "markdown",
   "id": "45543d46-4925-42d8-894b-08746f48ca9a",
   "metadata": {},
   "source": [
    "#### Q6. Which of the following is mutable in nature Series, DataFrame, Panel?"
   ]
  },
  {
   "cell_type": "markdown",
   "id": "cb7da0cb-4777-46bd-83bf-8821f79e59e7",
   "metadata": {},
   "source": [
    "#### Answer:"
   ]
  },
  {
   "cell_type": "markdown",
   "id": "3235c547-d998-44d1-ab60-4171c2c6b185",
   "metadata": {},
   "source": [
    "both `Series` and `DataFrame` in Pandas are mutable in nature. This means that we can modify their contents, add new data, or change existing data after they have been created.\r\n",
    "\r\n",
    "- **Series**: You can change the values within a Pandas Series by assigning new values to specific indices or by using various Series methods to modify the data.\r\n",
    "\r\n",
    "- **DataFrame**: DataFrames are also mutable, and you can update or modify the values in cells, add or remove columns, and perform various data manipulation operations on tandas."
   ]
  },
  {
   "cell_type": "markdown",
   "id": "c10f3ded-4f44-4462-88cf-cf0434b9accc",
   "metadata": {},
   "source": [
    "#### Q7. Create a DataFrame using multiple Series. Explain with an example."
   ]
  },
  {
   "cell_type": "markdown",
   "id": "0db34ac6-f685-42cd-9696-2c81a1eb5b5f",
   "metadata": {},
   "source": [
    "#### Answer:"
   ]
  },
  {
   "cell_type": "code",
   "execution_count": 98,
   "id": "fb933685-e0dc-4b57-b72b-0404c74be52c",
   "metadata": {},
   "outputs": [
    {
     "name": "stdout",
     "output_type": "stream",
     "text": [
      "         Name  Age\n",
      "0  ShudhanShu   25\n",
      "1       Krish   30\n",
      "2       Navin   35\n",
      "3       Madam   40\n"
     ]
    }
   ],
   "source": [
    "import pandas as pd\n",
    "\n",
    "names = pd.Series(['ShudhanShu', 'Krish', 'Navin', 'Madam'])\n",
    "ages = pd.Series([25, 30, 35, 40])\n",
    "\n",
    "data = {'Name': names, 'Age': ages}\n",
    "df = pd.DataFrame(data)\n",
    "\n",
    "print(df)\n"
   ]
  },
  {
   "cell_type": "markdown",
   "id": "d0b7b851-d9c2-4e17-bd03-6ad17bfb7adf",
   "metadata": {},
   "source": [
    "In this DataFrame, we have two columns, 'Name' and 'Age', and each column contains the data from the respective Series. This is a common way to create a DataFrame when we have multiple Series or arrays of data that we want to combine into a structured table-like format for analysis."
   ]
  }
 ],
 "metadata": {
  "kernelspec": {
   "display_name": "Python 3 (ipykernel)",
   "language": "python",
   "name": "python3"
  },
  "language_info": {
   "codemirror_mode": {
    "name": "ipython",
    "version": 3
   },
   "file_extension": ".py",
   "mimetype": "text/x-python",
   "name": "python",
   "nbconvert_exporter": "python",
   "pygments_lexer": "ipython3",
   "version": "3.11.5"
  }
 },
 "nbformat": 4,
 "nbformat_minor": 5
}

{
 "cells": [
  {
   "cell_type": "markdown",
   "id": "3a7b45cc-606c-4cfd-9017-f0e2422620d5",
   "metadata": {},
   "source": [
    "## Assignment of Statistics Advance-3"
   ]
  },
  {
   "cell_type": "markdown",
   "id": "3f39717f-48f8-48f1-9277-0c88bc0008d4",
   "metadata": {},
   "source": [
    "#### Q1: What is Estimation Statistics? Explain point estimate and interval estimate."
   ]
  },
  {
   "cell_type": "markdown",
   "id": "21006020-52c3-4a1b-853b-7009bde64c4c",
   "metadata": {},
   "source": [
    "#### Answer:"
   ]
  },
  {
   "cell_type": "markdown",
   "id": "807b558d-b8c2-4c7d-9f73-78629ae5852d",
   "metadata": {},
   "source": [
    "**Estimation Statistics:**\r\n",
    "\r\n",
    "Estimation in statistics involves the process of using sample data to make inferences about unknown population parameters. The goal is to estimate a certain characteristic of the population based on information obtained from a sample. Estimation involves providing a range of values (an interval) or a single value (a point estimate) that is believed to be a good approximation of the unknown population parameter.\r\n",
    "\r\n",
    "**Point Estimate:**\r\n",
    "\r\n",
    "A point estimate is a single value that is used to estimate an unknown population parameter. It is derived from sample data and serves as the best guess or \"point\" value for the parameter. Common point estimates include the sample mean (\\(\\bar{X}\\)) for estimating the population mean (\\(\\mu\\)) and the sample proportion (\\(p\\)) for estimating the population proportion (\\(P\\)).\r\n",
    "\r\n",
    "For example:\r\n",
    "- **Population Mean (\\(\\mu\\)):** Point Estimate \\(\\hat{\\mu} = \\bar{X}\\) (sample mean).\r\n",
    "- **Population Proportion (\\(P\\)):** Point Estimate \\(\\hat{P} = p\\) (sample proportion).\r\n",
    "\r\n",
    "While point estimates provide a single value for the estimate, they do not provide information about the precision or reliability of the estimate. This is where interval estimates come into play.\r\n",
    "\r\n",
    "**Interval Estimate:**\r\n",
    "\r\n",
    "An interval estimate provides a range of values within which the true population parameter is likely to lie. It takes into account the variability in the data and provides a measure of the uncertainty associated with the estimate. The interval is constructed around the point estimate, and it is expressed with a level of confidence.\r\n",
    "\r\n",
    "The construction of an interval estimate involves determining the margin of error and creating a confidence interval. The confidence interval is a range of values that is likely to contain the true population parameter with a specified level of confidence (e.g., 95% confidence interval).\r\n",
    "\r\n",
    "For example:\r\n",
    "- **Population Mean (\\(\\mu\\)):** Interval Estimate \\(\\bar{X} \\pm \\text{Margin of Error}\\).\r\n",
    "- **Population Proportion (\\(P\\)):** Interval Estimate \\(p \\pm \\text{Margin of Error}\\).\r\n",
    "\r\n",
    "The margin of error is influenced by factors such as the sample size and the chosen confidence level. A larger sample size generally results in a smaller margin of error and a more precise interval estimate.\r\n",
    "\r\n",
    "In summary, estimation statistics involves providing either a point estimate or an interval estimate to make inferences about population parameters based on sample data. Point estimates give a single best guess, while interval estimates provide a range of values that are likely to contain the true parameter. falling within that range.l.tion of values."
   ]
  },
  {
   "cell_type": "markdown",
   "id": "2f33c936-064c-4c89-94c0-2c03dc102051",
   "metadata": {},
   "source": [
    "#### Q2. Write a Python function to estimate the population mean using a sample mean and standard deviation.."
   ]
  },
  {
   "cell_type": "markdown",
   "id": "ef3689a0-b381-4398-8eb1-d1ba2f426106",
   "metadata": {},
   "source": [
    "#### Answer:"
   ]
  },
  {
   "cell_type": "code",
   "execution_count": 9,
   "id": "a2c86576-3490-4619-9ac4-04ffb8d90625",
   "metadata": {},
   "outputs": [
    {
     "name": "stdout",
     "output_type": "stream",
     "text": [
      "95% Confidence Interval for Population Mean: (55.872202876743955, 64.12779712325604)\n"
     ]
    }
   ],
   "source": [
    "import scipy.stats as stats\n",
    "import numpy as np\n",
    "\n",
    "def calculate_ci_for_mean(sample_mean, sample_std, sample_size, confidence_level=0.95):\n",
    "    \"\"\"\n",
    "    Calculate the confidence interval for the population mean.\n",
    "\n",
    "    Parameters:\n",
    "    - sample_mean: The sample mean.\n",
    "    - sample_std: The sample standard deviation.\n",
    "    - sample_size: The sample size.\n",
    "    - confidence_level: The desired confidence level (default is 0.95 for a 95% confidence interval).\n",
    "\n",
    "    Returns:\n",
    "    - Tuple containing the lower and upper bounds of the confidence interval.\n",
    "    \"\"\"\n",
    "    # Calculate the t-value based on the confidence level and degrees of freedom\n",
    "    degrees_of_freedom = sample_size - 1\n",
    "    alpha = 1 - confidence_level\n",
    "    t_value = stats.t.ppf(1 - alpha / 2, degrees_of_freedom)\n",
    "\n",
    "    # Calculate the margin of error\n",
    "    margin_of_error = t_value * (sample_std / np.sqrt(sample_size))\n",
    "\n",
    "    # Calculate the lower and upper bounds of the confidence interval\n",
    "    lower_bound = sample_mean - margin_of_error\n",
    "    upper_bound = sample_mean + margin_of_error\n",
    "\n",
    "    return lower_bound, upper_bound\n",
    "\n",
    "# Example usage:\n",
    "sample_mean = 60.0\n",
    "sample_std = 10.0\n",
    "sample_size = 25\n",
    "confidence_level = 0.95\n",
    "\n",
    "confidence_interval = calculate_ci_for_mean(sample_mean, sample_std, sample_size, confidence_level)\n",
    "print(f\"95% Confidence Interval for Population Mean: {confidence_interval}\")\n"
   ]
  },
  {
   "cell_type": "markdown",
   "id": "87a782a6-fad4-4236-99b0-5917ee63df55",
   "metadata": {},
   "source": [
    "#### Q3: What is Hypothesis testing? Why is it used? State the importance of Hypothesis testing."
   ]
  },
  {
   "cell_type": "markdown",
   "id": "51622379-6954-40e1-905d-f966bca4b651",
   "metadata": {},
   "source": [
    "#### Answer: "
   ]
  },
  {
   "cell_type": "markdown",
   "id": "00776528-07c3-40ba-aff3-3dc6660f0464",
   "metadata": {},
   "source": [
    "**Hypothesis Testing:**\r\n",
    "\r\n",
    "Hypothesis testing is a statistical method used to make inferences about a population based on a sample of data. It involves the formulation of two competing hypotheses, a null hypothesis (\\(H_0\\)) and an alternative hypothesis (\\(H_1\\) or \\(H_a\\)). The objective is to assess the evidence provided by the sample data and make a decision about whether to reject the null hypothesis in favor of the alternative hypothesis.\r\n",
    "\r\n",
    "The general process of hypothesis testing involves the following steps:\r\n",
    "\r\n",
    "1. **Formulation of Hypotheses:**\r\n",
    "   - \\(H_0\\): Null Hypothesis - a statement of no effect or no difference.\r\n",
    "   - \\(H_1\\) or \\(H_a\\): Alternative Hypothesis - a statement suggesting a significant effect or difference.\r\n",
    "\r\n",
    "2. **Selection of Significance Level (\\(\\alpha\\)):**\r\n",
    "   - The significance level (\\(\\alpha\\)) represents the probability of rejecting the null hypothesis when it is actually true. Common choices include 0.05, 0.01, or 0.10.\r\n",
    "\r\n",
    "3. **Data Collection and Analysis:**\r\n",
    "   - Collect sample data and perform statistical analysis to obtain a test statistic.\r\n",
    "\r\n",
    "4. **Calculation of P-Value:**\r\n",
    "   - Calculate the probability of obtaining the observed result or a more extreme result if the null hypothesis is true. This is known as the p-value.\r\n",
    "\r\n",
    "5. **Decision Rule:**\r\n",
    "   - Compare the p-value to the significance level. If the p-value is less than or equal to the significance level, reject the null hypothesis. If the p-value is greater than the significance level, fail to reject the null hypothesis.\r\n",
    "\r\n",
    "6. **Conclusion:**\r\n",
    "   - Based on the comparison, make a decision and draw conclusions about the population parameter or effect.\r\n",
    "\r\n",
    "**Importance of Hypothesis Testing:**\r\n",
    "\r\n",
    "1. **Scientific Inquiry:**\r\n",
    "   - Hypothesis testing is fundamental to the scientific method. It allows researchers to test hypotheses and draw conclusions based on empirical evidence.\r\n",
    "\r\n",
    "2. **Decision-Making in Business and Industry:**\r\n",
    "   - Businesses use hypothesis testing to make decisions about product improvements, marketing strategies, and other aspects of operations.\r\n",
    "\r\n",
    "3. **Quality Control:**\r\n",
    "   - In manufacturing and quality control, hypothesis testing is used to ensure that products meet certain standards and specifications.\r\n",
    "\r\n",
    "4. **Medical Research:**\r\n",
    "   - Hypothesis testing is crucial in medical research for evaluating the effectiveness of treatments, drugs, and medical interventions.\r\n",
    "\r\n",
    "5. **Social Sciences:**\r\n",
    "   - In psychology, sociology, and other social sciences, hypothesis testing is used to study human behavior, social trends, and societal changes.\r\n",
    "\r\n",
    "6. **Public Policy and Government:**\r\n",
    "   - Governments use hypothesis testing to assess the impact of policies and interventions on the population.\r\n",
    "\r\n",
    "7. **Legal System:**\r\n",
    "   - Hypothesis testing is employed in the legal system to evaluate evidence and make decisions in legal proceedings.\r\n",
    "\r\n",
    "8. **Market Research:**\r\n",
    "   - Companies use hypothesis testing in market research to understand consumer preferences and behavior.\r\n",
    "\r\n",
    "9. **Risk Assessment:**\r\n",
    "   - In finance and risk assessment, hypothesis testing is used to make decisions about investments and assess financial risks.\r\n",
    "\r\n",
    "Hypothesis testing provides a systematic and objective approach to drawing conclusions based on data, helping to make informed decisions in various fields. It allows researchers and decision-makers to assess the evidence in a structured way, leading to more reliable and valid conclusions about population parameters and effects.\n"
   ]
  },
  {
   "cell_type": "markdown",
   "id": "861af503-f40a-4da4-9b51-7e08650161d3",
   "metadata": {},
   "source": [
    "#### Q4. Create a hypothesis that states whether the average weight of male college students is greater than the average weight of female college students."
   ]
  },
  {
   "cell_type": "markdown",
   "id": "6502d700-b12e-41b9-901e-8417736264ec",
   "metadata": {},
   "source": [
    "#### Answer:"
   ]
  },
  {
   "cell_type": "markdown",
   "id": "a3df027f-78c5-4972-bd79-75b1c6a5ff12",
   "metadata": {},
   "source": [
    "**Null Hypothesis (\\(H_0\\)):**\r\n",
    "\\[ H_0: \\mu_{\\text{male}} \\leq \\mu_{\\text{female}} \\]\r\n",
    "\r\n",
    "The null hypothesis states that the average weight (\\(\\mu\\)) of male college students (\\(\\mu_{\\text{male}}\\)) is less than or equal to the average weight of female college students (\\(\\mu_{\\text{female}}\\)).\r\n",
    "\r\n",
    "**Alternative Hypothesis (\\(H_1\\) or \\(H_a\\)):**\r\n",
    "\\[ H_1: \\mu_{\\text{male}} > \\mu_{\\text{female}} \\]\r\n",
    "\r\n",
    "The alternative hypothesis suggests that the average weight of male college students is greater than the average weight of female college students.\r\n",
    "\r\n",
    "**Explanation:**\r\n",
    "This hypothesis is formulated based on the expectation that there may be a gender-related difference in average weights among college students. The null hypothesis assumes that there is no significant difference or that, if there is a difference, the average weight of male students is less than or equal to that of female students. The alternative hypothesis proposes that male students have a higher average weight than female students.\r\n",
    "\r\n",
    "To test this hypothesis, one would collect data on the weights of male and female college students, perform statistical analysis, and evaluate whether the evidence supports rejecting the null hypothesis in favor of the alternative hypothesis. This type of hypothesis testing is often conducted using statistical tests such as t-tests or analysis of variance (ANOVA).ns, and decision-making in various fields.\n"
   ]
  },
  {
   "cell_type": "markdown",
   "id": "27322093-60f8-4031-a0d0-33d81ba1fd55",
   "metadata": {},
   "source": [
    "#### Q5. Write a Python script to conduct a hypothesis test on the difference between two population means, given a sample from each population."
   ]
  },
  {
   "cell_type": "markdown",
   "id": "3fa9fdf3-281e-47ca-aa42-e3336df8d9fc",
   "metadata": {},
   "source": [
    "#### Answer:"
   ]
  },
  {
   "cell_type": "code",
   "execution_count": 10,
   "id": "7ad8a741-ed8d-4a0b-8b14-21834801b57f",
   "metadata": {},
   "outputs": [
    {
     "name": "stdout",
     "output_type": "stream",
     "text": [
      "t-statistic: -4.512913234547553\n",
      "p-value: 3.176506547470189e-05\n",
      "Reject the null hypothesis\n"
     ]
    }
   ],
   "source": [
    "import numpy as np\r\n",
    "from scipy import stats\r\n",
    "\r\n",
    "def two_sample_t_test(sample1, sample2, alpha=0.05):\r\n",
    "    \"\"\"\r\n",
    "    Perform a two-sample t-test for the difference between means.\r\n",
    "\r\n",
    "    Parameters:\r\n",
    "    - sample1: NumPy array or list, the first sample.\r\n",
    "    - sample2: NumPy array or list, the second sample.\r\n",
    "    - alpha: Significance level (default is 0.05).\r\n",
    "\r\n",
    "    Returns:\r\n",
    "    - t_statistic: The t-statistic for the test.\r\n",
    "    - p_value: The p-value for the test.\r\n",
    "    - result: A string indicating whether to reject the null hypothesis.\r\n",
    "    \"\"\"\r\n",
    "    # Perform a two-sample t-test\r\n",
    "    t_statistic, p_value = stats.ttest_ind(sample1, sample2)\r\n",
    "\r\n",
    "    # Compare p-value to significance level\r\n",
    "    if p_value < alpha:\r\n",
    "        result = \"Reject the null hypothesis\"\r\n",
    "    else:\r\n",
    "        result = \"Fail to reject the null hypothesis\"\r\n",
    "\r\n",
    "    return t_statistic, p_value, result\r\n",
    "\r\n",
    "# Example usage:\r\n",
    "np.random.seed(42)  # For reproducibility\r\n",
    "sample1 = np.random.normal(loc=20, scale=5, size=30)\r\n",
    "sample2 = np.random.normal(loc=25, scale=5, size=30)\r\n",
    "\r\n",
    "# Conduct two-sample t-test\r\n",
    "t_statistic, p_value, result = two_sample_t_test(sample1, sample2)\r\n",
    "\r\n",
    "# Print results\r\n",
    "print(f\"t-statistic: {t_statistic}\")\r\n",
    "print(f\"p-value: {p_value}\")\r\n",
    "print(result)\r\n"
   ]
  },
  {
   "cell_type": "markdown",
   "id": "de6f502c-0cfa-4968-9255-b52d5242e851",
   "metadata": {},
   "source": [
    "#### Q6: What is a null and alternative hypothesis? Give some examples."
   ]
  },
  {
   "cell_type": "markdown",
   "id": "06962022-99dc-4b7f-9c45-1f63fbeca545",
   "metadata": {},
   "source": [
    "#### Answer:"
   ]
  },
  {
   "cell_type": "markdown",
   "id": "562bcab2-08a2-4b0d-954b-9731a3b9fe4d",
   "metadata": {},
   "source": [
    "**Null Hypothesis (\\(H_0\\)):**\r\n",
    "The null hypothesis is a statement that there is no significant difference or effect. It often represents a default or status quo assumption. In hypothesis testing, researchers typically aim to test whether the null hypothesis is likely or unlikely given the sample data.\r\n",
    "\r\n",
    "**Example:**\r\n",
    "Suppose we are testing the effectiveness of a new drug. The null hypothesis (\\(H_0\\)) might state that there is no difference in the average blood pressure before and after administering the drug.\r\n",
    "\r\n",
    "\\[ H_0: \\mu_{\\text{before}} = \\mu_{\\text{after}} \\]\r\n",
    "\r\n",
    "Here, \\(\\mu_{\\text{before}}\\) and \\(\\mu_{\\text{after}}\\) represent the average blood pressure before and after the drug treatment, respectively.\r\n",
    "\r\n",
    "**Alternative Hypothesis (\\(H_1\\) or \\(H_a\\)):**\r\n",
    "The alternative hypothesis is a statement that contradicts the null hypothesis. It represents the researcher's claim or the effect they are trying to find evidence for.\r\n",
    "\r\n",
    "**Example:**\r\n",
    "For the drug effectiveness test, the alternative hypothesis (\\(H_1\\)) might state that there is a significant decrease in the average blood pressure after administering the drug.\r\n",
    "\r\n",
    "\\[ H_1: \\mu_{\\text{before}} > \\mu_{\\text{after}} \\]\r\n",
    "\r\n",
    "This alternative hypothesis suggests that the average blood pressure after the drug treatment is lower than the average blood pressure before the treatment.\r\n",
    "\r\n",
    "In general, null hypotheses often involve statements of equality or no effect, while alternative hypotheses involve statements of inequality or the presence of an effect. The goal of hypothesis testing is to gather evidence from sample data to either reject the null hypothesis in favor of the alternative hypothesis or fail to reject the null hypothesis..1587 or 15.87%.\n"
   ]
  },
  {
   "cell_type": "markdown",
   "id": "92be0c76-51c5-40d2-b5fd-30309798d3d2",
   "metadata": {},
   "source": [
    "#### Q7: Write down the steps involved in hypothesis testing."
   ]
  },
  {
   "cell_type": "markdown",
   "id": "9ef72e81-9974-4dca-b483-6bb4d186fe7b",
   "metadata": {},
   "source": [
    "#### Answer:"
   ]
  },
  {
   "cell_type": "markdown",
   "id": "6cd394fe-309f-4351-a0c7-eee8df64bf31",
   "metadata": {},
   "source": [
    "The process of hypothesis testing involves several steps to systematically evaluate the evidence provided by sample data and make a decision about the population parameter or effect of interest. Here are the key steps in hypothesis testing:\r\n",
    "\r\n",
    "1. **Formulation of Hypotheses:**\r\n",
    "   - **Null Hypothesis (\\(H_0\\)):** A statement of no effect or no difference.\r\n",
    "   - **Alternative Hypothesis (\\(H_1\\) or \\(H_a\\)):** A statement suggesting a significant effect or difference.\r\n",
    "\r\n",
    "2. **Selection of Significance Level (\\(\\alpha\\)):**\r\n",
    "   - Choose a significance level (\\(\\alpha\\)), typically 0.05 or 0.01, which represents the probability of rejecting the null hypothesis when it is actually true.\r\n",
    "\r\n",
    "3. **Data Collection and Analysis:**\r\n",
    "   - Collect sample data and perform statistical analysis to obtain a test statistic.\r\n",
    "\r\n",
    "4. **Calculation of P-Value:**\r\n",
    "   - Calculate the probability of obtaining the observed result or a more extreme result if the null hypothesis is true. This is known as the p-value.\r\n",
    "\r\n",
    "5. **Decision Rule:**\r\n",
    "   - Compare the p-value to the significance level (\\(\\alpha\\)). If the p-value is less than or equal to \\(\\alpha\\), reject the null hypothesis. If the p-value is greater than \\(\\alpha\\), fail to reject the null hypothesis.\r\n",
    "\r\n",
    "6. **Conclusion:**\r\n",
    "   - Based on the comparison in the decision rule, make a decision and draw conclusions about the population parameter or effect.\r\n",
    "\r\n",
    "7. **Error Analysis (Optional):**\r\n",
    "   - If the null hypothesis is rejected, consider the potential for Type I errors (rejecting a true null hypothesis) and Type II errors (failing to reject a false null hypothesis).\r\n",
    "\r\n",
    "8. **Report Results:**\r\n",
    "   - Clearly communicate the results of the hypothesis test, including the calculated test statistic, p-value, and the decision made.\r\n",
    "\r\n",
    "These steps provide a structured approach to hypothesis testing and help ensure that decisions are based on sound statistical reasoning. It's important to note that hypothesis testing is a probabilistic approach, and the conclusions are drawn based on the evidence provided by sample data. The process is widely used in scientific research, business decision-making, and various other fields to make informed inferences about populations.tcomes are equally likely.nt events in a fixed interval., 6, 7, 8, 10}"
   ]
  },
  {
   "cell_type": "markdown",
   "id": "e9caa4bb-b475-4f8e-8e0f-bfa4a86e4197",
   "metadata": {},
   "source": [
    "#### Q8. Define p-value and explain its significance in hypothesis testing."
   ]
  },
  {
   "cell_type": "markdown",
   "id": "2d1db97c-6e3f-4a40-9d5e-5f84ebed4d4c",
   "metadata": {},
   "source": [
    "#### Answer :"
   ]
  },
  {
   "cell_type": "markdown",
   "id": "994ef15f-a019-429f-bb98-fc76adbef0fc",
   "metadata": {},
   "source": [
    "**P-Value:**\r\n",
    "\r\n",
    "The p-value (probability value) is a measure that helps assess the evidence provided by sample data in the context of a hypothesis test. It quantifies the probability of obtaining the observed result or a more extreme result if the null hypothesis is true. In other words, the p-value indicates how likely the observed data is under the assumption that there is no true effect or difference (i.e., under the null hypothesis).\r\n",
    "\r\n",
    "**Significance in Hypothesis Testing:**\r\n",
    "\r\n",
    "1. **Decision Rule:**\r\n",
    "   - The p-value is compared to the predetermined significance level (\\(\\alpha\\)) chosen by the researcher. If the p-value is less than or equal to \\(\\alpha\\), it suggests that the observed result is statistically significant, and the researcher may reject the null hypothesis.\r\n",
    "\r\n",
    "2. **Interpretation:**\r\n",
    "   - A small p-value (typically less than 0.05 or 0.01) suggests that the observed data is unlikely to have occurred by random chance alone, providing evidence against the null hypothesis. A larger p-value indicates weaker evidence against the null hypothesis.\r\n",
    "\r\n",
    "3. **Level of Confidence:**\r\n",
    "   - The p-value is often used to determine the level of confidence in the decision. A smaller p-value corresponds to a higher level of confidence in rejecting the null hypothesis.\r\n",
    "\r\n",
    "4. **Direction of Hypothesis Test:**\r\n",
    "   - In a two-tailed test, the p-value represents the probability of observing results as extreme as those observed in either tail of the distribution. In a one-tailed test, the p-value is specific to the direction of the alternative hypothesis.\r\n",
    "\r\n",
    "5. **Continuous Assessment:**\r\n",
    "   - The p-value provides a continuous measure of evidence, allowing researchers to assess the strength of evidence rather than relying on arbitrary cutoffs. However, common significance levels like 0.05 are often used for decision-making.\r\n",
    "\r\n",
    "6. **Type I Error Control:**\r\n",
    "   - The p-value is essential in controlling Type I errors. By setting a significance level (\\(\\alpha\\)), researchers define the threshold beyond which they will reject the null hypothesis. The p-value helps maintain control over the probability of making a Type I error.\r\n",
    "\r\n",
    "In summary, the p-value is a crucial component in hypothesis testing. It aids researchers in making decisions about the null hypothesis based on the evidence provided by sample data. A smaller p-value suggests stronger evidence against the null hypothesis, while a larger p-value suggests weaker evidence. Researchers need to carefully interpret and report p-values to communicate the results of hypothesis tests accurately.sion-making in various fields."
   ]
  },
  {
   "cell_type": "markdown",
   "id": "17cc9d75-dbc6-4a3e-8909-59b2f0b46f0b",
   "metadata": {},
   "source": [
    "#### Q9. Generate a Student's t-distribution plot using Python's matplotlib library, with the degrees of freedom parameter set to 10."
   ]
  },
  {
   "cell_type": "markdown",
   "id": "6929e32e-eda0-4d83-a75a-14da27432ae5",
   "metadata": {},
   "source": [
    "##### Answer:"
   ]
  },
  {
   "cell_type": "code",
   "execution_count": 11,
   "id": "f0ad38e5-8c57-41bd-b9b0-c50c744e5585",
   "metadata": {},
   "outputs": [
    {
     "data": {
      "image/png": "[encoded data removed]",
      "text/plain": [
       "<Figure size 640x480 with 1 Axes>"
      ]
     },
     "metadata": {},
     "output_type": "display_data"
    }
   ],
   "source": [
    "import numpy as np\n",
    "import matplotlib.pyplot as plt\n",
    "from scipy.stats import t\n",
    "\n",
    "# Set the degrees of freedom\n",
    "degrees_of_freedom = 10\n",
    "\n",
    "# Generate data for the t-distribution\n",
    "x = np.linspace(-4, 4, 1000)\n",
    "y = t.pdf(x, df=degrees_of_freedom)\n",
    "\n",
    "# Plot the t-distribution\n",
    "plt.plot(x, y, label=f'Student\\'s t-distribution (df={degrees_of_freedom})')\n",
    "plt.title('Student\\'s t-distribution')\n",
    "plt.xlabel('X-axis')\n",
    "plt.ylabel('Probability Density Function (PDF)')\n",
    "plt.legend()\n",
    "plt.grid(True)\n",
    "plt.show()\n"
   ]
  },
  {
   "cell_type": "markdown",
   "id": "b5193710-b764-46f4-b335-0752ad3a98bc",
   "metadata": {},
   "source": [
    "#### Q10. Write a Python program to calculate the two-sample t-test for independent samples, given two random samples of equal size and a null hypothesis that the population means are equal."
   ]
  },
  {
   "cell_type": "markdown",
   "id": "55bfd0ba-3f98-4626-9b8e-f3e0e7572447",
   "metadata": {},
   "source": [
    "#### Answer:"
   ]
  },
  {
   "cell_type": "code",
   "execution_count": 13,
   "id": "f28eb4ac-cd65-4395-9af5-a91788a8ff36",
   "metadata": {},
   "outputs": [
    {
     "name": "stdout",
     "output_type": "stream",
     "text": [
      "T-statistic: -2.398115152010245\n",
      "P-value: 0.019717941865758044\n",
      "Reject the null hypothesis: Population means are not equal.\n"
     ]
    }
   ],
   "source": [
    "import numpy as np\n",
    "from scipy.stats import ttest_ind\n",
    "\n",
    "def two_sample_t_test(sample1, sample2):\n",
    "    # Perform two-sample t-test\n",
    "    t_statistic, p_value = ttest_ind(sample1, sample2)\n",
    "\n",
    "    return t_statistic, p_value\n",
    "\n",
    "# Generate two random samples of equal size\n",
    "np.random.seed(42)  # for reproducibility\n",
    "sample_size = 30\n",
    "sample1 = np.random.normal(loc=0, scale=1, size=sample_size)\n",
    "sample2 = np.random.normal(loc=0.5, scale=1, size=sample_size)\n",
    "\n",
    "# Perform the two-sample t-test\n",
    "t_statistic, p_value = two_sample_t_test(sample1, sample2)\n",
    "\n",
    "# Print the results\n",
    "print(f'T-statistic: {t_statistic}')\n",
    "print(f'P-value: {p_value}')\n",
    "\n",
    "# Check the significance level (commonly 0.05)\n",
    "alpha = 0.05\n",
    "if p_value < alpha:\n",
    "    print(\"Reject the null hypothesis: Population means are not equal.\")\n",
    "else:\n",
    "    print(\"Fail to reject the null hypothesis: Population means are equal.\")\n"
   ]
  },
  {
   "cell_type": "markdown",
   "id": "9bb0701e-34c7-444d-92ab-8e56cfeef8d2",
   "metadata": {},
   "source": [
    "#### Q11: What is Student’s t distribution? When to use the t-Distribution."
   ]
  },
  {
   "cell_type": "markdown",
   "id": "c2cad2bc-1094-4592-bb84-3039a3ddd6d4",
   "metadata": {},
   "source": [
    "#### Answer:"
   ]
  },
  {
   "cell_type": "markdown",
   "id": "d4f82bfd-3183-44b1-8109-a0a1486d282d",
   "metadata": {},
   "source": [
    "Student's t-distribution, often simply referred to as the t-distribution, is a probability distribution that arises in the context of statistical inference when the sample size is small and the population standard deviation is unknown. It is used to make inferences about the population mean when dealing with small sample sizes.\r\n",
    "\r\n",
    "The t-distribution is similar to the normal distribution but has heavier tails. As the sample size increases, the t-distribution approaches the normal distribution. The shape of the t-distribution is determined by its degrees of freedom, denoted as \"df.\"\r\n",
    "\r\n",
    "Key characteristics of the t-distribution:\r\n",
    "\r\n",
    "1. **Symmetry:** Like the normal distribution, the t-distribution is symmetric around its mean.\r\n",
    "\r\n",
    "2. **Shape:** The shape of the t-distribution depends on the degrees of freedom. As the degrees of freedom increase, the distribution becomes more similar to the standard normal distribution.\r\n",
    "\r\n",
    "3. **Heavier Tails:** For smaller degrees of freedom, the tails of the t-distribution are heavier compared to the normal distribution. This reflects the increased uncertainty associated with estimating the population standard deviation from a small sample.\r\n",
    "\r\n",
    "When to use the t-Distribution:\r\n",
    "\r\n",
    "The t-distribution is commonly used in the following situations:\r\n",
    "\r\n",
    "1. **Small Sample Sizes:** When dealing with small sample sizes (typically less than 30), the t-distribution is used instead of the normal distribution to make inferences about the population mean.\r\n",
    "\r\n",
    "2. **Unknown Population Standard Deviation:** If the population standard deviation is unknown, and it is estimated from the sample, the t-distribution is used in place of the normal distribution.\r\n",
    "\r\n",
    "3. **Inference about Means:** The t-distribution is frequently employed when conducting hypothesis tests or constructing confidence intervals for the population mean.\r\n",
    "\r\n",
    "4. **Comparing Means:** In scenarios involving the comparison of two sample means (e.g., two-sample t-test), the t-distribution is used to assess whether the observed differences are statistically significant.\r\n",
    "\r\n",
    "In summary, the t-distribution is a crucial tool in statistical inference when working with small samples or when the population standard deviation is unknown. It provides a more accurate representation of the variability in sample means under these conditions compared to the normal distribution."
   ]
  },
  {
   "cell_type": "markdown",
   "id": "08bfd55f-0649-4889-9d1c-7edfb1bf5831",
   "metadata": {},
   "source": [
    "#### Q12: What is t-statistic? State the formula for t-statistic."
   ]
  },
  {
   "cell_type": "markdown",
   "id": "142251ec-4cde-4c06-9f0a-4a165fca316f",
   "metadata": {},
   "source": [
    "#### Answer:"
   ]
  },
  {
   "cell_type": "markdown",
   "id": "dce59ad8-cc95-45f7-ba63-882eb15a633e",
   "metadata": {},
   "source": [
    "The t-statistic is a measure used in hypothesis testing and confidence interval construction when dealing with small sample sizes or when the population standard deviation is unknown. It quantifies how far the sample mean is from the hypothesized population mean in terms of the standard error of the mean.\r\n",
    "\r\n",
    "The formula for the t-statistic is as follows:\r\n",
    "\r\n",
    "\\[ t = \\frac{{\\bar{X} - \\mu}}{{s/\\sqrt{n}}} \\]\r\n",
    "\r\n",
    "where:\r\n",
    "- \\( \\bar{X} \\) is the sample mean.\r\n",
    "- \\( \\mu \\) is the population mean under the null hypothesis.\r\n",
    "- \\( s \\) is the sample standard deviation.\r\n",
    "- \\( n \\) is the sample size.\r\n",
    "\r\n",
    "The t-statistic is essentially a standardized difference between the sample mean and the hypothesized population mean, expressed in terms of the standard error of the mean. The larger the absolute value of the t-statistic, the more evidence there is against the null hypothesis.\r\n",
    "\r\n",
    "When conducting hypothesis testing, you compare the calculated t-statistic to critical values from the t-distribution or use it to calculate a p-value. If the t-statistic is far from zero and exceeds a critical value or yields a small p-value, you may reject the null hypothesis, indicating that the sample mean is significantly different from the hypothesized population mean.\r\n",
    "\r\n",
    "In summary, the t-statistic is a crucial component in hypothesis testing involving sample means, providing a standardized measure of the evidence against the null hypothesis."
   ]
  },
  {
   "cell_type": "markdown",
   "id": "ee1268cb-ae53-47b1-9b5e-54724e699339",
   "metadata": {},
   "source": [
    "#### Q13. A coffee shop owner wants to estimate the average daily revenue for their shop. They take a random sample of 50 days and find the sample mean revenue to be $500 with a standard deviation of $50. Estimate the population mean revenue with a 95% confidence interval."
   ]
  },
  {
   "cell_type": "markdown",
   "id": "d6caec50-f141-4bf8-bb7d-d3855997441d",
   "metadata": {},
   "source": [
    "#### Answer:"
   ]
  },
  {
   "cell_type": "code",
   "execution_count": 14,
   "id": "4244e96d-b443-49b7-bb8f-60149ec2ccab",
   "metadata": {},
   "outputs": [
    {
     "name": "stdout",
     "output_type": "stream",
     "text": [
      "Critical t-value: 2.009575234489209\n"
     ]
    }
   ],
   "source": [
    "from scipy.stats import t\n",
    "\n",
    "confidence_level = 0.95\n",
    "degrees_of_freedom = 49  # n - 1\n",
    "critical_t_value = t.ppf((1 + confidence_level) / 2, df=degrees_of_freedom)\n",
    "\n",
    "print(f'Critical t-value: {critical_t_value}')\n"
   ]
  },
  {
   "cell_type": "code",
   "execution_count": 15,
   "id": "84513229-3eb4-479f-a98d-dda6ba1e070e",
   "metadata": {},
   "outputs": [
    {
     "name": "stdout",
     "output_type": "stream",
     "text": [
      "95% Confidence Interval: ($485.79, $514.21)\n"
     ]
    }
   ],
   "source": [
    "# Given values\n",
    "sample_mean = 500\n",
    "sample_std_dev = 50\n",
    "sample_size = 50\n",
    "\n",
    "# Calculate the standard error of the mean\n",
    "standard_error = sample_std_dev / (sample_size ** 0.5)\n",
    "\n",
    "# Calculate the margin of error\n",
    "margin_of_error = critical_t_value * standard_error\n",
    "\n",
    "# Calculate the confidence interval\n",
    "confidence_interval_lower = sample_mean - margin_of_error\n",
    "confidence_interval_upper = sample_mean + margin_of_error\n",
    "\n",
    "# Print the results\n",
    "print(f'95% Confidence Interval: (${confidence_interval_lower:.2f}, ${confidence_interval_upper:.2f})')\n"
   ]
  },
  {
   "cell_type": "markdown",
   "id": "cfd89839-138c-4c6e-9685-2e98321e26cc",
   "metadata": {},
   "source": [
    "#### Q14. A researcher hypothesizes that a new drug will decrease blood pressure by 10 mmHg. They conduct a clinical trial with 100 patients and find that the sample mean decrease in blood pressure is 8 mmHg with a standard deviation of 3 mmHg. Test the hypothesis with a significance level of 0.05."
   ]
  },
  {
   "cell_type": "markdown",
   "id": "ea4143ec-2954-4352-a82a-e0b7821e49f3",
   "metadata": {},
   "source": [
    "#### Answer:"
   ]
  },
  {
   "cell_type": "code",
   "execution_count": 16,
   "id": "ebe21a08-190e-432e-a03e-3b8bd14a3939",
   "metadata": {},
   "outputs": [
    {
     "name": "stdout",
     "output_type": "stream",
     "text": [
      "T-statistic: -6.666666666666667\n",
      "Critical t-value: 1.9842169515086827\n",
      "P-value: 1.5012289189542116e-09\n",
      "Reject the null hypothesis: There is evidence that the drug decreases blood pressure.\n"
     ]
    }
   ],
   "source": [
    "import numpy as np\n",
    "from scipy.stats import t\n",
    "\n",
    "# Given values\n",
    "sample_mean = 8\n",
    "sample_std_dev = 3\n",
    "sample_size = 100\n",
    "hypothesized_mean = 10\n",
    "significance_level = 0.05\n",
    "\n",
    "# Calculate the t-statistic\n",
    "t_statistic = (sample_mean - hypothesized_mean) / (sample_std_dev / np.sqrt(sample_size))\n",
    "\n",
    "# Find the critical t-value\n",
    "degrees_of_freedom = sample_size - 1\n",
    "critical_t_value = t.ppf(1 - significance_level / 2, df=degrees_of_freedom)\n",
    "\n",
    "# Calculate the p-value\n",
    "p_value = 2 * (1 - t.cdf(np.abs(t_statistic), df=degrees_of_freedom))\n",
    "\n",
    "# Print the results\n",
    "print(f'T-statistic: {t_statistic}')\n",
    "print(f'Critical t-value: {critical_t_value}')\n",
    "print(f'P-value: {p_value}')\n",
    "\n",
    "# Make a decision\n",
    "if np.abs(t_statistic) > critical_t_value or p_value < significance_level:\n",
    "    print(\"Reject the null hypothesis: There is evidence that the drug decreases blood pressure.\")\n",
    "else:\n",
    "    print(\"Fail to reject the null hypothesis: There is insufficient evidence to conclude that the drug decreases blood pressure.\")\n"
   ]
  },
  {
   "cell_type": "markdown",
   "id": "0aac74b0-27fd-4aba-aed9-57cae31f0b9d",
   "metadata": {},
   "source": [
    "#### Q15. An electronics company produces a certain type of product with a mean weight of 5 pounds and a standard deviation of 0.5 pounds. A random sample of 25 products is taken, and the sample mean weight is found to be 4.8 pounds. Test the hypothesis that the true mean weight of the products is less than 5 pounds with a significance level of 0.01."
   ]
  },
  {
   "cell_type": "markdown",
   "id": "ce1c8814-ef07-4311-84fc-d2760cf80946",
   "metadata": {},
   "source": [
    "#### Answer:"
   ]
  },
  {
   "cell_type": "code",
   "execution_count": 17,
   "id": "923a7889-c1c5-4158-ba04-f7e997ac59f4",
   "metadata": {},
   "outputs": [
    {
     "name": "stdout",
     "output_type": "stream",
     "text": [
      "T-statistic: -2.0000000000000018\n",
      "Critical t-value: -2.4921594731575762\n",
      "P-value: 0.02846992496829572\n",
      "Reject the null hypothesis: There is evidence that the true mean weight is less than 5 pounds.\n"
     ]
    }
   ],
   "source": [
    "import numpy as np\r\n",
    "from scipy.stats import t\r\n",
    "\r\n",
    "# Given values\r\n",
    "hypothesized_mean = 5\r\n",
    "sample_mean = 4.8\r\n",
    "sample_std_dev = 0.5\r\n",
    "sample_size = 25\r\n",
    "significance_level = 0.01\r\n",
    "\r\n",
    "# Calculate the t-statistic\r\n",
    "t_statistic = (sample_mean - hypothesized_mean) / (sample_std_dev / np.sqrt(sample_size))\r\n",
    "\r\n",
    "# Find the critical t-value for a one-tailed test (left-tailed)\r\n",
    "degrees_of_freedom = sample_size - 1\r\n",
    "critical_t_value = t.ppf(significance_level, df=degrees_of_freedom)\r\n",
    "\r\n",
    "# Calculate the p-value for a one-tailed test (left-tailed)\r\n",
    "p_value = t.cdf(t_statistic, df=degrees_of_freedom)\r\n",
    "\r\n",
    "# Print the results\r\n",
    "print(f'T-statistic: {t_statistic}')\r\n",
    "print(f'Critical t-value: {critical_t_value}')\r\n",
    "print(f'P-value: {p_value}')\r\n",
    "\r\n",
    "# Make a decision\r\n",
    "if t_statistic < -critical_t_value or p_value < significance_level:\r\n",
    "    print(\"Reject the null hypothesis: There is evidence that the true mean weight is less than 5 pounds.\")\r\n",
    "else:\r\n",
    "    print(\"Fail to reject the null hypothesis: There is insufficient evidence to conclude that the true mean weight is less than 5 pounds.\")\r\n"
   ]
  },
  {
   "cell_type": "markdown",
   "id": "0a0ba839-2bcb-47f4-8cdb-1fbd4073981b",
   "metadata": {},
   "source": [
    "#### Q16. Two groups of students are given different study materials to prepare for a test. The first group (n1 = 30) has a mean score of 80 with a standard deviation of 10, and the second group (n2 = 40) has a mean score of 75 with a standard deviation of 8. Test the hypothesis that the population means for the two groups are equal with a significance level of 0.01."
   ]
  },
  {
   "cell_type": "markdown",
   "id": "9523f394-a10c-4db0-8469-127c9968428b",
   "metadata": {},
   "source": [
    "#### Answer:"
   ]
  },
  {
   "cell_type": "code",
   "execution_count": 18,
   "id": "cfc97329-03a7-4763-b79c-07d710d1c9b3",
   "metadata": {},
   "outputs": [
    {
     "name": "stdout",
     "output_type": "stream",
     "text": [
      "T-statistic: 2.2511258444537408\n",
      "Critical t-value: 2.6500812928169553\n",
      "P-value: 0.027613480367697507\n",
      "Fail to reject the null hypothesis: Population means are equal.\n"
     ]
    }
   ],
   "source": [
    "import numpy as np\n",
    "from scipy.stats import t\n",
    "\n",
    "# Given values\n",
    "n1 = 30\n",
    "mean1 = 80\n",
    "std_dev1 = 10\n",
    "\n",
    "n2 = 40\n",
    "mean2 = 75\n",
    "std_dev2 = 8\n",
    "\n",
    "alpha = 0.01\n",
    "\n",
    "# Calculate the two-sample t-statistic\n",
    "t_statistic = (mean1 - mean2) / np.sqrt((std_dev1**2 / n1) + (std_dev2**2 / n2))\n",
    "\n",
    "# Degrees of freedom for the two-sample t-test\n",
    "degrees_of_freedom = n1 + n2 - 2\n",
    "\n",
    "# Find the critical t-value for a two-tailed test\n",
    "critical_t_value = t.ppf(1 - alpha / 2, df=degrees_of_freedom)\n",
    "\n",
    "# Calculate the p-value\n",
    "p_value = 2 * (1 - t.cdf(np.abs(t_statistic), df=degrees_of_freedom))\n",
    "\n",
    "# Print the results\n",
    "print(f'T-statistic: {t_statistic}')\n",
    "print(f'Critical t-value: {critical_t_value}')\n",
    "print(f'P-value: {p_value}')\n",
    "\n",
    "# Make a decision\n",
    "if np.abs(t_statistic) > critical_t_value or p_value < alpha:\n",
    "    print(\"Reject the null hypothesis: Population means are not equal.\")\n",
    "else:\n",
    "    print(\"Fail to reject the null hypothesis: Population means are equal.\")\n"
   ]
  },
  {
   "cell_type": "markdown",
   "id": "71bc1c1c-a180-4b31-bff3-de1adcbd8b8a",
   "metadata": {},
   "source": [
    "#### Q17. A marketing company wants to estimate the average number of ads watched by viewers during a TV program. They take a random sample of 50 viewers and find that the sample mean is 4 with a standard deviation of 1.5. Estimate the population mean with a 99% confidence interval."
   ]
  },
  {
   "cell_type": "markdown",
   "id": "d87a5e15-8550-4251-a710-62d2e523c787",
   "metadata": {},
   "source": [
    "#### Answer:"
   ]
  },
  {
   "cell_type": "code",
   "execution_count": 19,
   "id": "168000ca-a292-4f84-afc3-8f95c6de4d55",
   "metadata": {},
   "outputs": [
    {
     "name": "stdout",
     "output_type": "stream",
     "text": [
      "99% Confidence Interval: (3.43, 4.57)\n"
     ]
    }
   ],
   "source": [
    "import numpy as np\n",
    "from scipy.stats import t\n",
    "\n",
    "# Given values\n",
    "sample_mean = 4\n",
    "sample_std_dev = 1.5\n",
    "sample_size = 50\n",
    "confidence_level = 0.99\n",
    "\n",
    "# Calculate the standard error of the mean\n",
    "standard_error = sample_std_dev / np.sqrt(sample_size)\n",
    "\n",
    "# Degrees of freedom for a t-distribution\n",
    "degrees_of_freedom = sample_size - 1\n",
    "\n",
    "# Find the critical t-value\n",
    "critical_t_value = t.ppf((1 + confidence_level) / 2, df=degrees_of_freedom)\n",
    "\n",
    "# Calculate the margin of error\n",
    "margin_of_error = critical_t_value * standard_error\n",
    "\n",
    "# Calculate the confidence interval\n",
    "confidence_interval_lower = sample_mean - margin_of_error\n",
    "confidence_interval_upper = sample_mean + margin_of_error\n",
    "\n",
    "# Print the results\n",
    "print(f'99% Confidence Interval: ({confidence_interval_lower:.2f}, {confidence_interval_upper:.2f})')\n"
   ]
  }
 ],
 "metadata": {
  "kernelspec": {
   "display_name": "Python 3 (ipykernel)",
   "language": "python",
   "name": "python3"
  },
  "language_info": {
   "codemirror_mode": {
    "name": "ipython",
    "version": 3
   },
   "file_extension": ".py",
   "mimetype": "text/x-python",
   "name": "python",
   "nbconvert_exporter": "python",
   "pygments_lexer": "ipython3",
   "version": "3.11.5"
  }
 },
 "nbformat": 4,
 "nbformat_minor": 5
}

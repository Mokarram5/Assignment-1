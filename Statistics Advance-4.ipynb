{
 "cells": [
  {
   "cell_type": "markdown",
   "id": "3a7b45cc-606c-4cfd-9017-f0e2422620d5",
   "metadata": {},
   "source": [
    "## Assignment of Statistics Advance-4"
   ]
  },
  {
   "cell_type": "markdown",
   "id": "868343d9-2851-4aa1-a785-aa71cfc06b33",
   "metadata": {},
   "source": [
    "#### Q1: What is the difference between a t-test and a z-test? Provide an example scenario where you would use each type of test."
   ]
  },
  {
   "cell_type": "markdown",
   "id": "21006020-52c3-4a1b-853b-7009bde64c4c",
   "metadata": {},
   "source": [
    "#### Answer:"
   ]
  },
  {
   "cell_type": "markdown",
   "id": "807b558d-b8c2-4c7d-9f73-78629ae5852d",
   "metadata": {},
   "source": [
    "The main difference between a t-test and a z-test lies in the situations for which they are appropriate and the assumptions they make about the data.\r\n",
    "\r\n",
    "**T-Test:**\r\n",
    "\r\n",
    "1. **Applicability:**\r\n",
    "   - T-tests are typically used when the sample size is small (less than 30) and the population standard deviation is unknown.\r\n",
    "   - They are particularly suitable for situations where the data may not follow a normal distribution.\r\n",
    "\r\n",
    "2. **Assumption:**\r\n",
    "   - Assumes that the data follows a normal distribution (though it is robust to moderate deviations from normality).\r\n",
    "   - The t-test is more robust when dealing with smaller sample sizes.\r\n",
    "\r\n",
    "3. **Formula:**\r\n",
    "   - The formula for the t-test involves the sample mean, sample standard deviation, and sample size.\r\n",
    "\r\n",
    "4. **Example Scenario:**\r\n",
    "   - You might use a t-test when comparing the mean scores of two groups of students (e.g., Group A and Group B) where the sample sizes are small, and the population standard deviations are unknown.\r\n",
    "\r\n",
    "**Z-Test:**\r\n",
    "\r\n",
    "1. **Applicability:**\r\n",
    "   - Z-tests are used when the sample size is large (typically above 30) and the population standard deviation is known.\r\n",
    "   - They are suitable when dealing with situations where the data is assumed to be normally distributed.\r\n",
    "\r\n",
    "2. **Assumption:**\r\n",
    "   - Assumes that the data follows a normal distribution.\r\n",
    "   - More appropriate for larger sample sizes.\r\n",
    "\r\n",
    "3. **Formula:**\r\n",
    "   - The z-test formula involves the sample mean, population standard deviation, and sample size.\r\n",
    "\r\n",
    "4. **Example Scenario:**\r\n",
    "   - You might use a z-test when comparing the average heights of two large populations (e.g., males and females) where the population standard deviations are known.\r\n",
    "\r\n",
    "**Example Scenarios:**\r\n",
    "\r\n",
    "1. **T-Test:**\r\n",
    "   - **Scenario:** You want to test if there is a significant difference in the average test scores of two groups of students, each consisting of 20 students.\r\n",
    "   - **Reason for T-Test:** Since the sample size is relatively small, and you don't know the population standard deviation, a t-test is appropriate.\r\n",
    "\r\n",
    "2. **Z-Test:**\r\n",
    "   - **Scenario:** You want to compare the average monthly sales of two different stores, and each store has data for 200 consecutive months.\r\n",
    "   - **Reason for Z-Test:** With a large sample size and assuming the population standard deviation is known or can be reliably estimated, a z-test is appropriate for comparing means.\r\n",
    "\r\n",
    "In summary, the choice between a t-test and a z-test depends on the sample size, the availability of population standard deviation information, and the assumed distribution of the data. If the sample size is small or the population standard deviation is unknown, a t-test is often preferred. If the sample size is large, and the population standard deviation is known, a z-test may be more appropriate.ontain the true parameter. falling within that range.l.tion of values."
   ]
  },
  {
   "cell_type": "markdown",
   "id": "2f33c936-064c-4c89-94c0-2c03dc102051",
   "metadata": {},
   "source": [
    "#### Q2: Differentiate between one-tailed and two-tailed tests."
   ]
  },
  {
   "cell_type": "markdown",
   "id": "ef3689a0-b381-4398-8eb1-d1ba2f426106",
   "metadata": {},
   "source": [
    "#### Answer:"
   ]
  },
  {
   "cell_type": "markdown",
   "id": "71c36969-5ba5-4b95-9e11-835ffb652a14",
   "metadata": {},
   "source": [
    "The distinction between one-tailed (also called one-sided) and two-tailed (also called two-sided) tests is based on the directionality of the hypothesis being tested and the region(s) of the distribution considered for rejection of the null hypothesis.\r\n",
    "\r\n",
    "**One-Tailed Test:**\r\n",
    "\r\n",
    "1. **Directionality:**\r\n",
    "   - In a one-tailed test, the hypothesis is directional, specifying an effect in one direction (either greater than or less than).\r\n",
    "   - It focuses on whether the parameter is significantly greater than or less than a certain value.\r\n",
    "\r\n",
    "2. **Critical Region:**\r\n",
    "   - There is only one critical region in the tail of the distribution.\r\n",
    "   - The rejection region is on one side of the distribution curve.\r\n",
    "\r\n",
    "3. **Hypotheses:**\r\n",
    "   - The null hypothesis (\\(H_0\\)) typically includes an equality sign (e.g., \\(\\mu \\leq 10\\) or \\(\\mu \\geq 20\\)).\r\n",
    "   - The alternative hypothesis (\\(H_a\\)) specifies the direction of the effect (e.g., \\(\\mu > 10\\) or \\(\\mu < 20\\)).\r\n",
    "\r\n",
    "4. **Example:**\r\n",
    "   - Testing whether a new drug has a positive effect on recovery time (\\(H_0: \\mu \\leq 10\\), \\(H_a: \\mu > 10\\)).\r\n",
    "\r\n",
    "**Two-Tailed Test:**\r\n",
    "\r\n",
    "1. **Directionality:**\r\n",
    "   - In a two-tailed test, the hypothesis is non-directional, and it is concerned with whether the parameter is significantly different from a certain value.\r\n",
    "   - It is sensitive to effects in both directions (greater than or less than).\r\n",
    "\r\n",
    "2. **Critical Region:**\r\n",
    "   - There are two critical regions, one in each tail of the distribution.\r\n",
    "   - The rejection region is split between both sides of the distribution curve.\r\n",
    "\r\n",
    "3. **Hypotheses:**\r\n",
    "   - The null hypothesis (\\(H_0\\)) includes an equality sign (e.g., \\(\\mu = 10\\)).\r\n",
    "   - The alternative hypothesis (\\(H_a\\)) specifies that the parameter is different from the null hypothesis value (e.g., \\(\\mu \\neq 10\\)).\r\n",
    "\r\n",
    "4. **Example:**\r\n",
    "   - Testing whether the average scores of two groups are different from each other (\\(H_0: \\mu_1 = \\mu_2\\), \\(H_a: \\mu_1 \\neq \\mu_2\\)).\r\n",
    "\r\n",
    "**Summary:**\r\n",
    "\r\n",
    "- **One-Tailed Test:** Used when there is a specific direction of the effect of interest.\r\n",
    "  - Example: Testing if a new treatment increases performance.\r\n",
    "\r\n",
    "- **Two-Tailed Test:** Used when you are interested in whether the parameter is significantly different from a specific value.\r\n",
    "  - Example: Testing if there is a difference in the average scores between two groups.\r\n",
    "\r\n",
    "The choice between one-tailed and two-tailed tests depends on the research question and the expected direction of the effect. Researchers need to carefully consider the nature of the hypothesis and the practical implications of the findings when deciding which type of test to use."
   ]
  },
  {
   "cell_type": "markdown",
   "id": "139b0e33-b25c-4df9-a2b5-672ed116d91d",
   "metadata": {},
   "source": [
    "#### Q3: Explain the concept of Type 1 and Type 2 errors in hypothesis testing. Provide an example scenario for each type of error."
   ]
  },
  {
   "cell_type": "markdown",
   "id": "51622379-6954-40e1-905d-f966bca4b651",
   "metadata": {},
   "source": [
    "#### Answer: "
   ]
  },
  {
   "cell_type": "markdown",
   "id": "00776528-07c3-40ba-aff3-3dc6660f0464",
   "metadata": {},
   "source": [
    "In hypothesis testing, two types of errors can occur: Type I error and Type II error. These errors are associated with the incorrect rejection or acceptance of a null hypothesis, and they represent the trade-off between the risks of making mistakes.\r\n",
    "\r\n",
    "1. **Type I Error (False Positive):**\r\n",
    "   - **Definition:** Occurs when we reject a true null hypothesis.\r\n",
    "   - **Symbol:** Denoted by \\(\\alpha\\), the significance level.\r\n",
    "   - **Probability:** The probability of committing a Type I error is equal to the chosen significance level.\r\n",
    "\r\n",
    "   **Example Scenario:**\r\n",
    "   - **Scenario:** Suppose a medical researcher is testing a new drug for its effectiveness in treating a particular condition. The null hypothesis (\\(H_0\\)) is that the drug has no effect, and the alternative hypothesis (\\(H_a\\)) is that the drug is effective. If the researcher sets a significance level of 0.05 and, based on the sample data, incorrectly rejects the null hypothesis, concluding that the drug is effective when it is not, this is a Type I error.\r\n",
    "\r\n",
    "2. **Type II Error (False Negative):**\r\n",
    "   - **Definition:** Occurs when we fail to reject a false null hypothesis.\r\n",
    "   - **Symbol:** Denoted by \\(\\beta\\).\r\n",
    "   - **Probability:** The probability of committing a Type II error is influenced by factors such as the sample size, effect size, and variability in the data.\r\n",
    "\r\n",
    "   **Example Scenario:**\r\n",
    "   - **Scenario:** Continuing with the drug example, let's say the drug is indeed effective, but the sample size is small, and the effect size is not large enough to be detected with the chosen significance level. In this case, the researcher might fail to reject the null hypothesis (\\(H_0\\)), concluding that the drug is not effective when it actually is. This is a Type II error.\r\n",
    "\r\n",
    "**Summary:**\r\n",
    "- **Type I Error (False Positive):**\r\n",
    "  - **Symbol:** \\(\\alpha\\)\r\n",
    "  - **Example:** Incorrectly concluding that a new drug is effective when it is not.\r\n",
    "\r\n",
    "- **Type II Error (False Negative):**\r\n",
    "  - **Symbol:** \\(\\beta\\)\r\n",
    "  - **Example:** Incorrectly concluding that a new drug is not effective when it actually is.\r\n",
    "\r\n",
    "The choice of significance level (\\(\\alpha\\)) in hypothesis testing directly influences the trade-off between Type I and Type II errors. Lowering the significance level reduces the risk of Type I errors but increases the risk of Type II errors, and vice versa. Researchers must carefully consider the consequences of each type of error based on the context and the potential impact on decision-making.d conclusions about population parameters and effects.\n"
   ]
  },
  {
   "cell_type": "markdown",
   "id": "861af503-f40a-4da4-9b51-7e08650161d3",
   "metadata": {},
   "source": [
    "#### Q4: Explain Bayes's theorem with an example."
   ]
  },
  {
   "cell_type": "markdown",
   "id": "6502d700-b12e-41b9-901e-8417736264ec",
   "metadata": {},
   "source": [
    "#### Answer:"
   ]
  },
  {
   "cell_type": "markdown",
   "id": "a3df027f-78c5-4972-bd79-75b1c6a5ff12",
   "metadata": {},
   "source": [
    "Bayes's Theorem is a mathematical formula that helps us update our beliefs about the probability of an event based on new evidence or information. It's particularly useful in situations where we want to revise our initial beliefs in light of additional data.\r\n",
    "\r\n",
    "The formula for Bayes's Theorem is:\r\n",
    "\r\n",
    "\\[ P(A|B) = \\frac{P(B|A) \\cdot P(A)}{P(B)} \\]\r\n",
    "\r\n",
    "Here's what each term means:\r\n",
    "\r\n",
    "- \\( P(A|B) \\): The probability of event A occurring given that event B has occurred.\r\n",
    "- \\( P(B|A) \\): The probability of event B occurring given that event A has occurred.\r\n",
    "- \\( P(A) \\): The prior probability of event A.\r\n",
    "- \\( P(B) \\): The prior probability of event B.\r\n",
    "\r\n",
    "In simpler terms, Bayes's Theorem helps us update the probability of an event based on new information.\r\n",
    "\r\n",
    "**Example:**\r\n",
    "Let's say we have a test for a rare disease, and the test is not perfect. The test has a false positive rate of 5% (meaning it incorrectly says you have the disease when you don't) and a false negative rate of 2% (meaning it incorrectly says you don't have the disease when you do). The prevalence of the disease in the population is 1%.\r\n",
    "\r\n",
    "1. **Prior Probability (\\( P(A) \\)):**\r\n",
    "   - The initial probability of having the disease without any test information is 1%.\r\n",
    "\r\n",
    "2. **Likelihood of the Test Results (\\( P(B|A) \\) and \\( P(B|\\neg A) \\)):**\r\n",
    "   - \\( P(B|A) \\): The probability of testing positive given that you actually have the disease is 98% (100% - false negative rate).\r\n",
    "   - \\( P(B|\\neg A) \\): The probability of testing negative given that you don't have the disease is 95% (100% - false positive rate).\r\n",
    "\r\n",
    "3. **Applying Bayes's Theorem:**\r\n",
    "   - Plug these values into the formula to calculate the updated probability of having the disease given a positive test result.\r\n",
    "\r\n",
    "   \\[ P(A|\\text{Positive Test}) = \\frac{P(\\text{Positive Test}|A) \\cdot P(A)}{P(\\text{Positive Test})} \\]\r\n",
    "\r\n",
    "   - This updated probability will be higher than the initial probability because the positive test result provides new information.\r\n",
    "\r\n",
    "Bayes's Theorem is a fundamental concept in probability and statistics, widely used in fields like medicine, machine learning, and decision-making. It allows us to make more informed decisions by updating our beliefs based on new evidence.ance (ANOVA).ns, and decision-making in various fields.\n"
   ]
  },
  {
   "cell_type": "markdown",
   "id": "27322093-60f8-4031-a0d0-33d81ba1fd55",
   "metadata": {},
   "source": [
    "#### Q5: What is a confidence interval? How to calculate the confidence interval, explain with an example."
   ]
  },
  {
   "cell_type": "markdown",
   "id": "3fa9fdf3-281e-47ca-aa42-e3336df8d9fc",
   "metadata": {},
   "source": [
    "#### Answer:"
   ]
  },
  {
   "cell_type": "markdown",
   "id": "8565d1ee-9f85-4ead-8689-fe1f3ae38066",
   "metadata": {},
   "source": [
    "A confidence interval is a range of values that is used to estimate the true value of a population parameter with a certain level of confidence. It provides a range within which we believe the true parameter value is likely to fall. The confidence level reflects the probability that the interval contains the true parameter.\n",
    "\n",
    "In general terms, a confidence interval is expressed as:\n",
    "\n",
    "\\[ \\text{Estimate} \\pm \\text{Margin of Error} \\]\n",
    "\n",
    "Where:\n",
    "- Estimate is the point estimate (e.g., the sample mean or proportion).\n",
    "- Margin of Error is a measure of the uncertainty or variability in the estimate.\n",
    "\n",
    "The formula for calculating the confidence interval for the mean (when the population standard deviation is known) is given by:\n",
    "\n",
    "\\[ \\text{Confidence Interval} = \\bar{X} \\pm Z \\left( \\frac{\\sigma}{\\sqrt{n}} \\right) \\]\n",
    "\n",
    "Where:\n",
    "- \\(\\bar{X}\\) is the sample mean.\n",
    "- \\(Z\\) is the critical value from the standard normal distribution, corresponding to the desired confidence level.\n",
    "- \\(\\sigma\\) is the population standard deviation.\n",
    "- \\(n\\) is the sample size.\n",
    "\n",
    "Here's an example to illustrate how to calculate a confidence interval:\n",
    "\n",
    "**Example:**\n",
    "Suppose we want to estimate the average height of students in a school. We take a random sample of 30 students and find that the sample mean height (\\(\\bar{X}\\)) is 160 cm. The population standard deviation (\\(\\sigma\\)) is known to be 10 cm. We want to calculate a 95% confidence interval.\n",
    "\n",
    "1. **Critical Value (Z):**\n",
    "   - For a 95% confidence interval, the critical value (Z) is approximately 1.96. This value can be obtained from a standard normal distribution table or using statistical software.\n",
    "\n",
    "2. **Calculate Margin of Error:**\n",
    "   \\[ \\text{Margin of Error} = Z \\left( \\frac{\\sigma}{\\sqrt{n}} \\right) \\]\n",
    "   \\[ \\text{Margin of Error} = 1.96 \\left( \\frac{10}{\\sqrt{30}} \\right) \\approx 3.56 \\]\n",
    "\n",
    "3. **Calculate Confidence Interval:**\n",
    "   \\[ \\text{Confidence Interval} = \\bar{X} \\pm \\text{Margin of Error} \\]\n",
    "   \\[ \\text{Confidence Interval} = 160 \\pm 3.56 \\]\n",
    "\n",
    "So, the 95% confidence interval for the average height of students is approximately \\( (156.44 \\, \\text{cm}, 163.56 \\, \\text{cm}) \\).\n",
    "\n",
    "This means we are 95% confident that the true average height of all students in the school falls within this interval. If we were to repeat this process with different samples, we would expect approximately 95% of the intervals to contain the true average height.(f\"p-value: {p_value}\")\r\n",
    "print(result)\r\n"
   ]
  },
  {
   "cell_type": "markdown",
   "id": "d557acfa-037a-40ec-8c56-9b7f625f2411",
   "metadata": {},
   "source": [
    "#### Q6. Use Bayes' Theorem to calculate the probability of an event occurring given prior knowledge of the event's probability and new evidence. Provide a sample problem and solution."
   ]
  },
  {
   "cell_type": "markdown",
   "id": "06962022-99dc-4b7f-9c45-1f63fbeca545",
   "metadata": {},
   "source": [
    "#### Answer:"
   ]
  },
  {
   "cell_type": "markdown",
   "id": "562bcab2-08a2-4b0d-954b-9731a3b9fe4d",
   "metadata": {},
   "source": [
    "\r\n",
    "**Monty Hall Problem:**\r\n",
    "\r\n",
    "1. **Scenario:**\r\n",
    "   - You are a contestant on a game show. There are three doors. Behind one of the doors is a car, and behind the other two are goats.\r\n",
    "   - You choose a door, say Door #1.\r\n",
    "   - The host (Monty Hall) knows what's behind each door and opens another door, revealing a goat behind it (let's say Door #3).\r\n",
    "\r\n",
    "2. **Question:**\r\n",
    "   - Should you stick with your original choice (Door #1) or switch to the remaining unopened door (Door #2) to maximize your chances of winning the car?\r\n",
    "\r\n",
    "**Bayes' Theorem Calculation:**\r\n",
    "\r\n",
    "Let's use Bayes' Theorem to calculate the probability of winning the car if you switch doors.\r\n",
    "\r\n",
    "- Let \\( A \\) be the event \"Car is behind Door #1\" (your initial choice).\r\n",
    "- Let \\( B \\) be the event \"Host opens Door #3 and reveals a goat.\"\r\n",
    "\r\n",
    "\\[ P(A|B) = \\frac{P(B|A) \\cdot P(A)}{P(B)} \\]\r\n",
    "\r\n",
    "- \\( P(A) \\): The prior probability of the car being behind Door #1 is \\( \\frac{1}{3} \\) because there are three doors, and each has an equal chance initially.\r\n",
    "- \\( P(B|A) \\): If the car is behind Door #1, the probability that the host opens Door #3 and reveals a goat is \\( 1 \\) (since the host must choose Door #3).\r\n",
    "- \\( P(B) \\): The probability that the host opens Door #3 and reveals a goat can happen in two scenarios: (1) The car is behind Door #1, or (2) The car is behind Door #2. The probability of the host opening Door #3 in these scenarios is \\( \\frac{1}{3} \\) and \\( \\frac{1}{2} \\), respectively.\r\n",
    "\r\n",
    "\\[ P(B) = P(B|A) \\cdot P(A) + P(B|\\neg A) \\cdot P(\\neg A) \\]\r\n",
    "\\[ P(B) = 1 \\cdot \\frac{1}{3} + \\frac{1}{2} \\cdot \\frac{2}{3} = \\frac{1}{2} \\]\r\n",
    "\r\n",
    "Now, substitute these values into Bayes' Theorem:\r\n",
    "\r\n",
    "\\[ P(A|B) = \\frac{1 \\cdot \\frac{1}{3}}{\\frac{1}{2}} = \\frac{2}{3} \\]\r\n",
    "\r\n",
    "So, according to Bayes' Theorem, if you switch doors, your probability of winning the car becomes \\( \\frac{2}{3} \\), which is higher than the initial \\( \\frac{1}{3} \\) probability if you stick with your original choice. Therefore, it is advantageous to switch doors.the null hypothesis..1587 or 15.87%.\n"
   ]
  },
  {
   "cell_type": "markdown",
   "id": "652df8c1-2157-4526-ad9d-9fdf2af8a391",
   "metadata": {},
   "source": [
    "#### Q7. Calculate the 95% confidence interval for a sample of data with a mean of 50 and a standard deviation of 5. Interpret the results."
   ]
  },
  {
   "cell_type": "markdown",
   "id": "9ef72e81-9974-4dca-b483-6bb4d186fe7b",
   "metadata": {},
   "source": [
    "#### Answer:"
   ]
  },
  {
   "cell_type": "markdown",
   "id": "6cd394fe-309f-4351-a0c7-eee8df64bf31",
   "metadata": {},
   "source": [
    "To calculate the 95% confidence interval for a sample, we can use the formula:\r\n",
    "\r\n",
    "\\[ \\text{Confidence Interval} = \\bar{X} \\pm Z \\left( \\frac{s}{\\sqrt{n}} \\right) \\]\r\n",
    "\r\n",
    "where:\r\n",
    "- \\(\\bar{X}\\) is the sample mean,\r\n",
    "- \\(Z\\) is the critical value from the standard normal distribution corresponding to the desired confidence level,\r\n",
    "- \\(s\\) is the sample standard deviation,\r\n",
    "- \\(n\\) is the sample size.\r\n",
    "\r\n",
    "In this case, the provided information is:\r\n",
    "- Sample mean (\\(\\bar{X}\\)) = 50\r\n",
    "- Standard deviation (\\(s\\)) = 5\r\n",
    "\r\n",
    "Assuming you have a sufficiently large sample size (which is common when using a 95% confidence interval), the critical value for a 95% confidence interval is approximately 1.96.\r\n",
    "\r\n",
    "\\[ \\text{Confidence Interval} = 50 \\pm 1.96 \\left( \\frac{5}{\\sqrt{n}} \\right) \\]\r\n",
    "\r\n",
    "Without knowing the exact sample size (\\(n\\)), we cannot calculate the confidence interval precisely. However, you can interpret the result generally.\r\n",
    "\r\n",
    "Interpretation:\r\n",
    "- The 95% confidence interval for the population mean is from \\(50 - \\text{Margin of Error}\\) to \\(50 + \\text{Margin of Error}\\).\r\n",
    "- The margin of error is determined by \\(1.96 \\times \\left( \\frac{5}{\\sqrt{n}} \\right)\\).\r\n",
    "- As the sample size increases, the margin of error decreases, leading to a narrower confidence interval.\r\n",
    "\r\n",
    "If you have the actual sample size, you can plug it into the formula to calculate the specific confidence interval. The result would tell you with 95% confidence that the true population mean falls within that interval.ferences about populations.tcomes are equally likely.nt events in a fixed interval., 6, 7, 8, 10}"
   ]
  },
  {
   "cell_type": "markdown",
   "id": "c90343bb-3750-417d-848c-d616074c15db",
   "metadata": {},
   "source": [
    "#### Q8. What is the margin of error in a confidence interval? How does sample size affect the margin of error? Provide an example of a scenario where a larger sample size would result in a smaller margin of error."
   ]
  },
  {
   "cell_type": "markdown",
   "id": "2d1db97c-6e3f-4a40-9d5e-5f84ebed4d4c",
   "metadata": {},
   "source": [
    "#### Answer :"
   ]
  },
  {
   "cell_type": "markdown",
   "id": "994ef15f-a019-429f-bb98-fc76adbef0fc",
   "metadata": {},
   "source": [
    "The margin of error in a confidence interval represents the range within which we expect the true population parameter (such as the mean) to lie. It quantifies the precision or uncertainty associated with our estimate. A smaller margin of error indicates a more precise estimate.\r\n",
    "\r\n",
    "The formula for the margin of error in a confidence interval is typically given by:\r\n",
    "\r\n",
    "\\[ \\text{Margin of Error} = Z \\left( \\frac{s}{\\sqrt{n}} \\right) \\]\r\n",
    "\r\n",
    "where:\r\n",
    "- \\( Z \\) is the critical value from the standard normal distribution, determined by the desired confidence level (e.g., 1.96 for a 95% confidence interval),\r\n",
    "- \\( s \\) is the sample standard deviation,\r\n",
    "- \\( n \\) is the sample size.\r\n",
    "\r\n",
    "**Effect of Sample Size on Margin of Error:**\r\n",
    "\r\n",
    "1. **Inverse Relationship:**\r\n",
    "   - The margin of error is inversely proportional to the square root of the sample size. As the sample size increases, the square root of the sample size increases, leading to a decrease in the margin of error.\r\n",
    "\r\n",
    "2. **Larger Sample Size, Smaller Margin of Error:**\r\n",
    "   - A larger sample size provides more information and reduces the variability of the estimate. As a result, the margin of error decreases, leading to a more precise estimate.\r\n",
    "\r\n",
    "**Example Scenario:**\r\n",
    "Consider a scenario where you want to estimate the average height of students in a school. You take two different samples: one with a small sample size (e.g., 20 students) and another with a large sample size (e.g., 200 students).\r\n",
    "\r\n",
    "- **Small Sample Size:**\r\n",
    "  - \\( n_1 = 20 \\)\r\n",
    "  - \\( Z \\) (for a 95% confidence interval) remains constant.\r\n",
    "  - The margin of error will be relatively larger due to the smaller sample size.\r\n",
    "\r\n",
    "- **Large Sample Size:**\r\n",
    "  - \\( n_2 = 200 \\)\r\n",
    "  - \\( Z \\) (for a 95% confidence interval) remains constant.\r\n",
    "  - The margin of error will be relatively smaller due to the larger sample size.\r\n",
    "\r\n",
    "In summary, increasing the sample size generally leads to a more precise estimate with a smaller margin of error. This is because larger samples provide more reliable information about the population, resulting in a more accurate representation of the true parameter value..thesis tests accurately.sion-making in various fields."
   ]
  },
  {
   "cell_type": "markdown",
   "id": "17cc9d75-dbc6-4a3e-8909-59b2f0b46f0b",
   "metadata": {},
   "source": [
    "#### Q9. Calculate the z-score for a data point with a value of 75, a population mean of 70, and a population \n",
    "standard deviation of 5. Interpret the results."
   ]
  },
  {
   "cell_type": "markdown",
   "id": "6929e32e-eda0-4d83-a75a-14da27432ae5",
   "metadata": {},
   "source": [
    "##### Answer:"
   ]
  },
  {
   "cell_type": "markdown",
   "id": "334845d2-6cad-4d05-9e06-721b83951231",
   "metadata": {},
   "source": [
    "The z-score (or standard score) is a measure of how many standard deviations a data point is from the mean of a population. The formula for calculating the z-score is:\n",
    "\n",
    "\\[ z = \\frac{{X - \\mu}}{{\\sigma}} \\]\n",
    "\n",
    "where:\n",
    "- \\( X \\) is the individual data point,\n",
    "- \\( \\mu \\) is the population mean,\n",
    "- \\( \\sigma \\) is the population standard deviation.\n",
    "\n",
    "In your case:\n",
    "- \\( X = 75 \\) (data point value),\n",
    "- \\( \\mu = 70 \\) (population mean),\n",
    "- \\( \\sigma = 5 \\) (population standard deviation).\n",
    "\n",
    "\\[ z = \\frac{{75 - 70}}{{5}} = 1 \\]\n",
    "\n",
    "The calculated z-score is 1. This means that the data point with a value of 75 is 1 standard deviation above the population mean.\n",
    "\n",
    "**Interpretation:**\n",
    "- A z-score of 1 indicates that the data point is 1 standard deviation above the mean.\n",
    "- Since the z-score is positive, it means the data point is above the mean.\n",
    "- The larger the absolute value of the z-score, the farther the data point is from the mean in terms of standard deviations.\n",
    "\n",
    "In practical terms, a z-score allows you to assess how unusual or typical a data point is within a distribution. A positive z-score suggests that the data point is above the mean, while a negative z-score suggests it is below the mean. The magnitude of the z-score indicates the distance from the mean in terms of standard deviations."
   ]
  },
  {
   "cell_type": "markdown",
   "id": "dafb088b-b77d-47ce-8f2e-7ac63e384f06",
   "metadata": {},
   "source": [
    "#### Q10. In a study of the effectiveness of a new weight loss drug, a sample of 50 participants lost an average of 6 pounds with a standard deviation of 2.5 pounds. Conduct a hypothesis test to determine if the drug is significantly effective at a 95% confidence level using a t-test."
   ]
  },
  {
   "cell_type": "markdown",
   "id": "55bfd0ba-3f98-4626-9b8e-f3e0e7572447",
   "metadata": {},
   "source": [
    "#### Answer:"
   ]
  },
  {
   "cell_type": "code",
   "execution_count": 20,
   "id": "f28eb4ac-cd65-4395-9af5-a91788a8ff36",
   "metadata": {},
   "outputs": [
    {
     "name": "stdout",
     "output_type": "stream",
     "text": [
      "T-statistic: 16.970562748477143\n",
      "Critical t-value: 2.009575234489209\n",
      "P-value: 0.0\n",
      "Reject the null hypothesis: The drug is significantly effective.\n"
     ]
    }
   ],
   "source": [
    "import numpy as np\n",
    "from scipy.stats import t\n",
    "\n",
    "# Given values\n",
    "sample_size = 50\n",
    "sample_mean = 6\n",
    "sample_std_dev = 2.5\n",
    "confidence_level = 0.95\n",
    "null_hypothesis_mean = 0  # Assuming no weight loss\n",
    "\n",
    "# Calculate the t-statistic\n",
    "t_statistic = (sample_mean - null_hypothesis_mean) / (sample_std_dev / np.sqrt(sample_size))\n",
    "\n",
    "# Degrees of freedom for a t-test\n",
    "degrees_of_freedom = sample_size - 1\n",
    "\n",
    "# Find the critical t-value for a two-tailed test\n",
    "alpha = 1 - confidence_level\n",
    "critical_t_value = t.ppf(1 - alpha / 2, df=degrees_of_freedom)\n",
    "\n",
    "# Calculate the p-value\n",
    "p_value = 2 * (1 - t.cdf(np.abs(t_statistic), df=degrees_of_freedom))\n",
    "\n",
    "# Print the results\n",
    "print(f'T-statistic: {t_statistic}')\n",
    "print(f'Critical t-value: {critical_t_value}')\n",
    "print(f'P-value: {p_value}')\n",
    "\n",
    "# Make a decision\n",
    "if np.abs(t_statistic) > critical_t_value or p_value < alpha:\n",
    "    print(\"Reject the null hypothesis: The drug is significantly effective.\")\n",
    "else:\n",
    "    print(\"Fail to reject the null hypothesis: The drug is not significantly effective.\")\n"
   ]
  },
  {
   "cell_type": "markdown",
   "id": "5ae02101-01c1-4b9b-a9cb-8238f77627ba",
   "metadata": {},
   "source": [
    "#### Q11. In a survey of 500 people, 65% reported being satisfied with their current job. Calculate the 95% confidence interval for the true proportion of people who are satisfied with their job."
   ]
  },
  {
   "cell_type": "markdown",
   "id": "c2cad2bc-1094-4592-bb84-3039a3ddd6d4",
   "metadata": {},
   "source": [
    "#### Answer:"
   ]
  },
  {
   "cell_type": "code",
   "execution_count": 21,
   "id": "63e55fc8-7a07-4646-a308-7a602996c80f",
   "metadata": {},
   "outputs": [
    {
     "name": "stdout",
     "output_type": "stream",
     "text": [
      "95% Confidence Interval: (0.6082, 0.6918)\n"
     ]
    }
   ],
   "source": [
    "import numpy as np\n",
    "\n",
    "# Given values\n",
    "sample_proportion = 0.65\n",
    "confidence_level = 0.95\n",
    "sample_size = 500\n",
    "\n",
    "# Calculate the standard error of the proportion\n",
    "standard_error = np.sqrt((sample_proportion * (1 - sample_proportion)) / sample_size)\n",
    "\n",
    "# Calculate the margin of error\n",
    "margin_of_error = 1.96 * standard_error\n",
    "\n",
    "# Calculate the confidence interval\n",
    "confidence_interval_lower = sample_proportion - margin_of_error\n",
    "confidence_interval_upper = sample_proportion + margin_of_error\n",
    "\n",
    "# Print the results\n",
    "print(f'95% Confidence Interval: ({confidence_interval_lower:.4f}, {confidence_interval_upper:.4f})')\n"
   ]
  },
  {
   "cell_type": "markdown",
   "id": "28857cd4-5c46-41dc-9b6e-989616ae1485",
   "metadata": {},
   "source": [
    "#### Q12. A researcher is testing the effectiveness of two different teaching methods on student performance. Sample A has a mean score of 85 with a standard deviation of 6, while sample B has a mean score of 82 with a standard deviation of 5. Conduct a hypothesis test to determine if the two teaching methods have a significant difference in student performance using a t-test with a significance level of 0.01."
   ]
  },
  {
   "cell_type": "markdown",
   "id": "142251ec-4cde-4c06-9f0a-4a165fca316f",
   "metadata": {},
   "source": [
    "#### Answer:"
   ]
  },
  {
   "cell_type": "code",
   "execution_count": 26,
   "id": "c12ca030-7986-4f1d-84eb-c807083638c7",
   "metadata": {},
   "outputs": [
    {
     "name": "stdout",
     "output_type": "stream",
     "text": [
      "T-statistic: 2.9753082220827882\n",
      "Critical t-value: 2.6632869538098674\n",
      "P-value: 0.004261848007000468\n",
      "Reject the null hypothesis: There is a significant difference in student performance.\n"
     ]
    }
   ],
   "source": [
    "import numpy as np\n",
    "from scipy.stats import t\n",
    "\n",
    "# Given values for Sample A\n",
    "mean_A = 85\n",
    "std_dev_A = 6\n",
    "\n",
    "# Given values for Sample B\n",
    "mean_B = 82\n",
    "std_dev_B = 5\n",
    "\n",
    "# Significance level\n",
    "alpha = 0.01\n",
    "\n",
    "# Assume equal sample sizes\n",
    "sample_size = 30  # Replace with the desired sample size\n",
    "\n",
    "# Calculate the t-statistic assuming equal sample sizes\n",
    "t_statistic = (mean_A - mean_B) / np.sqrt((std_dev_A**2 + std_dev_B**2) / (2 * sample_size))\n",
    "\n",
    "# Degrees of freedom for a two-sample t-test\n",
    "degrees_of_freedom = 2 * sample_size - 2\n",
    "\n",
    "# Find the critical t-value for a two-tailed test\n",
    "critical_t_value = t.ppf(1 - alpha / 2, df=degrees_of_freedom)\n",
    "\n",
    "# Calculate the p-value\n",
    "p_value = 2 * (1 - t.cdf(np.abs(t_statistic), df=degrees_of_freedom))\n",
    "\n",
    "# Print the results\n",
    "print(f'T-statistic: {t_statistic}')\n",
    "print(f'Critical t-value: {critical_t_value}')\n",
    "print(f'P-value: {p_value}')\n",
    "\n",
    "# Make a decision\n",
    "if np.abs(t_statistic) > critical_t_value or p_value < alpha:\n",
    "    print(\"Reject the null hypothesis: There is a significant difference in student performance.\")\n",
    "else:\n",
    "    print(\"Fail to reject the null hypothesis: There is no significant difference in student performance.\")\n"
   ]
  },
  {
   "cell_type": "markdown",
   "id": "367fc4e4-c3d6-46c4-a43d-9cc4a38c9d18",
   "metadata": {},
   "source": [
    "#### Q13. A population has a mean of 60 and a standard deviation of 8. A sample of 50 observations has a mean of 65. Calculate the 90% confidence interval for the true population mean."
   ]
  },
  {
   "cell_type": "markdown",
   "id": "ee1268cb-ae53-47b1-9b5e-54724e699339",
   "metadata": {},
   "source": [
    "#### Answer:"
   ]
  },
  {
   "cell_type": "code",
   "execution_count": 27,
   "id": "a93426fc-40a0-4509-b721-cb3b41e55b92",
   "metadata": {},
   "outputs": [
    {
     "name": "stdout",
     "output_type": "stream",
     "text": [
      "90% Confidence Interval: (63.1389, 66.8611)\n"
     ]
    }
   ],
   "source": [
    "import numpy as np\n",
    "\n",
    "# Given values\n",
    "sample_mean = 65\n",
    "population_std_dev = 8\n",
    "sample_size = 50\n",
    "confidence_level = 0.90\n",
    "\n",
    "# Find the critical value for a two-tailed test\n",
    "critical_value = np.abs(round(norm.ppf((1 - confidence_level) / 2), 3))\n",
    "\n",
    "# Calculate the standard error of the mean\n",
    "standard_error = population_std_dev / np.sqrt(sample_size)\n",
    "\n",
    "# Calculate the margin of error\n",
    "margin_of_error = critical_value * standard_error\n",
    "\n",
    "# Calculate the confidence interval\n",
    "confidence_interval_lower = sample_mean - margin_of_error\n",
    "confidence_interval_upper = sample_mean + margin_of_error\n",
    "\n",
    "# Print the results\n",
    "print(f'90% Confidence Interval: ({confidence_interval_lower:.4f}, {confidence_interval_upper:.4f})')\n"
   ]
  },
  {
   "cell_type": "markdown",
   "id": "c517a76e-611c-4a1a-ac3a-c263e131abdc",
   "metadata": {},
   "source": [
    "#### Q14. In a study of the effects of caffeine on reaction time, a sample of 30 participants had an average reaction time of 0.25 seconds with a standard deviation of 0.05 seconds. Conduct a hypothesis test to determine if the caffeine has a significant effect on reaction time at a 90% confidence level using a t-test."
   ]
  },
  {
   "cell_type": "markdown",
   "id": "54e5b40d-cf5b-4956-a22f-031e3adb6d41",
   "metadata": {},
   "source": [
    "#### Answer:"
   ]
  },
  {
   "cell_type": "code",
   "execution_count": 28,
   "id": "84513229-3eb4-479f-a98d-dda6ba1e070e",
   "metadata": {},
   "outputs": [
    {
     "name": "stdout",
     "output_type": "stream",
     "text": [
      "T-statistic: 1.0954451150103333\n",
      "Critical t-value: 1.6991270265334972\n",
      "P-value: 0.28233623728606916\n",
      "Fail to reject the null hypothesis: There is no significant effect of caffeine on reaction time.\n"
     ]
    }
   ],
   "source": [
    "import numpy as np\n",
    "from scipy.stats import t\n",
    "\n",
    "# Given values\n",
    "sample_mean = 0.25\n",
    "sample_std_dev = 0.05\n",
    "sample_size = 30\n",
    "confidence_level = 0.90\n",
    "hypothesized_population_mean = 0.24  # Choose an appropriate value\n",
    "\n",
    "# Calculate the t-statistic\n",
    "t_statistic = (sample_mean - hypothesized_population_mean) / (sample_std_dev / np.sqrt(sample_size))\n",
    "\n",
    "# Degrees of freedom for a one-sample t-test\n",
    "degrees_of_freedom = sample_size - 1\n",
    "\n",
    "# Find the critical t-value for a two-tailed test\n",
    "critical_t_value = t.ppf(1 - (1 - confidence_level) / 2, df=degrees_of_freedom)\n",
    "\n",
    "# Calculate the p-value\n",
    "p_value = 2 * (1 - t.cdf(np.abs(t_statistic), df=degrees_of_freedom))\n",
    "\n",
    "# Print the results\n",
    "print(f'T-statistic: {t_statistic}')\n",
    "print(f'Critical t-value: {critical_t_value}')\n",
    "print(f'P-value: {p_value}')\n",
    "\n",
    "# Make a decision\n",
    "if np.abs(t_statistic) > critical_t_value or p_value < 1 - confidence_level:\n",
    "    print(\"Reject the null hypothesis: Caffeine has a significant effect on reaction time.\")\n",
    "else:\n",
    "    print(\"Fail to reject the null hypothesis: There is no significant effect of caffeine on reaction time.\")\n"
   ]
  }
 ],
 "metadata": {
  "kernelspec": {
   "display_name": "Python 3 (ipykernel)",
   "language": "python",
   "name": "python3"
  },
  "language_info": {
   "codemirror_mode": {
    "name": "ipython",
    "version": 3
   },
   "file_extension": ".py",
   "mimetype": "text/x-python",
   "name": "python",
   "nbconvert_exporter": "python",
   "pygments_lexer": "ipython3",
   "version": "3.11.5"
  }
 },
 "nbformat": 4,
 "nbformat_minor": 5
}

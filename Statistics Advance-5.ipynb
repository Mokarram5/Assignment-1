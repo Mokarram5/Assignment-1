{
 "cells": [
  {
   "cell_type": "markdown",
   "id": "3a7b45cc-606c-4cfd-9017-f0e2422620d5",
   "metadata": {},
   "source": [
    "## Assignment of Statistics Advance-5"
   ]
  },
  {
   "cell_type": "markdown",
   "id": "bd64d2c7-1623-4960-b15a-185642aef80b",
   "metadata": {},
   "source": [
    "#### Q1. Calculate the 95% confidence interval for a sample of data with a mean of 50 and a standard deviation of 5 using Python. Interpret the results."
   ]
  },
  {
   "cell_type": "markdown",
   "id": "21006020-52c3-4a1b-853b-7009bde64c4c",
   "metadata": {},
   "source": [
    "#### Answer:"
   ]
  },
  {
   "cell_type": "code",
   "execution_count": 29,
   "id": "55076a9c-a0dc-4ffe-a314-541b57e64808",
   "metadata": {},
   "outputs": [
    {
     "name": "stdout",
     "output_type": "stream",
     "text": [
      "95% Confidence Interval: (46.53524043912581, 53.46475956087419)\n"
     ]
    }
   ],
   "source": [
    "from scipy.stats import norm\n",
    "\n",
    "# Given values\n",
    "sample_mean = 50\n",
    "sample_std_dev = 5\n",
    "confidence_level = 0.95\n",
    "\n",
    "# Calculate the margin of error\n",
    "margin_of_error = norm.ppf((1 + confidence_level) / 2) * (sample_std_dev / (len(data) ** 0.5))\n",
    "\n",
    "# Calculate the confidence interval\n",
    "confidence_interval = (sample_mean - margin_of_error, sample_mean + margin_of_error)\n",
    "\n",
    "# Print the results\n",
    "print(f'95% Confidence Interval: {confidence_interval}')\n"
   ]
  },
  {
   "cell_type": "markdown",
   "id": "31031c2c-b8f9-4a92-8f27-f879bd879888",
   "metadata": {},
   "source": [
    "#### Q2. Conduct a chi-square goodness of fit test to determine if the distribution of colors of M&Ms in a bag  matches the expected distribution of 20% blue, 20% orange, 20% green, 10% yellow, 10% red, and 20 brown. Use Python to perform the test with a significance level of 0.0"
   ]
  },
  {
   "cell_type": "markdown",
   "id": "ef3689a0-b381-4398-8eb1-d1ba2f426106",
   "metadata": {},
   "source": [
    "#### Answer:"
   ]
  },
  {
   "cell_type": "code",
   "execution_count": 33,
   "id": "4b1c0bb4-8b00-487b-b78f-c0771ac796c5",
   "metadata": {},
   "outputs": [
    {
     "name": "stdout",
     "output_type": "stream",
     "text": [
      "Chi-square Statistic: 34.42307692307693\n",
      "P-value: 1.9610564852570196e-06\n",
      "Reject the null hypothesis: The distribution of M&M colors does not match the expected distribution.\n"
     ]
    }
   ],
   "source": [
    "import numpy as np\r\n",
    "from scipy.stats import chisquare\r\n",
    "\r\n",
    "# Observed frequencies of M&M colors in a bag\r\n",
    "observed_frequencies = [50, 30, 20, 10, 5, 15]  # Replace with your actual data\r\n",
    "\r\n",
    "# Expected frequencies based on the expected distribution\r\n",
    "expected_frequencies = [0.2, 0.2, 0.2, 0.1, 0.1, 0.2]  # Expected percentages\r\n",
    "\r\n",
    "# Convert expected frequencies to counts based on the total count\r\n",
    "total_count = sum(observed_frequencies)\r\n",
    "expected_counts = [count * total_count for count in expected_frequencies]\r\n",
    "\r\n",
    "# Perform the chi-square goodness-of-fit test\r\n",
    "chi2_stat, p_value = chisquare(observed_frequencies, f_exp=expected_counts)\r\n",
    "\r\n",
    "# Print the results\r\n",
    "print(f'Chi-square Statistic: {chi2_stat}')\r\n",
    "print(f'P-value: {p_value}')\r\n",
    "\r\n",
    "# Make a decision based on the significance level\r\n",
    "alpha = 0.05  # Significance level\r\n",
    "if p_value < alpha:\r\n",
    "    print(\"Reject the null hypothesis: The distribution of M&M colors does not match the expected distribution.\")\r\n",
    "else:\r\n",
    "    print(\"Fail to reject the null hypothesis: The distribution of M&M colors matches the expected distribution.\")\r\n"
   ]
  },
  {
   "cell_type": "markdown",
   "id": "139b0e33-b25c-4df9-a2b5-672ed116d91d",
   "metadata": {},
   "source": [
    "#### Q3. Use Python to calculate the chi-square statistic and p-value for a contingency table with the following \n",
    "data:"
   ]
  },
  {
   "cell_type": "markdown",
   "id": "51622379-6954-40e1-905d-f966bca4b651",
   "metadata": {},
   "source": [
    "#### Answer: "
   ]
  },
  {
   "cell_type": "code",
   "execution_count": 34,
   "id": "397474b5-7129-4acb-a083-db2f70cff9f4",
   "metadata": {},
   "outputs": [
    {
     "name": "stdout",
     "output_type": "stream",
     "text": [
      "Chi-square Statistic: 5.833333333333334\n",
      "Degrees of Freedom: 2\n",
      "P-value: 0.05411376622282158\n",
      "Fail to reject the null hypothesis: There is no significant association between groups and outcomes.\n"
     ]
    }
   ],
   "source": [
    "import numpy as np\n",
    "from scipy.stats import chi2_contingency\n",
    "\n",
    "# Given data\n",
    "observed_data = np.array([[20, 15],\n",
    "                          [10, 25],\n",
    "                          [15, 20]])\n",
    "\n",
    "# Perform the chi-square test\n",
    "chi2_stat, p_value, dof, expected = chi2_contingency(observed_data)\n",
    "\n",
    "# Print the results\n",
    "print(f'Chi-square Statistic: {chi2_stat}')\n",
    "print(f'Degrees of Freedom: {dof}')\n",
    "print(f'P-value: {p_value}')\n",
    "\n",
    "# Make a decision based on the significance level\n",
    "alpha = 0.05  # Significance level\n",
    "if p_value < alpha:\n",
    "    print(\"Reject the null hypothesis: There is a significant association between groups and outcomes.\")\n",
    "else:\n",
    "    print(\"Fail to reject the null hypothesis: There is no significant association between groups and outcomes.\")\n"
   ]
  },
  {
   "cell_type": "markdown",
   "id": "84bf3854-9775-4c65-9dea-9a873b3ef2d3",
   "metadata": {},
   "source": [
    "#### Q4. A study of the prevalence of smoking in a population of 500 individuals found that 60 individuals smoked. Use Python to calculate the 95% confidence interval for the true proportion of individuals in the population who smoke."
   ]
  },
  {
   "cell_type": "markdown",
   "id": "6502d700-b12e-41b9-901e-8417736264ec",
   "metadata": {},
   "source": [
    "#### Answer:"
   ]
  },
  {
   "cell_type": "code",
   "execution_count": 35,
   "id": "909a7356-f890-4e05-a145-7299cc49a394",
   "metadata": {},
   "outputs": [
    {
     "name": "stdout",
     "output_type": "stream",
     "text": [
      "Proportion of smokers: 0.1200\n",
      "95% Confidence Interval: (0.0915, 0.1485)\n"
     ]
    }
   ],
   "source": [
    "import statsmodels.api as sm\n",
    "\n",
    "# Given values\n",
    "total_population = 500\n",
    "smokers_count = 60\n",
    "confidence_level = 0.95\n",
    "\n",
    "# Calculate the proportion of smokers\n",
    "smoking_proportion = smokers_count / total_population\n",
    "\n",
    "# Calculate the confidence interval\n",
    "conf_interval = sm.stats.proportion_confint(smokers_count, total_population, alpha=1-confidence_level)\n",
    "\n",
    "# Print the results\n",
    "print(f'Proportion of smokers: {smoking_proportion:.4f}')\n",
    "print(f'95% Confidence Interval: ({conf_interval[0]:.4f}, {conf_interval[1]:.4f})')\n"
   ]
  },
  {
   "cell_type": "markdown",
   "id": "cf5b9a3e-db0d-4ee4-b6cc-461522b70ff5",
   "metadata": {},
   "source": [
    "#### Q5. Calculate the 90% confidence interval for a sample of data with a mean of 75 and a standard deviation of 12 using Python. Interpret the results."
   ]
  },
  {
   "cell_type": "markdown",
   "id": "3fa9fdf3-281e-47ca-aa42-e3336df8d9fc",
   "metadata": {},
   "source": [
    "#### Answer:"
   ]
  },
  {
   "cell_type": "code",
   "execution_count": 36,
   "id": "ef3d9355-7947-4042-a1fd-da719c665204",
   "metadata": {},
   "outputs": [
    {
     "name": "stdout",
     "output_type": "stream",
     "text": [
      "90% Confidence Interval: (68.02147707793996, 81.97852292206004)\n"
     ]
    }
   ],
   "source": [
    "from scipy.stats import norm\n",
    "\n",
    "# Given values\n",
    "sample_mean = 75\n",
    "sample_std_dev = 12\n",
    "confidence_level = 0.90\n",
    "\n",
    "# Calculate the margin of error\n",
    "margin_of_error = norm.ppf((1 + confidence_level) / 2) * (sample_std_dev / (len(data) ** 0.5))\n",
    "\n",
    "# Calculate the confidence interval\n",
    "confidence_interval = (sample_mean - margin_of_error, sample_mean + margin_of_error)\n",
    "\n",
    "# Print the results\n",
    "print(f'90% Confidence Interval: {confidence_interval}')\n",
    "\n"
   ]
  },
  {
   "cell_type": "markdown",
   "id": "8f36042c-1253-42ce-832a-5f4a199ffce9",
   "metadata": {},
   "source": [
    "#### Q6. Use Python to plot the chi-square distribution with 10 degrees of freedom. Label the axes and shade the area corresponding to a chi-square statistic of 15."
   ]
  },
  {
   "cell_type": "markdown",
   "id": "06962022-99dc-4b7f-9c45-1f63fbeca545",
   "metadata": {},
   "source": [
    "#### Answer:"
   ]
  },
  {
   "cell_type": "code",
   "execution_count": 37,
   "id": "8ca1e246-1728-460f-b550-2ff7842f6ae2",
   "metadata": {},
   "outputs": [
    {
     "data": {
      "image/png": "[encoded data removed]",
      "text/plain": [
       "<Figure size 640x480 with 1 Axes>"
      ]
     },
     "metadata": {},
     "output_type": "display_data"
    }
   ],
   "source": [
    "import numpy as np\n",
    "import matplotlib.pyplot as plt\n",
    "import scipy.stats as stats\n",
    "\n",
    "# Degrees of freedom\n",
    "df = 10\n",
    "\n",
    "# Create a range of chi-square values\n",
    "x = np.linspace(0, 30, 1000)\n",
    "\n",
    "# Plot the chi-square distribution\n",
    "plt.plot(x, stats.chi2.pdf(x, df), label=f'Chi-square ({df} degrees of freedom)')\n",
    "\n",
    "# Shade the area corresponding to a chi-square statistic of 15\n",
    "x_fill = np.linspace(0, 15, 100)\n",
    "plt.fill_between(x_fill, stats.chi2.pdf(x_fill, df), color='orange', alpha=0.5, label='Chi-square < 15')\n",
    "\n",
    "# Label the axes and add a legend\n",
    "plt.xlabel('Chi-square Statistic')\n",
    "plt.ylabel('Probability Density Function (PDF)')\n",
    "plt.title('Chi-square Distribution')\n",
    "plt.legend()\n",
    "\n",
    "# Show the plot\n",
    "plt.show()\n"
   ]
  },
  {
   "cell_type": "markdown",
   "id": "b3439241-dea8-4295-b0b8-d7d1ea8efc02",
   "metadata": {},
   "source": [
    "#### Q7. A random sample of 1000 people was asked if they preferred Coke or Pepsi. Of the sample, 520 preferred Coke. Calculate a 99% confidence interval for the true proportion of people in the population who prefer Coke."
   ]
  },
  {
   "cell_type": "markdown",
   "id": "9ef72e81-9974-4dca-b483-6bb4d186fe7b",
   "metadata": {},
   "source": [
    "#### Answer:"
   ]
  },
  {
   "cell_type": "code",
   "execution_count": 38,
   "id": "a3715645-1ed7-4049-a49e-911c10c420d4",
   "metadata": {},
   "outputs": [
    {
     "name": "stdout",
     "output_type": "stream",
     "text": [
      "Proportion of people who prefer Coke: 0.5200\n",
      "99% Confidence Interval: (0.4793, 0.5607)\n"
     ]
    }
   ],
   "source": [
    "import statsmodels.api as sm\n",
    "\n",
    "# Given values\n",
    "total_sample_size = 1000\n",
    "coke_preference_count = 520\n",
    "confidence_level = 0.99\n",
    "\n",
    "# Calculate the proportion of people who prefer Coke\n",
    "coke_proportion = coke_preference_count / total_sample_size\n",
    "\n",
    "# Calculate the confidence interval\n",
    "conf_interval = sm.stats.proportion_confint(coke_preference_count, total_sample_size, alpha=1-confidence_level)\n",
    "\n",
    "# Print the results\n",
    "print(f'Proportion of people who prefer Coke: {coke_proportion:.4f}')\n",
    "print(f'99% Confidence Interval: ({conf_interval[0]:.4f}, {conf_interval[1]:.4f})')\n"
   ]
  },
  {
   "cell_type": "markdown",
   "id": "31ebc717-625d-4a46-9cca-303ea81095de",
   "metadata": {},
   "source": [
    "#### Q8. A researcher hypothesizes that a coin is biased towards tails. They flip the coin 100 times and observe 45 tails. Conduct a chi-square goodness of fit test to determine if the observed frequencies match the expected frequencies of a fair coin. Use a significance level of 0.05."
   ]
  },
  {
   "cell_type": "markdown",
   "id": "2d1db97c-6e3f-4a40-9d5e-5f84ebed4d4c",
   "metadata": {},
   "source": [
    "#### Answer :"
   ]
  },
  {
   "cell_type": "code",
   "execution_count": 42,
   "id": "48298409-244c-4d78-81d6-00378d00d238",
   "metadata": {},
   "outputs": [
    {
     "name": "stdout",
     "output_type": "stream",
     "text": [
      "P-value: 0.36820161732669576\n",
      "Fail to reject the null hypothesis: There is no significant evidence that the coin is biased towards tails.\n"
     ]
    },
    {
     "name": "stderr",
     "output_type": "stream",
     "text": [
      "C:\\Users\\USER\\AppData\\Local\\Temp\\ipykernel_2132\\3803649665.py:9: DeprecationWarning: 'binom_test' is deprecated in favour of 'binomtest' from version 1.7.0 and will be removed in Scipy 1.12.0.\n",
      "  p_value = binom_test(observed_tails, n=total_flips, p=expected_probability)\n"
     ]
    }
   ],
   "source": [
    "from scipy.stats import binom_test\n",
    "\n",
    "# Given values\n",
    "observed_tails = 45\n",
    "total_flips = 100\n",
    "expected_probability = 0.5  # For a fair coin\n",
    "\n",
    "# Perform the binomial test\n",
    "p_value = binom_test(observed_tails, n=total_flips, p=expected_probability)\n",
    "\n",
    "# Print the results\n",
    "print(f'P-value: {p_value}')\n",
    "\n",
    "# Make a decision based on the significance level\n",
    "alpha = 0.05  # Significance level\n",
    "if p_value < alpha:\n",
    "    print(\"Reject the null hypothesis: The coin is biased towards tails.\")\n",
    "else:\n",
    "    print(\"Fail to reject the null hypothesis: There is no significant evidence that the coin is biased towards tails.\")\n"
   ]
  },
  {
   "cell_type": "markdown",
   "id": "2465b52d-33aa-4b0d-8917-c797bd958a44",
   "metadata": {},
   "source": [
    "#### Q9. A study was conducted to determine if there is an association between smoking status (smoker or non-smoker) and lung cancer diagnosis (yes or no). The results are shown in the contingency table below. Conduct a chi-square test for independence to determine if there is a significant association between smoking status and lung cancer diagnosis."
   ]
  },
  {
   "cell_type": "markdown",
   "id": "6929e32e-eda0-4d83-a75a-14da27432ae5",
   "metadata": {},
   "source": [
    "##### Answer:"
   ]
  },
  {
   "cell_type": "code",
   "execution_count": 43,
   "id": "348d9d29-4089-4fca-9736-762f722071bb",
   "metadata": {},
   "outputs": [
    {
     "name": "stdout",
     "output_type": "stream",
     "text": [
      "Chi-square Statistic: 12.057347670250895\n",
      "Degrees of Freedom: 1\n",
      "P-value: 0.0005158863863703744\n",
      "Reject the null hypothesis: There is a significant association between smoking status and lung cancer diagnosis.\n"
     ]
    }
   ],
   "source": [
    "import numpy as np\n",
    "from scipy.stats import chi2_contingency\n",
    "\n",
    "# Given data in a contingency table\n",
    "observed_data = np.array([[60, 30],\n",
    "                          [140, 170]])\n",
    "\n",
    "# Perform the chi-square test for independence\n",
    "chi2_stat, p_value, dof, expected = chi2_contingency(observed_data)\n",
    "\n",
    "# Print the results\n",
    "print(f'Chi-square Statistic: {chi2_stat}')\n",
    "print(f'Degrees of Freedom: {dof}')\n",
    "print(f'P-value: {p_value}')\n",
    "\n",
    "# Make a decision based on the significance level\n",
    "alpha = 0.05  # Significance level\n",
    "if p_value < alpha:\n",
    "    print(\"Reject the null hypothesis: There is a significant association between smoking status and lung cancer diagnosis.\")\n",
    "else:\n",
    "    print(\"Fail to reject the null hypothesis: There is no significant association between smoking status and lung cancer diagnosis.\")\n"
   ]
  },
  {
   "cell_type": "markdown",
   "id": "6199c80f-4385-4a41-9f3c-3d698d65a055",
   "metadata": {},
   "source": [
    "#### Q10. A study was conducted to determine if the proportion of people who prefer milk chocolate, dark chocolate, or white chocolate is different in the U.S. versus the U.K. A random sample of 500 people from the U.S. and a random sample of 500 people from the U.K. were surveyed. The results are shown in the contingency table below. Conduct a chi-square test for independence to determine if there is a significant association between chocolate preference and country of origin."
   ]
  },
  {
   "cell_type": "markdown",
   "id": "55bfd0ba-3f98-4626-9b8e-f3e0e7572447",
   "metadata": {},
   "source": [
    "#### Answer:"
   ]
  },
  {
   "cell_type": "code",
   "execution_count": 44,
   "id": "f28eb4ac-cd65-4395-9af5-a91788a8ff36",
   "metadata": {},
   "outputs": [
    {
     "name": "stdout",
     "output_type": "stream",
     "text": [
      "Chi-square Statistic: 13.393665158371041\n",
      "Degrees of Freedom: 2\n",
      "P-value: 0.0012348168997745915\n",
      "Reject the null hypothesis: There is a significant association between chocolate preference and country of origin.\n"
     ]
    }
   ],
   "source": [
    "import numpy as np\n",
    "from scipy.stats import chi2_contingency\n",
    "\n",
    "# Given data in a contingency table\n",
    "observed_data = np.array([[200, 225],\n",
    "                          [150, 175],\n",
    "                          [150, 100]])\n",
    "\n",
    "# Perform the chi-square test for independence\n",
    "chi2_stat, p_value, dof, expected = chi2_contingency(observed_data)\n",
    "\n",
    "# Print the results\n",
    "print(f'Chi-square Statistic: {chi2_stat}')\n",
    "print(f'Degrees of Freedom: {dof}')\n",
    "print(f'P-value: {p_value}')\n",
    "\n",
    "# Make a decision based on the significance level\n",
    "alpha = 0.01  # Significance level\n",
    "if p_value < alpha:\n",
    "    print(\"Reject the null hypothesis: There is a significant association between chocolate preference and country of origin.\")\n",
    "else:\n",
    "    print(\"Fail to reject the null hypothesis: There is no significant association between chocolate preference and country of origin.\")\n"
   ]
  },
  {
   "cell_type": "markdown",
   "id": "86cefa76-f266-4a70-bc68-4bf3986b137b",
   "metadata": {},
   "source": [
    "#### Q11. A random sample of 30 people was selected from a population with an unknown mean and standard deviation. The sample mean was found to be 72 and the sample standard deviation was found to be 10. Conduct a hypothesis test to determine if the population mean is significantly different from 70. Use a significance level of 0.05."
   ]
  },
  {
   "cell_type": "markdown",
   "id": "c2cad2bc-1094-4592-bb84-3039a3ddd6d4",
   "metadata": {},
   "source": [
    "#### Answer:"
   ]
  },
  {
   "cell_type": "code",
   "execution_count": 45,
   "id": "63e55fc8-7a07-4646-a308-7a602996c80f",
   "metadata": {},
   "outputs": [
    {
     "name": "stdout",
     "output_type": "stream",
     "text": [
      "T-statistic: 1.0954451150103321\n",
      "Critical t-value: 2.045229642132703\n",
      "P-value: 0.2823362372860698\n",
      "Fail to reject the null hypothesis: There is no significant evidence that the population mean is different from 70.\n"
     ]
    }
   ],
   "source": [
    "import scipy.stats as stats\n",
    "\n",
    "# Given data\n",
    "sample_mean = 72\n",
    "sample_std_dev = 10\n",
    "sample_size = 30\n",
    "population_mean_hypothesis = 70\n",
    "significance_level = 0.05\n",
    "\n",
    "# Calculate the t-statistic\n",
    "t_statistic = (sample_mean - population_mean_hypothesis) / (sample_std_dev / (sample_size ** 0.5))\n",
    "\n",
    "# Degrees of freedom for a one-sample t-test\n",
    "degrees_of_freedom = sample_size - 1\n",
    "\n",
    "# Calculate the critical t-value for a two-tailed test\n",
    "critical_t_value = stats.t.ppf(1 - significance_level / 2, degrees_of_freedom)\n",
    "\n",
    "# Calculate the p-value\n",
    "p_value = 2 * (1 - stats.t.cdf(abs(t_statistic), degrees_of_freedom))\n",
    "\n",
    "# Print the results\n",
    "print(f'T-statistic: {t_statistic}')\n",
    "print(f'Critical t-value: {critical_t_value}')\n",
    "print(f'P-value: {p_value}')\n",
    "\n",
    "# Make a decision based on the results\n",
    "if abs(t_statistic) > critical_t_value or p_value < significance_level:\n",
    "    print(\"Reject the null hypothesis: The population mean is significantly different from 70.\")\n",
    "else:\n",
    "    print(\"Fail to reject the null hypothesis: There is no significant evidence that the population mean is different from 70.\")\n"
   ]
  }
 ],
 "metadata": {
  "kernelspec": {
   "display_name": "Python 3 (ipykernel)",
   "language": "python",
   "name": "python3"
  },
  "language_info": {
   "codemirror_mode": {
    "name": "ipython",
    "version": 3
   },
   "file_extension": ".py",
   "mimetype": "text/x-python",
   "name": "python",
   "nbconvert_exporter": "python",
   "pygments_lexer": "ipython3",
   "version": "3.11.5"
  }
 },
 "nbformat": 4,
 "nbformat_minor": 5
}

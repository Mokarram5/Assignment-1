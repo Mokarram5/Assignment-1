{
 "cells": [
  {
   "cell_type": "markdown",
   "id": "3a7b45cc-606c-4cfd-9017-f0e2422620d5",
   "metadata": {},
   "source": [
    "## Assignment of Statistics Advance-6"
   ]
  },
  {
   "cell_type": "markdown",
   "id": "69081c8a-c38c-4fec-8d31-c16eeb605b70",
   "metadata": {},
   "source": [
    "#### Q1. Explain the assumptions required to use ANOVA and provide examples of violations that could impact the validity of the results."
   ]
  },
  {
   "cell_type": "markdown",
   "id": "21006020-52c3-4a1b-853b-7009bde64c4c",
   "metadata": {},
   "source": [
    "#### Answer:"
   ]
  },
  {
   "cell_type": "markdown",
   "id": "191bcd77-ae13-4cac-8520-ad21597543c2",
   "metadata": {},
   "source": [
    "Analysis of Variance (ANOVA) is a statistical method used to compare means of three or more groups to determine if there are any statistically significant differences between them. For ANOVA to provide valid results, certain assumptions must be met. These assumptions include:\r\n",
    "\r\n",
    "1. **Normality:** The dependent variable within each group should be normally distributed. This is important because ANOVA relies on the normal distribution assumption when making inferences about population means.\r\n",
    "\r\n",
    "   **Violation Example:** If the data within groups is not normally distributed, it might affect the validity of ANOVA results. This can happen when dealing with skewed or heavily tailed distributions.\r\n",
    "\r\n",
    "2. **Homogeneity of Variances (Homoscedasticity):** The variances of the groups being compared should be approximately equal. Homogeneity of variances is essential for the F-test used in ANOVA to be valid.\r\n",
    "\r\n",
    "   **Violation Example:** If the variances are not equal across groups, the F-test may become unreliable. For instance, if one group has much larger variances than others, it can impact the overall significance of the F-test.\r\n",
    "\r\n",
    "3. **Independence:** Observations within each group must be independent of each other. This means that the value of the dependent variable for one observation should not be influenced by the value of any other observation.\r\n",
    "\r\n",
    "   **Violation Example:** If observations are not independent (e.g., repeated measurements on the same subjects), it may lead to pseudo-replication and affect the accuracy of ANOVA results.\r\n",
    "\r\n",
    "4. **Random Sampling:** The data should be collected through a random sampling process. This helps ensure that the sample is representative of the population.\r\n",
    "\r\n",
    "   **Violation Example:** If the sampling is not random, it might introduce biases, and the sample may not accurately represent the larger population.\r\n",
    "\r\n",
    "5. **Interval or Ratio Data:** ANOVA assumes that the dependent variable is measured on an interval or ratio scale. This allows for meaningful calculations of means and variances.\r\n",
    "\r\n",
    "   **Violation Example:** If the dependent variable is measured on a nominal or ordinal scale, using ANOVA would be inappropriate. In such cases, alternative non-parametric tests may be considered.\r\n",
    "\r\n",
    "It's important to note that while violations of assumptions can impact the validity of ANOVA results, the robustness of ANOVA allows it to still provide meaningful insights in many cases, especially when sample sizes are large. However, researchers should be cautious and interpret results with consideration to the specific circumstances and data characteristics. If assumptions are seriously violated, alternative methods or transformations may be considered."
   ]
  },
  {
   "cell_type": "markdown",
   "id": "31031c2c-b8f9-4a92-8f27-f879bd879888",
   "metadata": {},
   "source": [
    "#### Q2. What are the three types of ANOVA, and in what situations would each be used?"
   ]
  },
  {
   "cell_type": "markdown",
   "id": "ef3689a0-b381-4398-8eb1-d1ba2f426106",
   "metadata": {},
   "source": [
    "#### Answer:"
   ]
  },
  {
   "cell_type": "markdown",
   "id": "8d6cb7cb-2717-4b64-ae0f-155be049b403",
   "metadata": {},
   "source": [
    "Analysis of Variance (ANOVA) can be categorized into three main types based on the number of factors (independent variables) and the levels or groups within those factors. These types are:\r\n",
    "\r\n",
    "1. **One-Way ANOVA:**\r\n",
    "   - **Description:** This is the most basic form of ANOVA, where there is only one independent variable or factor.\r\n",
    "   - **Use Cases:**\r\n",
    "     - Comparing means of more than two groups to determine if there are any significant differences.\r\n",
    "     - Example: Testing whether the mean scores of students from three different teaching methods are significantly different.\r\n",
    "\r\n",
    "2. **Two-Way ANOVA:**\r\n",
    "   - **Description:** Involves two independent variables or factors. It examines how two factors impact a dependent variable simultaneously, as well as the interaction effect between the factors.\r\n",
    "   - **Use Cases:**\r\n",
    "     - Examining the main effects of two factors on a response variable.\r\n",
    "     - Assessing if there is an interaction effect between the two factors.\r\n",
    "     - Example: Investigating the effects of both diet and exercise on weight loss.\r\n",
    "\r\n",
    "3. **Repeated Measures ANOVA:**\r\n",
    "   - **Description:** Also known as within-subjects ANOVA, it is used when the same subjects are used for each treatment or measurement.\r\n",
    "   - **Use Cases:**\r\n",
    "     - Examining changes within the same subjects over time or under different conditions.\r\n",
    "     - Example: Measuring the blood pressure of individuals before and after receiving different doses of a drug.\r\n",
    "\r\n",
    "Each type of ANOVA is suited to answer different research questions and is applied in various experimental designs. The choice of which ANOVA to use depends on the study design, the number of independent variables, and the nature of the data. Researchers need to carefully consider the experimental setup and the hypotheses they want to test to determine the most appropriate type of ANOVA for their analysis.\n"
   ]
  },
  {
   "cell_type": "markdown",
   "id": "139b0e33-b25c-4df9-a2b5-672ed116d91d",
   "metadata": {},
   "source": [
    "#### Q3. What is the partitioning of variance in ANOVA, and why is it important to understand this concept?:"
   ]
  },
  {
   "cell_type": "markdown",
   "id": "51622379-6954-40e1-905d-f966bca4b651",
   "metadata": {},
   "source": [
    "#### Answer: "
   ]
  },
  {
   "cell_type": "markdown",
   "id": "7d810cc3-ed27-4a1a-8f4f-233b95a9a657",
   "metadata": {},
   "source": [
    "The partitioning of variance in Analysis of Variance (ANOVA) refers to the process of decomposing the total variance observed in a dataset into different components associated with different sources of variation. Understanding this concept is crucial for gaining insights into the contributions of various factors to the overall variability in the data. The total variance is partitioned into three main components in the context of one-way ANOVA:\n",
    "\n",
    "1. **Between-Group Variance (SSB):**\n",
    "   - **Definition:** This component represents the variability among the group means. It measures how much the group means differ from each other.\n",
    "   - **Calculation:** It is calculated as the sum of squared differences between each group mean and the overall mean, each weighted by the number of observations in the group.\n",
    "\n",
    "2. **Within-Group Variance (SSW or SSE):**\n",
    "   - **Definition:** This component represents the variability within each group. It measures how much individual observations deviate from their group mean.\n",
    "   - **Calculation:** It is calculated as the sum of squared differences between each individual observation and its group mean, summed across all groups.\n",
    "\n",
    "3. **Total Variance (SST):**\n",
    "   - **Definition:** This is the overall variability in the data, considering all observations across all groups.\n",
    "   - **Calculation:** It is the sum of squared differences between each individual observation and the overall mean.\n",
    "\n",
    "The partitioning of variance is expressed in the form of the sum of squares (SS), and the degrees of freedom (df) associated with each component are also calculated. The degrees of freedom for each component are crucial in determining the appropriate F-statistic for testing the significance of the factors.\n",
    "\n",
    "Understanding the partitioning of variance is important for the following reasons:\n",
    "\n",
    "- **Identification of Sources of Variation:** It helps identify and quantify the sources of variation in the data, distinguishing between variation due to differences among groups and variation within groups.\n",
    "\n",
    "- **Interpretation of F-Statistic:** The F-statistic in ANOVA is calculated as the ratio of between-group variance to within-group variance. Understanding the partitioning of variance helps in interpreting the F-statistic and assessing the significance of the observed differences among group means.\n",
    "\n",
    "- **Insight into Experimental Design:** By understanding how much of the total variance is attributed to different sources, researchers can gain insights into the effectiveness of the experimental design and the impact of independent variables on the dependent variable.\n",
    "\n",
    "In summary, the partitioning of variance is a fundamental concept in ANOVA that provides a structured approach to understanding and analyzing the sources of variability in experimental data. It helps researchers draw meaningful conclusions about the effects of different factors on the observed outcomes."
   ]
  },
  {
   "cell_type": "markdown",
   "id": "84bf3854-9775-4c65-9dea-9a873b3ef2d3",
   "metadata": {},
   "source": [
    "#### Q4. How would you calculate the total sum of squares (SST), explained sum of squares (SSE), and residual \n",
    "sum of squares (SSR) in a one-way ANOVA using Python?"
   ]
  },
  {
   "cell_type": "markdown",
   "id": "6502d700-b12e-41b9-901e-8417736264ec",
   "metadata": {},
   "source": [
    "#### Answer:"
   ]
  },
  {
   "cell_type": "code",
   "execution_count": 46,
   "id": "b4eafda5-e99d-4a55-bbda-f23ba028f2c1",
   "metadata": {},
   "outputs": [
    {
     "name": "stdout",
     "output_type": "stream",
     "text": [
      "Total Sum of Squares (SST): 290.0\n",
      "Explained Sum of Squares (SSE): 0.0\n",
      "Residual Sum of Squares (SSR): 290.0\n"
     ]
    }
   ],
   "source": [
    "import numpy as np\n",
    "\n",
    "# Sample data (replace this with your actual data)\n",
    "data = {\n",
    "    'Group1': np.array([12, 14, 16, 18, 20]),\n",
    "    'Group2': np.array([10, 13, 16, 19, 22]),\n",
    "    'Group3': np.array([8, 12, 16, 20, 24])\n",
    "}\n",
    "\n",
    "# Flatten the data and calculate overall mean\n",
    "all_data = np.concatenate(list(data.values()))\n",
    "overall_mean = np.mean(all_data)\n",
    "\n",
    "# Calculate SST\n",
    "sst = np.sum((all_data - overall_mean)**2)\n",
    "\n",
    "# Calculate SSE\n",
    "sse = np.sum([len(group) * (np.mean(group) - overall_mean)**2 for group in data.values()])\n",
    "\n",
    "# Calculate SSR\n",
    "ssr = np.sum([np.sum((group - np.mean(group))**2) for group in data.values()])\n",
    "\n",
    "# Print results\n",
    "print(f'Total Sum of Squares (SST): {sst}')\n",
    "print(f'Explained Sum of Squares (SSE): {sse}')\n",
    "print(f'Residual Sum of Squares (SSR): {ssr}')\n"
   ]
  },
  {
   "cell_type": "markdown",
   "id": "cf5b9a3e-db0d-4ee4-b6cc-461522b70ff5",
   "metadata": {},
   "source": [
    "#### Q5. In a two-way ANOVA, how would you calculate the main effects and interaction effects using Python?"
   ]
  },
  {
   "cell_type": "markdown",
   "id": "3fa9fdf3-281e-47ca-aa42-e3336df8d9fc",
   "metadata": {},
   "source": [
    "#### Answer:"
   ]
  },
  {
   "cell_type": "code",
   "execution_count": 51,
   "id": "01c9f384-6877-404a-b022-971196eb45cc",
   "metadata": {},
   "outputs": [
    {
     "name": "stdout",
     "output_type": "stream",
     "text": [
      "Two-way ANOVA Table:\n",
      "F_onewayResult(statistic=nan, pvalue=nan)\n",
      "\n",
      "Main Effect of Factor1:\n",
      "Factor1\n",
      "A   -1.333333\n",
      "B   -3.333333\n",
      "C    4.666667\n",
      "Name: Response, dtype: float64\n",
      "\n",
      "Main Effect of Factor2:\n",
      "Factor2\n",
      "X   -2.0\n",
      "Y    0.0\n",
      "Z    2.0\n",
      "Name: Response, dtype: float64\n",
      "\n",
      "Interaction Effect:\n",
      "nan\n"
     ]
    },
    {
     "name": "stderr",
     "output_type": "stream",
     "text": [
      "C:\\Users\\USER\\AppData\\Roaming\\Python\\Python311\\site-packages\\scipy\\stats\\_stats_py.py:4141: DegenerateDataWarning: all input arrays have length 1.  f_oneway requires that at least one input has length greater than 1.\n",
      "  warnings.warn(stats.DegenerateDataWarning(msg))\n"
     ]
    }
   ],
   "source": [
    "import numpy as np\n",
    "import pandas as pd\n",
    "from scipy.stats import f_oneway\n",
    "\n",
    "# Sample data (replace this with your actual data)\n",
    "data = {\n",
    "    'Factor1': ['A', 'A', 'A', 'B', 'B', 'B', 'C', 'C', 'C'],\n",
    "    'Factor2': ['X', 'Y', 'Z', 'X', 'Y', 'Z', 'X', 'Y', 'Z'],\n",
    "    'Response': [10, 12, 14, 8, 10, 12, 16, 18, 20]\n",
    "}\n",
    "\n",
    "# Create a DataFrame\n",
    "df = pd.DataFrame(data)\n",
    "\n",
    "# Perform two-way ANOVA\n",
    "result = df.groupby(['Factor1', 'Factor2'])['Response'].apply(list).apply(np.array).apply(pd.Series).T\n",
    "anova_result = f_oneway(*[result[i].dropna() for i in result.columns])\n",
    "\n",
    "# Print the ANOVA table\n",
    "print(\"Two-way ANOVA Table:\")\n",
    "print(anova_result)\n",
    "\n",
    "# Calculate main effects and interaction effect\n",
    "grand_mean = df['Response'].mean()\n",
    "main_effect_factor1 = df.groupby('Factor1')['Response'].mean() - grand_mean\n",
    "main_effect_factor2 = df.groupby('Factor2')['Response'].mean() - grand_mean\n",
    "interaction_effect = anova_result.statistic / len(result.columns)\n",
    "\n",
    "# Print main effects and interaction effect\n",
    "print(f'\\nMain Effect of Factor1:\\n{main_effect_factor1}')\n",
    "print(f'\\nMain Effect of Factor2:\\n{main_effect_factor2}')\n",
    "print(f'\\nInteraction Effect:\\n{interaction_effect}')\n"
   ]
  },
  {
   "cell_type": "markdown",
   "id": "5237923d-fc1b-4421-ac32-8ab60e44a0db",
   "metadata": {},
   "source": [
    "#### Q6. Suppose you conducted a one-way ANOVA and obtained an F-statistic of 5.23 and a p-value of 0.02. What can you conclude about the differences between the groups, and how would you interpret these results?"
   ]
  },
  {
   "cell_type": "markdown",
   "id": "06962022-99dc-4b7f-9c45-1f63fbeca545",
   "metadata": {},
   "source": [
    "#### Answer:"
   ]
  },
  {
   "cell_type": "markdown",
   "id": "9c22a1ed-2672-45d5-af9f-b35af119dcc9",
   "metadata": {},
   "source": [
    "In a one-way ANOVA, the F-statistic is used to test the null hypothesis that the means of multiple groups are equal. The associated p-value helps determine the statistical significance of the observed differences. Let's interpret the given values:\r\n",
    "\r\n",
    "1. **F-Statistic: 5.23**\r\n",
    "   - The F-statistic is a ratio of the variance between groups to the variance within groups. A larger F-statistic suggests a greater difference between group means relative to the variation within each group.\r\n",
    "\r\n",
    "2. **p-value: 0.02**\r\n",
    "   - The p-value is the probability of observing an F-statistic as extreme as, or more extreme than, the one calculated from the sample data, assuming the null hypothesis is true.\r\n",
    "\r\n",
    "Interpretation:\r\n",
    "\r\n",
    "- **Null Hypothesis (H0):** The null hypothesis assumes that the means of all groups are equal.\r\n",
    "- **Alternative Hypothesis (H1):** The alternative hypothesis suggests that at least one group mean is different.\r\n",
    "\r\n",
    "Conclusions:\r\n",
    "\r\n",
    "1. **Statistical Significance:**\r\n",
    "   - The p-value of 0.02 is less than the typical significance level of 0.05. Therefore, we reject the null hypothesis.\r\n",
    "\r\n",
    "2. **Differences Exist:**\r\n",
    "   - The rejection of the null hypothesis indicates that there are statistically significant differences among the group means.\r\n",
    "\r\n",
    "3. **Post-hoc Analysis:**\r\n",
    "   - If the ANOVA indicates significant differences, it is common to conduct post-hoc tests (e.g., Tukey's HSD) to identify which specific groups differ from each other.\r\n",
    "\r\n",
    "4. **Effect Size:**\r\n",
    "   - While statistical significance is established, it's also important to consider the effect size to assess the practical significance of the differences.\r\n",
    "\r\n",
    "In summary, based on the F-statistic and p-value:\r\n",
    "\r\n",
    "- There are statistically significant differences among the group means.\r\n",
    "- Further post-hoc analysis may be needed to identify specific groups with differing means.\r\n",
    "- The observed differences are unlikely toed when interpreting the results."
   ]
  },
  {
   "cell_type": "markdown",
   "id": "453c833a-d48a-4df5-adf6-bab75d638c65",
   "metadata": {},
   "source": [
    "#### Q7. In a repeated measures ANOVA, how would you handle missing data, and what are the potential consequences of using different methods to handle missing data?"
   ]
  },
  {
   "cell_type": "markdown",
   "id": "9ef72e81-9974-4dca-b483-6bb4d186fe7b",
   "metadata": {},
   "source": [
    "#### Answer:"
   ]
  },
  {
   "cell_type": "markdown",
   "id": "bfee40cc-ef06-40b8-9b89-96b5b68c6342",
   "metadata": {},
   "source": [
    "Handling missing data in a repeated measures ANOVA is crucial to ensure valid and reliable results. Here are common methods to handle missing data and potential consequences of using different methods:\r\n",
    "\r\n",
    "### Methods to Handle Missing Data:\r\n",
    "\r\n",
    "1. **Complete Case Analysis (CCA):**\r\n",
    "   - **Approach:** Exclude cases with missing data from the analysis.\r\n",
    "   - **Consequences:** Loss of information and potential bias if missing data is not completely at random (MCAR).\r\n",
    "\r\n",
    "2. **Pairwise Deletion (PD):**\r\n",
    "   - **Approach:** Analyze each pair of variables with available data.\r\n",
    "   - **Consequences:** May lead to biased results if missing data is not MCAR. Variability in sample sizes across pairs can also affect statistical power.\r\n",
    "\r\n",
    "3. **Imputation Methods:**\r\n",
    "   - **Approach:** Estimate missing values based on observed data.\r\n",
    "   - **Consequences:** Imputation methods (mean imputation, regression imputation, etc.) introduce uncertainty. Results may be biased if the imputation model is misspecified.\r\n",
    "\r\n",
    "4. **Last Observation Carried Forward (LOCF):**\r\n",
    "   - **Approach:** Carry the last observed value forward for missing values.\r\n",
    "   - **Consequences:** Assumes that missing values remain constant over time. May not accurately represent the true trajectory of the variable.\r\n",
    "\r\n",
    "5. **Multiple Imputation (MI):**\r\n",
    "   - **Approach:** Generate multiple datasets with imputed values and average results.\r\n",
    "   - **Consequences:** Reduces bias compared to single imputation methods. Provides more accurate standard errors and confidence intervals.\r\n",
    "\r\n",
    "### Potential Consequences:\r\n",
    "\r\n",
    "1. **Bias:**\r\n",
    "   - **Issue:** Using methods like LOCF or mean imputation may introduce bias if missing data is related to unobserved characteristics.\r\n",
    "\r\n",
    "2. **Reduced Power:**\r\n",
    "   - **Issue:** Complete case analysis or pairwise deletion may result in reduced statistical power due to a smaller sample size.\r\n",
    "\r\n",
    "3. **Inaccurate Variance Estimation:**\r\n",
    "   - **Issue:** Ignoring missing data or using simple imputation methods can lead to underestimated standard errors and confidence intervals.\r\n",
    "\r\n",
    "4. **Misleading Results:**\r\n",
    "   - **Issue:** Different methods may yield different results, making it challenging to draw accurate conclusions.\r\n",
    "\r\n",
    "5. **Assumptions Violation:**\r\n",
    "   - **Issue:** Some imputation methods assume data is missing completely at random (MCAR), and violating this assumption can impact results.\r\n",
    "\r\n",
    "### Recommendations:\r\n",
    "\r\n",
    "- **Understand the Nature of Missingness:**\r\n",
    "  - Investigate whether missing data is completely at random, at random, or not at random. This understanding helps in selecting appropriate methods.\r\n",
    "\r\n",
    "- **Consider Multiple Imputation:**\r\n",
    "  - If possible, use multiple imputation to account for uncertainty associated with imputed values and to improve the accuracy of standard errors.\r\n",
    "\r\n",
    "- **Perform Sensitivity Analysis:**\r\n",
    "  - Evaluate the robustness of results by comparing outcomes using different missing data handling methods.\r\n",
    "\r\n",
    "- **Document and Justify:**\r\n",
    "  - Clearly document the missing data handling approach and justify the chosen method based on the nature of the data and the analysis.\r\n",
    "\r\n",
    "Handling missing data is a complex issue, and the choice of method depends on the assumptions about the missing data mechanism and the goals of the analysis. It's essential to carefully consider the potential consequences of different approaches and their implications for the validity of the study results."
   ]
  },
  {
   "cell_type": "markdown",
   "id": "369b7dcc-9159-4744-aa0a-c3610cc0484a",
   "metadata": {},
   "source": [
    "#### Q8. What are some common post-hoc tests used after ANOVA, and when would you use each one? Provide an example of a situation where a post-hoc test might be necessary."
   ]
  },
  {
   "cell_type": "markdown",
   "id": "2d1db97c-6e3f-4a40-9d5e-5f84ebed4d4c",
   "metadata": {},
   "source": [
    "#### Answer :"
   ]
  },
  {
   "cell_type": "markdown",
   "id": "50992683-b80e-43da-802b-5dfcb9b5f119",
   "metadata": {},
   "source": [
    "Post-hoc tests are conducted after an Analysis of Variance (ANOVA) to determine which specific group means differ significantly from each other when the ANOVA indicates that there are overall differences among groups. Common post-hoc tests include:\r\n",
    "\r\n",
    "1. **Tukey's Honestly Significant Difference (HSD):**\r\n",
    "   - **Purpose:** Identifies which pairs of group means are significantly different from each other.\r\n",
    "   - **Use Case:** Suitable when comparing all possible pairs of groups, and the number of comparisons is not too large.\r\n",
    "\r\n",
    "2. **Bonferroni Correction:**\r\n",
    "   - **Purpose:** Adjusts significance levels to control the familywise error rate when making multiple comparisons.\r\n",
    "   - **Use Case:** Appropriate when conducting numerous pairwise comparisons, but it can be conservative and increase the likelihood of Type II errors.\r\n",
    "\r\n",
    "3. **Scheffe's Test:**\r\n",
    "   - **Purpose:** Controls the familywise error rate without assuming equal variances across groups.\r\n",
    "   - **Use Case:** Useful when the assumption of homogeneity of variances is violated.\r\n",
    "\r\n",
    "4. **Dunnett's Test:**\r\n",
    "   - **Purpose:** Used when comparing multiple treatment groups to a control group.\r\n",
    "   - **Use Case:** Useful in situations where there is a designated control group, and the interest is in comparing other groups to this control group.\r\n",
    "\r\n",
    "5. **Games-Howell Test:**\r\n",
    "   - **Purpose:** A non-parametric alternative for unequal variances and sample sizes.\r\n",
    "   - **Use Case:** Appropriate when the assumption of homogeneity of variances is violated, and sample sizes are unequal.\r\n",
    "\r\n",
    "6. **Holm's Method:**\r\n",
    "   - **Purpose:** Similar to Bonferroni correction but can be less conservative.\r\n",
    "   - **Use Case:** When you need to control the familywise error rate, and Bonferroni is too stringent.\r\n",
    "\r\n",
    "### Example Situation:\r\n",
    "\r\n",
    "Let's say you conducted a one-way ANOVA to compare the effectiveness of three different teaching methods on student test scores. The ANOVA results indicate a significant difference among the groups. Now, you want to determine which specific pairs of teaching methods lead to significantly different mean test scores.\r\n",
    "\r\n",
    "**Post-hoc Test Application:**\r\n",
    "\r\n",
    "- **Tukey's HSD:** Use Tukey's HSD when you want to compare all possible pairs of teaching methods to identify which pairs have significantly different mean test scores. This method provides simultaneous confidence intervachingMethod'])\r\n",
    "print(tukey_results)\r\n",
    "```\r\n",
    "\r\n",
    "The output of Tukey's HSD will indicate which pairs of teaching methods have significantly different mean test scores and provide cdata and the specific goals of your analysis."
   ]
  },
  {
   "cell_type": "markdown",
   "id": "ec136a02-be2b-4890-a316-b0018b1691e8",
   "metadata": {},
   "source": [
    "#### Q9. A researcher wants to compare the mean weight loss of three diets: A, B, and C. They collect data from 50 participants who were randomly assigned to one of the diets. Conduct a one-way ANOVA using Python to determine if there are any significant differences between the mean weight loss of the three diets. Report the F-statistic and p-value, and interpret the results. create sample data"
   ]
  },
  {
   "cell_type": "markdown",
   "id": "6929e32e-eda0-4d83-a75a-14da27432ae5",
   "metadata": {},
   "source": [
    "##### Answer:"
   ]
  },
  {
   "cell_type": "code",
   "execution_count": 55,
   "id": "348d9d29-4089-4fca-9736-762f722071bb",
   "metadata": {},
   "outputs": [
    {
     "name": "stdout",
     "output_type": "stream",
     "text": [
      "F-Statistic: 21.754981595687298\n",
      "p-value: 5.295093828387118e-09\n",
      "There are significant differences between the mean weight loss of the three diets.\n"
     ]
    }
   ],
   "source": [
    "import numpy as np\n",
    "import scipy.stats as stats\n",
    "import pandas as pd\n",
    "\n",
    "# Set a random seed for reproducibility\n",
    "np.random.seed(42)\n",
    "\n",
    "# Generate sample data for weight loss in each diet\n",
    "data = {\n",
    "    'Diet': np.repeat(['A', 'B', 'C'], 50),\n",
    "    'WeightLoss': np.concatenate([\n",
    "        np.random.normal(loc=70, scale=5, size=50),  # Diet A\n",
    "        np.random.normal(loc=75, scale=5, size=50),  # Diet B\n",
    "        np.random.normal(loc=72, scale=5, size=50)   # Diet C\n",
    "    ])\n",
    "}\n",
    "\n",
    "# Create a DataFrame\n",
    "df = pd.DataFrame(data)\n",
    "\n",
    "# Perform one-way ANOVA\n",
    "f_statistic, p_value = stats.f_oneway(\n",
    "    df[df['Diet'] == 'A']['WeightLoss'],\n",
    "    df[df['Diet'] == 'B']['WeightLoss'],\n",
    "    df[df['Diet'] == 'C']['WeightLoss']\n",
    ")\n",
    "\n",
    "# Print results\n",
    "print(f'F-Statistic: {f_statistic}')\n",
    "print(f'p-value: {p_value}')\n",
    "\n",
    "# Interpretation\n",
    "alpha = 0.05\n",
    "if p_value < alpha:\n",
    "    print(\"There are significant differences between the mean weight loss of the three diets.\")\n",
    "else:\n",
    "    print(\"There is no significant difference between the mean weight loss of the three diets.\")\n"
   ]
  },
  {
   "cell_type": "markdown",
   "id": "dde454c6-0df5-456e-9045-be6f621ecd3f",
   "metadata": {},
   "source": [
    "#### Q10. A company wants to know if there are any significant differences in the average time it takes to complete a task using three different software programs: Program A, Program B, and Program C. They randomly assign 30 employees to one of the programs and record the time it takes each employee to complete the task. Conduct a two-way ANOVA using Python to determine if there are any main effects or interaction effects between the software programs and employee experience level (novice vs. experienced). Report the F-statistics and p-values, and interpret the results."
   ]
  },
  {
   "cell_type": "markdown",
   "id": "55bfd0ba-3f98-4626-9b8e-f3e0e7572447",
   "metadata": {},
   "source": [
    "#### Answer:"
   ]
  },
  {
   "cell_type": "code",
   "execution_count": 44,
   "id": "f28eb4ac-cd65-4395-9af5-a91788a8ff36",
   "metadata": {},
   "outputs": [
    {
     "name": "stdout",
     "output_type": "stream",
     "text": [
      "Chi-square Statistic: 13.393665158371041\n",
      "Degrees of Freedom: 2\n",
      "P-value: 0.0012348168997745915\n",
      "Reject the null hypothesis: There is a significant association between chocolate preference and country of origin.\n"
     ]
    }
   ],
   "source": [
    "import numpy as np\n",
    "from scipy.stats import chi2_contingency\n",
    "\n",
    "# Given data in a contingency table\n",
    "observed_data = np.array([[200, 225],\n",
    "                          [150, 175],\n",
    "                          [150, 100]])\n",
    "\n",
    "# Perform the chi-square test for independence\n",
    "chi2_stat, p_value, dof, expected = chi2_contingency(observed_data)\n",
    "\n",
    "# Print the results\n",
    "print(f'Chi-square Statistic: {chi2_stat}')\n",
    "print(f'Degrees of Freedom: {dof}')\n",
    "print(f'P-value: {p_value}')\n",
    "\n",
    "# Make a decision based on the significance level\n",
    "alpha = 0.01  # Significance level\n",
    "if p_value < alpha:\n",
    "    print(\"Reject the null hypothesis: There is a significant association between chocolate preference and country of origin.\")\n",
    "else:\n",
    "    print(\"Fail to reject the null hypothesis: There is no significant association between chocolate preference and country of origin.\")\n"
   ]
  },
  {
   "cell_type": "markdown",
   "id": "86cefa76-f266-4a70-bc68-4bf3986b137b",
   "metadata": {},
   "source": [
    "ther."
   ]
  },
  {
   "cell_type": "markdown",
   "id": "b2195f5c-6e1f-49bd-bd84-aab567e0cfde",
   "metadata": {},
   "source": [
    "#### Q11. An educational researcher is interested in whether a new teaching method improves student test scores. They randomly assign 100 students to either the control group (traditional teaching method) or the experimental group (new teaching method) and administer a test at the end of the semester. Conduct a two-sample t-test using Python to determine if there are any significant differences in test scores between the two groups. If the results are significant, follow up with a post-hoc test to determine which group(s) differ significantly from each other."
   ]
  },
  {
   "cell_type": "markdown",
   "id": "c2cad2bc-1094-4592-bb84-3039a3ddd6d4",
   "metadata": {},
   "source": [
    "#### Answer:"
   ]
  },
  {
   "cell_type": "code",
   "execution_count": 56,
   "id": "63e55fc8-7a07-4646-a308-7a602996c80f",
   "metadata": {},
   "outputs": [
    {
     "name": "stdout",
     "output_type": "stream",
     "text": [
      "Two-Sample T-Test:\n",
      "T-statistic: -6.872731683285833\n",
      "p-value: 5.877565294167974e-10\n",
      "There is a significant difference in test scores between the two groups.\n",
      "\n",
      "Tukey's HSD Post-Hoc Test:\n",
      "  Multiple Comparison of Means - Tukey HSD, FWER=0.05   \n",
      "========================================================\n",
      " group1    group2    meandiff p-adj lower  upper  reject\n",
      "--------------------------------------------------------\n",
      "Control Experimental   6.2163   0.0 4.4214 8.0112   True\n",
      "--------------------------------------------------------\n"
     ]
    }
   ],
   "source": [
    "import numpy as np\n",
    "import pandas as pd\n",
    "import scipy.stats as stats\n",
    "from statsmodels.stats.multicomp import pairwise_tukeyhsd\n",
    "\n",
    "# Set a random seed for reproducibility\n",
    "np.random.seed(42)\n",
    "\n",
    "# Generate sample data\n",
    "control_group = np.random.normal(loc=70, scale=5, size=50)  # Traditional teaching method\n",
    "experimental_group = np.random.normal(loc=75, scale=5, size=50)  # New teaching method\n",
    "\n",
    "# Create a DataFrame\n",
    "data = pd.DataFrame({\n",
    "    'Group': np.repeat(['Control', 'Experimental'], 50),\n",
    "    'TestScores': np.concatenate([control_group, experimental_group])\n",
    "})\n",
    "\n",
    "# Perform two-sample t-test\n",
    "t_statistic, p_value = stats.ttest_ind(control_group, experimental_group)\n",
    "\n",
    "# Print results\n",
    "print(f'Two-Sample T-Test:')\n",
    "print(f'T-statistic: {t_statistic}')\n",
    "print(f'p-value: {p_value}')\n",
    "\n",
    "# Check for significance\n",
    "alpha = 0.05\n",
    "if p_value < alpha:\n",
    "    print(\"There is a significant difference in test scores between the two groups.\")\n",
    "    \n",
    "    # Perform Tukey's HSD post-hoc test\n",
    "    tukey_results = pairwise_tukeyhsd(data['TestScores'], data['Group'])\n",
    "    print('\\nTukey\\'s HSD Post-Hoc Test:')\n",
    "    print(tukey_results)\n",
    "else:\n",
    "    print(\"There is no significant difference in test scores between the two groups.\")\n"
   ]
  },
  {
   "cell_type": "markdown",
   "id": "3797d41b-4149-47ca-9e32-acdbf97ecd4e",
   "metadata": {},
   "source": [
    "#### Q12. A researcher wants to know if there are any significant differences in the average daily sales of three retail stores: Store A, Store B, and Store C. They randomly select 30 days and record the sales for each store on those days. Conduct a repeated measures ANOVA using Python to determine if there are any significant differences in sales between the three stores. If the results are significant, follow up with a post- hoc test to determine which store(s) differ significantly from each other."
   ]
  },
  {
   "cell_type": "markdown",
   "id": "51f55a21-636d-425e-9422-9ba106c3e5ac",
   "metadata": {},
   "source": [
    "#### Answer:\n"
   ]
  },
  {
   "cell_type": "code",
   "execution_count": 57,
   "id": "acbe3eb8-d5a4-4b67-8cec-6bb73423a545",
   "metadata": {},
   "outputs": [
    {
     "name": "stdout",
     "output_type": "stream",
     "text": [
      "One-Way ANOVA:\n",
      "F-statistic: 9.67762780725552\n",
      "p-value: 0.00016035145881099311\n",
      "There is a significant difference in sales between the three stores.\n",
      "\n",
      "Tukey's HSD Post-Hoc Test:\n",
      " Multiple Comparison of Means - Tukey HSD, FWER=0.05 \n",
      "=====================================================\n",
      "group1 group2 meandiff p-adj   lower    upper  reject\n",
      "-----------------------------------------------------\n",
      "     A      B  53.3492 0.0001  24.3572 82.3413   True\n",
      "     A      C  30.0516 0.0404   1.0595 59.0437   True\n",
      "     B      C -23.2976 0.1402 -52.2897  5.6944  False\n",
      "-----------------------------------------------------\n"
     ]
    }
   ],
   "source": [
    "import numpy as np\n",
    "import pandas as pd\n",
    "import scipy.stats as stats\n",
    "from statsmodels.stats.multicomp import pairwise_tukeyhsd\n",
    "\n",
    "# Set a random seed for reproducibility\n",
    "np.random.seed(42)\n",
    "\n",
    "# Generate sample data\n",
    "sales_store_A = np.random.normal(loc=500, scale=50, size=30)\n",
    "sales_store_B = np.random.normal(loc=550, scale=50, size=30)\n",
    "sales_store_C = np.random.normal(loc=520, scale=50, size=30)\n",
    "\n",
    "# Create a DataFrame\n",
    "data = pd.DataFrame({\n",
    "    'Store': np.repeat(['A', 'B', 'C'], 30),\n",
    "    'Sales': np.concatenate([sales_store_A, sales_store_B, sales_store_C])\n",
    "})\n",
    "\n",
    "# Perform one-way ANOVA\n",
    "f_statistic, p_value = stats.f_oneway(\n",
    "    data[data['Store'] == 'A']['Sales'],\n",
    "    data[data['Store'] == 'B']['Sales'],\n",
    "    data[data['Store'] == 'C']['Sales']\n",
    ")\n",
    "\n",
    "# Print results\n",
    "print(f'One-Way ANOVA:')\n",
    "print(f'F-statistic: {f_statistic}')\n",
    "print(f'p-value: {p_value}')\n",
    "\n",
    "# Check for significance\n",
    "alpha = 0.05\n",
    "if p_value < alpha:\n",
    "    print(\"There is a significant difference in sales between the three stores.\")\n",
    "    \n",
    "    # Perform Tukey's HSD post-hoc test\n",
    "    tukey_results = pairwise_tukeyhsd(data['Sales'], data['Store'])\n",
    "    print('\\nTukey\\'s HSD Post-Hoc Test:')\n",
    "    print(tukey_results)\n",
    "else:\n",
    "    print(\"There is no significant difference in sales between the three stores.\")\n"
   ]
  }
 ],
 "metadata": {
  "kernelspec": {
   "display_name": "Python 3 (ipykernel)",
   "language": "python",
   "name": "python3"
  },
  "language_info": {
   "codemirror_mode": {
    "name": "ipython",
    "version": 3
   },
   "file_extension": ".py",
   "mimetype": "text/x-python",
   "name": "python",
   "nbconvert_exporter": "python",
   "pygments_lexer": "ipython3",
   "version": "3.11.5"
  }
 },
 "nbformat": 4,
 "nbformat_minor": 5
}

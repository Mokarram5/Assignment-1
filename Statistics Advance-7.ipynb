{
 "cells": [
  {
   "cell_type": "markdown",
   "id": "3a7b45cc-606c-4cfd-9017-f0e2422620d5",
   "metadata": {},
   "source": [
    "## Assignment of Statistics Advance-7"
   ]
  },
  {
   "cell_type": "markdown",
   "id": "b955dd77-cdfc-4552-a263-0dd9ce87b76f",
   "metadata": {},
   "source": [
    "#### Q1. Write a Python function that takes in two arrays of data and calculates the F-value for a variance ratio test. The function should return the F-value and the corresponding p-value for the test."
   ]
  },
  {
   "cell_type": "markdown",
   "id": "21006020-52c3-4a1b-853b-7009bde64c4c",
   "metadata": {},
   "source": [
    "#### Answer:"
   ]
  },
  {
   "cell_type": "code",
   "execution_count": 59,
   "id": "0e0f7acf-6520-4dbd-b3a6-f73dc98acdac",
   "metadata": {},
   "outputs": [
    {
     "name": "stdout",
     "output_type": "stream",
     "text": [
      "F-Value: 37.69165177984005\n",
      "P-Value: 1.7688744760804833e-08\n"
     ]
    }
   ],
   "source": [
    "import numpy as np\n",
    "from scipy.stats import f_oneway\n",
    "\n",
    "def variance_ratio_test(array1, array2):\n",
    "    \"\"\"\n",
    "    Perform a variance ratio test (F-test) on two arrays of data.\n",
    "\n",
    "    Parameters:\n",
    "    - array1: First array of data\n",
    "    - array2: Second array of data\n",
    "\n",
    "    Returns:\n",
    "    - f_value: F-value for the test\n",
    "    - p_value: Corresponding p-value\n",
    "    \"\"\"\n",
    "    # Perform the F-test\n",
    "    f_value, p_value = f_oneway(array1, array2)\n",
    "    \n",
    "    return f_value, p_value\n",
    "\n",
    "# Example usage:\n",
    "data1 = np.random.normal(loc=10, scale=2, size=50)\n",
    "data2 = np.random.normal(loc=12, scale=2, size=50)\n",
    "\n",
    "f_value, p_value = variance_ratio_test(data1, data2)\n",
    "\n",
    "print(f'F-Value: {f_value}')\n",
    "print(f'P-Value: {p_value}')\n"
   ]
  },
  {
   "cell_type": "markdown",
   "id": "4b581e30-1841-43ba-abd4-d442bc608cba",
   "metadata": {},
   "source": [
    "#### Q2. Given a significance level of 0.05 and the degrees of freedom for the numerator and denominator of an F-distribution, write a Python function that returns the critical F-value for a two-tailed test."
   ]
  },
  {
   "cell_type": "markdown",
   "id": "ef3689a0-b381-4398-8eb1-d1ba2f426106",
   "metadata": {},
   "source": [
    "#### Answer:"
   ]
  },
  {
   "cell_type": "code",
   "execution_count": 61,
   "id": "ad5aad68-0840-4607-ac1b-302dbfc1a36a",
   "metadata": {},
   "outputs": [
    {
     "name": "stdout",
     "output_type": "stream",
     "text": [
      "F-Value: 14.328459663909095\n",
      "P-Value: 0.00026458936807972254\n"
     ]
    }
   ],
   "source": [
    "import numpy as np\n",
    "from scipy.stats import f_oneway\n",
    "\n",
    "def variance_ratio_test(array1, array2):\n",
    "    \"\"\"\n",
    "    Perform a variance ratio test (F-test) on two arrays of data.\n",
    "\n",
    "    Parameters:\n",
    "    - array1: First array of data\n",
    "    - array2: Second array of data\n",
    "\n",
    "    Returns:\n",
    "    - f_value: F-value for the test\n",
    "    - p_value: Corresponding p-value\n",
    "    \"\"\"\n",
    "    # Perform the F-test\n",
    "    f_value, p_value = f_oneway(array1, array2)\n",
    "    \n",
    "    return f_value, p_value\n",
    "\n",
    "# Example usage:\n",
    "data1 = np.random.normal(loc=10, scale=2, size=50)\n",
    "data2 = np.random.normal(loc=12, scale=2, size=50)\n",
    "\n",
    "f_value, p_value = variance_ratio_test(data1, data2)\n",
    "\n",
    "print(f'F-Value: {f_value}')\n",
    "print(f'P-Value: {p_value}')\n"
   ]
  },
  {
   "cell_type": "markdown",
   "id": "2187d4a7-4e23-4c6d-8293-ad829bfa1121",
   "metadata": {},
   "source": [
    "#### Q3. Write a Python program that generates random samples from two normal distributions with known variances and uses an F-test to determine if the variances are equal. The program should output the F-value, degrees of freedom, and p-value for the test."
   ]
  },
  {
   "cell_type": "markdown",
   "id": "51622379-6954-40e1-905d-f966bca4b651",
   "metadata": {},
   "source": [
    "#### Answer: "
   ]
  },
  {
   "cell_type": "code",
   "execution_count": 62,
   "id": "eec11f35-1de9-4827-9051-e10729240500",
   "metadata": {},
   "outputs": [
    {
     "name": "stdout",
     "output_type": "stream",
     "text": [
      "F-Value: 1.0702949631678573\n",
      "Degrees of Freedom (Numerator): 29\n",
      "Degrees of Freedom (Denominator): 29\n",
      "P-Value: 0.8561073337841736\n"
     ]
    }
   ],
   "source": [
    "import numpy as np\n",
    "from scipy.stats import f\n",
    "\n",
    "def variance_equality_test(data1, data2):\n",
    "    \"\"\"\n",
    "    Perform an F-test for equality of variances on two datasets.\n",
    "\n",
    "    Parameters:\n",
    "    - data1: First dataset\n",
    "    - data2: Second dataset\n",
    "\n",
    "    Returns:\n",
    "    - f_value: F-value for the test\n",
    "    - df_num: Degrees of freedom for the numerator\n",
    "    - df_den: Degrees of freedom for the denominator\n",
    "    - p_value: Corresponding p-value\n",
    "    \"\"\"\n",
    "    # Calculate variances\n",
    "    var1 = np.var(data1, ddof=1)  # ddof=1 for sample variance\n",
    "    var2 = np.var(data2, ddof=1)\n",
    "\n",
    "    # Perform F-test\n",
    "    f_value = var1 / var2 if var1 > var2 else var2 / var1  # F-statistic\n",
    "    df_num = len(data1) - 1  # Degrees of freedom for the numerator\n",
    "    df_den = len(data2) - 1  # Degrees of freedom for the denominator\n",
    "\n",
    "    # Calculate p-value\n",
    "    p_value = 2 * min(f.cdf(f_value, df_num, df_den), 1 - f.cdf(f_value, df_num, df_den))\n",
    "\n",
    "    return f_value, df_num, df_den, p_value\n",
    "\n",
    "# Example usage:\n",
    "np.random.seed(42)\n",
    "\n",
    "# Generate random samples from normal distributions with known variances\n",
    "data1 = np.random.normal(loc=10, scale=2, size=30)\n",
    "data2 = np.random.normal(loc=10, scale=2, size=30)\n",
    "\n",
    "# Perform variance equality test\n",
    "f_value, df_num, df_den, p_value = variance_equality_test(data1, data2)\n",
    "\n",
    "# Print results\n",
    "print(f'F-Value: {f_value}')\n",
    "print(f'Degrees of Freedom (Numerator): {df_num}')\n",
    "print(f'Degrees of Freedom (Denominator): {df_den}')\n",
    "print(f'P-Value: {p_value}')\n"
   ]
  },
  {
   "cell_type": "markdown",
   "id": "1958ce05-7928-4e3b-baa3-a9f45958fec8",
   "metadata": {},
   "source": [
    "#### Q4.The variances of two populations are known to be 10 and 15. A sample of 12 observations is taken from each population. Conduct an F-test at the 5% significance level to determine if the variances are significantly different."
   ]
  },
  {
   "cell_type": "markdown",
   "id": "6502d700-b12e-41b9-901e-8417736264ec",
   "metadata": {},
   "source": [
    "#### Answer:"
   ]
  },
  {
   "cell_type": "code",
   "execution_count": 63,
   "id": "28186265-0bd5-4469-b27a-eb1e28ec5652",
   "metadata": {},
   "outputs": [
    {
     "name": "stdout",
     "output_type": "stream",
     "text": [
      "F-Statistic: 1.5\n",
      "Critical F-Value: 3.473699051085809\n",
      "P-Value: 0.5123897987357999\n",
      "Decision: Fail to reject the null hypothesis\n"
     ]
    }
   ],
   "source": [
    "import scipy.stats as stats\n",
    "\n",
    "# Given data\n",
    "variance1 = 10\n",
    "variance2 = 15\n",
    "sample_size = 12\n",
    "alpha = 0.05\n",
    "\n",
    "# Calculate the F-statistic\n",
    "f_statistic = variance1 / variance2 if variance1 > variance2 else variance2 / variance1\n",
    "\n",
    "# Degrees of freedom\n",
    "df_num = sample_size - 1\n",
    "df_den = sample_size - 1\n",
    "\n",
    "# Calculate the critical F-value\n",
    "critical_f = stats.f.ppf(1 - alpha/2, df_num, df_den)\n",
    "\n",
    "# Compare the calculated F-statistic with the critical F-value\n",
    "p_value = 2 * min(stats.f.cdf(f_statistic, df_num, df_den), 1 - stats.f.cdf(f_statistic, df_num, df_den))\n",
    "\n",
    "# Decision\n",
    "if f_statistic > critical_f:\n",
    "    decision = \"Reject the null hypothesis\"\n",
    "else:\n",
    "    decision = \"Fail to reject the null hypothesis\"\n",
    "\n",
    "# Print results\n",
    "print(f'F-Statistic: {f_statistic}')\n",
    "print(f'Critical F-Value: {critical_f}')\n",
    "print(f'P-Value: {p_value}')\n",
    "print(f'Decision: {decision}')"
   ]
  },
  {
   "cell_type": "markdown",
   "id": "6939c014-4e3a-4635-9ce2-a73ed44a2961",
   "metadata": {},
   "source": [
    "#### Q5. A manufacturer claims that the variance of the diameter of a certain product is 0.005. A sample of 25 products is taken, and the sample variance is found to be 0.006. Conduct an F-test at the 1% significance level to determine if the claim is justified."
   ]
  },
  {
   "cell_type": "markdown",
   "id": "3fa9fdf3-281e-47ca-aa42-e3336df8d9fc",
   "metadata": {},
   "source": [
    "#### Answer:"
   ]
  },
  {
   "cell_type": "code",
   "execution_count": 64,
   "id": "01c9f384-6877-404a-b022-971196eb45cc",
   "metadata": {},
   "outputs": [
    {
     "name": "stdout",
     "output_type": "stream",
     "text": [
      "F-Statistic: 1.2\n",
      "Critical F-Value: 2.966741631292762\n",
      "P-Value: 0.6587309365634488\n",
      "Decision: Fail to reject the null hypothesis\n"
     ]
    }
   ],
   "source": [
    "import scipy.stats as stats\n",
    "\n",
    "# Given data\n",
    "claimed_variance = 0.005\n",
    "sample_variance = 0.006\n",
    "sample_size = 25\n",
    "alpha = 0.01\n",
    "\n",
    "# Calculate the F-statistic\n",
    "f_statistic = sample_variance / claimed_variance\n",
    "\n",
    "# Degrees of freedom\n",
    "df_num = sample_size - 1\n",
    "df_den = sample_size - 1\n",
    "\n",
    "# Calculate the critical F-value\n",
    "critical_f = stats.f.ppf(1 - alpha/2, df_num, df_den)\n",
    "\n",
    "# Compare the F-statistic with the critical F-value\n",
    "p_value = 2 * min(stats.f.cdf(f_statistic, df_num, df_den), 1 - stats.f.cdf(f_statistic, df_num, df_den))\n",
    "\n",
    "# Decision\n",
    "if f_statistic > critical_f:\n",
    "    decision = \"Reject the null hypothesis\"\n",
    "else:\n",
    "    decision = \"Fail to reject the null hypothesis\"\n",
    "\n",
    "# Print results\n",
    "print(f'F-Statistic: {f_statistic}')\n",
    "print(f'Critical F-Value: {critical_f}')\n",
    "print(f'P-Value: {p_value}')\n",
    "print(f'Decision: {decision}')\n"
   ]
  },
  {
   "cell_type": "markdown",
   "id": "a16b8639-43aa-4cbc-b172-18fe5f451142",
   "metadata": {},
   "source": [
    "#### Q6. Write a Python function that takes in the degrees of freedom for the numerator and denominator of an F-distribution and calculates the mean and variance of the distribution. The function should return the mean and variance as a tuple."
   ]
  },
  {
   "cell_type": "markdown",
   "id": "06962022-99dc-4b7f-9c45-1f63fbeca545",
   "metadata": {},
   "source": [
    "#### Answer:"
   ]
  },
  {
   "cell_type": "code",
   "execution_count": 65,
   "id": "26b6f159-733e-4aad-a5cf-73f2eec23df8",
   "metadata": {},
   "outputs": [
    {
     "name": "stdout",
     "output_type": "stream",
     "text": [
      "Mean of F-distribution: 1.25\n",
      "Variance of F-distribution: 1.3541666666666667\n"
     ]
    }
   ],
   "source": [
    "def f_distribution_mean_variance(df_num, df_den):\n",
    "    \"\"\"\n",
    "    Calculate the mean and variance of an F-distribution.\n",
    "\n",
    "    Parameters:\n",
    "    - df_num: Degrees of freedom for the numerator\n",
    "    - df_den: Degrees of freedom for the denominator\n",
    "\n",
    "    Returns:\n",
    "    - mean: Mean of the F-distribution\n",
    "    - variance: Variance of the F-distribution\n",
    "    \"\"\"\n",
    "    if df_num > 1 and df_den > 2:\n",
    "        mean = df_den / (df_den - 2)\n",
    "        variance = (2 * (df_den**2) * (df_num + df_den - 2)) / (df_num * (df_den - 2)**2 * (df_den - 4))\n",
    "        return mean, variance\n",
    "    else:\n",
    "        raise ValueError(\"Degrees of freedom conditions not met for F-distribution\")\n",
    "\n",
    "# Example usage:\n",
    "df_num_example = 5\n",
    "df_den_example = 10\n",
    "\n",
    "mean, variance = f_distribution_mean_variance(df_num_example, df_den_example)\n",
    "print(f'Mean of F-distribution: {mean}')\n",
    "print(f'Variance of F-distribution: {variance}')\n"
   ]
  },
  {
   "cell_type": "markdown",
   "id": "c36b5761-af1e-4696-a150-fbba5d6fa305",
   "metadata": {},
   "source": [
    "#### Q7. A random sample of 10 measurements is taken from a normal population with unknown variance. The sample variance is found to be 25. Another random sample of 15 measurements is taken from another normal population with unknown variance, and the sample variance is found to be 20. Conduct an F-test at the 10% significance level to determine if the variances are significantly different."
   ]
  },
  {
   "cell_type": "markdown",
   "id": "9ef72e81-9974-4dca-b483-6bb4d186fe7b",
   "metadata": {},
   "source": [
    "#### Answer:"
   ]
  },
  {
   "cell_type": "markdown",
   "id": "bfee40cc-ef06-40b8-9b89-96b5b68c6342",
   "metadata": {},
   "source": [
    "Certainly! To conduct an F-test for equality of variances in this scenario, you can follow these steps:\r\n",
    "\r\n",
    "1. **Define hypotheses:**\r\n",
    "   - Null hypothesis (H0): The variances are equal (σ₁² = σ₂²).\r\n",
    "   - Alternative hypothesis (H1): The variances are different (σ₁² ≠ σ₂²).\r\n",
    "\r\n",
    "2. **Set the significance level (alpha):**\r\n",
    "   - Given: 10% significance level, so alpha (α) = 0.10.\r\n",
    "\r\n",
    "3. **Calculate the F-statistic:**\r\n",
    "   - F-statistic = Larger Sample Variance / Smaller Sample Variance.\r\n",
    "\r\n",
    "4. **Determine degrees of freedom:**\r\n",
    "   - Degrees of freedom for the numerator (df_num) = Larger Sample Size - 1.\r\n",
    "   - Degrees of freedom for the denominator (df_den) = Smaller Sample Size - 1.\r\n",
    "\r\n",
    "5. **Calculate the critical F-value:**\r\n",
    "   - Use the F-distribution table or Python's `scipy.stats.f.ppf` function.\r\n",
    "\r\n",
    "6. **Compare the F-statistic with the critical F-value:**\r\n",
    "   - If the calculated F-statistic is greater than the critical F-value, reject 'P-Value: {p_value}')\r\n",
    "print(f'Decision: {decision}')\r\n",
    "```\r\n",
    "\r\n",
    "In this case, if the F-statistic is significantly different from 1, it suggests that the variances are significantly different. Adjust the `sample_variance1`, `sample_size1`, `sample_variance2`, `sample_size2`, and `alpha` values as needed for your specific scenario.eir implications for the validity of the study results."
   ]
  },
  {
   "cell_type": "code",
   "execution_count": 66,
   "id": "d4b30a89-52b0-4a5e-8ec0-9dc9b1852358",
   "metadata": {},
   "outputs": [
    {
     "name": "stdout",
     "output_type": "stream",
     "text": [
      "F-Statistic: 1.25\n",
      "Critical F-Value: 3.0254727242822095\n",
      "P-Value: 0.7537416997292505\n",
      "Decision: Fail to reject the null hypothesis\n"
     ]
    }
   ],
   "source": [
    "import scipy.stats as stats\n",
    "\n",
    "# Given data\n",
    "sample_variance1 = 25\n",
    "sample_size1 = 10\n",
    "sample_variance2 = 20\n",
    "sample_size2 = 15\n",
    "alpha = 0.10\n",
    "\n",
    "# Calculate the F-statistic\n",
    "f_statistic = max(sample_variance1, sample_variance2) / min(sample_variance1, sample_variance2)\n",
    "\n",
    "# Degrees of freedom\n",
    "df_num = max(sample_size1, sample_size2) - 1\n",
    "df_den = min(sample_size1, sample_size2) - 1\n",
    "\n",
    "# Calculate the critical F-value\n",
    "critical_f = stats.f.ppf(1 - alpha/2, df_num, df_den)\n",
    "\n",
    "# Compare the F-statistic with the critical F-value\n",
    "p_value = 2 * min(stats.f.cdf(f_statistic, df_num, df_den), 1 - stats.f.cdf(f_statistic, df_num, df_den))\n",
    "\n",
    "# Decision\n",
    "if f_statistic > critical_f:\n",
    "    decision = \"Reject the null hypothesis\"\n",
    "else:\n",
    "    decision = \"Fail to reject the null hypothesis\"\n",
    "\n",
    "# Print results\n",
    "print(f'F-Statistic: {f_statistic}')\n",
    "print(f'Critical F-Value: {critical_f}')\n",
    "print(f'P-Value: {p_value}')\n",
    "print(f'Decision: {decision}')"
   ]
  },
  {
   "cell_type": "markdown",
   "id": "829d176e-3e7f-4561-bdee-b176281a9549",
   "metadata": {},
   "source": [
    "#### Q8. The following data represent the waiting times in minutes at two different restaurants on a Saturday night: Restaurant A: 24, 25, 28, 23, 22, 20, 27; Restaurant B: 31, 33, 35, 30, 32, 36. Conduct an F-test at the 5% significance level to determine if the variances are significantly different."
   ]
  },
  {
   "cell_type": "markdown",
   "id": "2d1db97c-6e3f-4a40-9d5e-5f84ebed4d4c",
   "metadata": {},
   "source": [
    "#### Answer :"
   ]
  },
  {
   "cell_type": "code",
   "execution_count": 68,
   "id": "de9dd8e0-f9d7-48c6-81cb-3ffc9774d317",
   "metadata": {},
   "outputs": [
    {
     "name": "stdout",
     "output_type": "stream",
     "text": [
      "F-Statistic: 1.4551907719609583\n",
      "Critical F-Value: 6.977701858535566\n",
      "P-Value: 0.6974815747937484\n",
      "Decision: Fail to reject the null hypothesis\n"
     ]
    }
   ],
   "source": [
    "import scipy.stats as stats\n",
    "\n",
    "# Given data\n",
    "waiting_times_a = [24, 25, 28, 23, 22, 20, 27]\n",
    "waiting_times_b = [31, 33, 35, 30, 32, 36]\n",
    "alpha = 0.05\n",
    "\n",
    "# Calculate the F-statistic\n",
    "sample_variance_a = sum((x - np.mean(waiting_times_a))**2 for x in waiting_times_a) / (len(waiting_times_a) - 1)\n",
    "sample_variance_b = sum((x - np.mean(waiting_times_b))**2 for x in waiting_times_b) / (len(waiting_times_b) - 1)\n",
    "f_statistic = max(sample_variance_a, sample_variance_b) / min(sample_variance_a, sample_variance_b)\n",
    "\n",
    "# Degrees of freedom\n",
    "df_num = max(len(waiting_times_a), len(waiting_times_b)) - 1\n",
    "df_den = min(len(waiting_times_a), len(waiting_times_b)) - 1\n",
    "\n",
    "# Calculate the critical F-value\n",
    "critical_f = stats.f.ppf(1 - alpha/2, df_num, df_den)\n",
    "\n",
    "# Compare the F-statistic with the critical F-value\n",
    "p_value = 2 * min(stats.f.cdf(f_statistic, df_num, df_den), 1 - stats.f.cdf(f_statistic, df_num, df_den))\n",
    "\n",
    "# Decision\n",
    "if f_statistic > critical_f:\n",
    "    decision = \"Reject the null hypothesis\"\n",
    "else:\n",
    "    decision = \"Fail to reject the null hypothesis\"\n",
    "\n",
    "# Print results\n",
    "print(f'F-Statistic: {f_statistic}')\n",
    "print(f'Critical F-Value: {critical_f}')\n",
    "print(f'P-Value: {p_value}')\n",
    "print(f'Decision: {decision}')\n"
   ]
  },
  {
   "cell_type": "markdown",
   "id": "2288acd5-f1d2-4394-abc1-339fede11a63",
   "metadata": {},
   "source": [
    "#### Q9. The following data represent the test scores of two groups of students: Group A: 80, 85, 90, 92, 87, 83; Group B: 75, 78, 82, 79, 81, 84. Conduct an F-test at the 1% significance level to determine if the variances are significantly different."
   ]
  },
  {
   "cell_type": "markdown",
   "id": "6929e32e-eda0-4d83-a75a-14da27432ae5",
   "metadata": {},
   "source": [
    "#### Answer:"
   ]
  },
  {
   "cell_type": "code",
   "execution_count": 69,
   "id": "da075914-99f6-4440-82ad-2bff3bad7324",
   "metadata": {},
   "outputs": [
    {
     "name": "stdout",
     "output_type": "stream",
     "text": [
      "F-Statistic: 1.9442622950819677\n",
      "Critical F-Value: 14.939605459912219\n",
      "P-Value: 0.4831043549070688\n",
      "Decision: Fail to reject the null hypothesis\n"
     ]
    }
   ],
   "source": [
    "import scipy.stats as stats\n",
    "\n",
    "# Given data\n",
    "scores_group_a = [80, 85, 90, 92, 87, 83]\n",
    "scores_group_b = [75, 78, 82, 79, 81, 84]\n",
    "alpha = 0.01\n",
    "\n",
    "# Calculate the F-statistic\n",
    "sample_variance_a = sum((x - np.mean(scores_group_a))**2 for x in scores_group_a) / (len(scores_group_a) - 1)\n",
    "sample_variance_b = sum((x - np.mean(scores_group_b))**2 for x in scores_group_b) / (len(scores_group_b) - 1)\n",
    "f_statistic = max(sample_variance_a, sample_variance_b) / min(sample_variance_a, sample_variance_b)\n",
    "\n",
    "# Degrees of freedom\n",
    "df_num = max(len(scores_group_a), len(scores_group_b)) - 1\n",
    "df_den = min(len(scores_group_a), len(scores_group_b)) - 1\n",
    "\n",
    "# Calculate the critical F-value\n",
    "critical_f = stats.f.ppf(1 - alpha/2, df_num, df_den)\n",
    "\n",
    "# Compare the F-statistic with the critical F-value\n",
    "p_value = 2 * min(stats.f.cdf(f_statistic, df_num, df_den), 1 - stats.f.cdf(f_statistic, df_num, df_den))\n",
    "\n",
    "# Decision\n",
    "if f_statistic > critical_f:\n",
    "    decision = \"Reject the null hypothesis\"\n",
    "else:\n",
    "    decision = \"Fail to reject the null hypothesis\"\n",
    "\n",
    "# Print results\n",
    "print(f'F-Statistic: {f_statistic}')\n",
    "print(f'Critical F-Value: {critical_f}')\n",
    "print(f'P-Value: {p_value}')\n",
    "print(f'Decision: {decision}')\n"
   ]
  }
 ],
 "metadata": {
  "kernelspec": {
   "display_name": "Python 3 (ipykernel)",
   "language": "python",
   "name": "python3"
  },
  "language_info": {
   "codemirror_mode": {
    "name": "ipython",
    "version": 3
   },
   "file_extension": ".py",
   "mimetype": "text/x-python",
   "name": "python",
   "nbconvert_exporter": "python",
   "pygments_lexer": "ipython3",
   "version": "3.11.5"
  }
 },
 "nbformat": 4,
 "nbformat_minor": 5
}

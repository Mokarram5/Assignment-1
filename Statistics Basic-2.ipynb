{
 "cells": [
  {
   "cell_type": "markdown",
   "id": "3a7b45cc-606c-4cfd-9017-f0e2422620d5",
   "metadata": {},
   "source": [
    "## Assignment of Statistics Basic-2 "
   ]
  },
  {
   "cell_type": "markdown",
   "id": "df579223-7c0b-4e2d-b5dc-a83ddd5f96e2",
   "metadata": {},
   "source": [
    "#### Q1. What are the three measures of central tendency?"
   ]
  },
  {
   "cell_type": "markdown",
   "id": "21006020-52c3-4a1b-853b-7009bde64c4c",
   "metadata": {},
   "source": [
    "#### Answer:"
   ]
  },
  {
   "cell_type": "markdown",
   "id": "807b558d-b8c2-4c7d-9f73-78629ae5852d",
   "metadata": {},
   "source": [
    "The three measures of central tendency are:\r\n",
    "\r\n",
    "1. **Mean:** The mean is the average of a set of values. To calculate the mean, you add up all the values in a data set and then divide by the number of values. It is sensitive to extreme values, also known as outliers, as it considers every value in the dataset.\r\n",
    "\r\n",
    "   Formula: Mean = (Sum of all values) / (Number of values)\r\n",
    "\r\n",
    "2. **Median:** The median is the middle value in a dataset when it is ordered from least to greatest. If there is an even number of values, the median is the average of the two middle values. Unlike the mean, the median is not affected by extreme values, making it a more robust measure of central tendency.\r\n",
    "\r\n",
    "   For an odd number of values: Median = Middle value\r\n",
    "   For an even number of values: Median = (Average of two middle values)\r\n",
    "\r\n",
    "3. **Mode:** The mode is the value that appears most frequently in a dataset. A dataset can be unimodal (one mode), bimodal (two modes), trimodal (three modes), or multimodal (more than three modes). Unlike the mean and median, the mode is not necessarily unique and may not exist in some datasets.\r\n",
    "\r\n",
    "   Example: In the dataset {1, 2, 2, 3, 4, 4, 4, 5}, the mode is 4 because it appears most frequently.\r\n",
    "\r\n",
    "These measures provide different perspectives on the central tendency of a dataset and are used to summarize and describe the distribution of values."
   ]
  },
  {
   "cell_type": "markdown",
   "id": "2f33c936-064c-4c89-94c0-2c03dc102051",
   "metadata": {},
   "source": [
    "#### Q2. What is the difference between the mean, median, and mode? How are they used to measure the central tendency of a dataset?"
   ]
  },
  {
   "cell_type": "markdown",
   "id": "ef3689a0-b381-4398-8eb1-d1ba2f426106",
   "metadata": {},
   "source": [
    "#### Answer:"
   ]
  },
  {
   "cell_type": "markdown",
   "id": "c1fcd69f-ec14-465e-b54b-15d9d895b4ee",
   "metadata": {},
   "source": [
    "The mean, median, and mode are measures of central tendency, but they differ in how they represent the central or typical value of a dataset:\r\n",
    "\r\n",
    "1. **Mean:**\r\n",
    "   - **Calculation:** The mean is calculated by adding up all the values in a dataset and then dividing by the number of values.\r\n",
    "   - **Sensitivity:** It is sensitive to extreme values (outliers) because it considers every value in the dataset.\r\n",
    "   - **Use:** The mean is often used when the distribution of data is relatively symmetrical and there are no significant outliers. It provides a balance point for the data.\r\n",
    "\r\n",
    "2. **Median:**\r\n",
    "   - **Calculation:** The median is the middle value in a dataset when it is ordered from least to greatest. If there is an even number of values, the median is the average of the two middle values.\r\n",
    "   - **Sensitivity:** It is less sensitive to extreme values than the mean, making it a more robust measure.\r\n",
    "   - **Use:** The median is preferred when there are outliers or when the distribution is skewed. It gives a better representation of the central position in such cases.\r\n",
    "\r\n",
    "3. **Mode:**\r\n",
    "   - **Calculation:** The mode is the value that appears most frequently in a dataset. A dataset can be unimodal, bimodal, trimodal, or multimodal, depending on the number of modes it has.\r\n",
    "   - **Sensitivity:** It is not sensitive to extreme values. In fact, the mode can be used in datasets with outliers without being affected by them.\r\n",
    "   - **Use:** The mode is useful when identifying the most common value or values in a dataset. It is particularly applicable in categorical data or when looking for the most typg of the dataset."
   ]
  },
  {
   "cell_type": "markdown",
   "id": "9a95794c-f278-4410-b4e1-593fd013d60f",
   "metadata": {},
   "source": [
    "#### Q3. Measure the three measures of central tendency for the given height data:\r\n",
    "[178,177,176,177,178.2,178,175,179,180,175,178.9,176.2,177,172.5,178,176.5]"
   ]
  },
  {
   "cell_type": "markdown",
   "id": "51622379-6954-40e1-905d-f966bca4b651",
   "metadata": {},
   "source": [
    "#### Answer: "
   ]
  },
  {
   "cell_type": "markdown",
   "id": "4b0170d5-316b-403d-af85-0a23fb8df4b9",
   "metadata": {},
   "source": [
    "for the given height data:\n",
    "\n",
    "Height data: [178, 177, 176, 177, 178.2, 178, 175, 179, 180, 175, 178.9, 176.2, 177, 172.5, 178, 176.5]\n",
    "\n",
    "1. **Mean:**\n",
    "   Mean = (178 + 177 + 176 + 177 + 178.2 + 178 + 175 + 179 + 180 + 175 + 178.9 + 176.2 + 177 + 172.5 + 178 + 176.5) / 16\n",
    "\n",
    "   Calculating this sum and dividing by 16 gives us the mean.\n",
    "\n",
    "2. **Median:**\n",
    "   First, we need to order the data:\n",
    "   172.5, 175, 175, 176, 176, 176.2, 177, 177, 177, 178, 178, 178, 178, 178.2, 178.9, 180\n",
    "\n",
    "   Since there are 16 values, the median is the average of the 8th and 9th values, which are both 177.\n",
    "\n",
    "3. **Mode:**\n",
    "   The mode is the value that appears most frequently. Looking at the data, there is no repeated value, so the dataset is unimodal, but there is no mode.\n",
    "\n"
   ]
  },
  {
   "cell_type": "markdown",
   "id": "0412f761-c792-4386-99b1-f978bc30ef61",
   "metadata": {},
   "source": [
    "#### Q4. Find the standard deviation for the given data:\r\n",
    "[178,177,176,177,178.2,178,175,179,180,175,178.9,176.2,177,172.5,178,176.5]"
   ]
  },
  {
   "cell_type": "markdown",
   "id": "6502d700-b12e-41b9-901e-8417736264ec",
   "metadata": {},
   "source": [
    "#### Answer:"
   ]
  },
  {
   "cell_type": "code",
   "execution_count": 1,
   "id": "76cc9fd9-d4bc-479c-87e2-3ddd7d8b71ff",
   "metadata": {},
   "outputs": [
    {
     "name": "stdout",
     "output_type": "stream",
     "text": [
      "Standard Deviation: 1.7885814036548633\n"
     ]
    }
   ],
   "source": [
    "import numpy as np\r\n",
    "\r\n",
    "# Given height data\r\n",
    "height_data = np.array([178, 177, 176, 177, 178.2, 178, 175, 179, 180, 175, 178.9, 176.2, 177, 172.5, 178, 176.5])\r\n",
    "\r\n",
    "# Calculate standard deviation\r\n",
    "std_deviation = np.std(height_data)\r\n",
    "\r\n",
    "print(\"Standard Deviation:\", std_deviation)\r\n"
   ]
  },
  {
   "cell_type": "markdown",
   "id": "a2264d36-1dff-4bdf-a1af-02f9b9e8266c",
   "metadata": {},
   "source": [
    "#### Q5. How are measures of dispersion such as range, variance, and standard deviation used to describe the spread of a dataset? Provide an example."
   ]
  },
  {
   "cell_type": "markdown",
   "id": "3fa9fdf3-281e-47ca-aa42-e3336df8d9fc",
   "metadata": {},
   "source": [
    "#### Answer:"
   ]
  },
  {
   "cell_type": "markdown",
   "id": "cb6ab540-cd0e-49aa-a5fa-5c560762462d",
   "metadata": {},
   "source": [
    "Measures of dispersion, such as range, variance, and standard deviation, provide information about how spread out or dispersed the values in a dataset are. They complement measures of central tendency (like mean, median, and mode) by giving a sense of the variability within the data. Here's how each of these measures is used to describe the spread of a dataset:\r\n",
    "\r\n",
    "1. **Range:**\r\n",
    "   - **Definition:** The range is the difference between the maximum and minimum values in a dataset.\r\n",
    "   - **Use:** It provides a simple indication of how spread out the values are. However, it is sensitive to outliers and may not accurately represent the variability if extreme values are present.\r\n",
    "   - **Example:** For the dataset [10, 15, 18, 22, 28], the range is 28 - 10 = 18.\r\n",
    "\r\n",
    "2. **Variance:**\r\n",
    "   - **Definition:** Variance measures the average squared deviation of each data point from the mean of the dataset.\r\n",
    "   - **Use:** It gives a more precise measure of the dispersion, considering each data point's distance from the mean. However, since it is in squared units, it might be less intuitive than the standard deviation.\r\n",
    "   - **Example:** Given the dataset [3, 5, 6, 8, 10], the variance is calculated as the average of the squared differences between each value and the mean.\r\n",
    "\r\n",
    "3. **Standard Deviation:**\r\n",
    "   - **Definition:** The standard deviation is the square root of the variance. It provides a measure of the average distance of each data point from the mean in the original units of the data.\r\n",
    "   - **Use:** It is widely used because it is in the same units as the data, making it more interpretable. It is sensitive to outliers and is a common measure of spread.\r\n",
    "   - **Example:** Using the same dataset [3, 5, 6, 8, 10], if the variance is 5, the standard deviation is the square root of 5.\r\n",
    "\r\n",
    "**Example:**\r\n",
    "Consider the heights of two groups of individuals: Group A and Group B.\r\n",
    "\r\n",
    "- Group A: [160, 162, 164, 165, 166]\r\n",
    "- Group B: [150, 160, 170, 180, 190]\r\n",
    "\r\n",
    "Both groups have a mean height of 163, but their spreads are different. We can use measures of dispersion to compare:\r\n",
    "\r\n",
    "- Range: Group A has a range of 6 (166 - 160), and Group B has a range of 40 (190 - 150).\r\n",
    "- Variance/Standard Deviation: Calculating these measures will provide more precise information about how tightly or widely the heights are distrring different sets of data."
   ]
  },
  {
   "cell_type": "markdown",
   "id": "b798ed9c-043e-48ee-83b0-54747b93713b",
   "metadata": {},
   "source": [
    "#### Q6. What is a Venn diagram?"
   ]
  },
  {
   "cell_type": "markdown",
   "id": "06962022-99dc-4b7f-9c45-1f63fbeca545",
   "metadata": {},
   "source": [
    "#### Answer:"
   ]
  },
  {
   "cell_type": "markdown",
   "id": "0f69dcf1-a5bd-4c68-aa3a-8f678d23d0b2",
   "metadata": {},
   "source": [
    "A Venn diagram is a visual representation that uses overlapping circles or other shapes to illustrate the relationships between different sets or groups. Each circle typically represents a set, and the overlapping areas show the elements that are common to more than one set. Venn diagrams are widely used to depict logical relationships and set intersections, making it easier to visualize the similarities and differences between different categories or groups of items."
   ]
  },
  {
   "cell_type": "markdown",
   "id": "c25ad90a-7446-4be8-9375-c6b34148a11f",
   "metadata": {},
   "source": [
    "#### Q7. For the two given sets A = (2,3,4,5,6,7) & B = (0,2,6,8,10). Find:\r\n",
    "(i) A B\r\n",
    "(ii) A ⋃ B"
   ]
  },
  {
   "cell_type": "markdown",
   "id": "9ef72e81-9974-4dca-b483-6bb4d186fe7b",
   "metadata": {},
   "source": [
    "#### Answer:"
   ]
  },
  {
   "cell_type": "markdown",
   "id": "6cd394fe-309f-4351-a0c7-eee8df64bf31",
   "metadata": {},
   "source": [
    "\r\n",
    "Set A: {2, 3, 4, 5, 6, 7}\r\n",
    "Set B: {0, 2, 6, 8, 10}\r\n",
    "\r\n",
    "(i) **Intersection (A ∩ B):**\r\n",
    "   - The intersection of two sets includes the elements that are common to both sets.\r\n",
    "   - A ∩ B = {2, 6}\r\n",
    "\r\n",
    "(ii) **Union (A ∪ B):**\r\n",
    "   - The union of two sets includes all unique elements from both sets, without duplicates.\r\n",
    "   - A ∪ B = {0, 2, 3, 4, 5, 6, 7, 8, 10}\r\n",
    "\r\n",
    "So, to summarize:\r\n",
    "(i) A ∩ B = {2, 6}\r\n",
    "(ii) A ∪ B = {0, 2, 3, 4, 5, 6, 7, 8, 10}"
   ]
  },
  {
   "cell_type": "markdown",
   "id": "fc039ceb-748d-4037-b3a4-5bb271a95ec3",
   "metadata": {},
   "source": [
    "#### Q8. What do you understand about skewness in data?"
   ]
  },
  {
   "cell_type": "markdown",
   "id": "2d1db97c-6e3f-4a40-9d5e-5f84ebed4d4c",
   "metadata": {},
   "source": [
    "#### Answer :"
   ]
  },
  {
   "cell_type": "markdown",
   "id": "a02eb88e-500f-431b-ac18-15de0b419a0b",
   "metadata": {},
   "source": [
    "Skewness is a statistical measure that describes the asymmetry or skewness of a probability distribution or a dataset. In other words, it quantifies the degree and direction of skew (departure from horizontal symmetry) in a dataset.\r\n",
    "\r\n",
    "There are three types of skewness:\r\n",
    "\r\n",
    "1. **Positive Skewness (Right Skewness):** In a positively skewed distribution, the right tail (larger values) is longer or fatter than the left tail. The majority of the data points are concentrated on the left side, and the distribution is stretched towards the right. The mean is typically greater than the median in a positively skewed distribution.\r\n",
    "\r\n",
    "2. **Negative Skewness (Left Skewness):** In a negatively skewed distribution, the left tail (smaller values) is longer or fatter than the right tail. The majority of the data points are concentrated on the right side, and the distribution is stretched towards the left. The mean is typically less than the median in a negatively skewed distribution.\r\n",
    "\r\n",
    "3. **Zero Skewness:** A distribution is considered symmetric or perfectly normal when it has zero skewness. This means that the left and right tails are approximately the same length, and the distribution is evenly balanced.\r\n",
    "\r\n",
    "Skewness is a useful measure because it provides insights into the shape and distribution of data. Understanding skewness helps in identifying the nature of outliers and assessing the appropriateness of using certain statistical methods that assume normality. In practical terms, knowing the skewness can guide the selection of appropriate statistical techniques and models for data analysis."
   ]
  },
  {
   "cell_type": "markdown",
   "id": "369ea658-b252-4bdf-bc54-aea358de108f",
   "metadata": {},
   "source": [
    "#### Q9. If a data is right skewed then what will be the position of median with respect to mean?"
   ]
  },
  {
   "cell_type": "markdown",
   "id": "6929e32e-eda0-4d83-a75a-14da27432ae5",
   "metadata": {},
   "source": [
    "##### Answer:"
   ]
  },
  {
   "cell_type": "markdown",
   "id": "9ca7d1ab-110b-4de1-b370-2b216340f2dd",
   "metadata": {},
   "source": [
    "In a right-skewed distribution (positively skewed), the right tail is longer or fatter than the left tail. This means that there are relatively more extreme values on the right side of the distribution.\r\n",
    "\r\n",
    "In such a distribution:\r\n",
    "- The mean is typically greater than the median.\r\n",
    "\r\n",
    "The reason for this relationship is that the mean is influenced by extreme values (outliers) in the tail, and in a right-skewed distribution, these outliers are on the right side, pulling the mean in that direction. On the other hand, the median is less affected by extreme values, making it a more robust measure of central tendency in skewed distributions.\r\n",
    "\r\n",
    "In summary, in a right-skewed distribution:\r\n",
    "- Mean > Median"
   ]
  },
  {
   "cell_type": "markdown",
   "id": "d15dcd0e-5629-4425-805f-286e5617ad35",
   "metadata": {},
   "source": [
    "#### Q10. Explain the difference between covariance and correlation. How are these measures used in statistical analysis?"
   ]
  },
  {
   "cell_type": "markdown",
   "id": "55bfd0ba-3f98-4626-9b8e-f3e0e7572447",
   "metadata": {},
   "source": [
    "#### Answer:"
   ]
  },
  {
   "cell_type": "markdown",
   "id": "f2dc54fc-8354-4532-82be-bda40f8f083b",
   "metadata": {},
   "source": [
    "Covariance and correlation are both measures that describe the relationship between two variables in a dataset, but they have some key differences.\r\n",
    "\r\n",
    "1. **Covariance:**\r\n",
    "   - **Definition:** Covariance measures how two variables change together. It indicates the direction of the linear relationship between variables but does not provide information about the strength or the scale of this relationship.\r\n",
    "   - **Calculation:** Cov(X, Y) = Σ [(X_i - X̄) * (Y_i - Ȳ)] / n, where X̄ and Ȳ are the means of X and Y, respectively, and n is the number of data points.\r\n",
    "   - **Units:** Covariance is in the units obtained by multiplying the units of the two variables.\r\n",
    "\r\n",
    "2. **Correlation:**\r\n",
    "   - **Definition:** Correlation is a standardized measure of the strength and direction of the linear relationship between two variables. It scales the covariance by the product of the standard deviations of the two variables, resulting in a value between -1 and 1.\r\n",
    "   - **Calculation:** Corr(X, Y) = Cov(X, Y) / (σ_X * σ_Y), where σ_X and σ_Y are the standard deviations of X and Y, respectively.\r\n",
    "   - **Scale:** Correlation is dimensionless and always ranges between -1 (perfect negative correlation) and 1 (perfect positive correlation).\r\n",
    "   \r\n",
    "**How They Are Used in Statistical Analysis:**\r\n",
    "   \r\n",
    "   - **Covariance:** \r\n",
    "      - Covariance can help identify whether two variables tend to increase or decrease together (positive covariance) or move in opposite directions (negative covariance).\r\n",
    "      - However, the magnitude of covariance is difficult to interpret since it depends on the scale of the variables.\r\n",
    "\r\n",
    "   - **Correlation:**\r\n",
    "      - Correlation provides a standardized measure, making it easier to interpret the strength and direction of the relationship between two variables.\r\n",
    "      - A correlation of 1 indicates a perfect positive linear relationship, -1 indicates a perfect negative linear relationship, and 0 indicates no linear relationship.\r\n",
    "      - Correlation is useful in comparing relationships between variables with different units or scales.\r\n",
    "   \r\n",
    "In summary, covariance measures the extent to which two variables change together, but it doesn't provide a clear measure of the strength or direction. Correlation, on the other hand, standardizes this relationship, allowing for a more intuitive interpretation of the strength and direction of the linear association between two variables. Both measures are crucial in understanding relationships between variables in statistical analysis."
   ]
  },
  {
   "cell_type": "markdown",
   "id": "6cbf24f9-ed76-4d74-8aa0-132bcf759f3d",
   "metadata": {},
   "source": [
    "#### Q11. What is the formula for calculating the sample mean? Provide an example calculation for a dataset."
   ]
  },
  {
   "cell_type": "markdown",
   "id": "a4c6583f-718e-41e6-9d04-1cad218ca152",
   "metadata": {},
   "source": [
    "#### Answer: "
   ]
  },
  {
   "cell_type": "code",
   "execution_count": 3,
   "id": "c8bab5ea-8802-4fa6-82b9-3a0bc79e2ad0",
   "metadata": {},
   "outputs": [
    {
     "data": {
      "text/plain": [
       "21.25"
      ]
     },
     "execution_count": 3,
     "metadata": {},
     "output_type": "execute_result"
    }
   ],
   "source": [
    "# Example dataset\n",
    "data = [12, 15, 18, 20, 22, 25, 28, 30]\n",
    "\n",
    "# Calculating the sample mean\n",
    "sample_mean = sum(data) / len(data)\n",
    "\n",
    "sample_mean\n"
   ]
  },
  {
   "cell_type": "markdown",
   "id": "aa12ec42-7bd1-4e95-92e8-d642e8d7cbff",
   "metadata": {},
   "source": [
    "#### Q12. For a normal distribution data what is the relationship between its measure of central tendency?"
   ]
  },
  {
   "cell_type": "markdown",
   "id": "12468d88-3611-42b4-b895-fcaf9798efb0",
   "metadata": {},
   "source": [
    "#### Answer:"
   ]
  },
  {
   "cell_type": "markdown",
   "id": "7f882a05-ebbd-47b0-86dd-742ee4a8b6e7",
   "metadata": {},
   "source": [
    "For a normal distribution (also known as a Gaussian distribution or bell curve), the relationship between its measures of central tendency, namely the mean, median, and mode, is as follows:\r\n",
    "\r\n",
    "1. **Mean (μ):**\r\n",
    "   - In a normal distribution, the mean is located at the center of the distribution.\r\n",
    "   - The mean is equal to the median, and they are both positioned at the peak of the symmetric bell curve.\r\n",
    "   - Mathematically, μ = median.\r\n",
    "\r\n",
    "2. **Median:**\r\n",
    "   - In a perfectly symmetrical normal distribution, the median is equal to the mean.\r\n",
    "   - The median is the middle value, and for a normal distribution, it coincides with the mean due to the symmetry of the distribution.\r\n",
    "\r\n",
    "3. **Mode:**\r\n",
    "   - The mode of a normal distribution is also equal to the mean and median.\r\n",
    "   - In a perfectly symmetrical normal distribution, every point on one side of the mean has a corresponding point on the other side, making the distribution unimodal (having one mode) and centered  median, and mode."
   ]
  },
  {
   "cell_type": "markdown",
   "id": "bffb210c-cfc4-4d10-947b-b30fc0e080fe",
   "metadata": {},
   "source": [
    "#### Q13. How is covariance different from correlation?"
   ]
  },
  {
   "cell_type": "markdown",
   "id": "03d6cd4f-328e-4f4b-be46-4832852fc2bd",
   "metadata": {},
   "source": [
    "#### Answer:"
   ]
  },
  {
   "cell_type": "markdown",
   "id": "01c6a832-b775-4abf-a27b-83862b37fe78",
   "metadata": {},
   "source": [
    "Covariance and correlation are both measures that describe the relationship between two variables, but they differ in their scale and interpretation:\r\n",
    "\r\n",
    "1. **Covariance:**\r\n",
    "   - **Definition:** Covariance measures the degree to which two variables change together. It indicates the direction of the linear relationship but does not provide information about the strength or the scale of this relationship.\r\n",
    "   - **Calculation:** Cov(X, Y) = Σ [(X_i - X̄) * (Y_i - Ȳ)] / n, where X̄ and Ȳ are the means of X and Y, respectively, and n is the number of data points.\r\n",
    "   - **Units:** Covariance is in the units obtained by multiplying the units of the two variables.\r\n",
    "\r\n",
    "2. **Correlation:**\r\n",
    "   - **Definition:** Correlation is a standardized measure of the strength and direction of the linear relationship between two variables. It scales the covariance by the product of the standard deviations of the two variables, resulting in a value between -1 and 1.\r\n",
    "   - **Calculation:** Corr(X, Y) = Cov(X, Y) / (σ_X * σ_Y), where σ_X and σ_Y are the standard deviations of X and Y, respectively.\r\n",
    "   - **Scale:** Correlation is dimensionless and always ranges between -1 (perfect negative correlation) and 1 (perfect positive correlation).\r\n",
    "\r\n",
    "**Differences:**\r\n",
    "   - **Scale:** Covariance is not scaled, and its magnitude is difficult to interpret. It depends on the scale of the variables.\r\n",
    "   - **Interpretation:** Correlation is a standardized measure that provides a clear interpretation of the strength and direction of the linear relationship. It is easier to compare correlations between different pairs of variables.\r\n",
    "   - **Range:** Covariance can take any value, positive or negative, while correlation is always between -1 and 1, providing a consistent scale for comparison.\r\n",
    "   - **Unit Independence:** Correlation is unitless, making it more suitable for comparing the relationships between variables with d the relationship."
   ]
  },
  {
   "cell_type": "markdown",
   "id": "71192a2d-c507-4596-8d4c-7ee9fd6d8720",
   "metadata": {},
   "source": [
    "#### Q14. How do outliers affect measures of central tendency and dispersion? Provide an example."
   ]
  },
  {
   "cell_type": "markdown",
   "id": "efaebf1a-4ff8-4fb9-902e-f83727dd21d1",
   "metadata": {},
   "source": [
    "#### Answer:"
   ]
  },
  {
   "cell_type": "markdown",
   "id": "b0b70da2-8cef-4643-9902-676a02b5b004",
   "metadata": {},
   "source": [
    "Outliers can significantly impact measures of central tendency and dispersion in a dataset. Central tendency measures include the mean, median, and mode, while dispersion measures include range, variance, and standard deviation. Here's how outliers affect these measures:\r\n",
    "\r\n",
    "1. **Mean:**\r\n",
    "   - **Effect of Outliers:** Outliers can pull the mean toward them. If there are high or low extreme values, the mean becomes sensitive to these outliers.\r\n",
    "   - **Example:** Consider the dataset [1, 2, 3, 4, 1000]. The mean is significantly influenced by the outlier 1000.\r\n",
    "\r\n",
    "2. **Median:**\r\n",
    "   - **Effect of Outliers:** The median is less sensitive to outliers than the mean. Outliers don't affect the median as much because it is not influenced by the actual values of the data points.\r\n",
    "   - **Example:** In the dataset [1, 2, 3, 4, 1000], the median remains 3, unaffected by the outlier.\r\n",
    "\r\n",
    "3. **Mode:**\r\n",
    "   - **Effect of Outliers:** Like the median, the mode is not strongly influenced by outliers because it focuses on the frequency of values rather than their actual magnitudes.\r\n",
    "   - **Example:** The mode remains the same, and in many datasets, there might not be a mode.\r\n",
    "\r\n",
    "4. **Range:**\r\n",
    "   - **Effect of Outliers:** Outliers can significantly increase the range, especially if they are extreme values. The range becomes larger as a result.\r\n",
    "   - **Example:** In the dataset [1, 2, 3, 4, 1000], the range is 999 (1000 - 1).\r\n",
    "\r\n",
    "5. **Variance and Standard Deviation:**\r\n",
    "   - **Effect of Outliers:** Outliers increase the spread of the data, resulting in larger variance and standard deviation.\r\n",
    "   - **Example:** In the dataset [1, 2, 3, 4, 1000], the variance and standard deviation will be much larger compared to a dataset wmpact on the analysis."
   ]
  }
 ],
 "metadata": {
  "kernelspec": {
   "display_name": "Python 3 (ipykernel)",
   "language": "python",
   "name": "python3"
  },
  "language_info": {
   "codemirror_mode": {
    "name": "ipython",
    "version": 3
   },
   "file_extension": ".py",
   "mimetype": "text/x-python",
   "name": "python",
   "nbconvert_exporter": "python",
   "pygments_lexer": "ipython3",
   "version": "3.11.5"
  }
 },
 "nbformat": 4,
 "nbformat_minor": 5
}

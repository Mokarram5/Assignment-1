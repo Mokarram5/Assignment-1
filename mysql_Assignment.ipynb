{
 "cells": [
  {
   "cell_type": "markdown",
   "id": "3f445ec8-daf7-4b71-a5f6-7cd4cabbe653",
   "metadata": {},
   "source": [
    "## MySql Assignment"
   ]
  },
  {
   "cell_type": "markdown",
   "id": "89e3421f-a78f-4b5d-a15c-ff38056dfe13",
   "metadata": {},
   "source": [
    "#### Q1. What is a database? Differentiate between SQL and NoSQL databases."
   ]
  },
  {
   "cell_type": "markdown",
   "id": "0335ca36-1b8b-4ef5-a968-57dce0c6e319",
   "metadata": {},
   "source": [
    "#### Answer:"
   ]
  },
  {
   "cell_type": "markdown",
   "id": "c762fb30-e8d3-4c6a-a5cb-72b4d3dbfccc",
   "metadata": {},
   "source": [
    "A database is a structured collection of data that is organized and stored in a way that allows for efficient retrieval, management, and manipulation of data. Databases are used to store and manage information in a structured manner, making it easier to perform tasks such as querying, updating, and analyzing data.\n",
    "\n",
    "There are two main categories of databases, i.e SQL (Structured Query Language) databases and NoSQL (Not Only SQL) databases. Here's a differentiation between the two:\n",
    "\n",
    "SQL Databases:\n",
    "1. Structure: SQL databases are relational databases, which means they use a predefined schema to define the structure of the data. Data is organized into tables with rows and columns, and relationships between tables are established using keys (example : primary keys and foreign keys).\n",
    "\n",
    "2. Query Language: SQL databases use a standardized query language called SQL to interact with the data. SQL allows users to perform complex queries, joins, and aggregations on the data.\n",
    "\n",
    "3. Use Cases: SQL databases are well-suited for applications that require structured, well-defined data with complex relationships, such as financial systems, customer relationship management (CRM) systems, and enterprise applications.\n",
    "\n",
    "4. Examples: MySQL, PostgreSQL, Oracle Database, Microsoft SQL Server.\n",
    "\n",
    "NoSQL Databases:\n",
    "1. Structure: NoSQL databases are non-relational and often schema-less, allowing for more flexible data models. They can store unstructured, semi-structured, or structured data in various formats, such as JSON, XML, or key-value pairs.\n",
    "\n",
    "2. Query Language: NoSQL databases do not rely on SQL for querying. Instead, they offer various query languages and APIs tailored to their specific data models. Some NoSQL databases support ad-hoc querying, while others may require predefined indexes for efficient data retrieval.\n",
    "\n",
    "3. Use Cases: NoSQL databases are well-suited for applications with large volumes of rapidly changing data, such as social media platforms, content management systems, real-time analytics, and Internet of Things (IoT) applications.\n",
    "\n",
    "4. Examples: MongoDB (document-oriented), Cassandra (column-family), Redis (key-value), Neo4j (graph), Amazon DynamoDB (key-value and document)."
   ]
  },
  {
   "cell_type": "markdown",
   "id": "66429eab-ecb9-4008-bb71-1282fc82284e",
   "metadata": {},
   "source": [
    "#### Q2. What is DDL? Explain why CREATE, DROP, ALTER, and TRUNCATE are used with an example."
   ]
  },
  {
   "cell_type": "markdown",
   "id": "ba02d1de-78e7-4a95-b81f-be5e06e8de9a",
   "metadata": {},
   "source": [
    "#### Answer:"
   ]
  },
  {
   "cell_type": "markdown",
   "id": "e011da30-64a3-4211-bc52-3272456db970",
   "metadata": {},
   "source": [
    "DDL stands for Data Definition Language, which is a subset of SQL (Structured Query Language) used for defining and managing the structure of a relational database. DDL statements are responsible for creating, altering, and deleting database objects like tables, indexes, and views. These statements don't deal with the actual data stored in the database but focus on the schema and structure of the database."
   ]
  },
  {
   "cell_type": "markdown",
   "id": "acdface0-8806-4d80-bdac-eb6d0bc692d4",
   "metadata": {},
   "source": [
    "the commonly used DDL statements and their purposes with examples are discussed below:"
   ]
  },
  {
   "cell_type": "markdown",
   "id": "e427acdd-e768-4908-b56c-0dc6af77cbd6",
   "metadata": {},
   "source": [
    "1. CREATE:\r\n",
    "\r\n",
    "The CREATE statement is used to create new database objects, such as tables, indexes, views, or schemas.\r\n",
    "Example: Creating a new table called \"employees\" with columns for employee information."
   ]
  },
  {
   "cell_type": "markdown",
   "id": "e513a9d6-0cfe-4cfa-9bed-fb7d19841656",
   "metadata": {},
   "source": [
    "2. DROP:\r\n",
    "\r\n",
    "The DROP statement is used to delete existing database objects, such as tables, indexes, or views.\r\n",
    "Example: Deleting the \"employees\" table from the database"
   ]
  },
  {
   "cell_type": "markdown",
   "id": "a8cbaf19-69ab-442e-beea-1e8e31dc0ec5",
   "metadata": {},
   "source": [
    "3. ALTER:\r\n",
    "\r\n",
    "The ALTER statement is used to modify an existing database object, such as adding, modifying, or deleting columns in a table.\r\n",
    "Example: Adding a new column \"email\" to the \"employees\" table."
   ]
  },
  {
   "cell_type": "markdown",
   "id": "b193cc69-7a38-4a96-81b1-648806ae6a3c",
   "metadata": {},
   "source": [
    "4. TRUNCATE:\r\n",
    "\r\n",
    "The TRUNCATE statement is used to remove all rows from a table while keeping the table structure intact. It is faster than the DELETE statement for removing all data from a table.\r\n",
    "Example: Removing all data from the \"employees\" table."
   ]
  },
  {
   "cell_type": "markdown",
   "id": "c5eb27f8-1468-41ec-8576-c3710c31f70d",
   "metadata": {},
   "source": [
    "#### Q3. What is DML? Explain INSERT, UPDATE, and DELETE with an example."
   ]
  },
  {
   "cell_type": "markdown",
   "id": "3e9dae74-ceec-40df-8ba1-846c6ae6fea3",
   "metadata": {},
   "source": [
    "#### Answer:"
   ]
  },
  {
   "cell_type": "markdown",
   "id": "490fa60b-2b22-4444-aa14-25e331443a35",
   "metadata": {},
   "source": [
    "DML stands for Data Manipulation Language, which is a subset of SQL (Structured Query Language) used for manipulating and managing data stored within a relational database. Unlike DDL (Data Definition Language), which focuses on defining and managing the structure of the database, DML deals with the actual data in the database. There are three primary DML statements: INSERT, UPDATE, and DELETE"
   ]
  },
  {
   "cell_type": "markdown",
   "id": "4e6a02a1-944a-4901-8353-79158897e79b",
   "metadata": {},
   "source": [
    "1. INSERT:\r\n",
    "\r\n",
    "The INSERT statement is used to add new rows of data into a table.\r\n",
    "Example: Inserting a new employee record into the \"employees\" table."
   ]
  },
  {
   "cell_type": "markdown",
   "id": "e7569f85-0d5d-44b3-a7d5-5be00634885b",
   "metadata": {},
   "source": [
    "2. UPDATE:\n",
    "\n",
    "The UPDATE statement is used to modify existing data in a table. It allows you to change values in one or more columns for one or more rows based on a specified condition.\n",
    "Example: Updating the email address of an employee with ID 10 in the \"employees\" table."
   ]
  },
  {
   "cell_type": "markdown",
   "id": "386248e4-fdb8-4091-ac4f-74138b8344be",
   "metadata": {},
   "source": [
    "3. DELETE:\r\n",
    "\r\n",
    "The DELETE statement is used to remove one or more rows from a table based on a specified condition.\r\n",
    "Example: Deleting an employee record with ID 101 from the \"employees\" table."
   ]
  },
  {
   "cell_type": "markdown",
   "id": "442bd4cd-8e8d-4dcc-9067-aa1e44e0fc45",
   "metadata": {},
   "source": [
    "#### Q4. What is DQL? Explain SELECT with an example."
   ]
  },
  {
   "cell_type": "markdown",
   "id": "068defd5-6b51-4ddc-a856-779298bd5dd8",
   "metadata": {},
   "source": [
    "#### Answer:"
   ]
  },
  {
   "cell_type": "markdown",
   "id": "9ef364b5-3de0-4a53-a690-b6d137b1812f",
   "metadata": {},
   "source": [
    "DQL stands for Data Query Language, which is a subset of SQL (Structured Query Language) used for querying and retrieving data from a relational database. The primary DQL statement is SELECT, which is used to specify the data you want to retrieve from one or more database tables."
   ]
  },
  {
   "cell_type": "markdown",
   "id": "7b784bff-d845-41f3-9087-9de891305bf8",
   "metadata": {},
   "source": [
    "- SELECT Statement:\r\n",
    "\r\n",
    "The SELECT statement is used to retrieve data from one or more tables in a database. It allowusou to specify the columnweou want to retrieve, the tables from which to retrieve the data, and optional conditions to filter the results:"
   ]
  },
  {
   "cell_type": "markdown",
   "id": "73a32d9b-391e-46eb-a92c-898e08a12c57",
   "metadata": {},
   "source": [
    "Let's Suppose we have a table called \"employees\" with columns like \"employee_id,\" \"first_name,\" \"last_name,\" and \"salary.\" we want to retrieve the first and last names of all employees whose salary is greater than 50,000 rupees. Here's how we can use the SELECT statement to achieve this:"
   ]
  },
  {
   "cell_type": "markdown",
   "id": "26219769-ec6e-4a78-a039-d17355e9c687",
   "metadata": {},
   "source": [
    "SELECT first_name, last_name\r\n",
    "FROM employees\r\n",
    "WHERE salary > 5000;\r\n"
   ]
  },
  {
   "cell_type": "markdown",
   "id": "9b9c1d26-96c7-4c2f-8222-48d25190df15",
   "metadata": {},
   "source": [
    "#### Q5. Explain Primary Key and Foreign Key."
   ]
  },
  {
   "cell_type": "markdown",
   "id": "0603f99f-71c1-4b22-aaef-5fb32a5fa206",
   "metadata": {},
   "source": [
    "#### Answer:"
   ]
  },
  {
   "cell_type": "markdown",
   "id": "4b888b25-39ed-44f1-9606-fed490a6f85c",
   "metadata": {},
   "source": [
    "**Primary Key:**\r\n",
    "1. A Primary Key is a database constraint used to uniquely identify each record or row in a table.\r\n",
    "2. It ensures that the values in the specified column(s) are unique and not null.\r\n",
    "3. Every table in a relational database can have only one Primary Key.\r\n",
    "4. The Primary Key serves as a unique identifier and is used for data retrieval and integrity.\r\n",
    "5. It is typically implemented as an index, which enhances query performance.\r\n",
    "6. Primary Keys are essential for enforcing entity integrity in a database.\r\n",
    "7. Common data types for Primary Keys include integers and sequences.\r\n",
    "8. Primary Keys are often auto-generated or chosen from existing data attributes.\r\n",
    "9. They facilitate data relationships in a database by being referenced as Foreign Keys in related tables.\r\n",
    "10. Primary Keys are a fundamental concept in relational databases, ensuring data accuracy and consistency.\r\n",
    "\r\n",
    "**Foreign Key:**\r\n",
    "1. A Foreign Key is a database constraint that establishes a link between two tables by referencing the Primary Key of another table.\r\n",
    "2. It enforces referential integrity, ensuring that data in the Foreign Key column(s) corresponds to the values in the referenced Primary Key column(s).\r\n",
    "3. Foreign Keys are used to create relationships between tables, representing associations between entities.\r\n",
    "4. They prevent actions that would violate the integrity of the data, such as inserting a value that doesn't exist in the referenced table's Primary Key.\r\n",
    "5. Foreign Keys can be one-to-one, one-to-many, or many-to-many relationships.\r\n",
    "6. They help maintain data consistency and integrity in a relational database.\r\n",
    "7. Foreign Keys enable database designers to create complex data structures and enforce data relationships.\r\n",
    "8. When querying data, Foreign Keys can be used to retrieve related data from other tables.\r\n",
    "9. Properly designed Foreign Key relationships improve data quality and ensure accurate data retrieval.\r\n",
    "10. Foreign Keys are a crucial part of relational database design, supporting data relationships and maintaining data integrity."
   ]
  },
  {
   "cell_type": "markdown",
   "id": "b59ddb13-2c58-4f48-bfbb-7f90cf2467d2",
   "metadata": {},
   "source": [
    "#### Q6. Write a python code to connect MySQL to python. Explain the cursor() and execute() method."
   ]
  },
  {
   "cell_type": "markdown",
   "id": "6655a7a6-7dc8-41d4-b005-c491962ca2be",
   "metadata": {},
   "source": [
    "#### Answer:"
   ]
  },
  {
   "cell_type": "code",
   "execution_count": 4,
   "id": "6b29df55-b08d-4c84-b6a5-eb7357053dd8",
   "metadata": {},
   "outputs": [
    {
     "name": "stdout",
     "output_type": "stream",
     "text": [
      "('collage',)\n",
      "('information_schema',)\n",
      "('mysql',)\n",
      "('performance_schema',)\n",
      "('pwskills',)\n",
      "('sakila',)\n",
      "('sys',)\n",
      "('world',)\n"
     ]
    }
   ],
   "source": [
    "import mysql.connector\n",
    "\n",
    "mydb = mysql.connector.connect(\n",
    "    host = \"localhost\",\n",
    "    user = \"root\",\n",
    "    password = \"Binakhan@8083\"\n",
    ")\n",
    "\n",
    "mycursor = mydb.cursor()\n",
    "mycursor.execute(\"SHOW DATABASES\")\n",
    "for i in mycursor.fetchall():\n",
    "    print(i)"
   ]
  },
  {
   "cell_type": "markdown",
   "id": "0e86d842-6cd8-471d-b339-679f1d2f9f13",
   "metadata": {},
   "source": [
    "1. cursor(): The cursor() method creates a cursor object associated with the database connection. A cursor is used to execute SQL queries and fetch results. It allows us to interact with the database by sending SQL statements and processing the results."
   ]
  },
  {
   "cell_type": "markdown",
   "id": "c8aa9684-7beb-4ecf-87fb-f891d3be63ec",
   "metadata": {},
   "source": [
    "2. execute(): The execute() method is used to execute SQL queries or statements. It takes two arguments: the SQL query as a string and optionally, data to be passed into the query."
   ]
  },
  {
   "cell_type": "markdown",
   "id": "a896e765-5112-4f37-8221-67e8c2a0a857",
   "metadata": {},
   "source": [
    "#### Q7. Give the order of execution of SQL clauses in an SQL query."
   ]
  },
  {
   "cell_type": "markdown",
   "id": "4a0d5de5-e992-49fd-9b88-5d42fcb8787a",
   "metadata": {},
   "source": [
    "#### Answer:"
   ]
  },
  {
   "cell_type": "markdown",
   "id": "693914ac-644c-43b8-b31e-608c347422ff",
   "metadata": {},
   "source": [
    "In an SQL query, the clauses are executed in the following order:\n",
    "\n",
    "1. **FROM**: The FROM clause specifies the tables from which the data is to be retrieved. It is the first clause to be executed, and it identifies the source tables for the query.\n",
    "\n",
    "2. **JOIN**: If there are multiple tables in the FROM clause that need to be joined together, the JOIN clauses are executed next. These clauses specify how the tables are related and which rows should be combined.\n",
    "\n",
    "3. **WHERE**: The WHERE clause is executed after the FROM and JOIN clauses. It filters the rows from the joined tables based on specified conditions. Rows that meet the criteria in the WHERE clause are included in the result set.\n",
    "\n",
    "4. **GROUP BY**: If a GROUP BY clause is present in the query, it is executed after the WHERE clause. The GROUP BY clause groups rows that have the same values in specified columns into summary rows.\n",
    "\n",
    "5. **HAVING**: The HAVING clause is executed after the GROUP BY clause. It filters the grouped rows based on aggregate functions (e.g., SUM, COUNT) and conditions. Rows that meet the criteria in the HAVING clause are included in the result set.\n",
    "\n",
    "6. **SELECT**: The SELECT clause is executed after all the preceding clauses. It specifies which columns or expressions should be included in the result set. The selected columns may include aggregate functions applied to grouped data.\n",
    "\n",
    "7. **ORDER BY**: The ORDER BY clause is executed after the SELECT clause. It sorts the result set based on one or more columns in ascending or descending order.\n",
    "\n",
    "8. **LIMIT/OFFSET**: If a LIMIT and/or OFFSET clause is used, they are executed after the ORDER BY clause. LIMIT specifies the maximum number of rows to return, while OFFSET specifies how many rows to skip from the beginning of the result set.\n",
    "\n",
    "9. **UNION/INTERSECT/EXCEPT**: If the query involves set operations like UNION, INTERSECT, or EXCEPT, these operations are performed last after all the other clauses. They combine or compare result sets from multiple queries.\n",
    "\n",
    "It's important to note that not all clauses are required in every SQL query, and the order of execution can vary based on the specific query structure. However, the order mentioned above reflects the typical sequence of clause execution in a standard SQL query."
   ]
  }
 ],
 "metadata": {
  "kernelspec": {
   "display_name": "Python 3 (ipykernel)",
   "language": "python",
   "name": "python3"
  },
  "language_info": {
   "codemirror_mode": {
    "name": "ipython",
    "version": 3
   },
   "file_extension": ".py",
   "mimetype": "text/x-python",
   "name": "python",
   "nbconvert_exporter": "python",
   "pygments_lexer": "ipython3",
   "version": "3.11.5"
  }
 },
 "nbformat": 4,
 "nbformat_minor": 5
}
